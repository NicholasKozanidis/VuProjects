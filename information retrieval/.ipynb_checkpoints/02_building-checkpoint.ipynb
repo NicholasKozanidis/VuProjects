{
 "cells": [
  {
   "cell_type": "markdown",
   "metadata": {},
   "source": [
    "# Assignment 2: Building a Simple Index"
   ]
  },
  {
   "cell_type": "markdown",
   "metadata": {},
   "source": [
    "In this assignment, we will build a simple search index, which we will use later for Boolean retrieval. The assignment tasks are again at the bottom of this document."
   ]
  },
  {
   "cell_type": "markdown",
   "metadata": {},
   "source": [
    "## Loading the Data"
   ]
  },
  {
   "cell_type": "code",
   "execution_count": 241,
   "metadata": {},
   "outputs": [],
   "source": [
    "Summaries_file = 'data/allergy_Summaries.pkl.bz2'\n",
    "Abstracts_file = 'data/allergy_Abstracts.pkl.bz2'"
   ]
  },
  {
   "cell_type": "code",
   "execution_count": 240,
   "metadata": {},
   "outputs": [],
   "source": [
    "import pickle, bz2\n",
    "from collections import namedtuple\n",
    "\n",
    "Summaries = pickle.load( bz2.BZ2File( Summaries_file, 'rb' ) )\n",
    "\n",
    "paper = namedtuple( 'paper', ['title', 'authors', 'year', 'doi'] )\n",
    "\n",
    "for (id, paper_info) in Summaries.items():\n",
    "    Summaries[id] = paper( *paper_info )\n",
    "    \n",
    "Abstracts = pickle.load( bz2.BZ2File( Abstracts_file, 'rb' ) )"
   ]
  },
  {
   "cell_type": "markdown",
   "metadata": {},
   "source": [
    "Let's have a look at what the data looks like for an example of a paper:"
   ]
  },
  {
   "cell_type": "code",
   "execution_count": 242,
   "metadata": {},
   "outputs": [
    {
     "data": {
      "text/plain": [
       "paper(title='Type 2 innate lymphoid cells control eosinophil homeostasis.', authors=['Nussbaum JC', 'Van Dyken SJ', 'von Moltke J', 'Cheng LE', 'Mohapatra A', 'Molofsky AB', 'Thornton EE', 'Krummel MF', 'Chawla A', 'Liang HE', 'Locksley RM'], year=2013, doi='10.1038/nature12526')"
      ]
     },
     "execution_count": 242,
     "metadata": {},
     "output_type": "execute_result"
    }
   ],
   "source": [
    "Summaries[24037376]"
   ]
  },
  {
   "cell_type": "code",
   "execution_count": 243,
   "metadata": {},
   "outputs": [
    {
     "data": {
      "text/plain": [
       "'Eosinophils are specialized myeloid cells associated with allergy and helminth infections. Blood eosinophils demonstrate circadian cycling, as described over 80\\u2009years ago, and are abundant in the healthy gastrointestinal tract. Although a cytokine, interleukin (IL)-5, and chemokines such as eotaxins mediate eosinophil development and survival, and tissue recruitment, respectively, the processes underlying the basal regulation of these signals remain unknown. Here we show that serum IL-5 levels are maintained by long-lived type 2 innate lymphoid cells (ILC2) resident in peripheral tissues. ILC2 cells secrete IL-5 constitutively and are induced to co-express IL-13 during type 2 inflammation, resulting in localized eotaxin production and eosinophil accumulation. In the small intestine where eosinophils and eotaxin are constitutive, ILC2 cells co-express IL-5 and IL-13; this co-expression is enhanced after caloric intake. The circadian synchronizer vasoactive intestinal peptide also stimulates ILC2 cells through the VPAC2 receptor to release IL-5, linking eosinophil levels with metabolic cycling. Tissue ILC2 cells regulate basal eosinophilopoiesis and tissue eosinophil accumulation through constitutive and stimulated cytokine expression, and this dissociated regulation can be tuned by nutrient intake and central circadian rhythms. '"
      ]
     },
     "execution_count": 243,
     "metadata": {},
     "output_type": "execute_result"
    }
   ],
   "source": [
    "Abstracts[24037376]"
   ]
  },
  {
   "cell_type": "markdown",
   "metadata": {},
   "source": [
    "## Some Utility Functions"
   ]
  },
  {
   "cell_type": "markdown",
   "metadata": {},
   "source": [
    "We'll define some utility functions that allow us to tokenize a string into terms, perform linguistic preprocessing on a list of terms, as well as a function to display information about a paper in a nice way. Note that these tokenization and preprocessing functions are rather naive. We will improve them in a later assignment."
   ]
  },
  {
   "cell_type": "code",
   "execution_count": 244,
   "metadata": {},
   "outputs": [
    {
     "name": "stdout",
     "output_type": "stream",
     "text": [
      "['lorem', 'ipsum', 'dolor', 'sit', 'amet']\n"
     ]
    }
   ],
   "source": [
    "def tokenize(text):\n",
    "    \"\"\"\n",
    "    Function that tokenizes a string in a rather naive way. Can be extended later.\n",
    "    \"\"\"\n",
    "    return text.split(' ')\n",
    "\n",
    "def preprocess(tokens):\n",
    "    \"\"\"\n",
    "    Perform linguistic preprocessing on a list of tokens. Can be extended later.\n",
    "    \"\"\"\n",
    "    result = []\n",
    "    for token in tokens:\n",
    "        result.append(token.lower())\n",
    "    return result\n",
    "\n",
    "print(preprocess(tokenize(\"Lorem ipsum dolor sit AMET\")))"
   ]
  },
  {
   "cell_type": "code",
   "execution_count": 245,
   "metadata": {},
   "outputs": [
    {
     "data": {
      "text/html": [
       "<strong><a href=http://dx.doi.org/10.1038/nature12526>Type 2 innate lymphoid cells control eosinophil homeostasis.</a></strong><br>2013. Nussbaum JC, Van Dyken SJ, von Moltke J, Cheng LE, Mohapatra A, Molofsky AB, Thornton EE, Krummel MF, Chawla A, Liang HE, Locksley RM<br>[ID: 24037376]"
      ],
      "text/plain": [
       "<IPython.core.display.HTML object>"
      ]
     },
     "metadata": {},
     "output_type": "display_data"
    },
    {
     "data": {
      "text/html": [
       "<strong><a href=http://dx.doi.org/10.1038/nature12526>Type 2 innate lymphoid cells control eosinophil homeostasis.</a></strong><br>2013. Nussbaum JC, Van Dyken SJ, von Moltke J, Cheng LE, Mohapatra A, Molofsky AB, Thornton EE, Krummel MF, Chawla A, Liang HE, Locksley RM<br><small><strong>Abstract:</strong> <em>Eosinophils are specialized myeloid cells associated with allergy and helminth infections. Blood eosinophils demonstrate circadian cycling, as described over 80 years ago, and are abundant in the healthy gastrointestinal tract. Although a cytokine, interleukin (IL)-5, and chemokines such as eotaxins mediate eosinophil development and survival, and tissue recruitment, respectively, the processes underlying the basal regulation of these signals remain unknown. Here we show that serum IL-5 levels are maintained by long-lived type 2 innate lymphoid cells (ILC2) resident in peripheral tissues. ILC2 cells secrete IL-5 constitutively and are induced to co-express IL-13 during type 2 inflammation, resulting in localized eotaxin production and eosinophil accumulation. In the small intestine where eosinophils and eotaxin are constitutive, ILC2 cells co-express IL-5 and IL-13; this co-expression is enhanced after caloric intake. The circadian synchronizer vasoactive intestinal peptide also stimulates ILC2 cells through the VPAC2 receptor to release IL-5, linking eosinophil levels with metabolic cycling. Tissue ILC2 cells regulate basal eosinophilopoiesis and tissue eosinophil accumulation through constitutive and stimulated cytokine expression, and this dissociated regulation can be tuned by nutrient intake and central circadian rhythms. </em></small><br>[ID: 24037376]"
      ],
      "text/plain": [
       "<IPython.core.display.HTML object>"
      ]
     },
     "metadata": {},
     "output_type": "display_data"
    }
   ],
   "source": [
    "from IPython.display import display, HTML\n",
    "import re\n",
    "\n",
    "def display_summary( id, show_abstract=False, show_id=True, extra_text='' ):\n",
    "    \"\"\"\n",
    "    Function for printing a paper's summary through IPython's Rich Display System.\n",
    "    Trims long author lists, and adds a link to the paper's DOI (when available).\n",
    "    \"\"\"\n",
    "    s = Summaries[id]\n",
    "    lines = []\n",
    "    title = s.title\n",
    "    if s.doi != '':\n",
    "        title = '<a href=http://dx.doi.org/{:s}>{:s}</a>'.format(s.doi, title)\n",
    "    title = '<strong>' + title + '</strong>'\n",
    "    lines.append(title)\n",
    "    authors = ', '.join( s.authors[:20] ) + ('' if len(s.authors) <= 20 else ', ...')\n",
    "    lines.append(str(s.year) + '. ' + authors)\n",
    "    if (show_abstract):\n",
    "        lines.append('<small><strong>Abstract:</strong> <em>{:s}</em></small>'.format(Abstracts[id]))\n",
    "    if (show_id):\n",
    "        lines.append('[ID: {:d}]'.format(id))\n",
    "    if (extra_text != ''):\n",
    "         lines.append(extra_text)\n",
    "    display( HTML('<br>'.join(lines)) )\n",
    "\n",
    "display_summary(24037376)\n",
    "display_summary(24037376, show_abstract=True)"
   ]
  },
  {
   "cell_type": "markdown",
   "metadata": {},
   "source": [
    "## Creating our first index"
   ]
  },
  {
   "cell_type": "markdown",
   "metadata": {},
   "source": [
    "We will now create an _inverted index_ based on the words in the abstracts of the papers in our dataset.\n",
    "\n",
    "We will implement our inverted index as a **Python dictionary with terms as keys and posting lists as values**. For the posting lists, instead of using Python lists and then implementing the different operations on them ourselves, we will use **Python sets** and use the predefined set operations to process these posting \"lists\". This will also ensure that each document is added at most once per term. The use of Python sets is not the most efficient solution but will work for our purposes. (As an optional additional exercise, you can try to implement the posting lists as Python lists for this and the following assignments.)\n",
    "\n",
    "Not every paper in our dataset has an abstract; we will only index papers for which an abstract is available."
   ]
  },
  {
   "cell_type": "code",
   "execution_count": 246,
   "metadata": {},
   "outputs": [],
   "source": [
    "from collections import defaultdict\n",
    "\n",
    "inverted_index = defaultdict(set)\n",
    "\n",
    "# This may take a while:\n",
    "for (id, abstract) in Abstracts.items():\n",
    "    for term in preprocess(tokenize(abstract)):\n",
    "        inverted_index[term].add(id)"
   ]
  },
  {
   "cell_type": "markdown",
   "metadata": {},
   "source": [
    "Let's see what's in the index for the example term 'amsterdam':"
   ]
  },
  {
   "cell_type": "code",
   "execution_count": 247,
   "metadata": {},
   "outputs": [
    {
     "name": "stdout",
     "output_type": "stream",
     "text": [
      "{16513592, 18706961, 15504455}\n"
     ]
    }
   ],
   "source": [
    "print(inverted_index['amsterdam'])"
   ]
  },
  {
   "cell_type": "markdown",
   "metadata": {},
   "source": [
    "We can now use this inverted index to answer simple one-word queries, for example to show all papers that contain the word 'rotterdam':"
   ]
  },
  {
   "cell_type": "code",
   "execution_count": 91,
   "metadata": {},
   "outputs": [
    {
     "data": {
      "text/html": [
       "<strong><a href=http://dx.doi.org/10.1046/j.1442-2042.10.s1.10.x>Systemic aspects of interstitial cystitis, immunology and linkage with autoimmune disorders.</a></strong><br>2003. van de Merwe JP, Yamada T, Sakamoto Y<br>[ID: 14641413]"
      ],
      "text/plain": [
       "<IPython.core.display.HTML object>"
      ]
     },
     "metadata": {},
     "output_type": "display_data"
    },
    {
     "data": {
      "text/html": [
       "<strong><a href=http://dx.doi.org/10.1093/oxfordjournals.aje.a117332>Toxocara seroprevalence in 5-year-old elementary schoolchildren: relation with allergic asthma.</a></strong><br>1994. Buijs J, Borsboom G, van Gemund JJ, Hazebroek A, van Dongen PA, van Knapen F, Neijens HJ<br>[ID: 7977294]"
      ],
      "text/plain": [
       "<IPython.core.display.HTML object>"
      ]
     },
     "metadata": {},
     "output_type": "display_data"
    }
   ],
   "source": [
    "query_word = 'rotterdam'\n",
    "for i in inverted_index[query_word]:\n",
    "    display_summary(i)"
   ]
  },
  {
   "cell_type": "markdown",
   "metadata": {},
   "source": [
    "----------"
   ]
  },
  {
   "cell_type": "markdown",
   "metadata": {},
   "source": [
    "# Tasks"
   ]
  },
  {
   "cell_type": "markdown",
   "metadata": {},
   "source": [
    "**Your name:** Nicholas Kozanidis 2616924"
   ]
  },
  {
   "cell_type": "markdown",
   "metadata": {},
   "source": [
    "### Task 1\n",
    "\n",
    "Construct a function called `and_query` that takes as input a single string, consisting of one or more words, such that the function returns a list of matching documents. `and_query`, as its name suggests, should require that all query terms are present in the documents of the result list. Demonstrate the working of your function with an example (choose one that leads to fewer than 100 hits to not overblow this notebook file).\n",
    "\n",
    "(You can use the `tokenize` and `preprocess` functions we defined above to tokenize and preprocess your query. You can also exploit the fact that the posting lists are [sets](https://docs.python.org/3/library/stdtypes.html#set), which means you can easily perform set operations such as union, difference and intersect on them.)"
   ]
  },
  {
   "cell_type": "code",
   "execution_count": 249,
   "metadata": {
    "scrolled": true
   },
   "outputs": [
    {
     "data": {
      "text/html": [
       "<strong><a href=http://dx.doi.org/10.1080/08958370500515913>Relation between sources of particulate air pollution and biological effect parameters in samples from four European cities: an exploratory study.</a></strong><br>2006. Steerenberg PA, van Amelsvoort L, Lovik M, Hetland RB, Alberg T, Halatek T, Bloemen HJ, Rydzynski K, Swaen G, Schwarze P, Dybing E, Cassee FR<br>[ID: 16513592]"
      ],
      "text/plain": [
       "<IPython.core.display.HTML object>"
      ]
     },
     "metadata": {},
     "output_type": "display_data"
    },
    {
     "data": {
      "text/html": [
       "<strong><a href=http://dx.doi.org/10.1016/j.taap.2004.04.011>Adjuvant activity of ambient particulate matter of different sites, sizes, and seasons in a respiratory allergy mouse model.</a></strong><br>2004. Steerenberg PA, Withagen CE, van Dalen WJ, Dormans JA, Cassee FR, Heisterkamp SH, van Loveren H<br>[ID: 15504455]"
      ],
      "text/plain": [
       "<IPython.core.display.HTML object>"
      ]
     },
     "metadata": {},
     "output_type": "display_data"
    }
   ],
   "source": [
    "def and_query(string):\n",
    "    newset = set()\n",
    "    words = tokenize(string)\n",
    "    wordss = preprocess(words)\n",
    "    newset = inverted_index[wordss[0]]\n",
    "\n",
    "    for w in wordss[1:]:\n",
    "        for s in inverted_index[w]:\n",
    "            newset &= inverted_index[w]\n",
    "    \n",
    "    for i in newset:\n",
    "        display_summary(i)\n",
    "\n",
    "\n",
    "and_query('amsterdam allergy')"
   ]
  },
  {
   "cell_type": "markdown",
   "metadata": {},
   "source": [
    "### Task 2\n",
    "\n",
    "Construct a second function called `or_query` that works in the same way as `and_query` you just implemented, but returns as function value the documents that contain _at least one_ of the words in the query. Demonstrate the working of this second function also with an example (again, choose one that leads to fewer than 100 hits)."
   ]
  },
  {
   "cell_type": "code",
   "execution_count": 250,
   "metadata": {},
   "outputs": [
    {
     "data": {
      "text/html": [
       "<strong><a href=http://dx.doi.org/10.1046/j.1442-2042.10.s1.10.x>Systemic aspects of interstitial cystitis, immunology and linkage with autoimmune disorders.</a></strong><br>2003. van de Merwe JP, Yamada T, Sakamoto Y<br>[ID: 14641413]"
      ],
      "text/plain": [
       "<IPython.core.display.HTML object>"
      ]
     },
     "metadata": {},
     "output_type": "display_data"
    },
    {
     "data": {
      "text/html": [
       "<strong><a href=http://dx.doi.org/10.1016/j.taap.2004.04.011>Adjuvant activity of ambient particulate matter of different sites, sizes, and seasons in a respiratory allergy mouse model.</a></strong><br>2004. Steerenberg PA, Withagen CE, van Dalen WJ, Dormans JA, Cassee FR, Heisterkamp SH, van Loveren H<br>[ID: 15504455]"
      ],
      "text/plain": [
       "<IPython.core.display.HTML object>"
      ]
     },
     "metadata": {},
     "output_type": "display_data"
    },
    {
     "data": {
      "text/html": [
       "<strong><a href=http://dx.doi.org/10.1080/08958370500515913>Relation between sources of particulate air pollution and biological effect parameters in samples from four European cities: an exploratory study.</a></strong><br>2006. Steerenberg PA, van Amelsvoort L, Lovik M, Hetland RB, Alberg T, Halatek T, Bloemen HJ, Rydzynski K, Swaen G, Schwarze P, Dybing E, Cassee FR<br>[ID: 16513592]"
      ],
      "text/plain": [
       "<IPython.core.display.HTML object>"
      ]
     },
     "metadata": {},
     "output_type": "display_data"
    },
    {
     "data": {
      "text/html": [
       "<strong><a href=http://dx.doi.org/10.1093/oxfordjournals.aje.a117332>Toxocara seroprevalence in 5-year-old elementary schoolchildren: relation with allergic asthma.</a></strong><br>1994. Buijs J, Borsboom G, van Gemund JJ, Hazebroek A, van Dongen PA, van Knapen F, Neijens HJ<br>[ID: 7977294]"
      ],
      "text/plain": [
       "<IPython.core.display.HTML object>"
      ]
     },
     "metadata": {},
     "output_type": "display_data"
    }
   ],
   "source": [
    "def or_query(string):\n",
    "    newset = set()\n",
    "    words = tokenize(string)\n",
    "    wordss = preprocess(words)\n",
    "    \n",
    "    for w in wordss:\n",
    "        for s in inverted_index[w]:\n",
    "            newset |= inverted_index[w]\n",
    "    \n",
    "    for i in newset:\n",
    "        display_summary(i)\n",
    "\n",
    "or_query('amsterdam rotterdam')"
   ]
  },
  {
   "cell_type": "markdown",
   "metadata": {},
   "source": [
    "### Task 3\n",
    "\n",
    "Show how many hits the query \"to be or not to be\" returns for your two query functions (`and_query` and `or_query`)."
   ]
  },
  {
   "cell_type": "code",
   "execution_count": 251,
   "metadata": {},
   "outputs": [
    {
     "data": {
      "text/html": [
       "<strong><a href=http://dx.doi.org/10.1007/s11356-017-9148-5>Air pollution and respiratory health among diabetic and non-diabetic subjects in Pune, India-results from the Wellcome Trust Genetic Study.</a></strong><br>2017. Khafaie MA, Salvi SS, Yajnik CS, Ojha A, Khafaie B, Gore SD<br>[ID: 28516352]"
      ],
      "text/plain": [
       "<IPython.core.display.HTML object>"
      ]
     },
     "metadata": {},
     "output_type": "display_data"
    },
    {
     "data": {
      "text/html": [
       "<strong><a href=http://dx.doi.org/10.1186/s13601-015-0078-3>Sensitivity to food additives, vaso-active amines and salicylates: a review of the evidence.</a></strong><br>2015. Skypala IJ, Williams M, Reeves L, Meyer R, Venter C<br>[ID: 26468368]"
      ],
      "text/plain": [
       "<IPython.core.display.HTML object>"
      ]
     },
     "metadata": {},
     "output_type": "display_data"
    },
    {
     "data": {
      "text/html": [
       "<strong>Demonstration of sweat allergy in cholinergic urticaria.</strong><br>1994. Adachi J, Aoki T, Yamatodani A<br>[ID: 7520273]"
      ],
      "text/plain": [
       "<IPython.core.display.HTML object>"
      ]
     },
     "metadata": {},
     "output_type": "display_data"
    },
    {
     "data": {
      "text/html": [
       "<strong>Effects of immunotherapy on histamine release: a study in allergy to dermatophagoides and house dust.</strong><br>1982. Trento H, Oehling A, Ona J<br>[ID: 6184978]"
      ],
      "text/plain": [
       "<IPython.core.display.HTML object>"
      ]
     },
     "metadata": {},
     "output_type": "display_data"
    },
    {
     "data": {
      "text/html": [
       "<strong><a href=http://dx.doi.org/10.3109/08923973.2015.1063645>Effects of venom immunotherapy on serum level of CCL5/RANTES in patients with Hymenoptera venom allergy.</a></strong><br>2015. Gawlik R, Glück J, Jawor B, Rogala B<br>[ID: 26181651]"
      ],
      "text/plain": [
       "<IPython.core.display.HTML object>"
      ]
     },
     "metadata": {},
     "output_type": "display_data"
    },
    {
     "data": {
      "text/html": [
       "<strong><a href=http://dx.doi.org/10.1111/all.13400>Immunoprofile of α-Gal- and B-antigen-specific responses differentiates red meat-allergic patients from healthy individuals.</a></strong><br>2018. Apostolovic D, Rodrigues R, Thomas P, Starkhammar M, Hamsten C, van Hage M<br>[ID: 29319188]"
      ],
      "text/plain": [
       "<IPython.core.display.HTML object>"
      ]
     },
     "metadata": {},
     "output_type": "display_data"
    },
    {
     "data": {
      "text/html": [
       "<strong><a href=http://dx.doi.org/10.1016/j.imbio.2016.07.009>Hydroxytyrosol modulates Par j 1-induced IL-10 production by PBMCs in healthy subjects.</a></strong><br>2016. Bonura A, Vlah S, Longo A, Bulati M, Melis MR, Cibella F, Colombo P<br>[ID: 27475990]"
      ],
      "text/plain": [
       "<IPython.core.display.HTML object>"
      ]
     },
     "metadata": {},
     "output_type": "display_data"
    },
    {
     "data": {
      "text/html": [
       "<strong><a href=http://dx.doi.org/10.1111/vde.12127>Perianal pruritus in dogs with skin disease.</a></strong><br>2014. Maina E, Galzerano M, Noli C<br>[ID: 24797215]"
      ],
      "text/plain": [
       "<IPython.core.display.HTML object>"
      ]
     },
     "metadata": {},
     "output_type": "display_data"
    },
    {
     "data": {
      "text/html": [
       "<strong><a href=http://dx.doi.org/10.1007/s004240000010>Shift from Th2 to Th1 response in immunotherapy with venoms.</a></strong><br>2000. Košnik M, Wraber B<br>[ID: 28008486]"
      ],
      "text/plain": [
       "<IPython.core.display.HTML object>"
      ]
     },
     "metadata": {},
     "output_type": "display_data"
    },
    {
     "data": {
      "text/html": [
       "<strong><a href=http://dx.doi.org/10.1016/s0952-7915(96)80005-7>Anti-IgE and anti-Fc epsilon RI autoantibodies in clinical allergy.</a></strong><br>1996. Fiebiger E, Stingl G, Maurer D<br>[ID: 8994856]"
      ],
      "text/plain": [
       "<IPython.core.display.HTML object>"
      ]
     },
     "metadata": {},
     "output_type": "display_data"
    },
    {
     "data": {
      "text/html": [
       "<strong>[Measurement of transport in mucous membrane in the human nose with Cr-51-labeled resin beads].</strong><br>1977. Simon H, Drettner B, Jung B<br>[ID: 16426]"
      ],
      "text/plain": [
       "<IPython.core.display.HTML object>"
      ]
     },
     "metadata": {},
     "output_type": "display_data"
    },
    {
     "data": {
      "text/html": [
       "<strong><a href=http://dx.doi.org/10.1007/s00105-010-1969-9>[Inappropriate test methods in allergy].</a></strong><br>2010. Kleine-Tebbe J, Herold DA<br>[ID: 20963379]"
      ],
      "text/plain": [
       "<IPython.core.display.HTML object>"
      ]
     },
     "metadata": {},
     "output_type": "display_data"
    },
    {
     "data": {
      "text/html": [
       "<strong><a href=http://dx.doi.org/10.1007/BF03012775>Latex anaphylaxis during tissue expander insertion in a healthy child.</a></strong><br>1997. Zestos MM, Creighton R<br>[ID: 9429045]"
      ],
      "text/plain": [
       "<IPython.core.display.HTML object>"
      ]
     },
     "metadata": {},
     "output_type": "display_data"
    },
    {
     "data": {
      "text/html": [
       "<strong>Double-blind, placebo-controlled study of immunotherapy with Parietaria judaica: clinical efficacy and tolerance.</strong><br>2005. Ferrer M, Burches E, Peláez A, Muñoz A, Hernández D, Basomba A, Enrique E, Alonso R, Cisteró-Bahima A, Martín S, Rico P, Gandarias B<br>[ID: 16433210]"
      ],
      "text/plain": [
       "<IPython.core.display.HTML object>"
      ]
     },
     "metadata": {},
     "output_type": "display_data"
    },
    {
     "data": {
      "text/html": [
       "<strong>Allergies and vocal fold edema: a preliminary report.</strong><br>1999. Jackson-Menaldi CA, Dzul AI, Holland RW<br>[ID: 10223679]"
      ],
      "text/plain": [
       "<IPython.core.display.HTML object>"
      ]
     },
     "metadata": {},
     "output_type": "display_data"
    },
    {
     "data": {
      "text/html": [
       "<strong>Cystic fibrosis--immunological reactions to A. fumigatus and common allergens.</strong><br>1975. Warren CP, Tai E, Batten JC, Hutchcroft BJ, Pepys J<br>[ID: 802880]"
      ],
      "text/plain": [
       "<IPython.core.display.HTML object>"
      ]
     },
     "metadata": {},
     "output_type": "display_data"
    },
    {
     "data": {
      "text/html": [
       "<strong>[Propolis allergy].</strong><br>1990. Hegyi E, Suchý V, Nagy M<br>[ID: 2089026]"
      ],
      "text/plain": [
       "<IPython.core.display.HTML object>"
      ]
     },
     "metadata": {},
     "output_type": "display_data"
    },
    {
     "data": {
      "text/html": [
       "<strong><a href=http://dx.doi.org/10.1016/0887-2333(94)90233-x>MELISA-an in vitro tool for the study of metal allergy.</a></strong><br>1994. Stejskal VD, Cederbrant K, Lindvall A, Forsbeck M<br>[ID: 20693060]"
      ],
      "text/plain": [
       "<IPython.core.display.HTML object>"
      ]
     },
     "metadata": {},
     "output_type": "display_data"
    },
    {
     "data": {
      "text/html": [
       "<strong><a href=http://dx.doi.org/10.1007/s12223-008-0010-5>IgE against food and respiratory allergens in healthy and allergic mothers and their children.</a></strong><br>2008. Prokesová L, Novotná O, Janatková I, Zanvit P, Zizka J, Lodinová-Zádníková R, Kocourková I, Sterzl I<br>[ID: 18481221]"
      ],
      "text/plain": [
       "<IPython.core.display.HTML object>"
      ]
     },
     "metadata": {},
     "output_type": "display_data"
    },
    {
     "data": {
      "text/html": [
       "<strong><a href=http://dx.doi.org/10.1203/01.PDR.0000106315.00474.6F>Eosinophil cationic protein in human milk is associated with development of cow's milk allergy and atopic eczema in breast-fed infants.</a></strong><br>2004. Osterlund P, Smedberg T, Hakulinen A, Heikkilä H, Järvinen KM<br>[ID: 14630983]"
      ],
      "text/plain": [
       "<IPython.core.display.HTML object>"
      ]
     },
     "metadata": {},
     "output_type": "display_data"
    },
    {
     "data": {
      "text/html": [
       "<strong><a href=http://dx.doi.org/10.1111/jocd.12078>Contact sensitization to cosmetic series of allergens in a general population in Beijing.</a></strong><br>2014. Zhao J, Li LF<br>[ID: 24641608]"
      ],
      "text/plain": [
       "<IPython.core.display.HTML object>"
      ]
     },
     "metadata": {},
     "output_type": "display_data"
    },
    {
     "data": {
      "text/html": [
       "<strong><a href=http://dx.doi.org/10.1016/j.humimm.2004.08.176>Correlation of human decidual and cord blood mononuclear cell cytokine production.</a></strong><br>2004. Brown M, Gustafson M, Saldãna S, Baradaran A, Miller H, Halonen M<br>[ID: 15556684]"
      ],
      "text/plain": [
       "<IPython.core.display.HTML object>"
      ]
     },
     "metadata": {},
     "output_type": "display_data"
    },
    {
     "data": {
      "text/html": [
       "<strong>Immunological studies in psoriasis. The quantitative evaluation of cell-mediated immunity in patients with psoriasis by experimental sensitization to 2,4-dinitrochlorobenzene.</strong><br>1977. Obalek S, Haftek M, Sliński W<br>[ID: 303184]"
      ],
      "text/plain": [
       "<IPython.core.display.HTML object>"
      ]
     },
     "metadata": {},
     "output_type": "display_data"
    },
    {
     "data": {
      "text/html": [
       "<strong><a href=http://dx.doi.org/10.1038/nri.2016.111>Food allergy: immune mechanisms, diagnosis and immunotherapy.</a></strong><br>2016. Yu W, Freeland DMH, Nadeau KC<br>[ID: 27795547]"
      ],
      "text/plain": [
       "<IPython.core.display.HTML object>"
      ]
     },
     "metadata": {},
     "output_type": "display_data"
    },
    {
     "data": {
      "text/html": [
       "<strong><a href=http://dx.doi.org/10.1016/j.rmed.2007.06.015>Peripheral nitric oxide is increased in rhinitic patients with asthma compared to bronchial hyperresponsiveness.</a></strong><br>2007. Tufvesson E, Aronsson D, Ankerst J, George SC, Bjermer L<br>[ID: 17686621]"
      ],
      "text/plain": [
       "<IPython.core.display.HTML object>"
      ]
     },
     "metadata": {},
     "output_type": "display_data"
    },
    {
     "data": {
      "text/html": [
       "<strong>[Circulating immune complexes, heat shock proteins in the serum of smoking allergy sufferers--preliminary results].</strong><br>2012. Gołda R, Przybylski G, Jóźwicki W, Wyszomirska M<br>[ID: 23421022]"
      ],
      "text/plain": [
       "<IPython.core.display.HTML object>"
      ]
     },
     "metadata": {},
     "output_type": "display_data"
    },
    {
     "data": {
      "text/html": [
       "<strong>Immune complexes IgE/IgG in airborne allergy: increase during pollen season.</strong><br>2000. Jarzab J, Gawlik R<br>[ID: 10780796]"
      ],
      "text/plain": [
       "<IPython.core.display.HTML object>"
      ]
     },
     "metadata": {},
     "output_type": "display_data"
    },
    {
     "data": {
      "text/html": [
       "<strong><a href=http://dx.doi.org/10.3892/ijmm.2011.841>Structural property of soybean protein P34 and specific IgE response to recombinant P34 in patients with soybean allergy.</a></strong><br>2012. Morita H, Kaneko H, Ohnishi H, Kato Z, Kubota K, Yamamoto T, Matsui E, Teramoto T, Fukao T, Kasahara K, Kondo N<br>[ID: 22102143]"
      ],
      "text/plain": [
       "<IPython.core.display.HTML object>"
      ]
     },
     "metadata": {},
     "output_type": "display_data"
    },
    {
     "data": {
      "text/html": [
       "<strong><a href=http://dx.doi.org/10.1007/978-1-4757-9068-9_40>Effect of lactoferrin on the phagocytic activity of polymorphonuclear leucocytes isolated from blood of patients with autoimmune diseases and Staphylococcus aureus allergy.</a></strong><br>1998. Manev V, Maneva A, Sirakov L<br>[ID: 9781376]"
      ],
      "text/plain": [
       "<IPython.core.display.HTML object>"
      ]
     },
     "metadata": {},
     "output_type": "display_data"
    },
    {
     "data": {
      "text/html": [
       "<strong><a href=http://dx.doi.org/10.1016/j.vaccine.2012.12.075>Factors associated with seroimmunity against tick borne encephalitis virus 10 years after booster vaccination.</a></strong><br>2013. Paulke-Korinek M, Kundi M, Laaber B, Brodtraeger N, Seidl-Friedrich C, Wiedermann U, Kollaritsch H<br>[ID: 23306371]"
      ],
      "text/plain": [
       "<IPython.core.display.HTML object>"
      ]
     },
     "metadata": {},
     "output_type": "display_data"
    },
    {
     "data": {
      "text/html": [
       "<strong>Toxocariasis as a possible cause of allergic diseases in children.</strong><br>1998. Oteifa NM, Moustafa MA, Elgozamy BM<br>[ID: 9707665]"
      ],
      "text/plain": [
       "<IPython.core.display.HTML object>"
      ]
     },
     "metadata": {},
     "output_type": "display_data"
    },
    {
     "data": {
      "text/html": [
       "<strong><a href=http://dx.doi.org/10.1093/advances/nmy106>The Long-Term Effects of Dietary Nutrient Intakes during the First 2 Years of Life in Healthy Infants from Developed Countries: An Umbrella Review.</a></strong><br>2019. Agostoni C, Guz-Mark A, Marderfeld L, Milani GP, Silano M, Shamir R<br>[ID: 30843039]"
      ],
      "text/plain": [
       "<IPython.core.display.HTML object>"
      ]
     },
     "metadata": {},
     "output_type": "display_data"
    },
    {
     "data": {
      "text/html": [
       "<strong><a href=http://dx.doi.org/10.1016/j.rmed.2016.05.028>Clinical characteristics of adult asthma associated with small airway dysfunction.</a></strong><br>2016. Kjellberg S, Houltz BK, Zetterström O, Robinson PD, Gustafsson PM<br>[ID: 27492518]"
      ],
      "text/plain": [
       "<IPython.core.display.HTML object>"
      ]
     },
     "metadata": {},
     "output_type": "display_data"
    },
    {
     "data": {
      "text/html": [
       "<strong><a href=http://dx.doi.org/10.1001/archotol.1979.00790220016004>Etiologic factors in secretory otitis.</a></strong><br>1979. Tos M, Poulsen G, Borch J<br>[ID: 573610]"
      ],
      "text/plain": [
       "<IPython.core.display.HTML object>"
      ]
     },
     "metadata": {},
     "output_type": "display_data"
    },
    {
     "data": {
      "text/html": [
       "<strong>[HL-A antigens in dust allergy in children].</strong><br>1976. Seignalet J, Levallois C, Lapinski H, Jean R<br>[ID: 1015981]"
      ],
      "text/plain": [
       "<IPython.core.display.HTML object>"
      ]
     },
     "metadata": {},
     "output_type": "display_data"
    },
    {
     "data": {
      "text/html": [
       "<strong>Evaluating the clinical relevance of food sensitivity tests: a single subject experiment.</strong><br>2004. Herman PM, Drost LM<br>[ID: 15253678]"
      ],
      "text/plain": [
       "<IPython.core.display.HTML object>"
      ]
     },
     "metadata": {},
     "output_type": "display_data"
    },
    {
     "data": {
      "text/html": [
       "<strong><a href=http://dx.doi.org/10.1159/000480700>Life-Threatening Atypical Case of Acute Generalized Exanthematous Pustulosis.</a></strong><br>2017. Tajmir-Riahi A, Wörl P, Harrer T, Schliep S, Schuler G, Simon M<br>[ID: 29065395]"
      ],
      "text/plain": [
       "<IPython.core.display.HTML object>"
      ]
     },
     "metadata": {},
     "output_type": "display_data"
    },
    {
     "data": {
      "text/html": [
       "<strong><a href=http://dx.doi.org/10.1111/j.1365-2125.1988.tb03317.x>A survey of the prevalence of penicillin-specific IgG, IgM and IgE antibodies detected by ELISA and defined by hapten inhibition, in patients with suspected penicillin allergy and in healthy volunteers.</a></strong><br>1988. Christie G, Coleman JW, Newby S, McDiarmaid-Gordon A, Hampson JP, Breckenridge AM, Park BK<br>[ID: 3358899]"
      ],
      "text/plain": [
       "<IPython.core.display.HTML object>"
      ]
     },
     "metadata": {},
     "output_type": "display_data"
    },
    {
     "data": {
      "text/html": [
       "<strong><a href=http://dx.doi.org/10.1080/00016480260092336>A decrease in maxillary sinus pressure, as seen in upper airway allergy or infection, results in an increase in upper airway nitric oxide levels.</a></strong><br>2002. Andersson JA, Cervin A, Lindberg S, Uddman R, Cardell LO<br>[ID: 12206262]"
      ],
      "text/plain": [
       "<IPython.core.display.HTML object>"
      ]
     },
     "metadata": {},
     "output_type": "display_data"
    },
    {
     "data": {
      "text/html": [
       "<strong>Immunological mechanisms of specific allergen immunotherapy.</strong><br>2006. Schmidt-Weber CB, Blaser K<br>[ID: 16613560]"
      ],
      "text/plain": [
       "<IPython.core.display.HTML object>"
      ]
     },
     "metadata": {},
     "output_type": "display_data"
    },
    {
     "data": {
      "text/html": [
       "<strong><a href=http://dx.doi.org/10.1111/j.1365-2222.1994.tb00242.x>Laser high performance liquid chromatography determination of prostaglandins in nasal lavage fluid in allergic rhinitis.</a></strong><br>1994. Sugimoto M, Sugiyama S, Yanagita N, Ozawa T<br>[ID: 7913656]"
      ],
      "text/plain": [
       "<IPython.core.display.HTML object>"
      ]
     },
     "metadata": {},
     "output_type": "display_data"
    },
    {
     "data": {
      "text/html": [
       "<strong><a href=http://dx.doi.org/10.1093/mmy/myv024>Analysis of asthma patients for cryptococcal seroreactivity in an urban German area.</a></strong><br>2015. Grahnert A, Müller U, von Buttlar H, Treudler R, Alber G<br>[ID: 26026172]"
      ],
      "text/plain": [
       "<IPython.core.display.HTML object>"
      ]
     },
     "metadata": {},
     "output_type": "display_data"
    },
    {
     "data": {
      "text/html": [
       "<strong><a href=http://dx.doi.org/10.1016/s0140-6736(85)92554-1>Anaphylactoid reactions in dialysis patients: role of ethylene-oxide.</a></strong><br>1985. Bommer J, Wilhelms OH, Barth HP, Schindele H, Ritz E<br>[ID: 2867391]"
      ],
      "text/plain": [
       "<IPython.core.display.HTML object>"
      ]
     },
     "metadata": {},
     "output_type": "display_data"
    },
    {
     "data": {
      "text/html": [
       "<strong>INVESTIGATION OF PROTECTIVE EFFECTS OF SYNBIOTICS ON ALLERGOPATHY FORMATION.</strong><br>2018. Sharikadze O, Zubchenko S, Maruniak S, Yuriev S<br>[ID: 30204102]"
      ],
      "text/plain": [
       "<IPython.core.display.HTML object>"
      ]
     },
     "metadata": {},
     "output_type": "display_data"
    },
    {
     "data": {
      "text/html": [
       "<strong><a href=http://dx.doi.org/10.1111/cea.13068>Concomitant sensitization to legumin, Fag e 2 and Fag e 5 predicts buckwheat allergy.</a></strong><br>2018. Geiselhart S, Nagl C, Dubiela P, Pedersen AC, Bublin M, Radauer C, Bindslev-Jensen C, Hoffmann-Sommergruber K, Mortz CG<br>[ID: 29171912]"
      ],
      "text/plain": [
       "<IPython.core.display.HTML object>"
      ]
     },
     "metadata": {},
     "output_type": "display_data"
    },
    {
     "data": {
      "text/html": [
       "<strong>Anamnestic findings from patients with recurrent aphthous stomatitis.</strong><br>2014. Bratel J, Hakeberg M<br>[ID: 25796808]"
      ],
      "text/plain": [
       "<IPython.core.display.HTML object>"
      ]
     },
     "metadata": {},
     "output_type": "display_data"
    },
    {
     "data": {
      "text/html": [
       "<strong><a href=http://dx.doi.org/10.1515/med-2015-0067>Application of Food-specific IgG Antibody Detection in Allergy Dermatosis.</a></strong><br>2015. Yine H, Shufang D, Bin W, Wei Q, Ashraf MA, Junling G<br>[ID: 28352722]"
      ],
      "text/plain": [
       "<IPython.core.display.HTML object>"
      ]
     },
     "metadata": {},
     "output_type": "display_data"
    },
    {
     "data": {
      "text/html": [
       "<strong><a href=http://dx.doi.org/10.1515/med-2015-0070>Analysis of the relations between allergen specific LgG antibody and allergic dermatosis of 14 kinds foods.</a></strong><br>2015. Yin'e H, Shufang D, Bin W, Wei Q, Junling G, Ashraf MA<br>[ID: 28352727]"
      ],
      "text/plain": [
       "<IPython.core.display.HTML object>"
      ]
     },
     "metadata": {},
     "output_type": "display_data"
    },
    {
     "data": {
      "text/html": [
       "<strong>Immunologic disturbances in cow's milk allergy, 2: Evidence for defective interferon-gamma generation.</strong><br>1993. Suomalainen H, Soppi E, Laine S, Isolauri E<br>[ID: 8298712]"
      ],
      "text/plain": [
       "<IPython.core.display.HTML object>"
      ]
     },
     "metadata": {},
     "output_type": "display_data"
    },
    {
     "data": {
      "text/html": [
       "<strong><a href=http://dx.doi.org/10.1111/j.1365-2567.2006.02321.x>Mechanisms of immune suppression by interleukin-10 and transforming growth factor-beta: the role of T regulatory cells.</a></strong><br>2006. Taylor A, Verhagen J, Blaser K, Akdis M, Akdis CA<br>[ID: 16556256]"
      ],
      "text/plain": [
       "<IPython.core.display.HTML object>"
      ]
     },
     "metadata": {},
     "output_type": "display_data"
    },
    {
     "data": {
      "text/html": [
       "<strong><a href=http://dx.doi.org/10.1177/1756283X10392443>Eosinophilic colitis: epidemiology, clinical features, and current management.</a></strong><br>2011. Alfadda AA, Storr MA, Shaffer EA<br>[ID: 21922029]"
      ],
      "text/plain": [
       "<IPython.core.display.HTML object>"
      ]
     },
     "metadata": {},
     "output_type": "display_data"
    },
    {
     "data": {
      "text/html": [
       "<strong><a href=http://dx.doi.org/10.1002/j.1879-3479.1980.tb00528.x>An immunologic study of vaginal candidiasis.</a></strong><br>1980. Tomsíková A, Tomaierová V, Kotál L, Novácková D<br>[ID: 6111474]"
      ],
      "text/plain": [
       "<IPython.core.display.HTML object>"
      ]
     },
     "metadata": {},
     "output_type": "display_data"
    },
    {
     "data": {
      "text/html": [
       "<strong><a href=http://dx.doi.org/10.1016/j.gtc.2012.08.007>Probiotics in the development and treatment of allergic disease.</a></strong><br>2012. Isolauri E, Rautava S, Salminen S<br>[ID: 23101685]"
      ],
      "text/plain": [
       "<IPython.core.display.HTML object>"
      ]
     },
     "metadata": {},
     "output_type": "display_data"
    },
    {
     "data": {
      "text/html": [
       "<strong>Cough reflex sensitivity testing in in seasonal allergic rhinitis patients and healthy volunteers.</strong><br>2008. Pecova R, Zucha J, Pec M, Neuschlova M, Hanzel P, Tatar M<br>[ID: 19218681]"
      ],
      "text/plain": [
       "<IPython.core.display.HTML object>"
      ]
     },
     "metadata": {},
     "output_type": "display_data"
    },
    {
     "data": {
      "text/html": [
       "<strong><a href=http://dx.doi.org/10.3109/10715762.2013.842979>Association of serum arginase I with L-arginine, 3-nitrotyrosine, and exhaled nitric oxide in healthy Japanese workers.</a></strong><br>2014. Ogino K, Wang DH, Kubo M, Obase Y, Setiawan H, Yan F, Takahashi H, Zhang R, Tsukiyama Y, Yoshida J, Zou Y<br>[ID: 24060156]"
      ],
      "text/plain": [
       "<IPython.core.display.HTML object>"
      ]
     },
     "metadata": {},
     "output_type": "display_data"
    },
    {
     "data": {
      "text/html": [
       "<strong>[Systemic capillary leak syndrome].</strong><br>2008. Kjaergaard KD, Rickers H<br>[ID: 18940160]"
      ],
      "text/plain": [
       "<IPython.core.display.HTML object>"
      ]
     },
     "metadata": {},
     "output_type": "display_data"
    },
    {
     "data": {
      "text/html": [
       "<strong>[DLST as a method for detecting TS-1-induced allergy].</strong><br>2006. Kawabata R, Koida M, Kanie S, Tanaka G, Ohuchida A, Yoshida T<br>[ID: 16531715]"
      ],
      "text/plain": [
       "<IPython.core.display.HTML object>"
      ]
     },
     "metadata": {},
     "output_type": "display_data"
    },
    {
     "data": {
      "text/html": [
       "<strong>Preliminary research on possibility of bronchial asthma treatment with hyperbaric oxygenation.</strong><br>1987. Ulewicz K, Bogetti B, Magno L, Canepari P, Wisłocka I, Raczka A<br>[ID: 3506436]"
      ],
      "text/plain": [
       "<IPython.core.display.HTML object>"
      ]
     },
     "metadata": {},
     "output_type": "display_data"
    },
    {
     "data": {
      "text/html": [
       "<strong>T cells subsets and cytokines in allergic and non-allergic children. II. Analysis and IL-5 and IL-10 mRNA expression and protein production.</strong><br>1997. Koning H, Neijens HJ, Baert MR, Oranje AP, Savelkoul HF<br>[ID: 9199877]"
      ],
      "text/plain": [
       "<IPython.core.display.HTML object>"
      ]
     },
     "metadata": {},
     "output_type": "display_data"
    },
    {
     "data": {
      "text/html": [
       "<strong><a href=http://dx.doi.org/10.1016/j.jprot.2019.04.005>Molecular characterization of B-cell epitopes for the major fish allergen, parvalbumin, by shotgun proteomics, protein-based bioinformatics and IgE-reactive approaches.</a></strong><br>2019. Carrera M, González-Fernández Á, Magadán S, Mateos J, Pedrós L, Medina I, Gallardo JM<br>[ID: 30974223]"
      ],
      "text/plain": [
       "<IPython.core.display.HTML object>"
      ]
     },
     "metadata": {},
     "output_type": "display_data"
    },
    {
     "data": {
      "text/html": [
       "<strong><a href=http://dx.doi.org/10.1111/j.0105-1873.2005.00499.x>Allergic contact dermatitis from iodine preparations: a conundrum.</a></strong><br>2005. Lee SK, Zhai H, Maibach HI<br>[ID: 15859989]"
      ],
      "text/plain": [
       "<IPython.core.display.HTML object>"
      ]
     },
     "metadata": {},
     "output_type": "display_data"
    },
    {
     "data": {
      "text/html": [
       "<strong><a href=http://dx.doi.org/10.1016/j.gaceta.2015.11.003>[R-ALERGO. Allergy-healthy routes in Valencia].</a></strong><br>2016. Temes Cordovez RR, Moya Fuero A, Martí Garrido J, Perales Chordá C, Díaz Palacios M, Hernández Fernández de Rojas D<br>[ID: 26673430]"
      ],
      "text/plain": [
       "<IPython.core.display.HTML object>"
      ]
     },
     "metadata": {},
     "output_type": "display_data"
    },
    {
     "data": {
      "text/html": [
       "<strong><a href=http://dx.doi.org/10.1016/s0091-6749(05)80061-2>An HLA-associated nonresponsiveness to mellitin: a component of bee venom.</a></strong><br>1990. Lympany P, Kemeny DM, Welsh KI, Lee TH<br>[ID: 1974559]"
      ],
      "text/plain": [
       "<IPython.core.display.HTML object>"
      ]
     },
     "metadata": {},
     "output_type": "display_data"
    },
    {
     "data": {
      "text/html": [
       "<strong><a href=http://dx.doi.org/10.1038/srep15937>Epithelial cell-derived micro RNA-146a generates interleukin-10-producing monocytes to inhibit nasal allergy.</a></strong><br>2015. Luo X, Han M, Liu J, Wang Y, Luo X, Zheng J, Wang S, Liu Z, Liu D, Yang PC, Li H<br>[ID: 26526003]"
      ],
      "text/plain": [
       "<IPython.core.display.HTML object>"
      ]
     },
     "metadata": {},
     "output_type": "display_data"
    },
    {
     "data": {
      "text/html": [
       "<strong><a href=http://dx.doi.org/10.2500/aap.2010.31.3313>Any benefits of probiotics in allergic disorders?</a></strong><br>2010. Ozdemir O<br>[ID: 20406592]"
      ],
      "text/plain": [
       "<IPython.core.display.HTML object>"
      ]
     },
     "metadata": {},
     "output_type": "display_data"
    },
    {
     "data": {
      "text/html": [
       "<strong><a href=http://dx.doi.org/10.2500/aap.2010.31.3324>Montelukast as an episodic modifier for acute viral bronchiolitis: a randomized trial.</a></strong><br>2010. Zedan M, Gamil N, El-Assmy M, Fayez E, Nasef N, Fouda A, Settin A<br>[ID: 20406596]"
      ],
      "text/plain": [
       "<IPython.core.display.HTML object>"
      ]
     },
     "metadata": {},
     "output_type": "display_data"
    },
    {
     "data": {
      "text/html": [
       "<strong>[Effect of smoking on immune function (author's transl)].</strong><br>1980. Bergmann KC<br>[ID: 6447445]"
      ],
      "text/plain": [
       "<IPython.core.display.HTML object>"
      ]
     },
     "metadata": {},
     "output_type": "display_data"
    },
    {
     "data": {
      "text/html": [
       "<strong><a href=http://dx.doi.org/10.1002/cyto.a.23636>Unstimulated Adult Human B Cells Include an IL-10+ Population with Suppressive Properties and an Activated Phenotype.</a></strong><br>2018. Šunina M, Kaleviste E, Uibo R, Kisand K<br>[ID: 30343519]"
      ],
      "text/plain": [
       "<IPython.core.display.HTML object>"
      ]
     },
     "metadata": {},
     "output_type": "display_data"
    },
    {
     "data": {
      "text/html": [
       "<strong>Increased CD34+ cell peripheral traffic appears to be an unique feature of the allergic inflammation.</strong><br>2005. Mastrandrea F, Coradduzza G, Resta F, Cadario G, Rollo MA, Marengo F, Mazza P, Pajno G, Di Pasquale G, Minardi A, Scarcia G, Serio G<br>[ID: 15745375]"
      ],
      "text/plain": [
       "<IPython.core.display.HTML object>"
      ]
     },
     "metadata": {},
     "output_type": "display_data"
    },
    {
     "data": {
      "text/html": [
       "<strong><a href=http://dx.doi.org/10.1023/a:1018886423475>Quantification of inflammatory mediators in stool samples of patients with inflammatory bowel disorders and controls.</a></strong><br>1997. Bischoff SC, Grabowsky J, Manns MP<br>[ID: 9052525]"
      ],
      "text/plain": [
       "<IPython.core.display.HTML object>"
      ]
     },
     "metadata": {},
     "output_type": "display_data"
    },
    {
     "data": {
      "text/html": [
       "<strong>Association of HLA-DQ7 antigen with cow milk protein allergy in Italian children.</strong><br>1997. Camponeschi B, Lucarelli S, Frediani T, Barbato M, Quintieri F<br>[ID: 9617782]"
      ],
      "text/plain": [
       "<IPython.core.display.HTML object>"
      ]
     },
     "metadata": {},
     "output_type": "display_data"
    },
    {
     "data": {
      "text/html": [
       "<strong>[Diagnostic significance of the type of in vitro interaction between blood lymphocytes and serotonin in multiple sclerosis].</strong><br>2002. Shutov AA, Nevostrueva ON, Bykova AA<br>[ID: 12001663]"
      ],
      "text/plain": [
       "<IPython.core.display.HTML object>"
      ]
     },
     "metadata": {},
     "output_type": "display_data"
    },
    {
     "data": {
      "text/html": [
       "<strong><a href=http://dx.doi.org/10.1159/000199725>Selective immunoglobulin M deficiency presenting with recurrent impetigo: a case report and review of the literature.</a></strong><br>2009. Belgemen T, Suskan E, Dogu F, Ikinciogullari A<br>[ID: 19218822]"
      ],
      "text/plain": [
       "<IPython.core.display.HTML object>"
      ]
     },
     "metadata": {},
     "output_type": "display_data"
    },
    {
     "data": {
      "text/html": [
       "<strong><a href=http://dx.doi.org/10.1111/j.1399-0039.1997.tb02719.x>HLA class II antigens DR4 and DQ8 are associated with allergy to hevein, a major allergen of Hevea latex.</a></strong><br>1997. Rihs HP, Chen Z, Cremer R, Baur X<br>[ID: 9027975]"
      ],
      "text/plain": [
       "<IPython.core.display.HTML object>"
      ]
     },
     "metadata": {},
     "output_type": "display_data"
    },
    {
     "data": {
      "text/html": [
       "<strong>Human leukocyte mobilization and morphology in nickel contact allergy using a skin chamber technique.</strong><br>1981. Lerche A, Bisgaard H, Christensen JD, Søndergaard J<br>[ID: 6177163]"
      ],
      "text/plain": [
       "<IPython.core.display.HTML object>"
      ]
     },
     "metadata": {},
     "output_type": "display_data"
    },
    {
     "data": {
      "text/html": [
       "<strong><a href=http://dx.doi.org/10.1111/cea.12527>Hunt for the origin of allergy - comparing the Finnish and Russian Karelia.</a></strong><br>2015. Haahtela T, Laatikainen T, Alenius H, Auvinen P, Fyhrquist N, Hanski I, von Hertzen L, Jousilahti P, Kosunen TU, Markelova O, Mäkelä MJ, Pantelejev V, Uhanov M, Zilber E, Vartiainen E<br>[ID: 25772429]"
      ],
      "text/plain": [
       "<IPython.core.display.HTML object>"
      ]
     },
     "metadata": {},
     "output_type": "display_data"
    },
    {
     "data": {
      "text/html": [
       "<strong>Respiratory allergy to algae: clinical aspects.</strong><br>1979. Mittal A, Agarwal MK, Shivpuri DN<br>[ID: 434586]"
      ],
      "text/plain": [
       "<IPython.core.display.HTML object>"
      ]
     },
     "metadata": {},
     "output_type": "display_data"
    },
    {
     "data": {
      "text/html": [
       "<strong>Elevated nonspecific plasma proteins in allergic patients.</strong><br>2003. Reich M, Niess JH, Bär C, Zwacka G, Markert UR<br>[ID: 12861853]"
      ],
      "text/plain": [
       "<IPython.core.display.HTML object>"
      ]
     },
     "metadata": {},
     "output_type": "display_data"
    },
    {
     "data": {
      "text/html": [
       "<strong><a href=http://dx.doi.org/10.1002/1521-4141(200203)32:3<826::AID-IMMU826>3.0.CO;2-Y>Cellular and humoral immune responses to a human pancreatic cancer antigen, coactosin-like protein, originally defined by the SEREX method.</a></strong><br>2002. Nakatsura T, Senju S, Ito M, Nishimura Y, Itoh K<br>[ID: 11870627]"
      ],
      "text/plain": [
       "<IPython.core.display.HTML object>"
      ]
     },
     "metadata": {},
     "output_type": "display_data"
    },
    {
     "data": {
      "text/html": [
       "<strong><a href=http://dx.doi.org/10.1016/j.anai.2013.08.002>Stress and food allergy: mechanistic considerations.</a></strong><br>2014. Schreier HM, Wright RJ<br>[ID: 24428964]"
      ],
      "text/plain": [
       "<IPython.core.display.HTML object>"
      ]
     },
     "metadata": {},
     "output_type": "display_data"
    },
    {
     "data": {
      "text/html": [
       "<strong>IgG subclasses to food antigens.</strong><br>1988. Quinti I, Papetti C, D'Offizi G, Cavagni G, Panchor ML, Lunardi C, Paganelli R<br>[ID: 3293604]"
      ],
      "text/plain": [
       "<IPython.core.display.HTML object>"
      ]
     },
     "metadata": {},
     "output_type": "display_data"
    },
    {
     "data": {
      "text/html": [
       "<strong><a href=http://dx.doi.org/10.4168/aair.2014.6.1.95>A Case of Codeine Induced Anaphylaxis via Oral Route.</a></strong><br>2014. Yoo HS, Yang EM, Kim MA, Hwang SH, Shin YS, Ye YM, Nahm DH, Park HS<br>[ID: 24404400]"
      ],
      "text/plain": [
       "<IPython.core.display.HTML object>"
      ]
     },
     "metadata": {},
     "output_type": "display_data"
    },
    {
     "data": {
      "text/html": [
       "<strong><a href=http://dx.doi.org/10.1183/09031936.00153013>Predictors of work-related sensitisation, allergic rhinitis and asthma in early work life.</a></strong><br>2014. Kellberger J, Peters-Weist AS, Heinrich S, Pfeiffer S, Vogelberg C, Roller D, Genuneit J, Weinmayr G, von Mutius E, Heumann C, Nowak D, Radon K<br>[ID: 24969650]"
      ],
      "text/plain": [
       "<IPython.core.display.HTML object>"
      ]
     },
     "metadata": {},
     "output_type": "display_data"
    },
    {
     "data": {
      "text/html": [
       "<strong><a href=http://dx.doi.org/10.1111/j.1398-9995.1989.tb04169.x>IgE and IgG antibodies of patients with allergy to birch pollen as tools to define the allergen profile of Betula verrucosa.</a></strong><br>1989. Jarolim E, Rumpold H, Endler AT, Ebner H, Breitenbach M, Scheiner O, Kraft D<br>[ID: 2802112]"
      ],
      "text/plain": [
       "<IPython.core.display.HTML object>"
      ]
     },
     "metadata": {},
     "output_type": "display_data"
    },
    {
     "data": {
      "text/html": [
       "<strong><a href=http://dx.doi.org/10.1016/0091-6749(94)90182-1>Evidence of intercellular adhesion molecule-1 expression on nasal epithelial cells in acute rhinoconjunctivitis caused by pollen exposure.</a></strong><br>1994. Ciprandi G, Pronzato C, Ricca V, Bagnasco M, Canonica GW<br>[ID: 7930308]"
      ],
      "text/plain": [
       "<IPython.core.display.HTML object>"
      ]
     },
     "metadata": {},
     "output_type": "display_data"
    },
    {
     "data": {
      "text/html": [
       "<strong><a href=http://dx.doi.org/10.1038/jes.2015.7>The Canadian Healthy Infant Longitudinal Development (CHILD) birth cohort study: assessment of environmental exposures.</a></strong><br>2015. Takaro TK, Scott JA, Allen RW, Anand SS, Becker AB, Befus AD, Brauer M, Duncan J, Lefebvre DL, Lou W, Mandhane PJ, McLean KE, Miller G, Sbihi H, Shu H, Subbarao P, Turvey SE, Wheeler AJ, Zeng L, Sears MR, ...<br>[ID: 25805254]"
      ],
      "text/plain": [
       "<IPython.core.display.HTML object>"
      ]
     },
     "metadata": {},
     "output_type": "display_data"
    },
    {
     "data": {
      "text/html": [
       "<strong><a href=http://dx.doi.org/10.1111/j.1398-9995.1988.tb00920.x>IgE on Langerhans cells in the skin of patients with atopic dermatitis and birch allergy.</a></strong><br>1988. Tigalonowa M, Braathen LR, Lea T<br>[ID: 3056081]"
      ],
      "text/plain": [
       "<IPython.core.display.HTML object>"
      ]
     },
     "metadata": {},
     "output_type": "display_data"
    },
    {
     "data": {
      "text/html": [
       "<strong>Skin susceptibility to dithranol: contact allergy or irritation?</strong><br>1999. Loffler H, Effendy I, Happle R<br>[ID: 9920984]"
      ],
      "text/plain": [
       "<IPython.core.display.HTML object>"
      ]
     },
     "metadata": {},
     "output_type": "display_data"
    },
    {
     "data": {
      "text/html": [
       "<strong><a href=http://dx.doi.org/10.1289/ehp.001081203>Immunologic effects of background exposure to polychlorinated biphenyls and dioxins in Dutch preschool children.</a></strong><br>2000. Weisglas-Kuperus N, Patandin S, Berbers GA, Sas TC, Mulder PG, Sauer PJ, Hooijkaas H<br>[ID: 11133402]"
      ],
      "text/plain": [
       "<IPython.core.display.HTML object>"
      ]
     },
     "metadata": {},
     "output_type": "display_data"
    },
    {
     "data": {
      "text/html": [
       "<strong><a href=http://dx.doi.org/10.1038/pr.2017.270>A synbiotic-containing amino-acid-based formula improves gut microbiota in non-IgE-mediated allergic infants.</a></strong><br>2018. Candy DCA, Van Ampting MTJ, Oude Nijhuis MM, Wopereis H, Butt AM, Peroni DG, Vandenplas Y, Fox AT, Shah N, West CE, Garssen J, Harthoorn LF, Knol J, Michaelis LJ<br>[ID: 29155807]"
      ],
      "text/plain": [
       "<IPython.core.display.HTML object>"
      ]
     },
     "metadata": {},
     "output_type": "display_data"
    },
    {
     "data": {
      "text/html": [
       "<strong><a href=http://dx.doi.org/10.24953/turkjped.2018.04.009>The association between monosymptomatic enuresis and allergic diseases in children.</a></strong><br>2018. Yılmaz-Durmuş S, Alaygut D, Soylu A, Alparslan C, Köse SŞ, Anal Ö<br>[ID: 30859766]"
      ],
      "text/plain": [
       "<IPython.core.display.HTML object>"
      ]
     },
     "metadata": {},
     "output_type": "display_data"
    },
    {
     "data": {
      "text/html": [
       "<strong><a href=http://dx.doi.org/10.1265/jjh.48.698>[The relationship between serum leukotriene B4 and smoking].</a></strong><br>1993. Yanagisawa Y, Nagai T<br>[ID: 8397308]"
      ],
      "text/plain": [
       "<IPython.core.display.HTML object>"
      ]
     },
     "metadata": {},
     "output_type": "display_data"
    },
    {
     "data": {
      "text/html": [
       "<strong>The fluoroallergosorbent test: a comparison with rast and skin test in respiratory allergy.</strong><br>1988. Crimi E, Brusasco V, Crimi P, Brancatisano M, Bregante A<br>[ID: 3056125]"
      ],
      "text/plain": [
       "<IPython.core.display.HTML object>"
      ]
     },
     "metadata": {},
     "output_type": "display_data"
    },
    {
     "data": {
      "text/html": [
       "<strong><a href=http://dx.doi.org/10.1055/s-0035-1570746>Granulocyte-Macrophage Colony-Stimulating Factor Production and Tissue Eosinophilia in Chronic Rhinitis.</a></strong><br>2016. Peric A, Spadijer-Mirkovic C, Matkovic-Jozin S, Jovancevic L, Vojvodic D<br>[ID: 27746841]"
      ],
      "text/plain": [
       "<IPython.core.display.HTML object>"
      ]
     },
     "metadata": {},
     "output_type": "display_data"
    },
    {
     "data": {
      "text/html": [
       "<strong>Dietary allergy evaluated by PRIST and RAST in inflammatory bowel disease.</strong><br>1986. Brignola C, Miniero R, Campieri M, Bazzocchi G, Vegetti S, Farruggia P, Lanfranchi GA<br>[ID: 3744282]"
      ],
      "text/plain": [
       "<IPython.core.display.HTML object>"
      ]
     },
     "metadata": {},
     "output_type": "display_data"
    },
    {
     "data": {
      "text/html": [
       "<strong><a href=http://dx.doi.org/10.1111/j.1398-9995.1988.tb00408.x>Lactoferrin, myeloperoxidase, lysozyme and eosinophil cationic protein in exudate in delayed type hypersensitivity.</a></strong><br>1988. Lerche A, Bisgaard H, Christensen JD, Venge P, Dahl R, Søndergaard J<br>[ID: 2834974]"
      ],
      "text/plain": [
       "<IPython.core.display.HTML object>"
      ]
     },
     "metadata": {},
     "output_type": "display_data"
    },
    {
     "data": {
      "text/html": [
       "<strong><a href=http://dx.doi.org/10.2500/aap.2015.36.3822>The effects of disease awareness on lifestyle changes and the use of preventive measures in asthma patients.</a></strong><br>2015. Sybilski AJ, Lusawa A, Lipiec A, Piekarska B, Raciborski F, Krzych-Fałta E, Tomaszewska A, Samoliński B<br>[ID: 25715234]"
      ],
      "text/plain": [
       "<IPython.core.display.HTML object>"
      ]
     },
     "metadata": {},
     "output_type": "display_data"
    },
    {
     "data": {
      "text/html": [
       "<strong>[Technic and value of the carbachol nasal test in vasomotor rhinopathies].</strong><br>1983. Braun JJ, Geist D, Conraux C<br>[ID: 6881828]"
      ],
      "text/plain": [
       "<IPython.core.display.HTML object>"
      ]
     },
     "metadata": {},
     "output_type": "display_data"
    },
    {
     "data": {
      "text/html": [
       "<strong>Severe allergy to chicken meat.</strong><br>2006. Zacharisen MC<br>[ID: 16933414]"
      ],
      "text/plain": [
       "<IPython.core.display.HTML object>"
      ]
     },
     "metadata": {},
     "output_type": "display_data"
    },
    {
     "data": {
      "text/html": [
       "<strong><a href=http://dx.doi.org/10.1532/IJH97.06100>Human genetic polymorphisms affecting HIV-1 diseases.</a></strong><br>2006. Shioda T, Nakayama EE<br>[ID: 16867896]"
      ],
      "text/plain": [
       "<IPython.core.display.HTML object>"
      ]
     },
     "metadata": {},
     "output_type": "display_data"
    },
    {
     "data": {
      "text/html": [
       "<strong><a href=http://dx.doi.org/10.1016/j.cppeds.2013.06.001>Housing and child health.</a></strong><br>2013. Weitzman M, Baten A, Rosenthal DG, Hoshino R, Tohn E, Jacobs DE<br>[ID: 23953987]"
      ],
      "text/plain": [
       "<IPython.core.display.HTML object>"
      ]
     },
     "metadata": {},
     "output_type": "display_data"
    },
    {
     "data": {
      "text/html": [
       "<strong><a href=http://dx.doi.org/10.3109/02770903.2015.1008138>Suppression of heme oxygenase-1 activity reduces airway hyperresponsiveness and inflammation in a mouse model of asthma.</a></strong><br>2015. Kuribayashi K, Iida S, Nakajima Y, Funaguchi N, Tabata C, Fukuoka K, Fujimori Y, Ihaku D, Nakano T<br>[ID: 26133060]"
      ],
      "text/plain": [
       "<IPython.core.display.HTML object>"
      ]
     },
     "metadata": {},
     "output_type": "display_data"
    },
    {
     "data": {
      "text/html": [
       "<strong><a href=http://dx.doi.org/10.3390/ph5060655>The Potential Therapeutic Efficacy of Lactobacillus GG in Children with Food Allergies.</a></strong><br>2012. Berni Canani R, Di Costanzo M, Pezzella V, Cosenza L, Granata V, Terrin G, Nocerino R<br>[ID: 24281667]"
      ],
      "text/plain": [
       "<IPython.core.display.HTML object>"
      ]
     },
     "metadata": {},
     "output_type": "display_data"
    },
    {
     "data": {
      "text/html": [
       "<strong>[New method of diagnosis of drug hypersensitivity of the delayed type--the scarificaiton-film test].</strong><br>1976. Borodin IuP, Dokhnenko AM, Ageeva MG, Zidel'shteĭn SI<br>[ID: 139846]"
      ],
      "text/plain": [
       "<IPython.core.display.HTML object>"
      ]
     },
     "metadata": {},
     "output_type": "display_data"
    },
    {
     "data": {
      "text/html": [
       "<strong><a href=http://dx.doi.org/10.1016/j.humimm.2018.09.008>Sequence-based HLA-A, B, C, DP, DQ, and DR typing of 496 adults from San Diego, California, USA.</a></strong><br>2018. Moore E, Grifoni A, Weiskopf D, Schulten V, Arlehamn CSL, Angelo M, Pham J, Leary S, Sidney J, Broide D, Frazier A, Phillips E, Mallal S, Mack SJ, Sette A<br>[ID: 30278218]"
      ],
      "text/plain": [
       "<IPython.core.display.HTML object>"
      ]
     },
     "metadata": {},
     "output_type": "display_data"
    },
    {
     "data": {
      "text/html": [
       "<strong><a href=http://dx.doi.org/10.1111/all.12115>Impact of early diagnosis and control of chronic respiratory diseases on active and healthy ageing. A debate at the European Union Parliament.</a></strong><br>2013. Bousquet J, Tanasescu CC, Camuzat T, Anto JM, Blasi F, Neou A, Palkonen S, Papadopoulos NG, Antunes JP, Samolinski B, Yiallouros P, Zuberbier T<br>[ID: 23855711]"
      ],
      "text/plain": [
       "<IPython.core.display.HTML object>"
      ]
     },
     "metadata": {},
     "output_type": "display_data"
    },
    {
     "data": {
      "text/html": [
       "<strong><a href=http://dx.doi.org/10.1111/j.1748-5827.1995.tb02756.x>Disease conditions of canine anal sacs.</a></strong><br>1995. van Duijkeren E<br>[ID: 7815780]"
      ],
      "text/plain": [
       "<IPython.core.display.HTML object>"
      ]
     },
     "metadata": {},
     "output_type": "display_data"
    },
    {
     "data": {
      "text/html": [
       "<strong>[Electric current around dental metals as a factor producing allergenic metal ions in the oral cavity].</strong><br>1989. Nogi N<br>[ID: 2622059]"
      ],
      "text/plain": [
       "<IPython.core.display.HTML object>"
      ]
     },
     "metadata": {},
     "output_type": "display_data"
    },
    {
     "data": {
      "text/html": [
       "<strong><a href=http://dx.doi.org/10.1097/BOR.0000000000000191>Influence and effect of the human microbiome in allergy and asthma.</a></strong><br>2015. Panzer AR, Lynch SV<br>[ID: 26002029]"
      ],
      "text/plain": [
       "<IPython.core.display.HTML object>"
      ]
     },
     "metadata": {},
     "output_type": "display_data"
    },
    {
     "data": {
      "text/html": [
       "<strong><a href=http://dx.doi.org/10.1183/09031936.99.13357799>Lower prevalence of asthma and atopy in Turkish children living in Germany.</a></strong><br>1999. Kabesch M, Schaal W, Nicolai T, von Mutius E<br>[ID: 10232429]"
      ],
      "text/plain": [
       "<IPython.core.display.HTML object>"
      ]
     },
     "metadata": {},
     "output_type": "display_data"
    },
    {
     "data": {
      "text/html": [
       "<strong><a href=http://dx.doi.org/10.1111/j.1398-9995.1984.tb01966.x>Atopic allergy and serum IgE concentrations in randomly selected children followed up from 8 to 12 years of age.</a></strong><br>1984. Kjellman NI<br>[ID: 6496882]"
      ],
      "text/plain": [
       "<IPython.core.display.HTML object>"
      ]
     },
     "metadata": {},
     "output_type": "display_data"
    },
    {
     "data": {
      "text/html": [
       "<strong><a href=http://dx.doi.org/10.1183/09031936.99.13362699>Bronchoscopy and bronchoalveolar lavage findings in cross-country skiers with and without \"ski asthma\".</a></strong><br>1999. Sue-Chu M, Larsson L, Moen T, Rennard SI, Bjermer L<br>[ID: 10232438]"
      ],
      "text/plain": [
       "<IPython.core.display.HTML object>"
      ]
     },
     "metadata": {},
     "output_type": "display_data"
    },
    {
     "data": {
      "text/html": [
       "<strong><a href=http://dx.doi.org/10.1007/s12016-018-8723-y>Microbiota and Food Allergy.</a></strong><br>2019. Shu SA, Yuen AWT, Woo E, Chu KH, Kwan HS, Yang GX, Yang Y, Leung PSC<br>[ID: 30564985]"
      ],
      "text/plain": [
       "<IPython.core.display.HTML object>"
      ]
     },
     "metadata": {},
     "output_type": "display_data"
    },
    {
     "data": {
      "text/html": [
       "<strong><a href=http://dx.doi.org/10.7150/thno.34414>Vasoactive intestinal peptide stabilizes intestinal immune homeostasis through maintaining interleukin-10 expression in regulatory B cells.</a></strong><br>2019. Sun X, Guo C, Zhao F, Zhu J, Xu Y, Liu ZQ, Yang G, Zhang YY, Gu X, Xiao L, Liu Z, Yang PC<br>[ID: 31244924]"
      ],
      "text/plain": [
       "<IPython.core.display.HTML object>"
      ]
     },
     "metadata": {},
     "output_type": "display_data"
    },
    {
     "data": {
      "text/html": [
       "<strong><a href=http://dx.doi.org/10.4168/aair.2011.3.1.58>In vitro Biphasic Effect of Honey Bee Venom on Basophils from Screened Healthy Blood Donors.</a></strong><br>2011. Chirumbolo S, Zanoni G, Ortolani R, Vella A<br>[ID: 21217927]"
      ],
      "text/plain": [
       "<IPython.core.display.HTML object>"
      ]
     },
     "metadata": {},
     "output_type": "display_data"
    },
    {
     "data": {
      "text/html": [
       "<strong><a href=http://dx.doi.org/10.1177/1945892418779435>Responsiveness of Nasal Provocation Testing-But Not Skin Test and Specific Immunoglobulin E Blood Level-Correlates With Severity of Allergic Rhinitis in Dermatophagoides Species-Sensitized Patients.</a></strong><br>2018. Wanjun W, Qiurong H, Yanqing X, Mo X, Nili W, Jing L<br>[ID: 29909644]"
      ],
      "text/plain": [
       "<IPython.core.display.HTML object>"
      ]
     },
     "metadata": {},
     "output_type": "display_data"
    },
    {
     "data": {
      "text/html": [
       "<strong><a href=http://dx.doi.org/10.4049/jimmunol.0901036>The effector T cell response to ryegrass pollen is counterregulated by simultaneous induction of regulatory T cells.</a></strong><br>2010. Mittag D, Scholzen A, Varese N, Baxter L, Paukovics G, Harrison LC, Rolland JM, O'Hehir RE<br>[ID: 20308632]"
      ],
      "text/plain": [
       "<IPython.core.display.HTML object>"
      ]
     },
     "metadata": {},
     "output_type": "display_data"
    },
    {
     "data": {
      "text/html": [
       "<strong><a href=http://dx.doi.org/10.1016/j.fertnstert.2007.10.014>Acid phosphatase locus 1 genetic polymorphism, endometriosis, and allergy.</a></strong><br>2008. Ammendola M, Pietropolli A, Saccucci P, Piccione E, Bottini E, Gloria-Bottini F<br>[ID: 18490013]"
      ],
      "text/plain": [
       "<IPython.core.display.HTML object>"
      ]
     },
     "metadata": {},
     "output_type": "display_data"
    },
    {
     "data": {
      "text/html": [
       "<strong><a href=http://dx.doi.org/10.1080/08820139.2019.1617303>Changing microRNA Expression during Three-Month Wasp Venom Immunotherapy.</a></strong><br>2019. Specjalski K, Maciejewska A, Pawłowski R, Zieliński M, Trzonkowski P, Pikuła M, Jassem E<br>[ID: 31122084]"
      ],
      "text/plain": [
       "<IPython.core.display.HTML object>"
      ]
     },
     "metadata": {},
     "output_type": "display_data"
    },
    {
     "data": {
      "text/html": [
       "<strong><a href=http://dx.doi.org/10.1007/s11033-008-9400-7>Interleukin13 haplotypes and susceptibility of Iranian women to breast cancer.</a></strong><br>2009. Faghih Z, Erfani N, Razmkhah M, Sameni S, Talei A, Ghaderi A<br>[ID: 18989750]"
      ],
      "text/plain": [
       "<IPython.core.display.HTML object>"
      ]
     },
     "metadata": {},
     "output_type": "display_data"
    },
    {
     "data": {
      "text/html": [
       "<strong><a href=http://dx.doi.org/10.1016/j.ijheh.2013.12.001>Phthalate metabolites in urine and asthma, allergic rhinoconjunctivitis and atopic dermatitis in preschool children.</a></strong><br>2014. Callesen M, Bekö G, Weschler CJ, Langer S, Brive L, Clausen G, Toftum J, Sigsgaard T, Høst A, Jensen TK<br>[ID: 24388279]"
      ],
      "text/plain": [
       "<IPython.core.display.HTML object>"
      ]
     },
     "metadata": {},
     "output_type": "display_data"
    },
    {
     "data": {
      "text/html": [
       "<strong>[Prevalence of conductive hypoacusis in children aged 5-9 years old from rural area in Poland--prospective screening of healthy subjects].</strong><br>2002. Matusiak M, Wierzbicka M, Szyfter W<br>[ID: 12378806]"
      ],
      "text/plain": [
       "<IPython.core.display.HTML object>"
      ]
     },
     "metadata": {},
     "output_type": "display_data"
    },
    {
     "data": {
      "text/html": [
       "<strong>Clinical-epidemiological characteristics of atopic dermatitis in children of junior school level in Tbilisi.</strong><br>2009. Mgeladze N, Karseladze R, Zhorzholiani L, Karseladze E<br>[ID: 19276475]"
      ],
      "text/plain": [
       "<IPython.core.display.HTML object>"
      ]
     },
     "metadata": {},
     "output_type": "display_data"
    },
    {
     "data": {
      "text/html": [
       "<strong><a href=http://dx.doi.org/10.1016/0306-9877(95)90106-x>Beef allergy and the Persian Gulf syndrome.</a></strong><br>1995. Hollander DH<br>[ID: 8569540]"
      ],
      "text/plain": [
       "<IPython.core.display.HTML object>"
      ]
     },
     "metadata": {},
     "output_type": "display_data"
    },
    {
     "data": {
      "text/html": [
       "<strong>Large number of CD19+/CD23+ B cells and small number of CD8+ T cells as early markers for cow's milk allergy (CMA).</strong><br>1998. Järvinen KM, Aro A, Juntunen-Backman K, Suomalainen H<br>[ID: 9814728]"
      ],
      "text/plain": [
       "<IPython.core.display.HTML object>"
      ]
     },
     "metadata": {},
     "output_type": "display_data"
    },
    {
     "data": {
      "text/html": [
       "<strong>[Diagnosis of allergic rhinitis by determining of tryptase and eosinophil cationic protein in nasal secretions].</strong><br>1994. Rasp G, Bujía J<br>[ID: 7873234]"
      ],
      "text/plain": [
       "<IPython.core.display.HTML object>"
      ]
     },
     "metadata": {},
     "output_type": "display_data"
    },
    {
     "data": {
      "text/html": [
       "<strong>[STUDY OF CHEMOKINE RECEPTOR CCR2 GENE POLYMORPHISM IN PATIENTS WITH ASTHMA AND THEIR RELATIVES].</strong><br>2010. <br>[ID: 27534043]"
      ],
      "text/plain": [
       "<IPython.core.display.HTML object>"
      ]
     },
     "metadata": {},
     "output_type": "display_data"
    },
    {
     "data": {
      "text/html": [
       "<strong><a href=http://dx.doi.org/10.5114/ceji.2015.56965>Ragweed-allergic subjects have decreased serum levels of chemokines CCL2, CCL3, CCL4 and CCL5 out of the pollen season.</a></strong><br>2015. Kostova Z, Batsalova T, Moten D, Teneva I, Dzhambazov B<br>[ID: 26862308]"
      ],
      "text/plain": [
       "<IPython.core.display.HTML object>"
      ]
     },
     "metadata": {},
     "output_type": "display_data"
    },
    {
     "data": {
      "text/html": [
       "<strong>Capsaicin de-sensitization of the human nasal mucosa reduces pain and vascular effects of lactic acid and hypertonic saline.</strong><br>1994. Rinder J, Stjärne P, Lundberg JM<br>[ID: 7701224]"
      ],
      "text/plain": [
       "<IPython.core.display.HTML object>"
      ]
     },
     "metadata": {},
     "output_type": "display_data"
    },
    {
     "data": {
      "text/html": [
       "<strong>Epidemiology of Severe Cutaneous Adverse Drug Reaction and Its HLA Association among Pediatrics.</strong><br>2019. Esmaeilzadeh H, Farjadian S, Alyasin S, Nemati H, Nabavizadeh H, Esmaeilzadeh E<br>[ID: 31089385]"
      ],
      "text/plain": [
       "<IPython.core.display.HTML object>"
      ]
     },
     "metadata": {},
     "output_type": "display_data"
    },
    {
     "data": {
      "text/html": [
       "<strong><a href=http://dx.doi.org/10.1111/1523-1747.ep12470153>Responsiveness to interleukin 4 and interleukin 2 of peripheral blood mononuclear cells in atopic dermatitis.</a></strong><br>1991. Furue M, Ohtsuki M, Ogata F, Ishibashi Y<br>[ID: 2007785]"
      ],
      "text/plain": [
       "<IPython.core.display.HTML object>"
      ]
     },
     "metadata": {},
     "output_type": "display_data"
    },
    {
     "data": {
      "text/html": [
       "<strong>Influence of allergen-specific immunotherapy on IL-4-dependent IL-12 production by monocytes.</strong><br>2002. Grzela K, Grzela T, Lazarczyk M, Korczak-Kowalska G, Wierzbicki P, Zawadzka-Krajewska A, Jozwiak J, Skopiñski P<br>[ID: 12239597]"
      ],
      "text/plain": [
       "<IPython.core.display.HTML object>"
      ]
     },
     "metadata": {},
     "output_type": "display_data"
    },
    {
     "data": {
      "text/html": [
       "<strong>[Infant nutrition].</strong><br>2009. Salle B<br>[ID: 19718896]"
      ],
      "text/plain": [
       "<IPython.core.display.HTML object>"
      ]
     },
     "metadata": {},
     "output_type": "display_data"
    },
    {
     "data": {
      "text/html": [
       "<strong><a href=http://dx.doi.org/10.1111/j.1398-9995.2009.02024.x>Scientific rationale for the Finnish Allergy Programme 2008-2018: emphasis on prevention and endorsing tolerance.</a></strong><br>2009. von Hertzen LC, Savolainen J, Hannuksela M, Klaukka T, Lauerma A, Mäkelä MJ, Pekkanen J, Pietinalho A, Vaarala O, Valovirta E, Vartiainen E, Haahtela T<br>[ID: 19383025]"
      ],
      "text/plain": [
       "<IPython.core.display.HTML object>"
      ]
     },
     "metadata": {},
     "output_type": "display_data"
    },
    {
     "data": {
      "text/html": [
       "<strong><a href=http://dx.doi.org/10.1080/15563650.2017.1313981>Acute hypersensitivity reaction to Crotalidae polyvalent immune Fab (CroFab) as initial presentation of galactose-α-1,3-galactose (α-gal) allergy.</a></strong><br>2017. Rizer J, Brill K, Charlton N, King J<br>[ID: 28443380]"
      ],
      "text/plain": [
       "<IPython.core.display.HTML object>"
      ]
     },
     "metadata": {},
     "output_type": "display_data"
    },
    {
     "data": {
      "text/html": [
       "<strong><a href=http://dx.doi.org/10.1016/0091-6749(77)90148-8>High incidence of horse serum protein allergy in various autoimmune disorders.</a></strong><br>1977. Ring J, Seifert J, Brendel W<br>[ID: 320246]"
      ],
      "text/plain": [
       "<IPython.core.display.HTML object>"
      ]
     },
     "metadata": {},
     "output_type": "display_data"
    },
    {
     "data": {
      "text/html": [
       "<strong><a href=http://dx.doi.org/10.1159/000049489>DNA arrays in allergy and immunology.</a></strong><br>2001. Schmidt-Weber CB, Wohlfahrt JG, Blaser K<br>[ID: 11641601]"
      ],
      "text/plain": [
       "<IPython.core.display.HTML object>"
      ]
     },
     "metadata": {},
     "output_type": "display_data"
    },
    {
     "data": {
      "text/html": [
       "<strong><a href=http://dx.doi.org/10.1183/09031936.00148713>Asthma affects time to pregnancy and fertility: a register-based twin study.</a></strong><br>2014. Gade EJ, Thomsen SF, Lindenberg S, Kyvik KO, Lieberoth S, Backer V<br>[ID: 24232708]"
      ],
      "text/plain": [
       "<IPython.core.display.HTML object>"
      ]
     },
     "metadata": {},
     "output_type": "display_data"
    },
    {
     "data": {
      "text/html": [
       "<strong><a href=http://dx.doi.org/10.1016/s0161-6420(92)31964-5>Correlation of serum immunoglobulin E elevations with clinical stages of dysthyroid orbitopathy.</a></strong><br>1992. Raikow RB, Tyutyunikov A, Kennerdell JS, Kazim M, Dalbow MH, Scalise D<br>[ID: 1565448]"
      ],
      "text/plain": [
       "<IPython.core.display.HTML object>"
      ]
     },
     "metadata": {},
     "output_type": "display_data"
    },
    {
     "data": {
      "text/html": [
       "<strong><a href=http://dx.doi.org/10.2147/OPTH.S126690>Pharmacokinetics and safety of olopatadine hydrochloride 0.77% in healthy subjects with asymptomatic eyes: data from 2 independent clinical studies.</a></strong><br>2017. Meier E, Narvekar A, Iyer GR, DuBiner HB, Vutikullird A, Wirta D, Sall K<br>[ID: 28435218]"
      ],
      "text/plain": [
       "<IPython.core.display.HTML object>"
      ]
     },
     "metadata": {},
     "output_type": "display_data"
    },
    {
     "data": {
      "text/html": [
       "<strong><a href=http://dx.doi.org/10.3346/jkms.2007.22.5.820>Allergic asthma and rhinitis caused by household rabbit exposure: identification of serum-specific IgE and its allergens.</a></strong><br>2007. Choi JH, Kim HM, Park HS<br>[ID: 17982229]"
      ],
      "text/plain": [
       "<IPython.core.display.HTML object>"
      ]
     },
     "metadata": {},
     "output_type": "display_data"
    },
    {
     "data": {
      "text/html": [
       "<strong><a href=http://dx.doi.org/10.4049/jimmunol.171.7.3485>Critical role of preconceptional immunization for protective and nonpathological specific immunity in murine neonates.</a></strong><br>2003. Uthoff H, Spenner A, Reckelkamm W, Ahrens B, Wölk G, Hackler R, Hardung F, Schaefer J, Scheffold A, Renz H, Herz U<br>[ID: 14500644]"
      ],
      "text/plain": [
       "<IPython.core.display.HTML object>"
      ]
     },
     "metadata": {},
     "output_type": "display_data"
    },
    {
     "data": {
      "text/html": [
       "<strong><a href=http://dx.doi.org/10.1164/ajrccm.158.2.9711012>Lymphoid aggregates in endobronchial biopsies from young elite cross-country skiers.</a></strong><br>1998. Sue-Chu M, Karjalainen EM, Altraja A, Laitinen A, Laitinen LA, Naess AB, Larsson L, Bjermer L<br>[ID: 9700140]"
      ],
      "text/plain": [
       "<IPython.core.display.HTML object>"
      ]
     },
     "metadata": {},
     "output_type": "display_data"
    },
    {
     "data": {
      "text/html": [
       "<strong>CAST-ELISA test in diagnosis of mite allergy.</strong><br>1997. Medrala W, Małolepszy J, Wolańczyk-Medrala A, Gietkiewicz K, Litwa M, Jutel M, Wrzyszcz M<br>[ID: 9093932]"
      ],
      "text/plain": [
       "<IPython.core.display.HTML object>"
      ]
     },
     "metadata": {},
     "output_type": "display_data"
    },
    {
     "data": {
      "text/html": [
       "<strong><a href=http://dx.doi.org/10.1007/s11739-011-0510-1>Allergy and psychologic evaluations of patients with multiple drug intolerance syndrome.</a></strong><br>2012. De Pasquale T, Nucera E, Boccascino R, Romeo P, Biagini G, Buonomo A, Colagiovanni A, Pecora V, Aruanno A, Rizzi A, Lombardo C, Sabato V, Gasbarrini G, Patriarca G, Schiavino D<br>[ID: 21259055]"
      ],
      "text/plain": [
       "<IPython.core.display.HTML object>"
      ]
     },
     "metadata": {},
     "output_type": "display_data"
    },
    {
     "data": {
      "text/html": [
       "<strong><a href=http://dx.doi.org/10.2500/aap.2018.39.4159>Early risk factors for cow's milk allergy in children in the first year of life.</a></strong><br>2018. Sardecka I, Łoś-Rycharska E, Ludwig H, Gawryjołek J, Krogulska A<br>[ID: 30401328]"
      ],
      "text/plain": [
       "<IPython.core.display.HTML object>"
      ]
     },
     "metadata": {},
     "output_type": "display_data"
    },
    {
     "data": {
      "text/html": [
       "<strong><a href=http://dx.doi.org/10.1111/all.13097>Coping strategies, alexithymia and anxiety in young patients with food allergy.</a></strong><br>2017. Polloni L, DunnGalvin A, Ferruzza E, Bonaguro R, Lazzarotto F, Toniolo A, Celegato N, Muraro A<br>[ID: 27886387]"
      ],
      "text/plain": [
       "<IPython.core.display.HTML object>"
      ]
     },
     "metadata": {},
     "output_type": "display_data"
    },
    {
     "data": {
      "text/html": [
       "<strong><a href=http://dx.doi.org/10.1111/j.1600-0536.1996.tb02213.x>Sensitizing and irritant properties of 3 environmental classes of diesel oil and their indicator dyes.</a></strong><br>1996. Fischer T, Bjarnason B<br>[ID: 8807221]"
      ],
      "text/plain": [
       "<IPython.core.display.HTML object>"
      ]
     },
     "metadata": {},
     "output_type": "display_data"
    },
    {
     "data": {
      "text/html": [
       "<strong><a href=http://dx.doi.org/10.1111/1523-1747.ep12395722>Cytokine mRNA levels in Alopecia areata before and after treatment with the contact allergen diphenylcyclopropenone.</a></strong><br>1994. Hoffmann R, Wenzel E, Huth A, van der Steen P, Schäufele M, Henninger HP, Happle R<br>[ID: 7930677]"
      ],
      "text/plain": [
       "<IPython.core.display.HTML object>"
      ]
     },
     "metadata": {},
     "output_type": "display_data"
    },
    {
     "data": {
      "text/html": [
       "<strong><a href=http://dx.doi.org/10.1111/j.1399-3038.2010.01079.x>Airway inflammation in probiotic-treated children at 5 years.</a></strong><br>2011. Kukkonen AK, Kuitunen M, Savilahti E, Pelkonen A, Malmberg P, Mäkelä M<br>[ID: 21332798]"
      ],
      "text/plain": [
       "<IPython.core.display.HTML object>"
      ]
     },
     "metadata": {},
     "output_type": "display_data"
    },
    {
     "data": {
      "text/html": [
       "<strong><a href=http://dx.doi.org/10.1159/000234100>Prevalence of specific IgE antibodies against piperazine in employees of a chemical plant.</a></strong><br>1986. Hagmar L, Welinder H<br>[ID: 3744574]"
      ],
      "text/plain": [
       "<IPython.core.display.HTML object>"
      ]
     },
     "metadata": {},
     "output_type": "display_data"
    },
    {
     "data": {
      "text/html": [
       "<strong>[A case of bilateral striatal necrosis associated with vesicular skin eruption].</strong><br>2003. Saitoh M, Yamagata T, Mizuguchi M, Momoi MY<br>[ID: 14631749]"
      ],
      "text/plain": [
       "<IPython.core.display.HTML object>"
      ]
     },
     "metadata": {},
     "output_type": "display_data"
    },
    {
     "data": {
      "text/html": [
       "<strong><a href=http://dx.doi.org/10.1007/s12016-018-8685-0>The Unique Molecular Signatures of Contact Dermatitis and Implications for Treatment.</a></strong><br>2019. Leonard A, Guttman-Yassky E<br>[ID: 29754191]"
      ],
      "text/plain": [
       "<IPython.core.display.HTML object>"
      ]
     },
     "metadata": {},
     "output_type": "display_data"
    },
    {
     "data": {
      "text/html": [
       "<strong><a href=http://dx.doi.org/10.1016/S1094-5539(02)00178-5>Overview of neural pathways in allergy and asthma.</a></strong><br>2003. Widdicombe JG<br>[ID: 12657497]"
      ],
      "text/plain": [
       "<IPython.core.display.HTML object>"
      ]
     },
     "metadata": {},
     "output_type": "display_data"
    },
    {
     "data": {
      "text/html": [
       "<strong>[Current aspects of diagnosis and therapy of nasal polyposis].</strong><br>1997. Reiss M<br>[ID: 9454434]"
      ],
      "text/plain": [
       "<IPython.core.display.HTML object>"
      ]
     },
     "metadata": {},
     "output_type": "display_data"
    },
    {
     "data": {
      "text/html": [
       "<strong><a href=http://dx.doi.org/10.1159/000234002>The excretion of IgE with feces from healthy individuals and from others with allergy and diseases affecting the intestinal tract.</a></strong><br>1986. Kolmannskog S, Florholmen J, Flaegstad T, Kildebo S, Haneberg B<br>[ID: 3949413]"
      ],
      "text/plain": [
       "<IPython.core.display.HTML object>"
      ]
     },
     "metadata": {},
     "output_type": "display_data"
    },
    {
     "data": {
      "text/html": [
       "<strong>The effect of granulocyte factor and grass pollen allergen on T-lymphocytes from atopic patients in vitro.</strong><br>1993. Kocur E, Zeman K, Tchorzewski H<br>[ID: 8012650]"
      ],
      "text/plain": [
       "<IPython.core.display.HTML object>"
      ]
     },
     "metadata": {},
     "output_type": "display_data"
    },
    {
     "data": {
      "text/html": [
       "<strong>[Development of allergic reactivity to Artemesia pollen during combined sensitization to pollen and microbes].</strong><br>1978. Ermekova RK<br>[ID: 99195]"
      ],
      "text/plain": [
       "<IPython.core.display.HTML object>"
      ]
     },
     "metadata": {},
     "output_type": "display_data"
    },
    {
     "data": {
      "text/html": [
       "<strong>Phadiatop Seropositivity in Schizophrenia Patients and Controls: A Preliminary Study.</strong><br>2014. Okusaga O, Hamilton RG, Can A, Igbide A, Giegling I, Hartmann AM, Konte B, Friedl M, Reeves GM, Rujescu D, Postolache TT<br>[ID: 25346942]"
      ],
      "text/plain": [
       "<IPython.core.display.HTML object>"
      ]
     },
     "metadata": {},
     "output_type": "display_data"
    },
    {
     "data": {
      "text/html": [
       "<strong><a href=http://dx.doi.org/10.1016/0091-6749(92)90433-3>Mononuclear cell subsets in the nickel-allergic reaction in vitro and in vivo.</a></strong><br>1992. Silvennoinen-Kassinen S, Ikäheimo I, Karvonen J, Kauppinen M, Kallioinen M<br>[ID: 1532806]"
      ],
      "text/plain": [
       "<IPython.core.display.HTML object>"
      ]
     },
     "metadata": {},
     "output_type": "display_data"
    },
    {
     "data": {
      "text/html": [
       "<strong>[The place of new antihistamines in allergy management. Apropos of desloratadine].</strong><br>2002. Sabbah A<br>[ID: 12575624]"
      ],
      "text/plain": [
       "<IPython.core.display.HTML object>"
      ]
     },
     "metadata": {},
     "output_type": "display_data"
    },
    {
     "data": {
      "text/html": [
       "<strong>[Discriminant function analysis in the assessment of laboratory test data in the correction of traditional therapy for mild icteric form of viral hepatitis B in children with food allergy].</strong><br>2010. Kalagina LS, Rossokhin VF, Efremenko TN, Zobkova TI<br>[ID: 20734860]"
      ],
      "text/plain": [
       "<IPython.core.display.HTML object>"
      ]
     },
     "metadata": {},
     "output_type": "display_data"
    },
    {
     "data": {
      "text/html": [
       "<strong><a href=http://dx.doi.org/10.1111/j.1365-3083.2012.02712.x>Association between arachidonate 5-lipoxygenase-activating protein (ALOX5AP) and lung function in a Korean population.</a></strong><br>2012. Ro M, Kim S, Pyun JA, Shin C, Cho NH, Lee JY, Koh I, Kwack K<br>[ID: 22537113]"
      ],
      "text/plain": [
       "<IPython.core.display.HTML object>"
      ]
     },
     "metadata": {},
     "output_type": "display_data"
    },
    {
     "data": {
      "text/html": [
       "<strong>Immunogenicity of hydrolysate formulas in children (Part 2): 41 case reports.</strong><br>2001. Cantani A, Micera M<br>[ID: 11436966]"
      ],
      "text/plain": [
       "<IPython.core.display.HTML object>"
      ]
     },
     "metadata": {},
     "output_type": "display_data"
    },
    {
     "data": {
      "text/html": [
       "<strong><a href=http://dx.doi.org/10.1097/MPG.0000000000001374>Evaluation of an Amino Acid-Based Formula in Infants Not Responding to Extensively Hydrolyzed Protein Formula.</a></strong><br>2016. Vanderhoof J, Moore N, de Boissieu D<br>[ID: 27526059]"
      ],
      "text/plain": [
       "<IPython.core.display.HTML object>"
      ]
     },
     "metadata": {},
     "output_type": "display_data"
    },
    {
     "data": {
      "text/html": [
       "<strong>Antibodies against molds and mycotoxins following exposure to toxigenic fungi in a water-damaged building.</strong><br>2003. Vojdani A, Campbell AW, Kashanian A, Vojdani E<br>[ID: 14992307]"
      ],
      "text/plain": [
       "<IPython.core.display.HTML object>"
      ]
     },
     "metadata": {},
     "output_type": "display_data"
    },
    {
     "data": {
      "text/html": [
       "<strong><a href=http://dx.doi.org/10.1183/09031936.00117708>Asthma, airway inflammation and epithelial damage in swimmers and cold-air athletes.</a></strong><br>2009. Bougault V, Turmel J, St-Laurent J, Bertrand M, Boulet LP<br>[ID: 19129276]"
      ],
      "text/plain": [
       "<IPython.core.display.HTML object>"
      ]
     },
     "metadata": {},
     "output_type": "display_data"
    },
    {
     "data": {
      "text/html": [
       "<strong>Can atopy patch tests with aeroallergens be an additional diagnostic criterion for atopic dermatitis?</strong><br>2006. Samochocki Z, Owczarek W, Zabielski S<br>[ID: 16581566]"
      ],
      "text/plain": [
       "<IPython.core.display.HTML object>"
      ]
     },
     "metadata": {},
     "output_type": "display_data"
    },
    {
     "data": {
      "text/html": [
       "<strong>Comparison of subject-reported allergy versus skin test results in a common cold trial.</strong><br>2003. Krahnke JS, Gentile DA, Cordoro KM, Angelini BL, Cohen SA, Doyle WJ, Skoner DP<br>[ID: 12862405]"
      ],
      "text/plain": [
       "<IPython.core.display.HTML object>"
      ]
     },
     "metadata": {},
     "output_type": "display_data"
    },
    {
     "data": {
      "text/html": [
       "<strong><a href=http://dx.doi.org/10.1111/j.1365-2249.2004.02530.x>Nasal mucosa in natural colds: effects of allergic rhinitis and susceptibility to recurrent sinusitis.</a></strong><br>2004. Alho OP, Karttunen R, Karttunen TJ<br>[ID: 15270854]"
      ],
      "text/plain": [
       "<IPython.core.display.HTML object>"
      ]
     },
     "metadata": {},
     "output_type": "display_data"
    },
    {
     "data": {
      "text/html": [
       "<strong><a href=http://dx.doi.org/10.3390/vaccines7030114>Tick Bites Induce Anti-α-Gal Antibodies in Dogs.</a></strong><br>2019. Hodžić A, Mateos-Hernández L, Leschnik M, Alberdi P, Rego ROM, Contreras M, Villar M, de la Fuente J, Cabezas-Cruz A, Duscher GG<br>[ID: 31540167]"
      ],
      "text/plain": [
       "<IPython.core.display.HTML object>"
      ]
     },
     "metadata": {},
     "output_type": "display_data"
    },
    {
     "data": {
      "text/html": [
       "<strong><a href=http://dx.doi.org/10.1097/SCS.0000000000001202>Prevalence of chronic rhinosinusitis in the setting of Behçet disease.</a></strong><br>2015. Verim A, Cebeci F, Başer E, Çalim ÖF, Kadioğlu D, Kocagöz GD<br>[ID: 25469896]"
      ],
      "text/plain": [
       "<IPython.core.display.HTML object>"
      ]
     },
     "metadata": {},
     "output_type": "display_data"
    },
    {
     "data": {
      "text/html": [
       "<strong><a href=http://dx.doi.org/10.2165/00126839-200405030-00009>Roflumilast: APTA 2217, B9302-107, BY 217, BYK 20869.</a></strong><br>2004. <br>[ID: 15139782]"
      ],
      "text/plain": [
       "<IPython.core.display.HTML object>"
      ]
     },
     "metadata": {},
     "output_type": "display_data"
    },
    {
     "data": {
      "text/html": [
       "<strong><a href=http://dx.doi.org/10.1016/j.molimm.2018.03.011>Tree nut allergens.</a></strong><br>2018. Geiselhart S, Hoffmann-Sommergruber K, Bublin M<br>[ID: 29680588]"
      ],
      "text/plain": [
       "<IPython.core.display.HTML object>"
      ]
     },
     "metadata": {},
     "output_type": "display_data"
    },
    {
     "data": {
      "text/html": [
       "<strong>Detectable serum IgE levels in Graves' ophthalmopathy.</strong><br>1996. Molnár I, Horváth S, Balázs C<br>[ID: 9438158]"
      ],
      "text/plain": [
       "<IPython.core.display.HTML object>"
      ]
     },
     "metadata": {},
     "output_type": "display_data"
    },
    {
     "data": {
      "text/html": [
       "<strong><a href=http://dx.doi.org/10.1016/j.gene.2013.06.015>Protective effect of the KIR2DS1 gene in atopic dermatitis.</a></strong><br>2013. Niepiekło-Miniewska W, Majorczyk E, Matusiak L, Gendzekhadze K, Nowak I, Narbutt J, Lesiak A, Kuna P, Ponińska J, Pietkiewicz-Sworowska A, Samoliński B, Płoski R, Szepietowski JC, Senitzer D, Kuśnierczyk P<br>[ID: 23831511]"
      ],
      "text/plain": [
       "<IPython.core.display.HTML object>"
      ]
     },
     "metadata": {},
     "output_type": "display_data"
    },
    {
     "data": {
      "text/html": [
       "<strong><a href=http://dx.doi.org/10.1093/rheumatology/33.8.749>Allergic disorders in systemic vasculitis: a case-controlled study.</a></strong><br>1994. Cuadrado MJ, D'Cruz D, Lloyd M, Mujic F, Khamashta MA, Hughes GR<br>[ID: 7914456]"
      ],
      "text/plain": [
       "<IPython.core.display.HTML object>"
      ]
     },
     "metadata": {},
     "output_type": "display_data"
    },
    {
     "data": {
      "text/html": [
       "<strong><a href=http://dx.doi.org/10.1016/s0165-5876(97)00031-1>Body build--is it a factor in acute subglottic laryngitis?</a></strong><br>1997. Chmielik M, Debska M, Partyka M, Arcimowicz M, Chmielik LP, Jakubczyk I, Wachulski B<br>[ID: 9225181]"
      ],
      "text/plain": [
       "<IPython.core.display.HTML object>"
      ]
     },
     "metadata": {},
     "output_type": "display_data"
    },
    {
     "data": {
      "text/html": [
       "<strong><a href=http://dx.doi.org/10.1038/pr.2013.211>Effects on growth and tolerance and hypoallergenicity of an amino acid-based formula with synbiotics.</a></strong><br>2014. Harvey BM, Langford JE, Harthoorn LF, Gillman SA, Green TD, Schwartz RH, Burks AW<br>[ID: 24216543]"
      ],
      "text/plain": [
       "<IPython.core.display.HTML object>"
      ]
     },
     "metadata": {},
     "output_type": "display_data"
    },
    {
     "data": {
      "text/html": [
       "<strong><a href=http://dx.doi.org/10.1371/journal.pone.0097523>Enterococcus faecalis from healthy infants modulates inflammation through MAPK signaling pathways.</a></strong><br>2014. Wang S, Hibberd ML, Pettersson S, Lee YK<br>[ID: 24830946]"
      ],
      "text/plain": [
       "<IPython.core.display.HTML object>"
      ]
     },
     "metadata": {},
     "output_type": "display_data"
    },
    {
     "data": {
      "text/html": [
       "<strong><a href=http://dx.doi.org/10.1111/all.12358>The multiple factors affecting the association between atopic dermatitis and contact sensitization.</a></strong><br>2014. Thyssen JP, McFadden JP, Kimber I<br>[ID: 24372195]"
      ],
      "text/plain": [
       "<IPython.core.display.HTML object>"
      ]
     },
     "metadata": {},
     "output_type": "display_data"
    },
    {
     "data": {
      "text/html": [
       "<strong><a href=http://dx.doi.org/10.3109/1547691X.2011.592162>Effects of environmental lead exposure on T-helper cell-specific cytokines in children.</a></strong><br>2011. Hsiao CL, Wu KH, Wan KS<br>[ID: 21726182]"
      ],
      "text/plain": [
       "<IPython.core.display.HTML object>"
      ]
     },
     "metadata": {},
     "output_type": "display_data"
    },
    {
     "data": {
      "text/html": [
       "<strong><a href=http://dx.doi.org/10.1111/j.1744-313X.2008.00816.x>MCP-1 and CCR2 gene polymorphisms in Czech patients with allergic disorders.</a></strong><br>2009. Holla LI, Mrazek F, Petrek M<br>[ID: 19055601]"
      ],
      "text/plain": [
       "<IPython.core.display.HTML object>"
      ]
     },
     "metadata": {},
     "output_type": "display_data"
    },
    {
     "data": {
      "text/html": [
       "<strong>[The evaluation of cellular immunity in patients with allergy to pollen].</strong><br>1997. Jurkiewicz D<br>[ID: 9757694]"
      ],
      "text/plain": [
       "<IPython.core.display.HTML object>"
      ]
     },
     "metadata": {},
     "output_type": "display_data"
    },
    {
     "data": {
      "text/html": [
       "<strong><a href=http://dx.doi.org/10.1093/ajcn/85.5.1185>Histamine and histamine intolerance.</a></strong><br>2007. Maintz L, Novak N<br>[ID: 17490952]"
      ],
      "text/plain": [
       "<IPython.core.display.HTML object>"
      ]
     },
     "metadata": {},
     "output_type": "display_data"
    },
    {
     "data": {
      "text/html": [
       "<strong><a href=http://dx.doi.org/10.1126/sciimmunol.aam9841>Dysregulated invertebrate tropomyosin-dectin-1 interaction confers susceptibility to allergic diseases.</a></strong><br>2018. Gour N, Lajoie S, Smole U, White M, Hu D, Goddard P, Huntsman S, Eng C, Mak A, Oh S, Kim JH, Sharma A, Plante S, Salem IH, Resch Y, Xiao X, Yao N, Singh A, Vrtala S, Chakir J, ...<br>[ID: 29475849]"
      ],
      "text/plain": [
       "<IPython.core.display.HTML object>"
      ]
     },
     "metadata": {},
     "output_type": "display_data"
    },
    {
     "data": {
      "text/html": [
       "<strong><a href=http://dx.doi.org/10.1080/00325481.1984.11698559>Nutrition for full-term and preterm infants. Meeting normal and exceptional needs.</a></strong><br>1984. Fletcher AB, Avery GB<br>[ID: 6546445]"
      ],
      "text/plain": [
       "<IPython.core.display.HTML object>"
      ]
     },
     "metadata": {},
     "output_type": "display_data"
    },
    {
     "data": {
      "text/html": [
       "<strong><a href=http://dx.doi.org/10.1111/j.1399-3038.2009.00898.x>Cow's milk allergy related pediatric constipation: appropriate time of milk tolerance.</a></strong><br>2010. El-Hodhod MA, Younis NT, Zaitoun YA, Daoud SD<br>[ID: 19555354]"
      ],
      "text/plain": [
       "<IPython.core.display.HTML object>"
      ]
     },
     "metadata": {},
     "output_type": "display_data"
    },
    {
     "data": {
      "text/html": [
       "<strong><a href=http://dx.doi.org/10.1159/000052837>Difficulties of recruitment for a randomized controlled trial involving influenza vaccination in healthy older people.</a></strong><br>2002. Allsup SJ, Gosney MA<br>[ID: 11961371]"
      ],
      "text/plain": [
       "<IPython.core.display.HTML object>"
      ]
     },
     "metadata": {},
     "output_type": "display_data"
    },
    {
     "data": {
      "text/html": [
       "<strong><a href=http://dx.doi.org/10.1016/j.aller.2017.05.009>iNKT cells are increased in children with severe therapy-resistant asthma.</a></strong><br>2018. Antunes L, Duarte de Souza AP, de Araújo PD, Pinto LA, Jones MH, Stein RT, Pitrez PM<br>[ID: 29279262]"
      ],
      "text/plain": [
       "<IPython.core.display.HTML object>"
      ]
     },
     "metadata": {},
     "output_type": "display_data"
    },
    {
     "data": {
      "text/html": [
       "<strong><a href=http://dx.doi.org/10.1111/j.1365-2249.2011.04428.x>Impaired hapten sensitization in patients with autoimmune disease.</a></strong><br>2011. Bangsgaard N, Engkilde K, Menné T, Løvendorf M, Jacobsen GK, Olsen J, Skov L<br>[ID: 21668897]"
      ],
      "text/plain": [
       "<IPython.core.display.HTML object>"
      ]
     },
     "metadata": {},
     "output_type": "display_data"
    },
    {
     "data": {
      "text/html": [
       "<strong><a href=http://dx.doi.org/10.1111/j.1365-3164.2010.00882.x>Human allergy to environmental pet danders: a public health perspective.</a></strong><br>2010. Morris DO<br>[ID: 20374569]"
      ],
      "text/plain": [
       "<IPython.core.display.HTML object>"
      ]
     },
     "metadata": {},
     "output_type": "display_data"
    },
    {
     "data": {
      "text/html": [
       "<strong><a href=http://dx.doi.org/10.3389/fimmu.2018.02221>Gut Mucosal Antibody Responses and Implications for Food Allergy.</a></strong><br>2018. Hoh RA, Boyd SD<br>[ID: 30319658]"
      ],
      "text/plain": [
       "<IPython.core.display.HTML object>"
      ]
     },
     "metadata": {},
     "output_type": "display_data"
    },
    {
     "data": {
      "text/html": [
       "<strong><a href=http://dx.doi.org/10.1016/j.antiviral.2004.04.005>Experimental infection of humans with A2 respiratory syncytial virus.</a></strong><br>2004. Lee FE, Walsh EE, Falsey AR, Betts RF, Treanor JJ<br>[ID: 15451187]"
      ],
      "text/plain": [
       "<IPython.core.display.HTML object>"
      ]
     },
     "metadata": {},
     "output_type": "display_data"
    },
    {
     "data": {
      "text/html": [
       "<strong><a href=http://dx.doi.org/10.1002/eji.201545869>Elevated and cross-responsive CD1a-reactive T cells in bee and wasp venom allergic individuals.</a></strong><br>2016. Subramaniam S, Aslam A, Misbah SA, Salio M, Cerundolo V, Moody DB, Ogg G<br>[ID: 26518614]"
      ],
      "text/plain": [
       "<IPython.core.display.HTML object>"
      ]
     },
     "metadata": {},
     "output_type": "display_data"
    },
    {
     "data": {
      "text/html": [
       "<strong><a href=http://dx.doi.org/10.1016/j.tvjl.2018.12.014>Testing for food-specific antibodies in saliva and blood of food allergic and healthy dogs.</a></strong><br>2019. Udraite Vovk L, Watson A, Dodds WJ, Klinger CJ, Classen J, Mueller RS<br>[ID: 30819419]"
      ],
      "text/plain": [
       "<IPython.core.display.HTML object>"
      ]
     },
     "metadata": {},
     "output_type": "display_data"
    },
    {
     "data": {
      "text/html": [
       "<strong><a href=http://dx.doi.org/10.1111/j.1600-0625.2010.01162.x>Gene expression changes in peripheral blood mononuclear cells in occupational exposure to nickel.</a></strong><br>2011. Bonin S, Larese FF, Trevisan G, Avian A, Rui F, Stanta G, Bovenzi M<br>[ID: 21054559]"
      ],
      "text/plain": [
       "<IPython.core.display.HTML object>"
      ]
     },
     "metadata": {},
     "output_type": "display_data"
    },
    {
     "data": {
      "text/html": [
       "<strong><a href=http://dx.doi.org/10.1203/PDR.0b013e318232739c>Peripheral blood immune response elicited by beta-lactoglobulin in childhood cow's milk allergy.</a></strong><br>2011. Vocca I, Canani RB, Camarca A, Ruotolo S, Nocerino R, Radano G, Del Mastro A, Troncone R, Gianfrani C<br>[ID: 21857380]"
      ],
      "text/plain": [
       "<IPython.core.display.HTML object>"
      ]
     },
     "metadata": {},
     "output_type": "display_data"
    },
    {
     "data": {
      "text/html": [
       "<strong><a href=http://dx.doi.org/10.5482/ha-1152>The role of platelets in defence against pathogens.</a></strong><br>2011. Clemetson KJ<br>[ID: 21709931]"
      ],
      "text/plain": [
       "<IPython.core.display.HTML object>"
      ]
     },
     "metadata": {},
     "output_type": "display_data"
    },
    {
     "data": {
      "text/html": [
       "<strong><a href=http://dx.doi.org/10.1111/j.1574-6941.2011.01207.x>Infant gut microbiota is protective against cow's milk allergy in mice despite immature ileal T-cell response.</a></strong><br>2012. Rodriguez B, Prioult G, Hacini-Rachinel F, Moine D, Bruttin A, Ngom-Bru C, Labellie C, Nicolis I, Berger B, Mercenier A, Butel MJ, Waligora-Dupriet AJ<br>[ID: 22029421]"
      ],
      "text/plain": [
       "<IPython.core.display.HTML object>"
      ]
     },
     "metadata": {},
     "output_type": "display_data"
    },
    {
     "data": {
      "text/html": [
       "<strong>Skin sensitization to common allergens in Turkish wheezy children less than 3 years of age.</strong><br>2004. Emin O, Nermin G, Ulker O, Gökçay G<br>[ID: 15565945]"
      ],
      "text/plain": [
       "<IPython.core.display.HTML object>"
      ]
     },
     "metadata": {},
     "output_type": "display_data"
    },
    {
     "data": {
      "text/html": [
       "<strong><a href=http://dx.doi.org/10.1111/j.1600-0536.1993.tb03484.x>Nickel sensitivity in atopics, psoriatics and healthy subjects.</a></strong><br>1993. Fedler R, Strömer K<br>[ID: 8365178]"
      ],
      "text/plain": [
       "<IPython.core.display.HTML object>"
      ]
     },
     "metadata": {},
     "output_type": "display_data"
    },
    {
     "data": {
      "text/html": [
       "<strong><a href=http://dx.doi.org/10.1007/s00101-003-0455-5>[Anaphylactic cardiocirculatory failure after intraoperative application of dipyrone].</a></strong><br>2003. Janke C, Schmeck J, Passani D, Dodidou P, Stuck B, Kerger H<br>[ID: 12715134]"
      ],
      "text/plain": [
       "<IPython.core.display.HTML object>"
      ]
     },
     "metadata": {},
     "output_type": "display_data"
    },
    {
     "data": {
      "text/html": [
       "<strong><a href=http://dx.doi.org/10.1111/j.1600-0536.2007.01049.x>Long-lasting patch reactions to gold sodium thiosulfate occurs frequently in healthy volunteers.</a></strong><br>2007. Andersen KE, Jensen CD<br>[ID: 17343622]"
      ],
      "text/plain": [
       "<IPython.core.display.HTML object>"
      ]
     },
     "metadata": {},
     "output_type": "display_data"
    },
    {
     "data": {
      "text/html": [
       "<strong><a href=http://dx.doi.org/10.1097/01.mpg.0000304464.60788.bd>Complementary feeding: a commentary by the ESPGHAN Committee on Nutrition.</a></strong><br>2008. Agostoni C, Decsi T, Fewtrell M, Goulet O, Kolacek S, Koletzko B, Michaelsen KF, Moreno L, Puntis J, Rigo J, Shamir R, Szajewska H, Turck D, van Goudoever J, ESPGHAN Committee on Nutrition:.<br>[ID: 18162844]"
      ],
      "text/plain": [
       "<IPython.core.display.HTML object>"
      ]
     },
     "metadata": {},
     "output_type": "display_data"
    },
    {
     "data": {
      "text/html": [
       "<strong><a href=http://dx.doi.org/10.1016/S0140-6736(00)04259-8>Probiotics in primary prevention of atopic disease: a randomised placebo-controlled trial.</a></strong><br>2001. Kalliomäki M, Salminen S, Arvilommi H, Kero P, Koskinen P, Isolauri E<br>[ID: 11297958]"
      ],
      "text/plain": [
       "<IPython.core.display.HTML object>"
      ]
     },
     "metadata": {},
     "output_type": "display_data"
    },
    {
     "data": {
      "text/html": [
       "<strong><a href=http://dx.doi.org/10.1620/tjem.182.1>The differences in the expression of CD45 isoforms on peripheral blood lymphocytes derived from patients with seasonal or perennial atopic allergy.</a></strong><br>1997. Pawlik I, Mackiewicz U, Lacki JK, Wiktorowicz K, Konys J<br>[ID: 9241767]"
      ],
      "text/plain": [
       "<IPython.core.display.HTML object>"
      ]
     },
     "metadata": {},
     "output_type": "display_data"
    },
    {
     "data": {
      "text/html": [
       "<strong><a href=http://dx.doi.org/10.1016/j.intimp.2016.01.025>Loxoprofen sodium induces the production of complement C5a in human serum.</a></strong><br>2016. Kumagai T, Yamaguchi N, Hirai H, Kojima S, Kodani Y, Hashiguchi A, Haida M, Nakamura M<br>[ID: 26854577]"
      ],
      "text/plain": [
       "<IPython.core.display.HTML object>"
      ]
     },
     "metadata": {},
     "output_type": "display_data"
    },
    {
     "data": {
      "text/html": [
       "<strong><a href=http://dx.doi.org/10.1081/clt-120026527>Hornet sting induced systemic allergic reaction and large local reaction with bulle formation and rhabdomyolysis.</a></strong><br>2003. Lin CC, Chang MY, Lin JL<br>[ID: 14705851]"
      ],
      "text/plain": [
       "<IPython.core.display.HTML object>"
      ]
     },
     "metadata": {},
     "output_type": "display_data"
    },
    {
     "data": {
      "text/html": [
       "<strong>[Antibodies against milk and soy proteins in specific intolerances and celiac disease].</strong><br>1993. Martelossi S, Ventura A, Perticarari S, Not T, Anibal J<br>[ID: 8488125]"
      ],
      "text/plain": [
       "<IPython.core.display.HTML object>"
      ]
     },
     "metadata": {},
     "output_type": "display_data"
    },
    {
     "data": {
      "text/html": [
       "<strong><a href=http://dx.doi.org/10.1093/intimm/dxh220>Genomic and functional delineation of dendritic cells and memory T cells derived from grass pollen-allergic patients and healthy individuals.</a></strong><br>2005. Lindstedt M, Schiött A, Bengtsson A, Larsson K, Korsgren M, Greiff L, Borrebaeck CA<br>[ID: 15746248]"
      ],
      "text/plain": [
       "<IPython.core.display.HTML object>"
      ]
     },
     "metadata": {},
     "output_type": "display_data"
    },
    {
     "data": {
      "text/html": [
       "<strong><a href=http://dx.doi.org/10.1155/2014/636238>Interplay of T Helper 17 Cells with CD4(+)CD25(high) FOXP3(+) Tregs in Regulation of Allergic Asthma in Pediatric Patients.</a></strong><br>2014. Agarwal A, Singh M, Chatterjee BP, Chauhan A, Chakraborti A<br>[ID: 24995020]"
      ],
      "text/plain": [
       "<IPython.core.display.HTML object>"
      ]
     },
     "metadata": {},
     "output_type": "display_data"
    },
    {
     "data": {
      "text/html": [
       "<strong><a href=http://dx.doi.org/10.1111/j.1365-2249.2012.04599.x>Inhibitory receptor expression on neonatal immune cells.</a></strong><br>2012. Walk J, Westerlaken GH, van Uden NO, Belderbos ME, Meyaard L, Bont LJ<br>[ID: 22774991]"
      ],
      "text/plain": [
       "<IPython.core.display.HTML object>"
      ]
     },
     "metadata": {},
     "output_type": "display_data"
    },
    {
     "data": {
      "text/html": [
       "<strong><a href=http://dx.doi.org/10.1016/j.jaad.2008.07.058>The role of Malassezia in atopic dermatitis affecting the head and neck of adults.</a></strong><br>2009. Darabi K, Hostetler SG, Bechtel MA, Zirwas M<br>[ID: 18834647]"
      ],
      "text/plain": [
       "<IPython.core.display.HTML object>"
      ]
     },
     "metadata": {},
     "output_type": "display_data"
    },
    {
     "data": {
      "text/html": [
       "<strong>Role of endothelial cell adhesion molecules in the development of allergy in human fascioliasis.</strong><br>2003. Oteifa NM, Alafifi AM, Aly KA<br>[ID: 12739809]"
      ],
      "text/plain": [
       "<IPython.core.display.HTML object>"
      ]
     },
     "metadata": {},
     "output_type": "display_data"
    },
    {
     "data": {
      "text/html": [
       "<strong><a href=http://dx.doi.org/10.1111/pai.12728>An evaluation of vitamin D levels in children with seasonal allergic rhinitis during pollen season.</a></strong><br>2017. Kutluğ S, Kılıç M, Bilgici B, Paksu Ş, Yıldıran A, Sancak R<br>[ID: 28452068]"
      ],
      "text/plain": [
       "<IPython.core.display.HTML object>"
      ]
     },
     "metadata": {},
     "output_type": "display_data"
    },
    {
     "data": {
      "text/html": [
       "<strong><a href=http://dx.doi.org/10.2500/ajra.2010.24.3428>Septal deviation and nasal resistance: An investigation using virtual surgery and computational fluid dynamics.</a></strong><br>2010. Garcia GJM, Rhee JS, Senior BA, Kimbell JS<br>[ID: 29025514]"
      ],
      "text/plain": [
       "<IPython.core.display.HTML object>"
      ]
     },
     "metadata": {},
     "output_type": "display_data"
    },
    {
     "data": {
      "text/html": [
       "<strong><a href=http://dx.doi.org/10.3390/ijerph15010106>Modeling Unobserved Heterogeneity in Susceptibility to Ambient Benzo[a]pyrene Concentration among Children with Allergic Asthma Using an Unsupervised Learning Algorithm.</a></strong><br>2018. Fernández D, Sram RJ, Dostal M, Pastorkova A, Gmuender H, Choi H<br>[ID: 29320438]"
      ],
      "text/plain": [
       "<IPython.core.display.HTML object>"
      ]
     },
     "metadata": {},
     "output_type": "display_data"
    },
    {
     "data": {
      "text/html": [
       "<strong><a href=http://dx.doi.org/10.1053/j.jfas.2009.10.003>Inflammatory reaction to implanted equine pericardium xenograft.</a></strong><br>2010. DeCarbo WT, Feldner BM, Hyer CF<br>[ID: 20022527]"
      ],
      "text/plain": [
       "<IPython.core.display.HTML object>"
      ]
     },
     "metadata": {},
     "output_type": "display_data"
    },
    {
     "data": {
      "text/html": [
       "<strong><a href=http://dx.doi.org/10.1016/j.peptides.2014.09.020>β-casomorphin-7 alters μ-opioid receptor and dipeptidyl peptidase IV genes expression in children with atopic dermatitis.</a></strong><br>2014. Fiedorowicz E, Kaczmarski M, Cieślińska A, Sienkiewicz-Szłapka E, Jarmołowska B, Chwała B, Kostyra E<br>[ID: 25281794]"
      ],
      "text/plain": [
       "<IPython.core.display.HTML object>"
      ]
     },
     "metadata": {},
     "output_type": "display_data"
    },
    {
     "data": {
      "text/html": [
       "<strong><a href=http://dx.doi.org/10.1136/bmjopen-2015-010810>Stanford's Outcomes Research in Kids (STORK): a prospective study of healthy pregnant women and their babies in Northern California.</a></strong><br>2016. Ley C, Sanchez Mde L, Mathur A, Yang S, Sundaram V, Parsonnet J<br>[ID: 27075843]"
      ],
      "text/plain": [
       "<IPython.core.display.HTML object>"
      ]
     },
     "metadata": {},
     "output_type": "display_data"
    },
    {
     "data": {
      "text/html": [
       "<strong>[Relationship between bronchial hypersensitivity and hereditary factors in respiratory tract allergic diseases: bronchial asthma and nasal allergy].</strong><br>1990. Kiya T<br>[ID: 2393352]"
      ],
      "text/plain": [
       "<IPython.core.display.HTML object>"
      ]
     },
     "metadata": {},
     "output_type": "display_data"
    },
    {
     "data": {
      "text/html": [
       "<strong><a href=http://dx.doi.org/10.1093/mmy/myv001>The inflammatory response of eosinophil-related fungal rhinosinusitis varies with inciting fungi.</a></strong><br>2015. Kale P, Rudramurthy SM, Panda NK, Das A, Chakrabarti A<br>[ID: 25724204]"
      ],
      "text/plain": [
       "<IPython.core.display.HTML object>"
      ]
     },
     "metadata": {},
     "output_type": "display_data"
    },
    {
     "data": {
      "text/html": [
       "<strong>[My fingers itch, but my hands are bound. An exploratory psychosomatic study of patients with dyshidrosis of the hands (cheiropompholyx)].</strong><br>1981. Hansen O, Küchler T, Lotz GR, Richter R, Wilckens A<br>[ID: 6456624]"
      ],
      "text/plain": [
       "<IPython.core.display.HTML object>"
      ]
     },
     "metadata": {},
     "output_type": "display_data"
    },
    {
     "data": {
      "text/html": [
       "<strong><a href=http://dx.doi.org/10.1080/09168451.2017.1383849>A preliminary study of gut dysbiosis in children with food allergy.</a></strong><br>2017. Inoue R, Sawai T, Sawai C, Nakatani M, Romero-Pérez GA, Ozeki M, Nonomura K, Tsukahara T<br>[ID: 29017394]"
      ],
      "text/plain": [
       "<IPython.core.display.HTML object>"
      ]
     },
     "metadata": {},
     "output_type": "display_data"
    },
    {
     "data": {
      "text/html": [
       "<strong><a href=http://dx.doi.org/10.1111/j.1398-9995.1994.tb00796.x>Shortness of interval between two stings as risk factor for developing Hymenoptera venom allergy.</a></strong><br>1994. Pucci S, Antonicelli L, Bilò MB, Garritani MS, Bonifazi F<br>[ID: 7710003]"
      ],
      "text/plain": [
       "<IPython.core.display.HTML object>"
      ]
     },
     "metadata": {},
     "output_type": "display_data"
    },
    {
     "data": {
      "text/html": [
       "<strong>[Markers of oxidative balance and concentration of selected metals in pollinotics].</strong><br>2005. Długosz A, Liebhart J, Piotrowska D, Dor A, Liebhart E<br>[ID: 16786741]"
      ],
      "text/plain": [
       "<IPython.core.display.HTML object>"
      ]
     },
     "metadata": {},
     "output_type": "display_data"
    },
    {
     "data": {
      "text/html": [
       "<strong><a href=http://dx.doi.org/10.1186/1476-7961-2-2>Allergy to lingonberry: A case report.</a></strong><br>2004. Matheu V, Baeza ML, Zubeldia JM, Barrios Y<br>[ID: 14992696]"
      ],
      "text/plain": [
       "<IPython.core.display.HTML object>"
      ]
     },
     "metadata": {},
     "output_type": "display_data"
    },
    {
     "data": {
      "text/html": [
       "<strong><a href=http://dx.doi.org/10.1007/s00403-016-1683-2>Increased syndecan-4 expression in sera and skin of patients with atopic dermatitis.</a></strong><br>2016. Nakao M, Sugaya M, Takahashi N, Otobe S, Nakajima R, Oka T, Kabasawa M, Suga H, Morimura S, Miyagaki T, Fujita H, Asano Y, Sato S<br>[ID: 27591995]"
      ],
      "text/plain": [
       "<IPython.core.display.HTML object>"
      ]
     },
     "metadata": {},
     "output_type": "display_data"
    },
    {
     "data": {
      "text/html": [
       "<strong>[The concentration of IgE antibodies in patients with cystic fibrosis].</strong><br>2001. Białek S, Krzeski A, Baltaziuk H, Kapiszewska D, Białek K, Bagieńska A, Pachecka J<br>[ID: 11494734]"
      ],
      "text/plain": [
       "<IPython.core.display.HTML object>"
      ]
     },
     "metadata": {},
     "output_type": "display_data"
    },
    {
     "data": {
      "text/html": [
       "<strong><a href=http://dx.doi.org/10.1089/acm.2010.0101>Differences in pulse spectrum analysis between atopic dermatitis and nonatopic healthy children.</a></strong><br>2011. Liou JM, Huang CM, Chiu CC, Wang HS, Liao YT, Peng YC, Cheng YC, Liang SJ, Lin JG, Chen FJ<br>[ID: 21480785]"
      ],
      "text/plain": [
       "<IPython.core.display.HTML object>"
      ]
     },
     "metadata": {},
     "output_type": "display_data"
    },
    {
     "data": {
      "text/html": [
       "<strong><a href=http://dx.doi.org/10.1111/j.1365-2672.2006.02963.x>Probiotics and their fermented food products are beneficial for health.</a></strong><br>2006. Parvez S, Malik KA, Ah Kang S, Kim HY<br>[ID: 16696665]"
      ],
      "text/plain": [
       "<IPython.core.display.HTML object>"
      ]
     },
     "metadata": {},
     "output_type": "display_data"
    },
    {
     "data": {
      "text/html": [
       "<strong><a href=http://dx.doi.org/10.1097/MCG.0b013e318266fea7>Probiotics in childhood: allergic illness and respiratory infections.</a></strong><br>2012. del Giudice MM, Leonardi S, Ciprandi G, Galdo F, Gubitosi A, La Rosa M, Salpietro C, Marseglia G, Perrone L<br>[ID: 22955363]"
      ],
      "text/plain": [
       "<IPython.core.display.HTML object>"
      ]
     },
     "metadata": {},
     "output_type": "display_data"
    },
    {
     "data": {
      "text/html": [
       "<strong><a href=http://dx.doi.org/10.1111/j.1365-2249.2010.04131.x>99th Dahlem conference on infection, inflammation and chronic inflammatory disorders: induction and control of regulatory T cells in the gastrointestinal tract: consequences for local and peripheral immune responses.</a></strong><br>2010. Belkaid Y, Liesenfeld O, Maizels RM<br>[ID: 20415849]"
      ],
      "text/plain": [
       "<IPython.core.display.HTML object>"
      ]
     },
     "metadata": {},
     "output_type": "display_data"
    },
    {
     "data": {
      "text/html": [
       "<strong><a href=http://dx.doi.org/10.1111/j.1600-0714.1999.tb02055.x>No evidence for specific in vitro lymphocyte reactivity to HgCl2 in patients with dental amalgam-related contact lesions.</a></strong><br>1999. Loftenius A, Skoglund A, Ekstrand J, Hovmark A, Möller E<br>[ID: 10478962]"
      ],
      "text/plain": [
       "<IPython.core.display.HTML object>"
      ]
     },
     "metadata": {},
     "output_type": "display_data"
    },
    {
     "data": {
      "text/html": [
       "<strong><a href=http://dx.doi.org/10.1038/s41598-018-30428-3>Gut microbiota composition and butyrate production in children affected by non-IgE-mediated cow's milk allergy.</a></strong><br>2018. Berni Canani R, De Filippis F, Nocerino R, Paparo L, Di Scala C, Cosenza L, Della Gatta G, Calignano A, De Caro C, Laiola M, Gilbert JA, Ercolini D<br>[ID: 30131575]"
      ],
      "text/plain": [
       "<IPython.core.display.HTML object>"
      ]
     },
     "metadata": {},
     "output_type": "display_data"
    },
    {
     "data": {
      "text/html": [
       "<strong><a href=http://dx.doi.org/10.1046/j.1365-3083.2003.01216.x>A correlation between migraine, histamine and immunoglobulin e.</a></strong><br>2003. Gazerani P, Pourpak Z, Ahmadiani A, Hemmati A, Kazemnejad A<br>[ID: 12641658]"
      ],
      "text/plain": [
       "<IPython.core.display.HTML object>"
      ]
     },
     "metadata": {},
     "output_type": "display_data"
    },
    {
     "data": {
      "text/html": [
       "<strong>Recurrent aphthous stomatitis caused by food allergy.</strong><br>2010. Wardhana, Datau EA<br>[ID: 21063045]"
      ],
      "text/plain": [
       "<IPython.core.display.HTML object>"
      ]
     },
     "metadata": {},
     "output_type": "display_data"
    },
    {
     "data": {
      "text/html": [
       "<strong>[Immunology in the 20th century--progress made in research on infectious and immunological diseases].</strong><br>2000. Kishimoto T<br>[ID: 11109774]"
      ],
      "text/plain": [
       "<IPython.core.display.HTML object>"
      ]
     },
     "metadata": {},
     "output_type": "display_data"
    },
    {
     "data": {
      "text/html": [
       "<strong><a href=http://dx.doi.org/10.1136/gut.13.11.903>Reaginic hypersensitivity in ulcerative colitis.</a></strong><br>1972. Jewell DP, Truelove SC<br>[ID: 4646293]"
      ],
      "text/plain": [
       "<IPython.core.display.HTML object>"
      ]
     },
     "metadata": {},
     "output_type": "display_data"
    },
    {
     "data": {
      "text/html": [
       "<strong>Lymphocyte proliferative response to allergen in timothy sensitive patients and healthy persons.</strong><br>1984. Serov AA, Gushchin IS, Chitayeva VG<br>[ID: 6464939]"
      ],
      "text/plain": [
       "<IPython.core.display.HTML object>"
      ]
     },
     "metadata": {},
     "output_type": "display_data"
    },
    {
     "data": {
      "text/html": [
       "<strong><a href=http://dx.doi.org/10.1016/j.jns.2004.10.003>Th2 shift in juvenile muscular atrophy of distal upper extremity: a combined allergological and flow cytometric analysis.</a></strong><br>2005. Osoegawa M, Ochi H, Mei FJ, Minohara M, Murai H, Taniwaki T, Kira J<br>[ID: 15607215]"
      ],
      "text/plain": [
       "<IPython.core.display.HTML object>"
      ]
     },
     "metadata": {},
     "output_type": "display_data"
    },
    {
     "data": {
      "text/html": [
       "<strong><a href=http://dx.doi.org/10.1183/09031936.02.01002001>Association of asthma and total IgE levels with human leucocyte antigen-DR in patients with grass allergy.</a></strong><br>2002. Woszczek G, Kowalski ML, Borowiec M<br>[ID: 12166586]"
      ],
      "text/plain": [
       "<IPython.core.display.HTML object>"
      ]
     },
     "metadata": {},
     "output_type": "display_data"
    },
    {
     "data": {
      "text/html": [
       "<strong>Food immediate-contact hypersensitivity (FICH) and elimination diet in young children with atopic dermatitis. Preliminary results in 107 children.</strong><br>1992. Oranje AP, Aarsen RS, Mulder PG, van Toorenenbergen AW, Liefaard G, Dieges PH<br>[ID: 1476034]"
      ],
      "text/plain": [
       "<IPython.core.display.HTML object>"
      ]
     },
     "metadata": {},
     "output_type": "display_data"
    },
    {
     "data": {
      "text/html": [
       "<strong><a href=http://dx.doi.org/10.1111/exd.13345>The gene expression and immunohistochemical time-course of diphenylcyclopropenone-induced contact allergy in healthy humans following repeated epicutaneous challenges.</a></strong><br>2017. Mose KF, Burton M, Thomassen M, Andersen F, Kruse TA, Tan Q, Skov L, Røpke MA, Litman T, Clemmensen O, Kristensen BW, Friedmann PS, Andersen KE<br>[ID: 28370374]"
      ],
      "text/plain": [
       "<IPython.core.display.HTML object>"
      ]
     },
     "metadata": {},
     "output_type": "display_data"
    },
    {
     "data": {
      "text/html": [
       "<strong>Platelet Functions in Patients with Allergic Asthma.</strong><br>2001. Olcay I, Yardımcı S, Delibaşı T, Müftüoğlu O<br>[ID: 27264465]"
      ],
      "text/plain": [
       "<IPython.core.display.HTML object>"
      ]
     },
     "metadata": {},
     "output_type": "display_data"
    },
    {
     "data": {
      "text/html": [
       "<strong><a href=http://dx.doi.org/10.1080/080352599750030040>Nucleotide and polyamine levels in colostrum and mature milk in relation to maternal atopy and atopic development in the children.</a></strong><br>1999. Duchén K, Thorell L<br>[ID: 10626518]"
      ],
      "text/plain": [
       "<IPython.core.display.HTML object>"
      ]
     },
     "metadata": {},
     "output_type": "display_data"
    },
    {
     "data": {
      "text/html": [
       "<strong>Maternal allergy as a potential source of variability of exhaled nitric oxide in children non-sensitized to common domestic allergens.</strong><br>2012. Jedrychowski W, Maugeri U, Zembala M, Klimaszewska-Rembiasz M, Mroz E, Flak E, Sowa A, Jacek R<br>[ID: 22791639]"
      ],
      "text/plain": [
       "<IPython.core.display.HTML object>"
      ]
     },
     "metadata": {},
     "output_type": "display_data"
    },
    {
     "data": {
      "text/html": [
       "<strong>Investigations into the cellular immune responses in latex allergy.</strong><br>1994. Murali PS, Kelly KJ, Fink JN, Kurup VP<br>[ID: 7964121]"
      ],
      "text/plain": [
       "<IPython.core.display.HTML object>"
      ]
     },
     "metadata": {},
     "output_type": "display_data"
    },
    {
     "data": {
      "text/html": [
       "<strong>[Diagnosis of food allergy and IgG4].</strong><br>1996. Colombo M, Bassi M, Caldironi G, Barocci F, De Ambrogi E, Porrati T, Arteconi M, Magni LA<br>[ID: 8685024]"
      ],
      "text/plain": [
       "<IPython.core.display.HTML object>"
      ]
     },
     "metadata": {},
     "output_type": "display_data"
    },
    {
     "data": {
      "text/html": [
       "<strong>Reactivity to intradermal injections of extracts of house dust and housedust mite in healthy dogs and dogs suspected of being atopic.</strong><br>1995. Codner EC, Tinker MK<br>[ID: 7759333]"
      ],
      "text/plain": [
       "<IPython.core.display.HTML object>"
      ]
     },
     "metadata": {},
     "output_type": "display_data"
    },
    {
     "data": {
      "text/html": [
       "<strong>Mercury and nickel allergy: risk factors in fatigue and autoimmunity.</strong><br>1999. Sterzl I, Procházková J, Hrdá P, Bártová J, Matucha P, Stejskal VD<br>[ID: 11462117]"
      ],
      "text/plain": [
       "<IPython.core.display.HTML object>"
      ]
     },
     "metadata": {},
     "output_type": "display_data"
    },
    {
     "data": {
      "text/html": [
       "<strong><a href=http://dx.doi.org/10.1067/mcp.2001.115541>Genotype of N-acetyltransferase 2 (NAT2) polymorphism in children with immunoglobulin E-mediated food allergy.</a></strong><br>2001. Gawronska-Szklarz B, Pawlik A, Czaja-Bulsa G, Górnik W, Luszawska-Kutrzeba T, Wrześniewska J<br>[ID: 11372006]"
      ],
      "text/plain": [
       "<IPython.core.display.HTML object>"
      ]
     },
     "metadata": {},
     "output_type": "display_data"
    },
    {
     "data": {
      "text/html": [
       "<strong><a href=http://dx.doi.org/10.2478/v10042-010-0068-1>Evaluation of TLR4 expression and chosen parameters of oxidative-antioxidative balance in young children with food allergy.</a></strong><br>2010. Kamer B, Kulig K, Lewkowicz P, Kamer-Bartosińska A, Tchórzewski H<br>[ID: 21071337]"
      ],
      "text/plain": [
       "<IPython.core.display.HTML object>"
      ]
     },
     "metadata": {},
     "output_type": "display_data"
    },
    {
     "data": {
      "text/html": [
       "<strong><a href=http://dx.doi.org/10.1016/0190-9622(91)70081-c>Eosinophil cationic protein in sera of patients with atopic dermatitis.</a></strong><br>1991. Kapp A, Czech W, Krutmann J, Schöpf E<br>[ID: 2033129]"
      ],
      "text/plain": [
       "<IPython.core.display.HTML object>"
      ]
     },
     "metadata": {},
     "output_type": "display_data"
    },
    {
     "data": {
      "text/html": [
       "<strong><a href=http://dx.doi.org/10.1111/j.1749-6632.2008.03971.x>Leptin and the immune response: an active player or an innocent bystander?</a></strong><br>2009. Goldberg AC, Goldberg-Eliaschewitz F, Sogayar MC, Genre J, Rizzo LV<br>[ID: 19236341]"
      ],
      "text/plain": [
       "<IPython.core.display.HTML object>"
      ]
     },
     "metadata": {},
     "output_type": "display_data"
    },
    {
     "data": {
      "text/html": [
       "<strong>Respiratory health and allergy among young farmers and non-farming rural males in Denmark: the SUS study.</strong><br>2004. Sigsgaard T, Hjort C, Omland Ø, Miller MR, Pedersen OF<br>[ID: 19785218]"
      ],
      "text/plain": [
       "<IPython.core.display.HTML object>"
      ]
     },
     "metadata": {},
     "output_type": "display_data"
    },
    {
     "data": {
      "text/html": [
       "<strong><a href=http://dx.doi.org/10.1189/jlb.0904517>A (G-&gt;C) transversion in the 3' UTR of the human ECP (eosinophil cationic protein) gene correlates to the cellular content of ECP.</a></strong><br>2006. Jönsson UB, Byström J, Stålenheim G, Venge P<br>[ID: 16434694]"
      ],
      "text/plain": [
       "<IPython.core.display.HTML object>"
      ]
     },
     "metadata": {},
     "output_type": "display_data"
    },
    {
     "data": {
      "text/html": [
       "<strong><a href=http://dx.doi.org/10.2298/sarh1402099m>[The application of air abrasion in dentistry].</a></strong><br>2014. Mandinić Z, Vulićević ZR, Beloica M, Radović I, Mandić J, Carević M, Tekić J<br>[ID: 24684041]"
      ],
      "text/plain": [
       "<IPython.core.display.HTML object>"
      ]
     },
     "metadata": {},
     "output_type": "display_data"
    },
    {
     "data": {
      "text/html": [
       "<strong><a href=http://dx.doi.org/10.1016/0167-5273(91)90216-c>Levels of IgE in the serum of patients with coronary arterial disease.</a></strong><br>1991. Korkmaz ME, Oto A, Saraçlar Y, Oram E, Oram A, Ugurlu S, Karamehmetoglu A, Karaagaoglu E<br>[ID: 1869329]"
      ],
      "text/plain": [
       "<IPython.core.display.HTML object>"
      ]
     },
     "metadata": {},
     "output_type": "display_data"
    },
    {
     "data": {
      "text/html": [
       "<strong><a href=http://dx.doi.org/10.3920/BM2016.0030>The effect of a probiotic Escherichia coli strain on regulatory T-cells in six year-old children.</a></strong><br>2016. Hrdý J, Kocourková I, Lodinová-Žádníková R, Kolářová L, Prokešová L<br>[ID: 27633175]"
      ],
      "text/plain": [
       "<IPython.core.display.HTML object>"
      ]
     },
     "metadata": {},
     "output_type": "display_data"
    },
    {
     "data": {
      "text/html": [
       "<strong><a href=http://dx.doi.org/10.1586/14760584.5.1.103>Molecular approaches for new vaccines against allergy.</a></strong><br>2006. Niederberger V, Valenta R<br>[ID: 16451112]"
      ],
      "text/plain": [
       "<IPython.core.display.HTML object>"
      ]
     },
     "metadata": {},
     "output_type": "display_data"
    },
    {
     "data": {
      "text/html": [
       "<strong><a href=http://dx.doi.org/10.1038/s41598-018-30887-8>α-Gal on the protein surface affects uptake and degradation in immature monocyte derived dendritic cells.</a></strong><br>2018. Ristivojević MK, Grundström J, Tran TAT, Apostolovic D, Radoi V, Starkhammar M, Vukojević V, Ćirković Veličković T, Hamsten C, van Hage M<br>[ID: 30139949]"
      ],
      "text/plain": [
       "<IPython.core.display.HTML object>"
      ]
     },
     "metadata": {},
     "output_type": "display_data"
    },
    {
     "data": {
      "text/html": [
       "<strong><a href=http://dx.doi.org/10.1081/jas-100105867>Seasonal variations of T-cell cytokine pattern in peripheral blood from atopic subjects.</a></strong><br>2001. Majori M, Rossi G, Caminati A, Bosoni A, Corradi M, Pesci A<br>[ID: 11642413]"
      ],
      "text/plain": [
       "<IPython.core.display.HTML object>"
      ]
     },
     "metadata": {},
     "output_type": "display_data"
    },
    {
     "data": {
      "text/html": [
       "<strong><a href=http://dx.doi.org/10.1023/a:1007361013917>Effect of maternal lifestyle on cord blood IgE factor.</a></strong><br>1997. Shirakawa T, Morimoto K, Sasaki S, Taniguchi K, Motonaga M, Akahori W, Akahori S, Akahori T, Ohmori H, Kuroda E, Okabe K, Yugari K, Yamana M<br>[ID: 9258545]"
      ],
      "text/plain": [
       "<IPython.core.display.HTML object>"
      ]
     },
     "metadata": {},
     "output_type": "display_data"
    },
    {
     "data": {
      "text/html": [
       "<strong>[Immunological studies on the peripheral blood mononuclear cells in metal allergy patients].</strong><br>2005. Nokiba K<br>[ID: 16107059]"
      ],
      "text/plain": [
       "<IPython.core.display.HTML object>"
      ]
     },
     "metadata": {},
     "output_type": "display_data"
    },
    {
     "data": {
      "text/html": [
       "<strong><a href=http://dx.doi.org/10.1002/eji.201546157>It is time to beelieve the CD1a hype!</a></strong><br>2016. Krovi SH, Gapin L<br>[ID: 26617406]"
      ],
      "text/plain": [
       "<IPython.core.display.HTML object>"
      ]
     },
     "metadata": {},
     "output_type": "display_data"
    },
    {
     "data": {
      "text/html": [
       "<strong>[Secretory IgA and infantile respiratory pathology].</strong><br>1988. del Castillo Aguas G, García Hernández G, Villa Asensi JR, Ferriz J, Guerra F, Nogales Espert A<br>[ID: 3245639]"
      ],
      "text/plain": [
       "<IPython.core.display.HTML object>"
      ]
     },
     "metadata": {},
     "output_type": "display_data"
    },
    {
     "data": {
      "text/html": [
       "<strong><a href=http://dx.doi.org/10.1084/jem.20032058>Immune responses in healthy and allergic individuals are characterized by a fine balance between allergen-specific T regulatory 1 and T helper 2 cells.</a></strong><br>2004. Akdis M, Verhagen J, Taylor A, Karamloo F, Karagiannidis C, Crameri R, Thunberg S, Deniz G, Valenta R, Fiebig H, Kegel C, Disch R, Schmidt-Weber CB, Blaser K, Akdis CA<br>[ID: 15173208]"
      ],
      "text/plain": [
       "<IPython.core.display.HTML object>"
      ]
     },
     "metadata": {},
     "output_type": "display_data"
    },
    {
     "data": {
      "text/html": [
       "<strong>Clinical varieties of Toxocariasis canis in Children's Hospital, Mansoura University: is it an underestimated problem?</strong><br>2011. Elshazly AM, Attia G, El-Ghareeb AS, Belal US<br>[ID: 21980766]"
      ],
      "text/plain": [
       "<IPython.core.display.HTML object>"
      ]
     },
     "metadata": {},
     "output_type": "display_data"
    },
    {
     "data": {
      "text/html": [
       "<strong><a href=http://dx.doi.org/10.1016/j.nutres.2012.09.017>Association of age and family history with supplement use in pediatric patients with allergy.</a></strong><br>2012. Kubota M, Mori N, Hamada S, Nagai A, Seto S, Suehiro Y, Kusunoki T, Wakazono Y, Kiyomasu T<br>[ID: 23176800]"
      ],
      "text/plain": [
       "<IPython.core.display.HTML object>"
      ]
     },
     "metadata": {},
     "output_type": "display_data"
    },
    {
     "data": {
      "text/html": [
       "<strong><a href=http://dx.doi.org/10.1186/s12199-017-0646-3>Acute effects of air pollutants on pulmonary function among students: a panel study in an isolated island.</a></strong><br>2017. Yoda Y, Takagi H, Wakamatsu J, Ito T, Nakatsubo R, Horie Y, Hiraki T, Shima M<br>[ID: 29165154]"
      ],
      "text/plain": [
       "<IPython.core.display.HTML object>"
      ]
     },
     "metadata": {},
     "output_type": "display_data"
    },
    {
     "data": {
      "text/html": [
       "<strong><a href=http://dx.doi.org/10.1159/000236091>Elevated soluble interleukin-2 receptors in young healthy cigarette smokers: lack of association with atopy or airways hyperresponsiveness.</a></strong><br>1992. Tollerud DJ, Weiss ST, Leung DY<br>[ID: 1582694]"
      ],
      "text/plain": [
       "<IPython.core.display.HTML object>"
      ]
     },
     "metadata": {},
     "output_type": "display_data"
    },
    {
     "data": {
      "text/html": [
       "<strong>[Study of hypophyseal and gonadal hormones and cases of postmenopausal occurrence of bronchial asthma].</strong><br>1986. Farina F, Colombi S, Cantone R, Pastore M, Centanni S, Galimberti M<br>[ID: 3081834]"
      ],
      "text/plain": [
       "<IPython.core.display.HTML object>"
      ]
     },
     "metadata": {},
     "output_type": "display_data"
    },
    {
     "data": {
      "text/html": [
       "<strong><a href=http://dx.doi.org/10.1111/j.1398-9995.2008.01919.x>Birch pollen allergen Bet v 1 binds to and is transported through conjunctival epithelium in allergic patients.</a></strong><br>2009. Renkonen J, Mattila P, Lehti S, Mäkinen J, Sormunen R, Tervo T, Paavonen T, Renkonen R<br>[ID: 19154545]"
      ],
      "text/plain": [
       "<IPython.core.display.HTML object>"
      ]
     },
     "metadata": {},
     "output_type": "display_data"
    },
    {
     "data": {
      "text/html": [
       "<strong><a href=http://dx.doi.org/10.1371/journal.pone.0207998>Distinct characteristics of Tregs of newborns of healthy and allergic mothers.</a></strong><br>2018. Černý V, Hrdý J, Novotná O, Petrásková P, Boráková K, Kolářová L, Prokešová L<br>[ID: 30475891]"
      ],
      "text/plain": [
       "<IPython.core.display.HTML object>"
      ]
     },
     "metadata": {},
     "output_type": "display_data"
    },
    {
     "data": {
      "text/html": [
       "<strong><a href=http://dx.doi.org/10.1111/j.1398-9995.2008.01674.x>Detection and quantification of drug-specific T cells in penicillin allergy.</a></strong><br>2009. Rozieres A, Hennino A, Rodet K, Gutowski MC, Gunera-Saad N, Berard F, Cozon G, Bienvenu J, Nicolas JF<br>[ID: 19154548]"
      ],
      "text/plain": [
       "<IPython.core.display.HTML object>"
      ]
     },
     "metadata": {},
     "output_type": "display_data"
    },
    {
     "data": {
      "text/html": [
       "<strong><a href=http://dx.doi.org/10.1080/09603123.2011.574269>Quantification of airway deposition of intact and fragmented pollens.</a></strong><br>2011. Horváth A, Balásházy I, Farkas A, Sárkány Z, Hofmann W, Czitrovszky A, Dobos E<br>[ID: 21563012]"
      ],
      "text/plain": [
       "<IPython.core.display.HTML object>"
      ]
     },
     "metadata": {},
     "output_type": "display_data"
    },
    {
     "data": {
      "text/html": [
       "<strong><a href=http://dx.doi.org/10.1074/jbc.M114.569459>CX3CR1(+) B cells show immune suppressor properties.</a></strong><br>2014. Wu Z<br>[ID: 24970890]"
      ],
      "text/plain": [
       "<IPython.core.display.HTML object>"
      ]
     },
     "metadata": {},
     "output_type": "display_data"
    },
    {
     "data": {
      "text/html": [
       "<strong><a href=http://dx.doi.org/10.1111/sji.12653>Evaluation of oxidative stress and antioxidant status: Correlation with the severity of sepsis.</a></strong><br>2018. Kumar S, Gupta E, Kaushik S, Kumar Srivastava V, Mehta SK, Jyoti A<br>[ID: 29484685]"
      ],
      "text/plain": [
       "<IPython.core.display.HTML object>"
      ]
     },
     "metadata": {},
     "output_type": "display_data"
    },
    {
     "data": {
      "text/html": [
       "<strong><a href=http://dx.doi.org/10.1034/j.1398-9995.2001.056002138.x>Eosinophil cationic protein (ECP) in school children living in a mountainous area of Norway: a population-based study of ECP as a tool for diagnosing asthma in children with reference values.</a></strong><br>2001. Nja F, Røksund OD, Carlsen KH<br>[ID: 11167374]"
      ],
      "text/plain": [
       "<IPython.core.display.HTML object>"
      ]
     },
     "metadata": {},
     "output_type": "display_data"
    },
    {
     "data": {
      "text/html": [
       "<strong><a href=http://dx.doi.org/10.1111/j.1398-9995.1996.tb00032.x>Diagnostic significance of in vitro T-cell proliferative responses to house-dust mite Der p 1 in children with dust-mite allergy.</a></strong><br>1996. Horneff G, Schou C, Wahn V<br>[ID: 8947344]"
      ],
      "text/plain": [
       "<IPython.core.display.HTML object>"
      ]
     },
     "metadata": {},
     "output_type": "display_data"
    },
    {
     "data": {
      "text/html": [
       "<strong>[Selenium plasma concentration level in children with food allergy].</strong><br>2001. Kalita B, Nowak P, Slimok M, Sikora A, Szkilnik R, Obuchowicz A, Sulej J, Sabat D<br>[ID: 11503251]"
      ],
      "text/plain": [
       "<IPython.core.display.HTML object>"
      ]
     },
     "metadata": {},
     "output_type": "display_data"
    },
    {
     "data": {
      "text/html": [
       "<strong><a href=http://dx.doi.org/10.1007/bf01540915>Long-term follow-up of health in blood donors with primary selective IgA deficiency.</a></strong><br>1996. Koskinen S<br>[ID: 8734360]"
      ],
      "text/plain": [
       "<IPython.core.display.HTML object>"
      ]
     },
     "metadata": {},
     "output_type": "display_data"
    },
    {
     "data": {
      "text/html": [
       "<strong>[IgE production and gene expression of interleukin-4 and interferon-gamma by peripheral mononuclear cells in asthmatic children].</strong><br>1995. Mukoyama T, Ichikawa K, Baba M, Noma T<br>[ID: 7726752]"
      ],
      "text/plain": [
       "<IPython.core.display.HTML object>"
      ]
     },
     "metadata": {},
     "output_type": "display_data"
    },
    {
     "data": {
      "text/html": [
       "<strong><a href=http://dx.doi.org/10.1186/s12917-017-0947-1>Food-specific sublingual immunotherapy is well tolerated and safe in healthy dogs: a blind, randomized, placebo-controlled study.</a></strong><br>2017. Maina E, Pelst M, Hesta M, Cox E<br>[ID: 28100257]"
      ],
      "text/plain": [
       "<IPython.core.display.HTML object>"
      ]
     },
     "metadata": {},
     "output_type": "display_data"
    },
    {
     "data": {
      "text/html": [
       "<strong><a href=http://dx.doi.org/10.3109/02770900009055474>The association of skin test reactivity, total serum IgE levels, and peripheral blood eosinophilia with asthma in Kuwait.</a></strong><br>2000. Khadadah M, Onadeko BO, Ezeamuzie CI, Mustafa HT, Marouf R, Sugathan TN<br>[ID: 11011754]"
      ],
      "text/plain": [
       "<IPython.core.display.HTML object>"
      ]
     },
     "metadata": {},
     "output_type": "display_data"
    },
    {
     "data": {
      "text/html": [
       "<strong><a href=http://dx.doi.org/10.1159/000155086>Control and regulation of peripheral tolerance in allergic inflammatory disease: therapeutic consequences.</a></strong><br>2008. Li L, Boussiotis V<br>[ID: 18802347]"
      ],
      "text/plain": [
       "<IPython.core.display.HTML object>"
      ]
     },
     "metadata": {},
     "output_type": "display_data"
    },
    {
     "data": {
      "text/html": [
       "<strong><a href=http://dx.doi.org/10.12932/AP0803>The potential impact of gut microbiota on your health:Current status and future challenges.</a></strong><br>2016. Sirisinha S<br>[ID: 28042926]"
      ],
      "text/plain": [
       "<IPython.core.display.HTML object>"
      ]
     },
     "metadata": {},
     "output_type": "display_data"
    },
    {
     "data": {
      "text/html": [
       "<strong>[The use of Betadine antiseptic in the treatment of oral surgical, parodontological and oral mucosal diseases].</strong><br>1999. Kövesi G<br>[ID: 10462910]"
      ],
      "text/plain": [
       "<IPython.core.display.HTML object>"
      ]
     },
     "metadata": {},
     "output_type": "display_data"
    },
    {
     "data": {
      "text/html": [
       "<strong><a href=http://dx.doi.org/10.1093/ajcn/68.6.1444S>Use of soy-protein formulas and soyfood for feeding infants and children in Asia.</a></strong><br>1998. Quak SH, Tan SP<br>[ID: 9848514]"
      ],
      "text/plain": [
       "<IPython.core.display.HTML object>"
      ]
     },
     "metadata": {},
     "output_type": "display_data"
    },
    {
     "data": {
      "text/html": [
       "<strong>The role of environmental factors in autoimmune thyroiditis.</strong><br>2010. Hybenova M, Hrda P, Procházková J, Stejskal V, Sterzl I<br>[ID: 20588228]"
      ],
      "text/plain": [
       "<IPython.core.display.HTML object>"
      ]
     },
     "metadata": {},
     "output_type": "display_data"
    },
    {
     "data": {
      "text/html": [
       "<strong><a href=http://dx.doi.org/10.1007/s13197-015-1795-2>Trends in dairy and non-dairy probiotic products - a review.</a></strong><br>2015. Vijaya Kumar B, Vijayendra SV, Reddy OV<br>[ID: 26396359]"
      ],
      "text/plain": [
       "<IPython.core.display.HTML object>"
      ]
     },
     "metadata": {},
     "output_type": "display_data"
    },
    {
     "data": {
      "text/html": [
       "<strong><a href=http://dx.doi.org/10.1007/5584_2017_81>Serum Diamine Oxidase in Pseudoallergy in the Pediatric Population.</a></strong><br>2018. Kacik J, Wróblewska B, Lewicki S, Zdanowski R, Kalicki B<br>[ID: 28804811]"
      ],
      "text/plain": [
       "<IPython.core.display.HTML object>"
      ]
     },
     "metadata": {},
     "output_type": "display_data"
    },
    {
     "data": {
      "text/html": [
       "<strong><a href=http://dx.doi.org/10.1111/pim.12217>Study of Toxocara seroprevalence among patients with allergy and healthy individuals in Bulgaria.</a></strong><br>2015. Kaneva E, Rainova I, Harizanov R, Nikolov G, Kaftandjiev I, Mineva I<br>[ID: 26216158]"
      ],
      "text/plain": [
       "<IPython.core.display.HTML object>"
      ]
     },
     "metadata": {},
     "output_type": "display_data"
    },
    {
     "data": {
      "text/html": [
       "<strong><a href=http://dx.doi.org/10.1054/arth.2002.33571>Preoperative identification of a bone-cement allergy in a patient undergoing total knee arthroplasty.</a></strong><br>2002. Kaplan K, Della Valle CJ, Haines K, Zuckerman JD<br>[ID: 12216037]"
      ],
      "text/plain": [
       "<IPython.core.display.HTML object>"
      ]
     },
     "metadata": {},
     "output_type": "display_data"
    },
    {
     "data": {
      "text/html": [
       "<strong><a href=http://dx.doi.org/10.1016/s0196-9781(01)00594-0>Neuropeptide enzyme hydrolysis in allergic human saliva.</a></strong><br>2002. Albo F, Antonangeli R, Cavazza A, Marini M, Roda LG, Rossi P<br>[ID: 11814633]"
      ],
      "text/plain": [
       "<IPython.core.display.HTML object>"
      ]
     },
     "metadata": {},
     "output_type": "display_data"
    },
    {
     "data": {
      "text/html": [
       "<strong><a href=http://dx.doi.org/10.1111/1523-1747.ep12494881>Inhibition of in vitro nickel sulfate reaction by anti-HLA-D/DR antisera. Lack of demonstrable suppressor cells in peripheral blood in nickel unresponsiveness in man.</a></strong><br>1981. Silvennoinen-Kassinen S, Ilonen J, Tiilikainen A, Karvonen J<br>[ID: 6457071]"
      ],
      "text/plain": [
       "<IPython.core.display.HTML object>"
      ]
     },
     "metadata": {},
     "output_type": "display_data"
    },
    {
     "data": {
      "text/html": [
       "<strong><a href=http://dx.doi.org/10.1007/s13760-016-0645-y>Allergens might trigger migraine attacks.</a></strong><br>2017. Bektas H, Karabulut H, Doganay B, Acar B<br>[ID: 27141872]"
      ],
      "text/plain": [
       "<IPython.core.display.HTML object>"
      ]
     },
     "metadata": {},
     "output_type": "display_data"
    },
    {
     "data": {
      "text/html": [
       "<strong><a href=http://dx.doi.org/10.1007/BF02897987>Positive patch test for mercury possibly from exposure to amalgam.</a></strong><br>2007. Mori T, Sato K, Kusaka Y, Ido T, Kumagiri M, Ogasawara T, Sano K<br>[ID: 21432061]"
      ],
      "text/plain": [
       "<IPython.core.display.HTML object>"
      ]
     },
     "metadata": {},
     "output_type": "display_data"
    },
    {
     "data": {
      "text/html": [
       "<strong><a href=http://dx.doi.org/10.1053/ajem.2001.25780>Inhaled nitrous oxide versus placebo as an analgesic and anxiolytic adjunct to peripheral intravenous cannulation.</a></strong><br>2001. Gerhardt RT, King KM, Wiegert RS<br>[ID: 11593469]"
      ],
      "text/plain": [
       "<IPython.core.display.HTML object>"
      ]
     },
     "metadata": {},
     "output_type": "display_data"
    },
    {
     "data": {
      "text/html": [
       "<strong><a href=http://dx.doi.org/10.1002/ijc.28535>Interaction of allergy history and antibodies to specific varicella-zoster virus proteins on glioma risk.</a></strong><br>2014. Lee ST, Bracci P, Zhou M, Rice T, Wiencke J, Wrensch M, Wiemels J<br>[ID: 24127236]"
      ],
      "text/plain": [
       "<IPython.core.display.HTML object>"
      ]
     },
     "metadata": {},
     "output_type": "display_data"
    },
    {
     "data": {
      "text/html": [
       "<strong><a href=http://dx.doi.org/10.1183/09031936.04.00053604>Efficacy of fluticasone on cough: a randomised controlled trial.</a></strong><br>2005. Ponsioen BP, Hop WC, Vermue NA, Dekhuijzen PN, Bohnen AM<br>[ID: 15640336]"
      ],
      "text/plain": [
       "<IPython.core.display.HTML object>"
      ]
     },
     "metadata": {},
     "output_type": "display_data"
    },
    {
     "data": {
      "text/html": [
       "<strong><a href=http://dx.doi.org/10.1371/journal.pone.0066785>Seasonal Changes in Endotoxin Exposure and Its Relationship to Exhaled Nitric Oxide and Exhaled Breath Condensate pH Levels in Atopic and Healthy Children.</a></strong><br>2013. Wan GH, Yan DC, Tung TH, Tang CS, Liu CH<br>[ID: 23840530]"
      ],
      "text/plain": [
       "<IPython.core.display.HTML object>"
      ]
     },
     "metadata": {},
     "output_type": "display_data"
    },
    {
     "data": {
      "text/html": [
       "<strong><a href=http://dx.doi.org/10.1016/j.tvjl.2017.01.009>Measurement of allergen-specific IgG in serum is of limited value for the management of dogs diagnosed with cutaneous adverse food reactions.</a></strong><br>2017. Hagen-Plantinga EA, Leistra MH, Sinke JD, Vroom MW, Savelkoul HF, Hendriks WH<br>[ID: 28190487]"
      ],
      "text/plain": [
       "<IPython.core.display.HTML object>"
      ]
     },
     "metadata": {},
     "output_type": "display_data"
    },
    {
     "data": {
      "text/html": [
       "<strong><a href=http://dx.doi.org/10.3748/wjg.v21.i25.7621>Recent developments in the pathophysiology of irritable bowel syndrome.</a></strong><br>2015. El-Salhy M<br>[ID: 26167065]"
      ],
      "text/plain": [
       "<IPython.core.display.HTML object>"
      ]
     },
     "metadata": {},
     "output_type": "display_data"
    },
    {
     "data": {
      "text/html": [
       "<strong><a href=http://dx.doi.org/10.5415/apallergy.2015.5.3.177>Chlorpheniramine-induced anaphylaxis diagnosed by basophil activation test.</a></strong><br>2015. Lee HS, Song WJ, Lee JW, Cho YY, Park HK, Kang MG, Cho SH, Sohn SW<br>[ID: 26240795]"
      ],
      "text/plain": [
       "<IPython.core.display.HTML object>"
      ]
     },
     "metadata": {},
     "output_type": "display_data"
    },
    {
     "data": {
      "text/html": [
       "<strong><a href=http://dx.doi.org/10.1515/CCLM.1999.004>Fecal tumor necrosis factor alpha, eosinophil cationic protein and IgE levels in infants with cow's milk allergy and gastrointestinal manifestations.</a></strong><br>1999. Kapel N, Matarazzo P, Haouchine D, Abiola N, Guérin S, Magne D, Gobert JG, Dupont C<br>[ID: 10094375]"
      ],
      "text/plain": [
       "<IPython.core.display.HTML object>"
      ]
     },
     "metadata": {},
     "output_type": "display_data"
    },
    {
     "data": {
      "text/html": [
       "<strong>Low-grade disease activity in early life precedes childhood asthma and allergy.</strong><br>2016. Chawes BL<br>[ID: 27477800]"
      ],
      "text/plain": [
       "<IPython.core.display.HTML object>"
      ]
     },
     "metadata": {},
     "output_type": "display_data"
    },
    {
     "data": {
      "text/html": [
       "<strong><a href=http://dx.doi.org/10.5415/apallergy.2012.2.2.144>The methodology of the GUSTO cohort study: a novel approach in studying pediatric allergy.</a></strong><br>2012. Soh SE, Lee SS, Hoon SW, Tan MY, Goh A, Lee BW, Shek LP, Teoh OH, Kwek K, Saw SM, Godfrey K, Chong YS, Gluckman P, van Bever HP<br>[ID: 22701865]"
      ],
      "text/plain": [
       "<IPython.core.display.HTML object>"
      ]
     },
     "metadata": {},
     "output_type": "display_data"
    },
    {
     "data": {
      "text/html": [
       "<strong><a href=http://dx.doi.org/10.1099/jmm.0.47306-0>Influence of Bifidobacterium longum BB536 intake on faecal microbiota in individuals with Japanese cedar pollinosis during the pollen season.</a></strong><br>2007. Odamaki T, Xiao JZ, Iwabuchi N, Sakamoto M, Takahashi N, Kondo S, Miyaji K, Iwatsuki K, Togashi H, Enomoto T, Benno Y<br>[ID: 17893165]"
      ],
      "text/plain": [
       "<IPython.core.display.HTML object>"
      ]
     },
     "metadata": {},
     "output_type": "display_data"
    },
    {
     "data": {
      "text/html": [
       "<strong><a href=http://dx.doi.org/10.1006/cimm.1995.9981>Preferential expression of V beta gene families in CD8 memory cells of apparently healthy donors.</a></strong><br>1995. Bonfert V, Cihak J, Lösch U, Ziegler-Heitbrock HW<br>[ID: 7497518]"
      ],
      "text/plain": [
       "<IPython.core.display.HTML object>"
      ]
     },
     "metadata": {},
     "output_type": "display_data"
    },
    {
     "data": {
      "text/html": [
       "<strong><a href=http://dx.doi.org/10.1046/j.1365-2133.1998.02071.x>The calcipotriol dose-irritation relationship: 48 hour occlusive testing in healthy volunteers using Finn Chambers.</a></strong><br>1998. Fullerton A, Benfeldt E, Petersen JR, Jensen SB, Serup J<br>[ID: 9602871]"
      ],
      "text/plain": [
       "<IPython.core.display.HTML object>"
      ]
     },
     "metadata": {},
     "output_type": "display_data"
    },
    {
     "data": {
      "text/html": [
       "<strong><a href=http://dx.doi.org/10.1002/(sici)1097-0274(199904)35:4<426::aid-ajim15>3.0.co;2-f>Non-specific nasal and bronchial reactivity are not correlated in non-asthmatic subjects occupationally exposed to irritants and in healthy subjects.</a></strong><br>1999. Godnic-Cvar J, Plavec D, Somogyi-Zalud E, Tudoric N<br>[ID: 10086204]"
      ],
      "text/plain": [
       "<IPython.core.display.HTML object>"
      ]
     },
     "metadata": {},
     "output_type": "display_data"
    },
    {
     "data": {
      "text/html": [
       "<strong><a href=http://dx.doi.org/10.1002/iid3.226>No difference in human mast cells derived from peanut allergic versus non-allergic subjects.</a></strong><br>2018. Larsen LF, Juel-Berg N, Hansen A, Hansen KS, Mills ENC, van Ree R, Rådinger M, Poulsen LK, Jensen BM<br>[ID: 29992767]"
      ],
      "text/plain": [
       "<IPython.core.display.HTML object>"
      ]
     },
     "metadata": {},
     "output_type": "display_data"
    },
    {
     "data": {
      "text/html": [
       "<strong><a href=http://dx.doi.org/10.3390/ijerph120302810>Ensuring healthy American Indian generations for tomorrow through safe and healthy indoor environments.</a></strong><br>2015. Pacheco JA, Pacheco CM, Lewis C, Williams C, Barnes C, Rosenwasser L, Choi WS, Daley CM<br>[ID: 25749318]"
      ],
      "text/plain": [
       "<IPython.core.display.HTML object>"
      ]
     },
     "metadata": {},
     "output_type": "display_data"
    },
    {
     "data": {
      "text/html": [
       "<strong><a href=http://dx.doi.org/10.1111/j.1346-8138.2006.00178.x>Psychological status of patients with chronic urticaria.</a></strong><br>2006. Pasaoglu G, Bavbek S, Tugcu H, Abadoglu O, Misirligil Z<br>[ID: 17073991]"
      ],
      "text/plain": [
       "<IPython.core.display.HTML object>"
      ]
     },
     "metadata": {},
     "output_type": "display_data"
    },
    {
     "data": {
      "text/html": [
       "<strong><a href=http://dx.doi.org/10.1016/j.cub.2013.02.043>Mucosal immunology of food allergy.</a></strong><br>2013. Berin MC, Sampson HA<br>[ID: 23660362]"
      ],
      "text/plain": [
       "<IPython.core.display.HTML object>"
      ]
     },
     "metadata": {},
     "output_type": "display_data"
    },
    {
     "data": {
      "text/html": [
       "<strong>Gastrointestinal permeability in children with cow's milk allergy: effect of milk challenge and sodium cromoglycate as assessed with polyethyleneglycols (PEG 400 and PEG 1000).</strong><br>1986. Fälth-Magnusson K, Kjellman NI, Odelram H, Sundqvist T, Magnusson KE<br>[ID: 3098450]"
      ],
      "text/plain": [
       "<IPython.core.display.HTML object>"
      ]
     },
     "metadata": {},
     "output_type": "display_data"
    },
    {
     "data": {
      "text/html": [
       "<strong><a href=http://dx.doi.org/10.1089/jir.1998.18.369>Oral food challenge increases in vitro IL-4 production by peripheral blood mononuclear cells in allergic patients.</a></strong><br>1998. André F, André C, Cavagna S<br>[ID: 9660243]"
      ],
      "text/plain": [
       "<IPython.core.display.HTML object>"
      ]
     },
     "metadata": {},
     "output_type": "display_data"
    },
    {
     "data": {
      "text/html": [
       "<strong>Digestive permeability to different-sized molecules and to sodium cromoglycate in food allergy.</strong><br>1991. Andre F, Andre C, Feknous M, Colin L, Cavagna S<br>[ID: 1959765]"
      ],
      "text/plain": [
       "<IPython.core.display.HTML object>"
      ]
     },
     "metadata": {},
     "output_type": "display_data"
    },
    {
     "data": {
      "text/html": [
       "<strong><a href=http://dx.doi.org/10.1016/j.ancard.2017.09.015>[Inferior myocardial infarction complicated by complete heart block and cardiac arrest following a gadolinium injection: A case of Kounis syndrome].</a></strong><br>2017. Demoulin R, Poyet R, Capilla E, Cardinale M, Tortat AV, Pons F, Brocq FX, Jego C, Foucault G, Cellarier GR<br>[ID: 29050735]"
      ],
      "text/plain": [
       "<IPython.core.display.HTML object>"
      ]
     },
     "metadata": {},
     "output_type": "display_data"
    },
    {
     "data": {
      "text/html": [
       "<strong><a href=http://dx.doi.org/10.1016/s0165-5876(96)01429-2>Suppression of in vivo cell-mediated immunity during experimental influenza A virus infection of adults.</a></strong><br>1996. Skoner DP, Angelini BL, Jones A, Seroky J, Doyle WJ, Fireman P<br>[ID: 9119602]"
      ],
      "text/plain": [
       "<IPython.core.display.HTML object>"
      ]
     },
     "metadata": {},
     "output_type": "display_data"
    },
    {
     "data": {
      "text/html": [
       "<strong><a href=http://dx.doi.org/10.1177/030006059502300505>Comparative incidence of allergy in the presence or absence of cancer.</a></strong><br>1995. Petroianu A, Chaves DN, De Oliveira O Jr<br>[ID: 8529778]"
      ],
      "text/plain": [
       "<IPython.core.display.HTML object>"
      ]
     },
     "metadata": {},
     "output_type": "display_data"
    },
    {
     "data": {
      "text/html": [
       "<strong><a href=http://dx.doi.org/10.1258/0022215042244822>Meniere's disease and allergy: allergens and cytokines.</a></strong><br>2004. Keles E, Gödekmerdan A, Kalidağ T, Kaygusuz I, Yalçin S, Cengiz Alpay H, Aral M<br>[ID: 15509365]"
      ],
      "text/plain": [
       "<IPython.core.display.HTML object>"
      ]
     },
     "metadata": {},
     "output_type": "display_data"
    },
    {
     "data": {
      "text/html": [
       "<strong><a href=http://dx.doi.org/10.1016/s0165-5876(99)00146-9>Waldeyer's ring and otitis media: the nasopharyngeal tonsil and otitis media.</a></strong><br>1999. Bernstein JM<br>[ID: 10577790]"
      ],
      "text/plain": [
       "<IPython.core.display.HTML object>"
      ]
     },
     "metadata": {},
     "output_type": "display_data"
    },
    {
     "data": {
      "text/html": [
       "<strong><a href=http://dx.doi.org/10.1002/mrm.1910220212>Safety of gadolinium-DTPA: extended clinical experience.</a></strong><br>1991. Niendorf HP, Haustein J, Cornelius I, Alhassan A, Clauss W<br>[ID: 1812350]"
      ],
      "text/plain": [
       "<IPython.core.display.HTML object>"
      ]
     },
     "metadata": {},
     "output_type": "display_data"
    },
    {
     "data": {
      "text/html": [
       "<strong><a href=http://dx.doi.org/10.1016/j.humimm.2015.09.051>The prevalence of Selective Immunoglobulin M Deficiency (SIgMD) in Iranian volunteer blood donors.</a></strong><br>2016. Entezari N, Adab Z, Zeydi M, Saghafi S, Jamali M, Kardar GA, Pourpak Z<br>[ID: 26429316]"
      ],
      "text/plain": [
       "<IPython.core.display.HTML object>"
      ]
     },
     "metadata": {},
     "output_type": "display_data"
    },
    {
     "data": {
      "text/html": [
       "<strong><a href=http://dx.doi.org/10.1371/journal.pone.0018188>Modulation of human immune responses by bovine interleukin-10.</a></strong><br>2011. den Hartog G, Savelkoul HF, Schoemaker R, Tijhaar E, Westphal AH, de Ruiter T, van de Weg-Schrijver E, van Neerven RJ<br>[ID: 21464967]"
      ],
      "text/plain": [
       "<IPython.core.display.HTML object>"
      ]
     },
     "metadata": {},
     "output_type": "display_data"
    },
    {
     "data": {
      "text/html": [
       "<strong>Subcellular localization of transforming growth factor-alpha in human eosinophil granulocytes.</strong><br>1996. Egesten A, Calafat J, Knol EF, Janssen H, Walz TM<br>[ID: 8611720]"
      ],
      "text/plain": [
       "<IPython.core.display.HTML object>"
      ]
     },
     "metadata": {},
     "output_type": "display_data"
    },
    {
     "data": {
      "text/html": [
       "<strong><a href=http://dx.doi.org/10.1007/s00216-017-0791-y>Development of a light-initiated chemiluminescent assay for the quantitation of sIgE against egg white allergens based on component-resolved diagnosis.</a></strong><br>2018. Bian Y, Liu C, She T, Wang M, Yan J, Wei D, Li H<br>[ID: 29247381]"
      ],
      "text/plain": [
       "<IPython.core.display.HTML object>"
      ]
     },
     "metadata": {},
     "output_type": "display_data"
    },
    {
     "data": {
      "text/html": [
       "<strong><a href=http://dx.doi.org/10.1016/j.foodres.2016.09.022>The influence of breast milk and infant formulae hydrolysates on bacterial adhesion and Caco-2 cells functioning.</a></strong><br>2016. Fiedorowicz E, Markiewicz LH, Sidor K, Świątecka D, Cieślińska A, Matysiewicz M, Piskorz-Ogórek K, Sienkiewicz-Szłapka E, Teodorowicz M, Świątecki A, Kostyra E<br>[ID: 28460966]"
      ],
      "text/plain": [
       "<IPython.core.display.HTML object>"
      ]
     },
     "metadata": {},
     "output_type": "display_data"
    },
    {
     "data": {
      "text/html": [
       "<strong>[Skin test: guide of post-marketed re-evaluation of clinical safety in traditional Chinese medicine injection].</strong><br>2011. Wei X, Xie Y, Wang Y<br>[ID: 22292390]"
      ],
      "text/plain": [
       "<IPython.core.display.HTML object>"
      ]
     },
     "metadata": {},
     "output_type": "display_data"
    },
    {
     "data": {
      "text/html": [
       "<strong><a href=http://dx.doi.org/10.1111/j.1398-9995.1984.tb01953.x>Diameter, thickness, area, and volume of skin-prick histamine weals. Measurement of skin thickness by 15 MHz A-mode ultrasound.</a></strong><br>1984. Serup J<br>[ID: 6465482]"
      ],
      "text/plain": [
       "<IPython.core.display.HTML object>"
      ]
     },
     "metadata": {},
     "output_type": "display_data"
    },
    {
     "data": {
      "text/html": [
       "<strong>[Predictive value of IGE in the newborn infant].</strong><br>1996. López-García A, Paz Martínez D, Galindo-García A, Díaz y Flores H<br>[ID: 9005004]"
      ],
      "text/plain": [
       "<IPython.core.display.HTML object>"
      ]
     },
     "metadata": {},
     "output_type": "display_data"
    },
    {
     "data": {
      "text/html": [
       "<strong><a href=http://dx.doi.org/10.3390/nu5030651>Gut microbiota as potential therapeutic target for the treatment of cow's milk allergy.</a></strong><br>2013. Canani RB, Di Costanzo M<br>[ID: 23455693]"
      ],
      "text/plain": [
       "<IPython.core.display.HTML object>"
      ]
     },
     "metadata": {},
     "output_type": "display_data"
    },
    {
     "data": {
      "text/html": [
       "<strong><a href=http://dx.doi.org/10.1111/j.0105-1873.2003.00134.x>Specific immunoglobulin E in patients with immediate persulfate hypersensitivity.</a></strong><br>2003. Aalto-Korte K, Mäkinen-Kiljunen S<br>[ID: 14641116]"
      ],
      "text/plain": [
       "<IPython.core.display.HTML object>"
      ]
     },
     "metadata": {},
     "output_type": "display_data"
    },
    {
     "data": {
      "text/html": [
       "<strong><a href=http://dx.doi.org/10.1016/s0022-3956(96)00050-7>Precipitating factors for the chronic fatigue syndrome.</a></strong><br>1997. Salit IE<br>[ID: 9201648]"
      ],
      "text/plain": [
       "<IPython.core.display.HTML object>"
      ]
     },
     "metadata": {},
     "output_type": "display_data"
    },
    {
     "data": {
      "text/html": [
       "<strong><a href=http://dx.doi.org/10.1159/000237433>Differences in nonspecific bronchial responsiveness between patients with asthma and patients with rhinitis are not explained by type and degree of inhalant allergy.</a></strong><br>1997. Witteman AM, Sjamsoedin DH, Jansen HM, van der Zee JS<br>[ID: 8980466]"
      ],
      "text/plain": [
       "<IPython.core.display.HTML object>"
      ]
     },
     "metadata": {},
     "output_type": "display_data"
    },
    {
     "data": {
      "text/html": [
       "<strong><a href=http://dx.doi.org/10.1159/000186282>What is the role of sensitization in uremic pruritus? An allergologic study.</a></strong><br>1991. Rollino C, Goitre M, Piccoli G, Puiatti P, Martina G, Formica M, Quarello F, Bernengo MG<br>[ID: 2017273]"
      ],
      "text/plain": [
       "<IPython.core.display.HTML object>"
      ]
     },
     "metadata": {},
     "output_type": "display_data"
    },
    {
     "data": {
      "text/html": [
       "<strong><a href=http://dx.doi.org/10.1038/nature12526>Type 2 innate lymphoid cells control eosinophil homeostasis.</a></strong><br>2013. Nussbaum JC, Van Dyken SJ, von Moltke J, Cheng LE, Mohapatra A, Molofsky AB, Thornton EE, Krummel MF, Chawla A, Liang HE, Locksley RM<br>[ID: 24037376]"
      ],
      "text/plain": [
       "<IPython.core.display.HTML object>"
      ]
     },
     "metadata": {},
     "output_type": "display_data"
    },
    {
     "data": {
      "text/html": [
       "<strong><a href=http://dx.doi.org/10.3390/molecules22010095>Lectin Digestibility and Stability of Elderberry Antioxidants to Heat Treatment In Vitro.</a></strong><br>2017. Jiménez P, Cabrero P, Cordoba-Diaz D, Cordoba-Diaz M, Garrosa M, Girbés T<br>[ID: 28067841]"
      ],
      "text/plain": [
       "<IPython.core.display.HTML object>"
      ]
     },
     "metadata": {},
     "output_type": "display_data"
    },
    {
     "data": {
      "text/html": [
       "<strong><a href=http://dx.doi.org/10.1371/journal.pone.0120661>Regulatory T cells in early life: comparative study of CD4+CD25high T cells from foals and adult horses.</a></strong><br>2015. Hamza E, Mirkovitch J, Steinbach F, Marti E<br>[ID: 25790481]"
      ],
      "text/plain": [
       "<IPython.core.display.HTML object>"
      ]
     },
     "metadata": {},
     "output_type": "display_data"
    },
    {
     "data": {
      "text/html": [
       "<strong><a href=http://dx.doi.org/10.1159/000333551>T cell epitopes of the timothy grass pollen allergen Phl p 5 of mice and men and the detection of allergen-specific T cells using Class II Ultimers.</a></strong><br>2012. Stoecklinger A, Scheiblhofer S, Roesler E, Lang A, Fastner G, Sedlmayer F, Lang R, Danzer M, Thalhamer J, Weiss R<br>[ID: 22472723]"
      ],
      "text/plain": [
       "<IPython.core.display.HTML object>"
      ]
     },
     "metadata": {},
     "output_type": "display_data"
    },
    {
     "data": {
      "text/html": [
       "<strong><a href=http://dx.doi.org/10.1111/1440-1681.12201>GSTA1*-69C/T and GSTO2*N142D as asthma- and allergy-related risk factors in Italian adult patients.</a></strong><br>2014. Piacentini S, Polimanti R, Iorio A, Cortesi M, Papa F, Rongioletti M, Liumbruno GM, Manfellotto D, Fuciarelli M<br>[ID: 24471578]"
      ],
      "text/plain": [
       "<IPython.core.display.HTML object>"
      ]
     },
     "metadata": {},
     "output_type": "display_data"
    },
    {
     "data": {
      "text/html": [
       "<strong>Pathogenic mechanisms of polymorphic light eruption.</strong><br>2009. Gruber-Wackernagel A, Byrne SN, Wolf P<br>[ID: 19482651]"
      ],
      "text/plain": [
       "<IPython.core.display.HTML object>"
      ]
     },
     "metadata": {},
     "output_type": "display_data"
    },
    {
     "data": {
      "text/html": [
       "<strong>Nasal mucosa reaction. A model for mucosal reaction during challenge.</strong><br>1992. Hallén H, Juto JE<br>[ID: 1411098]"
      ],
      "text/plain": [
       "<IPython.core.display.HTML object>"
      ]
     },
     "metadata": {},
     "output_type": "display_data"
    },
    {
     "data": {
      "text/html": [
       "<strong><a href=http://dx.doi.org/10.1111/j.1399-3038.2009.00975.x>Management of nut allergy influences quality of life and anxiety in children and their mothers.</a></strong><br>2010. Cummings AJ, Knibb RC, Erlewyn-Lajeunesse M, King RM, Roberts G, Lucas JS<br>[ID: 20088863]"
      ],
      "text/plain": [
       "<IPython.core.display.HTML object>"
      ]
     },
     "metadata": {},
     "output_type": "display_data"
    },
    {
     "data": {
      "text/html": [
       "<strong><a href=http://dx.doi.org/10.3346/jkms.2011.26.10.1265>Exhaled nitric oxide is associated with allergic inflammation in children.</a></strong><br>2011. Choi BS, Kim KW, Lee YJ, Baek J, Park HB, Kim YH, Sohn MH, Kim KE<br>[ID: 22022176]"
      ],
      "text/plain": [
       "<IPython.core.display.HTML object>"
      ]
     },
     "metadata": {},
     "output_type": "display_data"
    },
    {
     "data": {
      "text/html": [
       "<strong><a href=http://dx.doi.org/10.1111/j.1365-2222.1994.tb02738.x>In vitro and in vivo effect of glucocorticoids on IgE and IgG subclass secretion.</a></strong><br>1994. Klebl FH, Weber G, Kalden JR, Nüsslein HG<br>[ID: 7874601]"
      ],
      "text/plain": [
       "<IPython.core.display.HTML object>"
      ]
     },
     "metadata": {},
     "output_type": "display_data"
    },
    {
     "data": {
      "text/html": [
       "<strong><a href=http://dx.doi.org/10.2340/0001555576194202>Patch test study with calcipotriol ointment in different patient groups, including psoriatic patients with and without adverse dermatitis.</a></strong><br>1996. Fullerton A, Avnstorp C, Agner T, Dahl JC, Olsen LO, Serup J<br>[ID: 8800298]"
      ],
      "text/plain": [
       "<IPython.core.display.HTML object>"
      ]
     },
     "metadata": {},
     "output_type": "display_data"
    },
    {
     "data": {
      "text/html": [
       "<strong>Pandemic of atopic diseases--a lack of microbial exposure in early infancy?</strong><br>2002. Kalliomäki M, Isolauri E<br>[ID: 12462124]"
      ],
      "text/plain": [
       "<IPython.core.display.HTML object>"
      ]
     },
     "metadata": {},
     "output_type": "display_data"
    },
    {
     "data": {
      "text/html": [
       "<strong><a href=http://dx.doi.org/10.2174/13816128113199990042>Dietary assumption of plant polyphenols and prevention of allergy.</a></strong><br>2014. Chirumbolo S<br>[ID: 23701556]"
      ],
      "text/plain": [
       "<IPython.core.display.HTML object>"
      ]
     },
     "metadata": {},
     "output_type": "display_data"
    },
    {
     "data": {
      "text/html": [
       "<strong><a href=http://dx.doi.org/10.1007/bf00196820>Endothelial adhesion molecules for nasal-homing T cells in allergy.</a></strong><br>1996. Karlsson MG, Hellquist HB<br>[ID: 8865853]"
      ],
      "text/plain": [
       "<IPython.core.display.HTML object>"
      ]
     },
     "metadata": {},
     "output_type": "display_data"
    },
    {
     "data": {
      "text/html": [
       "<strong><a href=http://dx.doi.org/10.1007/978-1-4615-5855-2_15>Automated serology with recombinant allergens. A feasibility study.</a></strong><br>1996. Crameri R, Lidholm J, Menz G, Grönlund H, Blaser K<br>[ID: 9095230]"
      ],
      "text/plain": [
       "<IPython.core.display.HTML object>"
      ]
     },
     "metadata": {},
     "output_type": "display_data"
    },
    {
     "data": {
      "text/html": [
       "<strong><a href=http://dx.doi.org/10.14712/23362936.2018.3>Evaluation of IFN-γ Enzyme-linked Immunospot Assay (ELISPOT) as a First-line Test in the Diagnosis of Non-Immediate Hypersensitivity to Amoxicillin and Penicillin.</a></strong><br>2018. Sedláčková L, Průcha M, Poláková I, Míková B<br>[ID: 29665345]"
      ],
      "text/plain": [
       "<IPython.core.display.HTML object>"
      ]
     },
     "metadata": {},
     "output_type": "display_data"
    },
    {
     "data": {
      "text/html": [
       "<strong><a href=http://dx.doi.org/10.1159/000237249>Cetirizine reduces ICAM-I on epithelial cells during nasal minimal persistent inflammation in asymptomatic children with mite-allergic asthma.</a></strong><br>1996. Fasce L, Ciprandi G, Pronzato C, Cozzani S, Tosca MA, Grimaldi I, Canonica GW<br>[ID: 8620097]"
      ],
      "text/plain": [
       "<IPython.core.display.HTML object>"
      ]
     },
     "metadata": {},
     "output_type": "display_data"
    },
    {
     "data": {
      "text/html": [
       "<strong>Clinical trials with allergen products: in search of biological markers of efficacy.</strong><br>2006. Moingeon P<br>[ID: 17393738]"
      ],
      "text/plain": [
       "<IPython.core.display.HTML object>"
      ]
     },
     "metadata": {},
     "output_type": "display_data"
    },
    {
     "data": {
      "text/html": [
       "<strong><a href=http://dx.doi.org/10.1016/j.molimm.2014.06.023>Expression of Th1, Th2, lymphocyte trafficking and activation markers on CD4+ T-cells of Hymenoptera allergic subjects and after venom immunotherapy.</a></strong><br>2014. Cabrera CM, Urra JM, Alfaya T, Roca Fde L, Feo-Brito F<br>[ID: 25004111]"
      ],
      "text/plain": [
       "<IPython.core.display.HTML object>"
      ]
     },
     "metadata": {},
     "output_type": "display_data"
    },
    {
     "data": {
      "text/html": [
       "<strong><a href=http://dx.doi.org/10.1186/s13601-016-0131-x>Allergy immunotherapy across the life cycle to promote active and healthy ageing: from research to policies: An AIRWAYS Integrated Care Pathways (ICPs) programme item (Action Plan B3 of the European Innovation Partnership on active and healthy ageing) and the Global Alliance against Chronic Respiratory Diseases (GARD), a World Health Organization GARD research demonstration project.</a></strong><br>2016. Calderon MA, Demoly P, Casale T, Akdis CA, Bachert C, Bewick M, Bilò BM, Bohle B, Bonini S, Bush A, Caimmi DP, Canonica GW, Cardona V, Chiriac AM, Cox L, Custovic A, De Blay F, Devillier P, Didier A, Di Lorenzo G, ...<br>[ID: 27895895]"
      ],
      "text/plain": [
       "<IPython.core.display.HTML object>"
      ]
     },
     "metadata": {},
     "output_type": "display_data"
    },
    {
     "data": {
      "text/html": [
       "<strong>Acetylator phenotype in Iraqi patients with atopic dermatitis.</strong><br>2006. Najim RA, Al-Waiz MM, Al-Razzuqi RA<br>[ID: 17459287]"
      ],
      "text/plain": [
       "<IPython.core.display.HTML object>"
      ]
     },
     "metadata": {},
     "output_type": "display_data"
    },
    {
     "data": {
      "text/html": [
       "<strong>[Basophil count of the newborn is not useful in prediction of allergic diseases].</strong><br>1996. Calbi M, Giacchetti L, Coppola A, Triggiani M<br>[ID: 8767579]"
      ],
      "text/plain": [
       "<IPython.core.display.HTML object>"
      ]
     },
     "metadata": {},
     "output_type": "display_data"
    },
    {
     "data": {
      "text/html": [
       "<strong>Prostaglandin E1 and prostaglandin F2 alpha in exudate in nickel allergy.</strong><br>1989. Lerche A, Bisgaard H, Kassis V, Christensen JD, Søndergaard J<br>[ID: 2566235]"
      ],
      "text/plain": [
       "<IPython.core.display.HTML object>"
      ]
     },
     "metadata": {},
     "output_type": "display_data"
    },
    {
     "data": {
      "text/html": [
       "<strong><a href=http://dx.doi.org/10.3389/fimmu.2018.01730>Follicular Helper T Cells in DiGeorge Syndrome.</a></strong><br>2018. Klocperk A, Paračková Z, Bloomfield M, Rataj M, Pokorný J, Unger S, Warnatz K, Šedivá A<br>[ID: 30083170]"
      ],
      "text/plain": [
       "<IPython.core.display.HTML object>"
      ]
     },
     "metadata": {},
     "output_type": "display_data"
    },
    {
     "data": {
      "text/html": [
       "<strong>Acute airway obstruction during spinal anaesthesia for caesarean section.</strong><br>1998. Buggy DJ, Hughes N<br>[ID: 15321192]"
      ],
      "text/plain": [
       "<IPython.core.display.HTML object>"
      ]
     },
     "metadata": {},
     "output_type": "display_data"
    },
    {
     "data": {
      "text/html": [
       "<strong>Atopy patch test reaction to airborne allergens in the diagnosis of atopic dermatitis.</strong><br>2005. Czarnecka-Operacz M, Bator-Wegner M, Silny W<br>[ID: 15788141]"
      ],
      "text/plain": [
       "<IPython.core.display.HTML object>"
      ]
     },
     "metadata": {},
     "output_type": "display_data"
    },
    {
     "data": {
      "text/html": [
       "<strong><a href=http://dx.doi.org/10.1007/s00405-017-4640-6>The role of local allergy in the nasal inflammation.</a></strong><br>2017. Cheng KJ, Zhou ML, Xu YY, Zhou SH<br>[ID: 28625008]"
      ],
      "text/plain": [
       "<IPython.core.display.HTML object>"
      ]
     },
     "metadata": {},
     "output_type": "display_data"
    },
    {
     "data": {
      "text/html": [
       "<strong><a href=http://dx.doi.org/10.1111/ppe.12161>The Canadian healthy infant longitudinal development birth cohort study: biological samples and biobanking.</a></strong><br>2015. Moraes TJ, Lefebvre DL, Chooniedass R, Becker AB, Brook JR, Denburg J, HayGlass KT, Hegele RG, Kollmann TR, Macri J, Mandhane PJ, Scott JA, Subbarao P, Takaro TK, Turvey SE, Duncan JD, Sears MR, Befus AD, CHILD Study Investigators.<br>[ID: 25405552]"
      ],
      "text/plain": [
       "<IPython.core.display.HTML object>"
      ]
     },
     "metadata": {},
     "output_type": "display_data"
    },
    {
     "data": {
      "text/html": [
       "<strong>Maximal expiratory flow-volume patterns in allergic rhinitis. Characteristic flow-volume patterns of the lower airways.</strong><br>1987. Nishioka K, Meguro T, Masuda Y, Date R, Ogura Y<br>[ID: 3688562]"
      ],
      "text/plain": [
       "<IPython.core.display.HTML object>"
      ]
     },
     "metadata": {},
     "output_type": "display_data"
    },
    {
     "data": {
      "text/html": [
       "<strong><a href=http://dx.doi.org/10.1016/j.arcmed.2017.11.007>Development of Microbiota in Infants and its Role in Maturation of Gut Mucosa and Immune System.</a></strong><br>2017. Ximenez C, Torres J<br>[ID: 29198451]"
      ],
      "text/plain": [
       "<IPython.core.display.HTML object>"
      ]
     },
     "metadata": {},
     "output_type": "display_data"
    },
    {
     "data": {
      "text/html": [
       "<strong>T Regulatory Cells Response to Allergen Specific Immunotherapy in Patients with Allergic Airway Diseases: A Prospective Study.</strong><br>2016. Ramadan RA, Morad EA, El-Shabrawy M<br>[ID: 28502133]"
      ],
      "text/plain": [
       "<IPython.core.display.HTML object>"
      ]
     },
     "metadata": {},
     "output_type": "display_data"
    },
    {
     "data": {
      "text/html": [
       "<strong><a href=http://dx.doi.org/10.1016/j.micinf.2005.03.029>T regulatory cells and allergy.</a></strong><br>2005. Taylor A, Verhagen J, Akdis CA, Akdis M<br>[ID: 15919221]"
      ],
      "text/plain": [
       "<IPython.core.display.HTML object>"
      ]
     },
     "metadata": {},
     "output_type": "display_data"
    },
    {
     "data": {
      "text/html": [
       "<strong>Helicobacter pylori Infection as a Risk Factor in Patients Suffering from Food Allergy and Urticaria.</strong><br>2016. Shabrawy RM, Gharib K<br>[ID: 28502154]"
      ],
      "text/plain": [
       "<IPython.core.display.HTML object>"
      ]
     },
     "metadata": {},
     "output_type": "display_data"
    },
    {
     "data": {
      "text/html": [
       "<strong>Prevalence of latex sensitization in healthy blood donors in Izmir, Turkey.</strong><br>2003. Kose S, Mandiracioglu A<br>[ID: 15198346]"
      ],
      "text/plain": [
       "<IPython.core.display.HTML object>"
      ]
     },
     "metadata": {},
     "output_type": "display_data"
    },
    {
     "data": {
      "text/html": [
       "<strong><a href=http://dx.doi.org/10.1177/0310057X1003800316>Maximum non-reactive concentration of midazolam and ketamine for skin testing study in non-allergic healthy volunteers.</a></strong><br>2010. Hagau N, Bologa RO, Indrei CL, Longrois D, Dirzu DS, Gherman-Ionica N<br>[ID: 20514961]"
      ],
      "text/plain": [
       "<IPython.core.display.HTML object>"
      ]
     },
     "metadata": {},
     "output_type": "display_data"
    },
    {
     "data": {
      "text/html": [
       "<strong>Allergens are transported through the respiratory epithelium.</strong><br>2010. Renkonen R, Renkonen J, Joenväärä S, Mattila P, Parviainen V, Toppila-Salmi S<br>[ID: 20383891]"
      ],
      "text/plain": [
       "<IPython.core.display.HTML object>"
      ]
     },
     "metadata": {},
     "output_type": "display_data"
    },
    {
     "data": {
      "text/html": [
       "<strong><a href=http://dx.doi.org/10.1016/j.envres.2013.03.001>Environmental triggers of nocturnal dry cough in infancy: new insights about chronic domestic exposure to formaldehyde in the PARIS birth cohort.</a></strong><br>2013. Roda C, Guihenneuc-Jouyaux C, Momas I<br>[ID: 23562392]"
      ],
      "text/plain": [
       "<IPython.core.display.HTML object>"
      ]
     },
     "metadata": {},
     "output_type": "display_data"
    },
    {
     "data": {
      "text/html": [
       "<strong><a href=http://dx.doi.org/10.1183/09031936.00070511>Distinct epithelial gene expression phenotypes in childhood respiratory allergy.</a></strong><br>2012. Giovannini-Chami L, Marcet B, Moreilhon C, Chevalier B, Illie MI, Lebrigand K, Robbe-Sermesant K, Bourrier T, Michiels JF, Mari B, Crénesse D, Hofman P, de Blic J, Castillo L, Albertini M, Barbry P<br>[ID: 22005912]"
      ],
      "text/plain": [
       "<IPython.core.display.HTML object>"
      ]
     },
     "metadata": {},
     "output_type": "display_data"
    },
    {
     "data": {
      "text/html": [
       "<strong>[The assessment of the immunograms of children with allergic diseases].</strong><br>1995. Vasneva ZhP, Smirnova SV, Toropova NE<br>[ID: 7620767]"
      ],
      "text/plain": [
       "<IPython.core.display.HTML object>"
      ]
     },
     "metadata": {},
     "output_type": "display_data"
    },
    {
     "data": {
      "text/html": [
       "<strong><a href=http://dx.doi.org/10.1159/000320068>Epidemiology of pancreatic cancer: an update.</a></strong><br>2010. Maisonneuve P, Lowenfels AB<br>[ID: 21088417]"
      ],
      "text/plain": [
       "<IPython.core.display.HTML object>"
      ]
     },
     "metadata": {},
     "output_type": "display_data"
    },
    {
     "data": {
      "text/html": [
       "<strong>[Cytogenetic damages in the cells of allergy patients].</strong><br>1987. Sarkisian TF<br>[ID: 3590307]"
      ],
      "text/plain": [
       "<IPython.core.display.HTML object>"
      ]
     },
     "metadata": {},
     "output_type": "display_data"
    },
    {
     "data": {
      "text/html": [
       "<strong><a href=http://dx.doi.org/10.1007/s004200050330>Expression of lymphocyte subpopulations, cytokine serum levels, and blood and urinary trace elements in asymptomatic atopic men exposed to an urban environment.</a></strong><br>1999. Boscolo P, Di Gioacchino M, Sabbioni E, Benvenuti F, Conti P, Reale M, Bavazzano P, Giuliano G<br>[ID: 10029227]"
      ],
      "text/plain": [
       "<IPython.core.display.HTML object>"
      ]
     },
     "metadata": {},
     "output_type": "display_data"
    },
    {
     "data": {
      "text/html": [
       "<strong><a href=http://dx.doi.org/10.1016/j.prrv.2003.09.013>Influenza immunisation in children: good for everyone or reserve for the chosen few?</a></strong><br>2004. Williams J, Goodwin P<br>[ID: 15222959]"
      ],
      "text/plain": [
       "<IPython.core.display.HTML object>"
      ]
     },
     "metadata": {},
     "output_type": "display_data"
    },
    {
     "data": {
      "text/html": [
       "<strong><a href=http://dx.doi.org/10.1186/s12948-017-0059-2>Allergic diseases in the elderly: biological characteristics and main immunological and non-immunological mechanisms.</a></strong><br>2017. Ventura MT, Scichilone N, Paganelli R, Minciullo PL, Patella V, Bonini M, Passalacqua G, Lombardi C, Simioni L, Ridolo E, Del Giacco SR, Gangemi S, Canonica GW<br>[ID: 28174512]"
      ],
      "text/plain": [
       "<IPython.core.display.HTML object>"
      ]
     },
     "metadata": {},
     "output_type": "display_data"
    },
    {
     "data": {
      "text/html": [
       "<strong>Decrease in the antioxidant capacity of red blood cells in children with celiac disease.</strong><br>1992. Boda M, Németh I<br>[ID: 1476783]"
      ],
      "text/plain": [
       "<IPython.core.display.HTML object>"
      ]
     },
     "metadata": {},
     "output_type": "display_data"
    },
    {
     "data": {
      "text/html": [
       "<strong><a href=http://dx.doi.org/10.1159/000053578>Whole-blood flow-cytometric analysis of eosinophil EG2 expression as a marker of the pathological conditions of asthma.</a></strong><br>1998. Kuwasaki T, Chihara J, Kayaba H, Kamata Y, Oyamada H, Saito N, Shioya T, Sasaki M, Kagaya M, Tsuda A<br>[ID: 9758904]"
      ],
      "text/plain": [
       "<IPython.core.display.HTML object>"
      ]
     },
     "metadata": {},
     "output_type": "display_data"
    },
    {
     "data": {
      "text/html": [
       "<strong><a href=http://dx.doi.org/10.2169/internalmedicine.9377-17>Food-specific IgGs Are Highly Increased in the Sera of Patients with Inflammatory Bowel Disease and Are Clinically Relevant to the Pathogenesis.</a></strong><br>2018. Xiao N, Liu F, Zhou G, Sun M, Ai F, Liu Z<br>[ID: 29780153]"
      ],
      "text/plain": [
       "<IPython.core.display.HTML object>"
      ]
     },
     "metadata": {},
     "output_type": "display_data"
    },
    {
     "data": {
      "text/html": [
       "<strong><a href=http://dx.doi.org/10.14670/HH-15.899>Mechanisms underlying eosinophil trafficking and their relevance in vivo.</a></strong><br>2000. Cara DC, Negrao-Correa D, Teixeira MM<br>[ID: 10963133]"
      ],
      "text/plain": [
       "<IPython.core.display.HTML object>"
      ]
     },
     "metadata": {},
     "output_type": "display_data"
    },
    {
     "data": {
      "text/html": [
       "<strong><a href=http://dx.doi.org/10.1007/s00405-012-2124-2>Smell in cystic fibrosis.</a></strong><br>2013. Lindig J, Steger C, Beiersdorf N, Michl R, Beck JF, Hummel T, Mainz JG<br>[ID: 22890694]"
      ],
      "text/plain": [
       "<IPython.core.display.HTML object>"
      ]
     },
     "metadata": {},
     "output_type": "display_data"
    },
    {
     "data": {
      "text/html": [
       "<strong>A study of autonomic nervous system status in children of asthmatic parents.</strong><br>2012. Kumar S, Babbar R, Varshney VP, Daga MK, Dalvi VS<br>[ID: 23029968]"
      ],
      "text/plain": [
       "<IPython.core.display.HTML object>"
      ]
     },
     "metadata": {},
     "output_type": "display_data"
    },
    {
     "data": {
      "text/html": [
       "<strong>[2 cases of hereditary recurrent neuropathy caused by compression of the peripheral nerves].</strong><br>1979. Korwin-Piotrowska T, Stankiewicz J<br>[ID: 288993]"
      ],
      "text/plain": [
       "<IPython.core.display.HTML object>"
      ]
     },
     "metadata": {},
     "output_type": "display_data"
    },
    {
     "data": {
      "text/html": [
       "<strong><a href=http://dx.doi.org/10.1038/s41598-019-45257-1>Multi-Method Molecular Characterisation of Human Dust-Mite-associated Allergic Asthma.</a></strong><br>2019. Whittle E, Leonard MO, Gant TW, Tonge DP<br>[ID: 31221987]"
      ],
      "text/plain": [
       "<IPython.core.display.HTML object>"
      ]
     },
     "metadata": {},
     "output_type": "display_data"
    },
    {
     "data": {
      "text/html": [
       "<strong><a href=http://dx.doi.org/10.1016/j.rmed.2006.09.009>Deep inspiration-induced changes in lung volume decrease with severity of asthma.</a></strong><br>2007. Scichilone N, Marchese R, Soresi S, Interrante A, Togias A, Bellia V<br>[ID: 17049828]"
      ],
      "text/plain": [
       "<IPython.core.display.HTML object>"
      ]
     },
     "metadata": {},
     "output_type": "display_data"
    },
    {
     "data": {
      "text/html": [
       "<strong>Metal allergy in cashiers. An in vitro and in vivo study for the presence of metal allergy.</strong><br>1988. Gilboa R, Al-Tawil NG, Marcusson JA<br>[ID: 2459877]"
      ],
      "text/plain": [
       "<IPython.core.display.HTML object>"
      ]
     },
     "metadata": {},
     "output_type": "display_data"
    },
    {
     "data": {
      "text/html": [
       "<strong><a href=http://dx.doi.org/10.1016/s0190-9622(88)70051-1>Kathon CG: a review.</a></strong><br>1988. de Groot AC, Weyland JW<br>[ID: 3279090]"
      ],
      "text/plain": [
       "<IPython.core.display.HTML object>"
      ]
     },
     "metadata": {},
     "output_type": "display_data"
    },
    {
     "data": {
      "text/html": [
       "<strong>[Allergic inflammatory markers in upper respiratory allergies].</strong><br>1993. Nagy L, Orosz M, Süttö Z<br>[ID: 8464628]"
      ],
      "text/plain": [
       "<IPython.core.display.HTML object>"
      ]
     },
     "metadata": {},
     "output_type": "display_data"
    },
    {
     "data": {
      "text/html": [
       "<strong><a href=http://dx.doi.org/10.4168/aair.2015.7.5.513>Bee Pollen-Induced Anaphylaxis: A Case Report and Literature Review.</a></strong><br>2015. Choi JH, Jang YS, Oh JW, Kim CH, Hyun IG<br>[ID: 25749764]"
      ],
      "text/plain": [
       "<IPython.core.display.HTML object>"
      ]
     },
     "metadata": {},
     "output_type": "display_data"
    },
    {
     "data": {
      "text/html": [
       "<strong><a href=http://dx.doi.org/10.1158/0008-5472.CAN-10-0815>Circulating levels of the innate and humoral immune regulators CD14 and CD23 are associated with adult glioma.</a></strong><br>2010. Zhou M, Wiemels JL, Bracci PM, Wrensch MR, McCoy LS, Rice T, Sison JD, Patoka JS, Wiencke JK<br>[ID: 20719886]"
      ],
      "text/plain": [
       "<IPython.core.display.HTML object>"
      ]
     },
     "metadata": {},
     "output_type": "display_data"
    },
    {
     "data": {
      "text/html": [
       "<strong><a href=http://dx.doi.org/10.1136/thoraxjnl-2015-207246>The Canadian Healthy Infant Longitudinal Development (CHILD) Study: examining developmental origins of allergy and asthma.</a></strong><br>2015. Subbarao P, Anand SS, Becker AB, Befus AD, Brauer M, Brook JR, Denburg JA, HayGlass KT, Kobor MS, Kollmann TR, Kozyrskyj AL, Lou WY, Mandhane PJ, Miller GE, Moraes TJ, Pare PD, Scott JA, Takaro TK, Turvey SE, Duncan JM, ...<br>[ID: 26069286]"
      ],
      "text/plain": [
       "<IPython.core.display.HTML object>"
      ]
     },
     "metadata": {},
     "output_type": "display_data"
    },
    {
     "data": {
      "text/html": [
       "<strong><a href=http://dx.doi.org/10.23822/EurAnnACI.1764-1489.72>Impact of allergy on children with attention deficit hyperactivity disorder.</a></strong><br>2018. Abd El-Hamid ZB, Refaat MM, El-Shahawy HH, Eissa AM, El-Sheikh MM, Abdel-Rehim AS, Elgaaly SA, Abd El-Moneam MH, Mohamed NA, Abdel Latif OM<br>[ID: 30067000]"
      ],
      "text/plain": [
       "<IPython.core.display.HTML object>"
      ]
     },
     "metadata": {},
     "output_type": "display_data"
    },
    {
     "data": {
      "text/html": [
       "<strong><a href=http://dx.doi.org/10.1016/j.otc.2011.03.004>Allergic and immunologic features of Ménière's disease.</a></strong><br>2011. Derebery MJ<br>[ID: 21621052]"
      ],
      "text/plain": [
       "<IPython.core.display.HTML object>"
      ]
     },
     "metadata": {},
     "output_type": "display_data"
    },
    {
     "data": {
      "text/html": [
       "<strong><a href=http://dx.doi.org/10.1177/00333549111260S105>Oklahoma Healthy Homes initiative.</a></strong><br>2011. Khan F<br>[ID: 21563709]"
      ],
      "text/plain": [
       "<IPython.core.display.HTML object>"
      ]
     },
     "metadata": {},
     "output_type": "display_data"
    },
    {
     "data": {
      "text/html": [
       "<strong>IgG anti-betalactoglobulin (betalactotest): its usefulness in the diagnosis of cow's milk allergy.</strong><br>1995. Iacono G, Carroccio A, Cavataio F, Montalto G, Lorello D, Kazmierska I, Soresi M<br>[ID: 8563005]"
      ],
      "text/plain": [
       "<IPython.core.display.HTML object>"
      ]
     },
     "metadata": {},
     "output_type": "display_data"
    },
    {
     "data": {
      "text/html": [
       "<strong>The intestinal permeability test applied to the diagnosis of food allergy in paediatrics.</strong><br>1994. Laudat A, Arnaud P, Napoly A, Brion F<br>[ID: 7817543]"
      ],
      "text/plain": [
       "<IPython.core.display.HTML object>"
      ]
     },
     "metadata": {},
     "output_type": "display_data"
    },
    {
     "data": {
      "text/html": [
       "<strong><a href=http://dx.doi.org/10.1111/j.1600-0536.2007.01028.x>Experimental elicitation with hydroxyisohexyl-3-cyclohexene carboxaldehyde-containing deodorants.</a></strong><br>2007. Jørgensen PH, Jensen CD, Rastogi S, Andersen KE, Johansen JD<br>[ID: 17295689]"
      ],
      "text/plain": [
       "<IPython.core.display.HTML object>"
      ]
     },
     "metadata": {},
     "output_type": "display_data"
    },
    {
     "data": {
      "text/html": [
       "<strong><a href=http://dx.doi.org/10.1016/j.amjoto.2013.01.007>A human study model for nitric oxide research in sinonasal disease.</a></strong><br>2013. Gungor AA, Martino BJ, Dupont SC, Kuo L<br>[ID: 23398730]"
      ],
      "text/plain": [
       "<IPython.core.display.HTML object>"
      ]
     },
     "metadata": {},
     "output_type": "display_data"
    },
    {
     "data": {
      "text/html": [
       "<strong><a href=http://dx.doi.org/10.1203/00006450-200010000-00007>Does low IgA in human milk predispose the infant to development of cow's milk allergy?</a></strong><br>2000. Järvinen KM, Laine ST, Järvenpää AL, Suomalainen HK<br>[ID: 11004235]"
      ],
      "text/plain": [
       "<IPython.core.display.HTML object>"
      ]
     },
     "metadata": {},
     "output_type": "display_data"
    },
    {
     "data": {
      "text/html": [
       "<strong><a href=http://dx.doi.org/10.1007/s12032-011-0153-0>Is there association between handedness and radiosensitivity in breast cancer women?</a></strong><br>2012. Khosravifarsani M, Monfared AS, Elahimanesh F, Borzoueisileh S, Hajian-Tilaki K, Seyfizadeh N, Amiri M<br>[ID: 22219084]"
      ],
      "text/plain": [
       "<IPython.core.display.HTML object>"
      ]
     },
     "metadata": {},
     "output_type": "display_data"
    },
    {
     "data": {
      "text/html": [
       "<strong><a href=http://dx.doi.org/10.1097/MPG.0000000000001454>Complementary Feeding: A Position Paper by the European Society for Paediatric Gastroenterology, Hepatology, and Nutrition (ESPGHAN) Committee on Nutrition.</a></strong><br>2017. Fewtrell M, Bronsky J, Campoy C, Domellöf M, Embleton N, Fidler Mis N, Hojsak I, Hulst JM, Indrio F, Lapillonne A, Molgaard C<br>[ID: 28027215]"
      ],
      "text/plain": [
       "<IPython.core.display.HTML object>"
      ]
     },
     "metadata": {},
     "output_type": "display_data"
    },
    {
     "data": {
      "text/html": [
       "<strong><a href=http://dx.doi.org/10.2500/aap.2009.30.3275>Serum levels of protein oxidation products in patients with nickel allergy.</a></strong><br>2009. Gangemi S, Ricciardi L, Minciullo PL, Cristani M, Saitta S, Chirafisi J, Spatari G, Santoro G, Saija A<br>[ID: 19843408]"
      ],
      "text/plain": [
       "<IPython.core.display.HTML object>"
      ]
     },
     "metadata": {},
     "output_type": "display_data"
    },
    {
     "data": {
      "text/html": [
       "<strong><a href=http://dx.doi.org/10.1586/eci.10.18>Autism spectrum disorders and allergy: observation from a pediatric allergy/immunology clinic.</a></strong><br>2010. Jyonouchi H<br>[ID: 20441426]"
      ],
      "text/plain": [
       "<IPython.core.display.HTML object>"
      ]
     },
     "metadata": {},
     "output_type": "display_data"
    },
    {
     "data": {
      "text/html": [
       "<strong><a href=http://dx.doi.org/10.1038/nri.2016.75>Immunity by equilibrium.</a></strong><br>2016. Eberl G<br>[ID: 27396446]"
      ],
      "text/plain": [
       "<IPython.core.display.HTML object>"
      ]
     },
     "metadata": {},
     "output_type": "display_data"
    },
    {
     "data": {
      "text/html": [
       "<strong><a href=http://dx.doi.org/10.1111/j.1365-2796.2007.01836.x>Regulatory T cells in health and disease.</a></strong><br>2007. Rouse BT<br>[ID: 17598816]"
      ],
      "text/plain": [
       "<IPython.core.display.HTML object>"
      ]
     },
     "metadata": {},
     "output_type": "display_data"
    },
    {
     "data": {
      "text/html": [
       "<strong>WALNUT SENSITIZATION IN PEDIATRIC AGE: A PRELIMINARY STUDY.</strong><br>2015. Licari A, De Amici M, Marseglia A, Caimmi S, Quaglini S, Nigrisoli S, Marseglia GL<br>[ID: 26634601]"
      ],
      "text/plain": [
       "<IPython.core.display.HTML object>"
      ]
     },
     "metadata": {},
     "output_type": "display_data"
    },
    {
     "data": {
      "text/html": [
       "<strong><a href=http://dx.doi.org/10.1007/s00405-012-1967-x>The relationship between Th1/Th2 balance and 1α,25-dihydroxyvitamin D₃ in patients with nasal polyposis.</a></strong><br>2012. Ozkara S, Keles E, Ilhan N, Gungor H, Kaygusuz I, Alpay HC<br>[ID: 22358381]"
      ],
      "text/plain": [
       "<IPython.core.display.HTML object>"
      ]
     },
     "metadata": {},
     "output_type": "display_data"
    },
    {
     "data": {
      "text/html": [
       "<strong><a href=http://dx.doi.org/10.1093/jpepsy/jss007>A comparison of friendship quality and social functioning among children with perinatally acquired HIV, children with persistent asthma, and healthy children of HIV-positive mothers.</a></strong><br>2012. Baker SE, Niec LN, Meade J<br>[ID: 22366574]"
      ],
      "text/plain": [
       "<IPython.core.display.HTML object>"
      ]
     },
     "metadata": {},
     "output_type": "display_data"
    },
    {
     "data": {
      "text/html": [
       "<strong>Effect of leukotriene D4 on nasal mucosal blood flow, nasal airway resistance and nasal secretion in humans.</strong><br>1986. Bisgaard H, Olsson P, Bende M<br>[ID: 2427255]"
      ],
      "text/plain": [
       "<IPython.core.display.HTML object>"
      ]
     },
     "metadata": {},
     "output_type": "display_data"
    },
    {
     "data": {
      "text/html": [
       "<strong><a href=http://dx.doi.org/10.1186/s12917-017-1219-9>A descriptive pilot study of cytokine production following stimulation of ex-vivo whole blood with commercial therapeutic feline hydrolyzed diets in individual healthy immunotolerant cats.</a></strong><br>2017. Kathrani A, Larsen JA, Cortopassi G, Datta S, Fascetti AJ<br>[ID: 28985721]"
      ],
      "text/plain": [
       "<IPython.core.display.HTML object>"
      ]
     },
     "metadata": {},
     "output_type": "display_data"
    },
    {
     "data": {
      "text/html": [
       "<strong><a href=http://dx.doi.org/10.1177/00220345990780081101>In vitro lymphoproliferative assays with HgCl2 cannot identify patients with systemic symptoms attributed to dental amalgam.</a></strong><br>1999. Cederbrant K, Gunnarsson LG, Hultman P, Norda R, Tibbling-Grahn L<br>[ID: 10439033]"
      ],
      "text/plain": [
       "<IPython.core.display.HTML object>"
      ]
     },
     "metadata": {},
     "output_type": "display_data"
    },
    {
     "data": {
      "text/html": [
       "<strong>[The assessment of cell-mediated immunity in allergy patients].</strong><br>1990. Stoianova-Genova S<br>[ID: 2091386]"
      ],
      "text/plain": [
       "<IPython.core.display.HTML object>"
      ]
     },
     "metadata": {},
     "output_type": "display_data"
    },
    {
     "data": {
      "text/html": [
       "<strong><a href=http://dx.doi.org/10.1111/iji.12312>Genetic susceptibility to severe asthma with fungal sensitization.</a></strong><br>2017. Overton NL, Simpson A, Bowyer P, Denning DW<br>[ID: 28371335]"
      ],
      "text/plain": [
       "<IPython.core.display.HTML object>"
      ]
     },
     "metadata": {},
     "output_type": "display_data"
    },
    {
     "data": {
      "text/html": [
       "<strong><a href=http://dx.doi.org/10.1097/00006842-197808000-00006>Natural history of male psychological health, IV: what kinds of men do not get psychosomatic illness.</a></strong><br>1978. Vaillant GE<br>[ID: 715144]"
      ],
      "text/plain": [
       "<IPython.core.display.HTML object>"
      ]
     },
     "metadata": {},
     "output_type": "display_data"
    },
    {
     "data": {
      "text/html": [
       "<strong><a href=http://dx.doi.org/10.1111/j.1398-9995.2012.02859.x>Interleukin-33 amplifies IgE synthesis and triggers mast cell degranulation via interleukin-4 in naïve mice.</a></strong><br>2012. Komai-Koma M, Brombacher F, Pushparaj PN, Arendse B, McSharry C, Alexander J, Chaudhuri R, Thomson NC, McKenzie AN, McInnes I, Liew FY, Xu D<br>[ID: 22702477]"
      ],
      "text/plain": [
       "<IPython.core.display.HTML object>"
      ]
     },
     "metadata": {},
     "output_type": "display_data"
    },
    {
     "data": {
      "text/html": [
       "<strong><a href=http://dx.doi.org/10.1007/s10875-012-9651-x>Modulation of mTOR effector phosphoproteins in blood basophils from allergic patients.</a></strong><br>2012. Gernez Y, Tirouvanziam R, Reshamwala N, Yu G, Weldon BC, Galli SJ, Herzenberg LA, Nadeau KC<br>[ID: 22350221]"
      ],
      "text/plain": [
       "<IPython.core.display.HTML object>"
      ]
     },
     "metadata": {},
     "output_type": "display_data"
    },
    {
     "data": {
      "text/html": [
       "<strong><a href=http://dx.doi.org/10.1093/infdis/161.4.661>Live attenuated varicella vaccine: protection in healthy adults compared with leukemic children. National Institute of Allergy and Infectious Diseases Varicella Vaccine Collaborative Study Group.</a></strong><br>1990. Gershon AA, Steinberg SP<br>[ID: 2156941]"
      ],
      "text/plain": [
       "<IPython.core.display.HTML object>"
      ]
     },
     "metadata": {},
     "output_type": "display_data"
    },
    {
     "data": {
      "text/html": [
       "<strong><a href=http://dx.doi.org/10.2500/108854199778612617>Serological investigation of latex allergy in Argentina.</a></strong><br>1999. Docena GH, Fernández R, Ocampo M, Fossati CA<br>[ID: 10209686]"
      ],
      "text/plain": [
       "<IPython.core.display.HTML object>"
      ]
     },
     "metadata": {},
     "output_type": "display_data"
    },
    {
     "data": {
      "text/html": [
       "<strong><a href=http://dx.doi.org/10.4161/gmic.29330>The interplay between the gut microbiota and the immune system.</a></strong><br>2014. Geuking MB, Köller Y, Rupp S, McCoy KD<br>[ID: 24922519]"
      ],
      "text/plain": [
       "<IPython.core.display.HTML object>"
      ]
     },
     "metadata": {},
     "output_type": "display_data"
    },
    {
     "data": {
      "text/html": [
       "<strong>Clinical significance of atrial natriuretic peptide in different diseases of the nose.</strong><br>1989. Yue WL<br>[ID: 2525627]"
      ],
      "text/plain": [
       "<IPython.core.display.HTML object>"
      ]
     },
     "metadata": {},
     "output_type": "display_data"
    },
    {
     "data": {
      "text/html": [
       "<strong><a href=http://dx.doi.org/10.1016/j.imbio.2008.02.001>Effects of probiotic bacteria and their genomic DNA on TH1/TH2-cytokine production by peripheral blood mononuclear cells (PBMCs) of healthy and allergic subjects.</a></strong><br>2008. Ghadimi D, Fölster-Holst R, de Vrese M, Winkler P, Heller KJ, Schrezenmeir J<br>[ID: 18950596]"
      ],
      "text/plain": [
       "<IPython.core.display.HTML object>"
      ]
     },
     "metadata": {},
     "output_type": "display_data"
    },
    {
     "data": {
      "text/html": [
       "<strong><a href=http://dx.doi.org/10.1038/srep25587>Specific immunotherapy plus Clostridium butyricum alleviates ulcerative colitis in patients with food allergy.</a></strong><br>2016. Bin Lan, Yang F, Lu D, Lin Z<br>[ID: 27167186]"
      ],
      "text/plain": [
       "<IPython.core.display.HTML object>"
      ]
     },
     "metadata": {},
     "output_type": "display_data"
    },
    {
     "data": {
      "text/html": [
       "<strong><a href=http://dx.doi.org/10.2500/aap.2014.35.3733>Allergic sensitization to ornamental plants in patients with allergic rhinitis and asthma.</a></strong><br>2014. Aydin Ö, Erkekol FÖ, Misirloigil Z, Demirel YS, Mungan D<br>[ID: 24717779]"
      ],
      "text/plain": [
       "<IPython.core.display.HTML object>"
      ]
     },
     "metadata": {},
     "output_type": "display_data"
    },
    {
     "data": {
      "text/html": [
       "<strong><a href=http://dx.doi.org/10.1111/all.12173>Identification and frequency of circulating CD4(+) T lymphocytes specific to Benzylpenicillin in healthy donors.</a></strong><br>2013. Nhim C, Delluc S, Halgand F, de Chaisemartin L, Weaver RJ, Claude N, Joseph D, Maillère B, Pallardy M<br>[ID: 23751122]"
      ],
      "text/plain": [
       "<IPython.core.display.HTML object>"
      ]
     },
     "metadata": {},
     "output_type": "display_data"
    },
    {
     "data": {
      "text/html": [
       "<strong><a href=http://dx.doi.org/10.1159/000113496>Neonatal microbial flora and disease outcome.</a></strong><br>2008. Vassallo MF, Walker WA<br>[ID: 18196954]"
      ],
      "text/plain": [
       "<IPython.core.display.HTML object>"
      ]
     },
     "metadata": {},
     "output_type": "display_data"
    },
    {
     "data": {
      "text/html": [
       "<strong><a href=http://dx.doi.org/10.1177/039463201002300233>Eczema and food allergy in an Italian pediatric cohort: no association with TLR-2 and TLR-4 polymorphisms.</a></strong><br>2010. Galli E, Ciucci A, Cersosimo S, Pagnini C, Avitabile S, Mancino G, Delle Fave G, Corleto VD<br>[ID: 20646366]"
      ],
      "text/plain": [
       "<IPython.core.display.HTML object>"
      ]
     },
     "metadata": {},
     "output_type": "display_data"
    },
    {
     "data": {
      "text/html": [
       "<strong><a href=http://dx.doi.org/10.1016/j.vetimm.2007.10.018>Reduced incidence of insect-bite hypersensitivity in Icelandic horses is associated with a down-regulation of interleukin-4 by interleukin-10 and transforming growth factor-beta1.</a></strong><br>2008. Hamza E, Wagner B, Jungi TW, Mirkovitch J, Marti E<br>[ID: 18082270]"
      ],
      "text/plain": [
       "<IPython.core.display.HTML object>"
      ]
     },
     "metadata": {},
     "output_type": "display_data"
    },
    {
     "data": {
      "text/html": [
       "<strong><a href=http://dx.doi.org/10.1046/j.1365-2133.2000.03536.x>N-acetyltransferase 1 and 2 polymorphisms in para-substituted arylamine-induced contact allergy.</a></strong><br>2000. Westphal GA, Reich K, Schulz TG, Neumann C, Hallier E, Schnuch A<br>[ID: 10848734]"
      ],
      "text/plain": [
       "<IPython.core.display.HTML object>"
      ]
     },
     "metadata": {},
     "output_type": "display_data"
    },
    {
     "data": {
      "text/html": [
       "<strong><a href=http://dx.doi.org/10.1080/08039488.2017.1402952>Association of psychosis, affective disorders and diseases affecting the immune system.</a></strong><br>2018. Larsen JB, Iversen VC, Reitan SK<br>[ID: 29141491]"
      ],
      "text/plain": [
       "<IPython.core.display.HTML object>"
      ]
     },
     "metadata": {},
     "output_type": "display_data"
    },
    {
     "data": {
      "text/html": [
       "<strong>Serum total IgE in normal subjects and the influence of a family history of allergy.</strong><br>1980. Sears MR, Chow CM, Morseth DJ<br>[ID: 7449076]"
      ],
      "text/plain": [
       "<IPython.core.display.HTML object>"
      ]
     },
     "metadata": {},
     "output_type": "display_data"
    },
    {
     "data": {
      "text/html": [
       "<strong><a href=http://dx.doi.org/10.1111/1346-8138.14688>Study on the correlation between age and changes in mosquito bite response.</a></strong><br>2018. Oka K, Ohtaki N, Igawa K, Yokozeki H<br>[ID: 30353912]"
      ],
      "text/plain": [
       "<IPython.core.display.HTML object>"
      ]
     },
     "metadata": {},
     "output_type": "display_data"
    },
    {
     "data": {
      "text/html": [
       "<strong>[Testing of a liquid, ready-to-use, breast milk substitute in the county of Funen].</strong><br>1990. Kofoed PE, Engel K, Kildeberg P<br>[ID: 2402809]"
      ],
      "text/plain": [
       "<IPython.core.display.HTML object>"
      ]
     },
     "metadata": {},
     "output_type": "display_data"
    },
    {
     "data": {
      "text/html": [
       "<strong>Swim training increases ovalbumin induced active systemic anaphylaxis in mice.</strong><br>2004. Kim CH, Kwak YS<br>[ID: 15624703]"
      ],
      "text/plain": [
       "<IPython.core.display.HTML object>"
      ]
     },
     "metadata": {},
     "output_type": "display_data"
    },
    {
     "data": {
      "text/html": [
       "<strong><a href=http://dx.doi.org/10.1111/j.1399-3038.2007.00565.x>Immunomodulatory constituents of human milk change in response to infant bronchiolitis.</a></strong><br>2007. Bryan DL, Hart PH, Forsyth KD, Gibson RA<br>[ID: 17680907]"
      ],
      "text/plain": [
       "<IPython.core.display.HTML object>"
      ]
     },
     "metadata": {},
     "output_type": "display_data"
    },
    {
     "data": {
      "text/html": [
       "<strong>Gastric mucosal reactions in patients with food allergy.</strong><br>1988. Reimann HJ, Lewin J<br>[ID: 3189262]"
      ],
      "text/plain": [
       "<IPython.core.display.HTML object>"
      ]
     },
     "metadata": {},
     "output_type": "display_data"
    },
    {
     "data": {
      "text/html": [
       "<strong><a href=http://dx.doi.org/10.1111/j.1365-2133.1991.tb14745.x>IgE antibodies to Pityrosporum ovale in atopic dermatitis.</a></strong><br>1991. Wessels MW, Doekes G, Van Ieperen-Van Kijk AG, Koers WJ, Young E<br>[ID: 1911314]"
      ],
      "text/plain": [
       "<IPython.core.display.HTML object>"
      ]
     },
     "metadata": {},
     "output_type": "display_data"
    },
    {
     "data": {
      "text/html": [
       "<strong><a href=http://dx.doi.org/10.1177/0194599814536851>Effect of strong fragrance on olfactory detection threshold.</a></strong><br>2014. Fasunla AJ, Douglas DD, Adeosun AA, Steinbach S, Nwaorgu OG<br>[ID: 24898071]"
      ],
      "text/plain": [
       "<IPython.core.display.HTML object>"
      ]
     },
     "metadata": {},
     "output_type": "display_data"
    },
    {
     "data": {
      "text/html": [
       "<strong><a href=http://dx.doi.org/10.1111/j.1398-9995.1988.tb02038.x>Development of atopic disease after early administration of cow milk formula.</a></strong><br>1988. Lindfors A, Enocksson E<br>[ID: 3344931]"
      ],
      "text/plain": [
       "<IPython.core.display.HTML object>"
      ]
     },
     "metadata": {},
     "output_type": "display_data"
    },
    {
     "data": {
      "text/html": [
       "<strong><a href=http://dx.doi.org/10.1017/S0029665119000612>The influence of maternal and infant nutrition on cardiometabolic traits: novel findings and future research directions from four Canadian birth cohort studies.</a></strong><br>2019. de Souza RJ, Zulyniak MA, Stearns JC, Wahi G, Teo K, Gupta M, Sears MR, Subbarao P, Anand SS<br>[ID: 31140389]"
      ],
      "text/plain": [
       "<IPython.core.display.HTML object>"
      ]
     },
     "metadata": {},
     "output_type": "display_data"
    },
    {
     "data": {
      "text/html": [
       "<strong>Nasal lavage fluid examination and rhinomanometry in the diagnostics of occupational airway allergy to laboratory animals.</strong><br>2003. Krakowiak A, Ruta U, Górski P, Kowalska S, Pałczyński C<br>[ID: 12921381]"
      ],
      "text/plain": [
       "<IPython.core.display.HTML object>"
      ]
     },
     "metadata": {},
     "output_type": "display_data"
    },
    {
     "data": {
      "text/html": [
       "<strong>Contact allergy to glucocorticosteroids in patients with chronic venous leg ulcers, atopic dermatitis and contact allergy.</strong><br>2008. Zmudzinska M, Czarnecka-Operacz M, Silny W<br>[ID: 18541102]"
      ],
      "text/plain": [
       "<IPython.core.display.HTML object>"
      ]
     },
     "metadata": {},
     "output_type": "display_data"
    },
    {
     "data": {
      "text/html": [
       "<strong><a href=http://dx.doi.org/10.1016/j.ijheh.2016.11.012>Medical diagnostics for indoor mold exposure.</a></strong><br>2017. Hurraß J, Heinzow B, Aurbach U, Bergmann KC, Bufe A, Buzina W, Cornely OA, Engelhart S, Fischer G, Gabrio T, Heinz W, Herr CEW, Kleine-Tebbe J, Klimek L, Köberle M, Lichtnecker H, Lob-Corzilius T, Merget R, Mülleneisen N, Nowak D, ...<br>[ID: 27986496]"
      ],
      "text/plain": [
       "<IPython.core.display.HTML object>"
      ]
     },
     "metadata": {},
     "output_type": "display_data"
    },
    {
     "data": {
      "text/html": [
       "<strong><a href=http://dx.doi.org/10.1111/j.1600-0536.1994.tb01903.x>Aluminium allergy in patients hyposensitized with aluminium-precipitated antigen extracts.</a></strong><br>1994. Lopez S, Pelaez A, Navarro LA, Montesinos E, Morales C, Carda C<br>[ID: 7924292]"
      ],
      "text/plain": [
       "<IPython.core.display.HTML object>"
      ]
     },
     "metadata": {},
     "output_type": "display_data"
    },
    {
     "data": {
      "text/html": [
       "<strong><a href=http://dx.doi.org/10.1111/all.13218>Transfer of innovation on allergic rhinitis and asthma multimorbidity in the elderly (MACVIA-ARIA) - EIP on AHA Twinning Reference Site (GARD research demonstration project).</a></strong><br>2018. Bousquet J, Agache I, Aliberti MR, Angles R, Annesi-Maesano I, Anto JM, Arnavielhe S, Asayag E, Bacci E, Bedbrook A, Bachert C, Baroni I, Barreto BA, Bedolla-Barajas M, Bergmann KC, Bertorello L, Bewick M, Bieber T, Birov S, Bindslev-Jensen C, ...<br>[ID: 28600902]"
      ],
      "text/plain": [
       "<IPython.core.display.HTML object>"
      ]
     },
     "metadata": {},
     "output_type": "display_data"
    },
    {
     "data": {
      "text/html": [
       "<strong>[Serum complement and immunoglobulins in patients with common migraine].</strong><br>1984. Nattero G, Savi L, Allais G, Biale L<br>[ID: 6728267]"
      ],
      "text/plain": [
       "<IPython.core.display.HTML object>"
      ]
     },
     "metadata": {},
     "output_type": "display_data"
    },
    {
     "data": {
      "text/html": [
       "<strong><a href=http://dx.doi.org/10.1186/s40413-016-0091-6>Prime and boost aerosol exposure via fog machine or shisha smoke followed by cinnamon hypersensitivity and anaphylaxis to spiced food.</a></strong><br>2016. Jensen-Jarolim E, Roth-Walter F, Leitner E, Buchleitner S, Vogelsang H, Kinaciyan T<br>[ID: 26839630]"
      ],
      "text/plain": [
       "<IPython.core.display.HTML object>"
      ]
     },
     "metadata": {},
     "output_type": "display_data"
    },
    {
     "data": {
      "text/html": [
       "<strong><a href=http://dx.doi.org/10.1016/j.cyto.2012.08.009>Combining gene expression microarray- and cluster analysis with sequence-based predictions to identify regulators of IL-13 in allergy.</a></strong><br>2012. Bruhn S, Katzenellenbogen M, Gustafsson M, Krönke A, Sönnichsen B, Zhang H, Benson M<br>[ID: 22981205]"
      ],
      "text/plain": [
       "<IPython.core.display.HTML object>"
      ]
     },
     "metadata": {},
     "output_type": "display_data"
    },
    {
     "data": {
      "text/html": [
       "<strong><a href=http://dx.doi.org/10.1016/s0022-3476(05)83306-2>Family dysfunction in asthma: a prospective study of illness development.</a></strong><br>1994. Gustafsson PA, Björkstén B, Kjellman NI<br>[ID: 8071765]"
      ],
      "text/plain": [
       "<IPython.core.display.HTML object>"
      ]
     },
     "metadata": {},
     "output_type": "display_data"
    },
    {
     "data": {
      "text/html": [
       "<strong><a href=http://dx.doi.org/10.1159/000351487>Dietary interventions for primary allergy prevention--what is the evidence?</a></strong><br>2013. von Berg A<br>[ID: 24029789]"
      ],
      "text/plain": [
       "<IPython.core.display.HTML object>"
      ]
     },
     "metadata": {},
     "output_type": "display_data"
    },
    {
     "data": {
      "text/html": [
       "<strong><a href=http://dx.doi.org/10.1155/S096293519500007X>Elevation of soluble interleukin-2 receptor levels in nasal allergy.</a></strong><br>1995. Hisamatsu K, Ganbo T, Nakazawa T, Horiguchi S, Shimomura S, Murakami Y<br>[ID: 18475614]"
      ],
      "text/plain": [
       "<IPython.core.display.HTML object>"
      ]
     },
     "metadata": {},
     "output_type": "display_data"
    },
    {
     "data": {
      "text/html": [
       "<strong>[Natural latex allergy. Primary and secondary prevention in work environment].</strong><br>2000. Virey-Griffaton E, Lehucher-Michel MP, Vervloet D<br>[ID: 10701408]"
      ],
      "text/plain": [
       "<IPython.core.display.HTML object>"
      ]
     },
     "metadata": {},
     "output_type": "display_data"
    },
    {
     "data": {
      "text/html": [
       "<strong><a href=http://dx.doi.org/10.1172/jci.insight.123879>Treg gene signatures predict and measure type 1 diabetes trajectory.</a></strong><br>2019. Pesenacker AM, Chen V, Gillies J, Speake C, Marwaha AK, Sun A, Chow S, Tan R, Elliott T, Dutz JP, Tebbutt SJ, Levings MK<br>[ID: 30730852]"
      ],
      "text/plain": [
       "<IPython.core.display.HTML object>"
      ]
     },
     "metadata": {},
     "output_type": "display_data"
    },
    {
     "data": {
      "text/html": [
       "<strong><a href=http://dx.doi.org/10.1159/000099604>Protection from occupational allergens.</a></strong><br>2007. Schalock PC, Zug KA<br>[ID: 17312357]"
      ],
      "text/plain": [
       "<IPython.core.display.HTML object>"
      ]
     },
     "metadata": {},
     "output_type": "display_data"
    },
    {
     "data": {
      "text/html": [
       "<strong>Contact allergy to colophony. Clinical and experimental studies with emphasis on clinical relevance.</strong><br>1998. Färm G<br>[ID: 9833065]"
      ],
      "text/plain": [
       "<IPython.core.display.HTML object>"
      ]
     },
     "metadata": {},
     "output_type": "display_data"
    },
    {
     "data": {
      "text/html": [
       "<strong>Impaired immune function in patients with xeroderma pigmentosum.</strong><br>1985. Morison WL, Bucana C, Hashem N, Kripke ML, Cleaver JE, German JL<br>[ID: 4016759]"
      ],
      "text/plain": [
       "<IPython.core.display.HTML object>"
      ]
     },
     "metadata": {},
     "output_type": "display_data"
    },
    {
     "data": {
      "text/html": [
       "<strong>[Study of IgE.IgG4 antibodies on eczema in infants. II. Clinical characteristics of infants with egg white.RAST 4+].</strong><br>1991. Sasamoto A, Saito S, Uchiyama H, Kishida M, Tago H, Koya N, Matumoto H, Koshibu T, Iikura Y<br>[ID: 1763961]"
      ],
      "text/plain": [
       "<IPython.core.display.HTML object>"
      ]
     },
     "metadata": {},
     "output_type": "display_data"
    },
    {
     "data": {
      "text/html": [
       "<strong>Vaccination strategies in young children at risk for allergy.</strong><br>1999. Duchén K, Björkstén B<br>[ID: 11487868]"
      ],
      "text/plain": [
       "<IPython.core.display.HTML object>"
      ]
     },
     "metadata": {},
     "output_type": "display_data"
    },
    {
     "data": {
      "text/html": [
       "<strong><a href=http://dx.doi.org/10.1159/000431359>Integrated Allergy and Asthma Prevention and Care: Report of the MeDALL/AIRWAYS ICPs Meeting at the Ministry of Health and Care Services, Oslo, Norway.</a></strong><br>2015. Lødrup Carlsen KC, Haahtela T, Carlsen KH, Smith A, Bjerke M, Wickman M, Keil T, Ballereau S, Bedbrook A, Bergström A, Nawjin MC, Pinart M, Skrindo I, Xu CJ, De Carlo G, Anto JM, Bousquet J<br>[ID: 26184344]"
      ],
      "text/plain": [
       "<IPython.core.display.HTML object>"
      ]
     },
     "metadata": {},
     "output_type": "display_data"
    },
    {
     "data": {
      "text/html": [
       "<strong><a href=http://dx.doi.org/10.1016/s0264-410x(03)00158-0>Long-term safety analysis of preventive HIV-1 vaccines evaluated in AIDS vaccine evaluation group NIAID-sponsored Phase I and II clinical trials.</a></strong><br>2003. Gilbert PB, Chiu YL, Allen M, Lawrence DN, Chapdu C, Israel H, Holman D, Keefer MC, Wolff M, Frey SE, NIAID HIV Vaccine Trials Network.<br>[ID: 12798637]"
      ],
      "text/plain": [
       "<IPython.core.display.HTML object>"
      ]
     },
     "metadata": {},
     "output_type": "display_data"
    },
    {
     "data": {
      "text/html": [
       "<strong><a href=http://dx.doi.org/10.1016/j.tvjl.2016.11.013>In vitro effects of the toll-like receptor agonists monophosphoryl lipid A and CpG-rich oligonucleotides on cytokine production by equine cells.</a></strong><br>2017. Ziegler A, Gerber V, Marti E<br>[ID: 28093114]"
      ],
      "text/plain": [
       "<IPython.core.display.HTML object>"
      ]
     },
     "metadata": {},
     "output_type": "display_data"
    },
    {
     "data": {
      "text/html": [
       "<strong><a href=http://dx.doi.org/10.1186/s40413-018-0212-5>Comparison of microbiota and allergen profile in house dust from homes of allergic and non-allergic subjects- results from the GUSTO study.</a></strong><br>2018. Loo EXL, Chew LJM, Zulkifli AB, Ta LDH, Kuo IC, Goh A, Teoh OH, Van Bever H, Gluckman PD, Yap F, Tan KH, Chong YS, Lee BW, Shek LP<br>[ID: 30534340]"
      ],
      "text/plain": [
       "<IPython.core.display.HTML object>"
      ]
     },
     "metadata": {},
     "output_type": "display_data"
    },
    {
     "data": {
      "text/html": [
       "<strong><a href=http://dx.doi.org/10.1111/j.1398-9995.1995.tb05067.x>Anti-IgE autoantibodies and bee-sting allergy.</a></strong><br>1995. Yu Y, de Weck AL, Stadler BM, Müller U<br>[ID: 7604933]"
      ],
      "text/plain": [
       "<IPython.core.display.HTML object>"
      ]
     },
     "metadata": {},
     "output_type": "display_data"
    },
    {
     "data": {
      "text/html": [
       "<strong><a href=http://dx.doi.org/10.1111/petr.12581>Cytokine profile of food-allergic post-liver transplant children is identified by high levels of IL-5 and low IL-10 secretion from patients' peripheral blood mononuclear cells.</a></strong><br>2015. Nahum A, Brener A, Granot E<br>[ID: 26282695]"
      ],
      "text/plain": [
       "<IPython.core.display.HTML object>"
      ]
     },
     "metadata": {},
     "output_type": "display_data"
    },
    {
     "data": {
      "text/html": [
       "<strong><a href=http://dx.doi.org/10.3390/ijms20010045>Activation of Human Peripheral Basophils in Response to High IgE Antibody Concentrations without Antigens.</a></strong><br>2018. Yanase Y, Matsuo Y, Kawaguchi T, Ishii K, Tanaka A, Iwamoto K, Takahagi S, Hide M<br>[ID: 30583496]"
      ],
      "text/plain": [
       "<IPython.core.display.HTML object>"
      ]
     },
     "metadata": {},
     "output_type": "display_data"
    },
    {
     "data": {
      "text/html": [
       "<strong><a href=http://dx.doi.org/10.1080/00015550310006554>Allergy and irritation: an adverse association in patients with atopic eczema.</a></strong><br>2003. Löffler H, Steffes A, Happle R, Effendy I<br>[ID: 14609097]"
      ],
      "text/plain": [
       "<IPython.core.display.HTML object>"
      ]
     },
     "metadata": {},
     "output_type": "display_data"
    },
    {
     "data": {
      "text/html": [
       "<strong><a href=http://dx.doi.org/10.2500/108854101778250571>Immunoglobulins in tears and sera in patients with atopic dermatitis.</a></strong><br>2001. Somos S, Schneider I, Farkas B<br>[ID: 11332296]"
      ],
      "text/plain": [
       "<IPython.core.display.HTML object>"
      ]
     },
     "metadata": {},
     "output_type": "display_data"
    },
    {
     "data": {
      "text/html": [
       "<strong><a href=http://dx.doi.org/10.1111/j.1398-9995.1994.tb02095.x>Serum eosinophil cationic protein in relation to bronchial asthma in a young Swedish population.</a></strong><br>1994. Björnsson E, Janson C, Håkansson L, Enander I, Venge P, Boman G<br>[ID: 7695062]"
      ],
      "text/plain": [
       "<IPython.core.display.HTML object>"
      ]
     },
     "metadata": {},
     "output_type": "display_data"
    },
    {
     "data": {
      "text/html": [
       "<strong><a href=http://dx.doi.org/10.1111/1523-1747.ep12469023>In vitro studies in nickel allergy: diagnostic value of a dual parameter analysis.</a></strong><br>1987. von Blomberg-van der Flier M, van der Burg CK, Pos O, van de Plassche-Boers EM, Bruynzeel DP, Garotta G, Scheper RJ<br>[ID: 3549912]"
      ],
      "text/plain": [
       "<IPython.core.display.HTML object>"
      ]
     },
     "metadata": {},
     "output_type": "display_data"
    },
    {
     "data": {
      "text/html": [
       "<strong><a href=http://dx.doi.org/10.1080/00039899709602884>Chamber exposures of children to mixed ozone, sulfur dioxide, and sulfuric acid.</a></strong><br>1997. Linn WS, Gong H Jr, Shamoo DA, Anderson KR, Avol EL<br>[ID: 9169627]"
      ],
      "text/plain": [
       "<IPython.core.display.HTML object>"
      ]
     },
     "metadata": {},
     "output_type": "display_data"
    },
    {
     "data": {
      "text/html": [
       "<strong>[Contact sensitization to thimerosal in healthy subjects].</strong><br>1989. Seidenari S, Manzini BM, Modenese M, Danese P<br>[ID: 2534118]"
      ],
      "text/plain": [
       "<IPython.core.display.HTML object>"
      ]
     },
     "metadata": {},
     "output_type": "display_data"
    },
    {
     "data": {
      "text/html": [
       "<strong><a href=http://dx.doi.org/10.1136/adc.62.3.258>Asthma and family interaction.</a></strong><br>1987. Gustafsson PA, Kjellman NI, Ludvigsson J, Cederblad M<br>[ID: 3566317]"
      ],
      "text/plain": [
       "<IPython.core.display.HTML object>"
      ]
     },
     "metadata": {},
     "output_type": "display_data"
    },
    {
     "data": {
      "text/html": [
       "<strong><a href=http://dx.doi.org/10.1093/jn/137.11.2420>Early supplementation of prebiotic oligosaccharides protects formula-fed infants against infections during the first 6 months of life.</a></strong><br>2007. Arslanoglu S, Moro GE, Boehm G<br>[ID: 17951479]"
      ],
      "text/plain": [
       "<IPython.core.display.HTML object>"
      ]
     },
     "metadata": {},
     "output_type": "display_data"
    },
    {
     "data": {
      "text/html": [
       "<strong><a href=http://dx.doi.org/10.1155/2016/1497375>Quality of Life, Stress, and Mental Health in Parents of Children with Parentally Diagnosed Food Allergy Compared to Medically Diagnosed and Healthy Controls.</a></strong><br>2016. Birdi G, Cooke R, Knibb R<br>[ID: 27429624]"
      ],
      "text/plain": [
       "<IPython.core.display.HTML object>"
      ]
     },
     "metadata": {},
     "output_type": "display_data"
    },
    {
     "data": {
      "text/html": [
       "<strong><a href=http://dx.doi.org/10.1111/j.1365-2222.2007.02824.x>Increased release of histamine in patients with respiratory symptoms related to perfume.</a></strong><br>2007. Elberling J, Skov PS, Mosbech H, Holst H, Dirksen A, Johansen JD<br>[ID: 17877753]"
      ],
      "text/plain": [
       "<IPython.core.display.HTML object>"
      ]
     },
     "metadata": {},
     "output_type": "display_data"
    },
    {
     "data": {
      "text/html": [
       "<strong><a href=http://dx.doi.org/10.1089/ped.2011.0116>The Greater Cincinnati Pediatric Clinic Repository: A Novel Framework for Childhood Asthma and Allergy Research.</a></strong><br>2012. Butsch Kovacic M, Biagini Myers JM, Lindsey M, Patterson T, Sauter S, Ericksen MB, Ryan P, Assa'ad A, Lierl M, Fischer T, Kercsmar C, McDowell K, Lucky AW, Sheth AP, Hershey AD, Ruddy RM, Rothenberg ME, Khurana Hershey GK<br>[ID: 22768387]"
      ],
      "text/plain": [
       "<IPython.core.display.HTML object>"
      ]
     },
     "metadata": {},
     "output_type": "display_data"
    },
    {
     "data": {
      "text/html": [
       "<strong><a href=http://dx.doi.org/10.1016/j.sjbs.2017.11.051>Early-life gut microbiome and cow's milk allergy- a prospective case - control 6-month follow-up study.</a></strong><br>2018. Dong P, Feng JJ, Yan DY, Lyu YJ, Xu X<br>[ID: 30108435]"
      ],
      "text/plain": [
       "<IPython.core.display.HTML object>"
      ]
     },
     "metadata": {},
     "output_type": "display_data"
    },
    {
     "data": {
      "text/html": [
       "<strong><a href=http://dx.doi.org/10.1007/s12223-010-0085-7>Cytokine expression in cord blood cells of children of healthy and allergic mothers.</a></strong><br>2010. Hrdý J, Zanvit P, Novotná O, Kocourková I, Zižka J, Prokešová L<br>[ID: 20941589]"
      ],
      "text/plain": [
       "<IPython.core.display.HTML object>"
      ]
     },
     "metadata": {},
     "output_type": "display_data"
    },
    {
     "data": {
      "text/html": [
       "<strong><a href=http://dx.doi.org/10.1164/arrd.1980.121.6.979>Upper and lower airway hyperreactivity in recurrent croup.</a></strong><br>1980. Zach MS, Schnall RP, Landau LI<br>[ID: 7416597]"
      ],
      "text/plain": [
       "<IPython.core.display.HTML object>"
      ]
     },
     "metadata": {},
     "output_type": "display_data"
    },
    {
     "data": {
      "text/html": [
       "<strong><a href=http://dx.doi.org/10.1371/journal.pone.0045377>Elevated antigen-driven IL-9 responses are prominent in peanut allergic humans.</a></strong><br>2012. Xie J, Lotoski LC, Chooniedass R, Su RC, Simons FE, Liem J, Becker AB, Uzonna J, HayGlass KT<br>[ID: 23071516]"
      ],
      "text/plain": [
       "<IPython.core.display.HTML object>"
      ]
     },
     "metadata": {},
     "output_type": "display_data"
    },
    {
     "data": {
      "text/html": [
       "<strong><a href=http://dx.doi.org/10.13075/mp.5893.00717>[The usefulness of bronchial challenge tests in the diagnosis of occupational asthma].</a></strong><br>2018. Nowakowska-Świrta E, Wiszniewska M, Walusiak-Skorupa J<br>[ID: 30010162]"
      ],
      "text/plain": [
       "<IPython.core.display.HTML object>"
      ]
     },
     "metadata": {},
     "output_type": "display_data"
    },
    {
     "data": {
      "text/html": [
       "<strong><a href=http://dx.doi.org/10.1203/00006450-199901000-00013>Relation between weak HLA-DR expression on human breast milk macrophages and cow milk allergy (CMA) in suckling infants.</a></strong><br>1999. Järvinen KM, Juntunen-Backman K, Suomalainen H<br>[ID: 9890612]"
      ],
      "text/plain": [
       "<IPython.core.display.HTML object>"
      ]
     },
     "metadata": {},
     "output_type": "display_data"
    },
    {
     "data": {
      "text/html": [
       "<strong><a href=http://dx.doi.org/10.1007/bf01296106>Bioavailability of 5-aminosalicyclic acid from slow release 5-aminosalicyclic acid drug and sulfasalazine in normal children.</a></strong><br>1993. Christensen LA, Fallingborg J, Jacobsen BA, Abildgaard K, Rasmussen HH, Rasmussen SN, Hansen SH<br>[ID: 8104772]"
      ],
      "text/plain": [
       "<IPython.core.display.HTML object>"
      ]
     },
     "metadata": {},
     "output_type": "display_data"
    },
    {
     "data": {
      "text/html": [
       "<strong><a href=http://dx.doi.org/10.1007/s11033-010-0512-5>The Bcl I single nucleotide polymorphism of the human glucocorticoid receptor gene h-GR/NR3C1 promoter in patients with bronchial asthma: pilot study.</a></strong><br>2011. Pietras T, Panek M, Tworek D, Oszajca K, Wujcik R, Górski P, Kuna P, Szemraj J<br>[ID: 21113676]"
      ],
      "text/plain": [
       "<IPython.core.display.HTML object>"
      ]
     },
     "metadata": {},
     "output_type": "display_data"
    },
    {
     "data": {
      "text/html": [
       "<strong><a href=http://dx.doi.org/10.1038/ncomms8545>Genomic modulators of gene expression in human neutrophils.</a></strong><br>2015. Naranbhai V, Fairfax BP, Makino S, Humburg P, Wong D, Ng E, Hill AV, Knight JC<br>[ID: 26151758]"
      ],
      "text/plain": [
       "<IPython.core.display.HTML object>"
      ]
     },
     "metadata": {},
     "output_type": "display_data"
    },
    {
     "data": {
      "text/html": [
       "<strong><a href=http://dx.doi.org/10.1016/j.jaci.2005.03.053>From idiopathic infectious diseases to novel primary immunodeficiencies.</a></strong><br>2005. Casanova JL, Fieschi C, Bustamante J, Reichenbach J, Remus N, von Bernuth H, Picard C<br>[ID: 16083801]"
      ],
      "text/plain": [
       "<IPython.core.display.HTML object>"
      ]
     },
     "metadata": {},
     "output_type": "display_data"
    },
    {
     "data": {
      "text/html": [
       "<strong><a href=http://dx.doi.org/10.1186/s40413-018-0191-6>Debates in Allergy Medicine: Does oral immunotherapy shorten the duration of milk and egg allergy? The pro argument.</a></strong><br>2018. Pecora V, Valluzzi RL, Mennini M, Fierro V, Dahdah L<br>[ID: 29977438]"
      ],
      "text/plain": [
       "<IPython.core.display.HTML object>"
      ]
     },
     "metadata": {},
     "output_type": "display_data"
    },
    {
     "data": {
      "text/html": [
       "<strong><a href=http://dx.doi.org/10.1371/journal.pone.0198607>Increased prevalence of eating disorders as a biopsychosocial implication of food allergy.</a></strong><br>2018. Wróblewska B, Szyc AM, Markiewicz LH, Zakrzewska M, Romaszko E<br>[ID: 29944672]"
      ],
      "text/plain": [
       "<IPython.core.display.HTML object>"
      ]
     },
     "metadata": {},
     "output_type": "display_data"
    },
    {
     "data": {
      "text/html": [
       "<strong>Egg and milk allergy in asthmatic children: assessment by immulite allergy food panel, skin prick tests and double-blind placebo-controlled food challenges.</strong><br>1999. Yazicioğlu M, Başpinar I, Oneş U, Pala O, Kiziler U<br>[ID: 10611552]"
      ],
      "text/plain": [
       "<IPython.core.display.HTML object>"
      ]
     },
     "metadata": {},
     "output_type": "display_data"
    },
    {
     "data": {
      "text/html": [
       "<strong><a href=http://dx.doi.org/10.1093/eurpub/ckl253>Reported versus measured body weight and height of 4-year-old children and the prevalence of overweight.</a></strong><br>2007. Scholtens S, Brunekreef B, Visscher TL, Smit HA, Kerkhof M, de Jongste JC, Gerritsen J, Wijga AH<br>[ID: 17124194]"
      ],
      "text/plain": [
       "<IPython.core.display.HTML object>"
      ]
     },
     "metadata": {},
     "output_type": "display_data"
    },
    {
     "data": {
      "text/html": [
       "<strong><a href=http://dx.doi.org/10.1016/j.molimm.2016.12.012>Biomarkers associated with disease severity in allergic and nonallergic asthma.</a></strong><br>2017. Baos S, Calzada D, Cremades L, Sastre J, Quiralte J, Florido F, Lahoz C, Cárdaba B<br>[ID: 28011367]"
      ],
      "text/plain": [
       "<IPython.core.display.HTML object>"
      ]
     },
     "metadata": {},
     "output_type": "display_data"
    },
    {
     "data": {
      "text/html": [
       "<strong><a href=http://dx.doi.org/10.1097/MPG.0000000000001337>Amino Acid-based Formula in Cow's Milk Allergy: Long-term Effects on Body Growth and Protein Metabolism.</a></strong><br>2017. Canani RB, Nocerino R, Frediani T, Lucarelli S, Di Scala C, Varin E, Leone L, Muraro A, Agostoni C<br>[ID: 27437928]"
      ],
      "text/plain": [
       "<IPython.core.display.HTML object>"
      ]
     },
     "metadata": {},
     "output_type": "display_data"
    },
    {
     "data": {
      "text/html": [
       "<strong><a href=http://dx.doi.org/10.1111/1744-9987.12836>Effect of Local Polyhexanide Application in Preventing Exit-Site Infection and Peritonitis: A Randomized Controlled Trial.</a></strong><br>2019. Ceri M, Yilmaz SR, Unverdi S, Kurultak I, Duranay M<br>[ID: 31066988]"
      ],
      "text/plain": [
       "<IPython.core.display.HTML object>"
      ]
     },
     "metadata": {},
     "output_type": "display_data"
    },
    {
     "data": {
      "text/html": [
       "<strong><a href=http://dx.doi.org/10.4049/jimmunol.1002568>Gene expression patterns of Th2 inflammation and intercellular communication in asthmatic airways.</a></strong><br>2011. Choy DF, Modrek B, Abbas AR, Kummerfeld S, Clark HF, Wu LC, Fedorowicz G, Modrusan Z, Fahy JV, Woodruff PG, Arron JR<br>[ID: 21187436]"
      ],
      "text/plain": [
       "<IPython.core.display.HTML object>"
      ]
     },
     "metadata": {},
     "output_type": "display_data"
    },
    {
     "data": {
      "text/html": [
       "<strong><a href=http://dx.doi.org/10.1111/imr.12556>The nutrition-gut microbiome-physiology axis and allergic diseases.</a></strong><br>2017. McKenzie C, Tan J, Macia L, Mackay CR<br>[ID: 28658542]"
      ],
      "text/plain": [
       "<IPython.core.display.HTML object>"
      ]
     },
     "metadata": {},
     "output_type": "display_data"
    },
    {
     "data": {
      "text/html": [
       "<strong><a href=http://dx.doi.org/10.1111/imr.12555>Mechanisms of immune regulation in allergic diseases: the role of regulatory T and B cells.</a></strong><br>2017. Palomares O, Akdis M, Martín-Fontecha M, Akdis CA<br>[ID: 28658547]"
      ],
      "text/plain": [
       "<IPython.core.display.HTML object>"
      ]
     },
     "metadata": {},
     "output_type": "display_data"
    },
    {
     "data": {
      "text/html": [
       "<strong>[Cytology of nasal mucous membrane in pollen allergy].</strong><br>1989. Miszke A, Sanokowska E, Chomiak-Stachura E, Rybarska I<br>[ID: 2812796]"
      ],
      "text/plain": [
       "<IPython.core.display.HTML object>"
      ]
     },
     "metadata": {},
     "output_type": "display_data"
    },
    {
     "data": {
      "text/html": [
       "<strong><a href=http://dx.doi.org/10.1371/journal.pone.0136141>The Absence of CYP3A5*3 Is a Protective Factor to Anticonvulsants Hypersensitivity Reactions: A Case-Control Study in Brazilian Subjects.</a></strong><br>2015. Tanno LK, Kerr DS, dos Santos B, Talib LL, Yamaguti C, Rodrigues H, Gattaz WF, Kalil J<br>[ID: 26291084]"
      ],
      "text/plain": [
       "<IPython.core.display.HTML object>"
      ]
     },
     "metadata": {},
     "output_type": "display_data"
    },
    {
     "data": {
      "text/html": [
       "<strong><a href=http://dx.doi.org/10.1016/j.phrs.2012.02.001>A diet enriched with cocoa prevents IgE synthesis in a rat allergy model.</a></strong><br>2012. Abril-Gil M, Massot-Cladera M, Pérez-Cano FJ, Castellote C, Franch A, Castell M<br>[ID: 22342543]"
      ],
      "text/plain": [
       "<IPython.core.display.HTML object>"
      ]
     },
     "metadata": {},
     "output_type": "display_data"
    },
    {
     "data": {
      "text/html": [
       "<strong><a href=http://dx.doi.org/10.3238/arztebl.2016.0435>Breastfeeding and Complementary Feeding.</a></strong><br>2016. Prell C, Koletzko B<br>[ID: 27397020]"
      ],
      "text/plain": [
       "<IPython.core.display.HTML object>"
      ]
     },
     "metadata": {},
     "output_type": "display_data"
    },
    {
     "data": {
      "text/html": [
       "<strong><a href=http://dx.doi.org/10.1016/j.cellimm.2005.06.006>Production of biologically active recombinant human soluble CD23 and its effect on PBMCs isolated from hyper-IgE blood.</a></strong><br>2005. Daniels BB, Askew SL, van de Venter M, Oosthuizen V<br>[ID: 16083870]"
      ],
      "text/plain": [
       "<IPython.core.display.HTML object>"
      ]
     },
     "metadata": {},
     "output_type": "display_data"
    },
    {
     "data": {
      "text/html": [
       "<strong><a href=http://dx.doi.org/10.12659/msm.882504>Serum-soluble TRAIL levels in patients with severe persistent allergic asthma: its relation to omalizumab treatment.</a></strong><br>2012. Yalcin AD, Bisgin A, Kargi A, Gorczynski RM<br>[ID: 22367138]"
      ],
      "text/plain": [
       "<IPython.core.display.HTML object>"
      ]
     },
     "metadata": {},
     "output_type": "display_data"
    },
    {
     "data": {
      "text/html": [
       "<strong>Acquired granulocyte abnormality during drug allergic reactions: possible role of complement activation.</strong><br>1977. Bowers TK, Craddock PR, Jacob HS<br>[ID: 830375]"
      ],
      "text/plain": [
       "<IPython.core.display.HTML object>"
      ]
     },
     "metadata": {},
     "output_type": "display_data"
    },
    {
     "data": {
      "text/html": [
       "<strong><a href=http://dx.doi.org/10.1186/1476-7961-2-11>First successful case of in vitro fertilization-embryo transfer with venom immunotherapy for hymenoptera sting allergy.</a></strong><br>2004. Sills ES, Conway SC, Kaplan CR, Perloe M, Tucker MJ<br>[ID: 15494069]"
      ],
      "text/plain": [
       "<IPython.core.display.HTML object>"
      ]
     },
     "metadata": {},
     "output_type": "display_data"
    },
    {
     "data": {
      "text/html": [
       "<strong>T helper cell dichotomy to Candida albicans: implications for pathology, therapy, and vaccine design.</strong><br>1995. Romani L, Cenci E, Menacci A, Bistoni F, Puccetti P<br>[ID: 8530878]"
      ],
      "text/plain": [
       "<IPython.core.display.HTML object>"
      ]
     },
     "metadata": {},
     "output_type": "display_data"
    },
    {
     "data": {
      "text/html": [
       "<strong><a href=http://dx.doi.org/10.4168/aair.2016.8.4.338>Age-Related Changes in Immunological Factors and Their Relevance in Allergic Disease Development During Childhood.</a></strong><br>2016. Chang WS, Kim EJ, Lim YM, Yoon D, Son JY, Park JW, Hong SJ, Cho SH, Lee JS<br>[ID: 27126727]"
      ],
      "text/plain": [
       "<IPython.core.display.HTML object>"
      ]
     },
     "metadata": {},
     "output_type": "display_data"
    },
    {
     "data": {
      "text/html": [
       "<strong><a href=http://dx.doi.org/10.1016/0022-1759(94)90039-6>A novel bioactivity assay for monoclonal antibodies directed against IgE.</a></strong><br>1994. Fei DT, Lowe J, Jardieu P<br>[ID: 7515086]"
      ],
      "text/plain": [
       "<IPython.core.display.HTML object>"
      ]
     },
     "metadata": {},
     "output_type": "display_data"
    },
    {
     "data": {
      "text/html": [
       "<strong>Perioperative allergy: clinical manifestations.</strong><br>2011. Peroni DG, Sansotta N, Bernardini R, Cardinale F, Paravati F, Franceschini F, Boner AL<br>[ID: 22014928]"
      ],
      "text/plain": [
       "<IPython.core.display.HTML object>"
      ]
     },
     "metadata": {},
     "output_type": "display_data"
    },
    {
     "data": {
      "text/html": [
       "<strong>[Concentration of anti-brain antibodies in the blood of patients with diffuse toxic goiter and thyrotoxic encephalopathy].</strong><br>1986. Oleĭnik VA, Malyzhev VA<br>[ID: 3754967]"
      ],
      "text/plain": [
       "<IPython.core.display.HTML object>"
      ]
     },
     "metadata": {},
     "output_type": "display_data"
    },
    {
     "data": {
      "text/html": [
       "<strong><a href=http://dx.doi.org/10.1024/0300-9831/a000529>Physicochemical Properties and Health Benefits of Pistachio Nuts.</a></strong><br>2019. Esmaeili Nadimi A, Ahmadi Z, Falahati-Pour SK, Mohamadi M, Nazari A, Hassanshahi G, Ekramzadeh M<br>[ID: 30747609]"
      ],
      "text/plain": [
       "<IPython.core.display.HTML object>"
      ]
     },
     "metadata": {},
     "output_type": "display_data"
    },
    {
     "data": {
      "text/html": [
       "<strong><a href=http://dx.doi.org/10.1111/j.0906-6705.2005.00344.x>Improved detection of allergen-specific T-cell responses in allergic contact dermatitis through the addition of 'cytokine cocktails'.</a></strong><br>2005. Moed H, von Blomberg M, Bruynzeel DP, Scheper R, Gibbs S, Rustemeyer T<br>[ID: 16026586]"
      ],
      "text/plain": [
       "<IPython.core.display.HTML object>"
      ]
     },
     "metadata": {},
     "output_type": "display_data"
    },
    {
     "data": {
      "text/html": [
       "<strong>Eosinophilic cystitis and cholangitis - systemic disease triggered by mycobacterium tuberculosis?</strong><br>2016. Buda P, Grenda R, Wieteska-Klimczak A, Gietka P, Skobejko-Włodarska L, Felberg K, Książyk J<br>[ID: 28478431]"
      ],
      "text/plain": [
       "<IPython.core.display.HTML object>"
      ]
     },
     "metadata": {},
     "output_type": "display_data"
    },
    {
     "data": {
      "text/html": [
       "<strong><a href=http://dx.doi.org/10.1111/all.12544>Lipopolysaccharide amplifies eosinophilic inflammation after segmental challenge with house dust mite in asthmatics.</a></strong><br>2015. Berger M, de Boer JD, Bresser P, van der Poll T, Lutter R, Sterk PJ, van der Zee JS<br>[ID: 25381858]"
      ],
      "text/plain": [
       "<IPython.core.display.HTML object>"
      ]
     },
     "metadata": {},
     "output_type": "display_data"
    },
    {
     "data": {
      "text/html": [
       "<strong><a href=http://dx.doi.org/10.1016/j.vetimm.2008.09.001>A histamine release assay to identify sensitization to Culicoides allergens in horses with skin hypersensitivity.</a></strong><br>2008. Wagner B, Childs BA, Erb HN<br>[ID: 18926574]"
      ],
      "text/plain": [
       "<IPython.core.display.HTML object>"
      ]
     },
     "metadata": {},
     "output_type": "display_data"
    },
    {
     "data": {
      "text/html": [
       "<strong><a href=http://dx.doi.org/10.1034/j.1399-0039.2002.590403.x>Non-mutated tumor-rejection antigen peptides elicit type-I allergy in the majority of healthy individuals.</a></strong><br>2002. Ohkouchi S, Yamada A, Imai N, Mine T, Harada K, Shichijo S, Maeda Y, Saijo Y, Nukiwa T, Itoh K<br>[ID: 12135424]"
      ],
      "text/plain": [
       "<IPython.core.display.HTML object>"
      ]
     },
     "metadata": {},
     "output_type": "display_data"
    },
    {
     "data": {
      "text/html": [
       "<strong><a href=http://dx.doi.org/10.1080/19490976.2018.1458179>Recruitment of feces donors among blood donors: Results from an observational cohort study.</a></strong><br>2018. Jørgensen SMD, Erikstrup C, Dinh KM, Lemming LE, Dahlerup JF, Hvas CL<br>[ID: 29617178]"
      ],
      "text/plain": [
       "<IPython.core.display.HTML object>"
      ]
     },
     "metadata": {},
     "output_type": "display_data"
    },
    {
     "data": {
      "text/html": [
       "<strong>[Anti-nicotine education applied in relation of parents of the diseased children on chronic allergic diseases of respiratory system].</strong><br>2006. Przybylski G, Gołda R, Pyskir J, Pasińska M, Ludwikowski G, Kuziemski A, Kopiński P<br>[ID: 17288223]"
      ],
      "text/plain": [
       "<IPython.core.display.HTML object>"
      ]
     },
     "metadata": {},
     "output_type": "display_data"
    },
    {
     "data": {
      "text/html": [
       "<strong>[Diagnosis of bacterial allergy in patients with diseases of the nose and paranasal sinuses].</strong><br>1990. Morozova SV, Lodinova LM, Fradkin VA, Konstantinova NP<br>[ID: 2075680]"
      ],
      "text/plain": [
       "<IPython.core.display.HTML object>"
      ]
     },
     "metadata": {},
     "output_type": "display_data"
    },
    {
     "data": {
      "text/html": [
       "<strong><a href=http://dx.doi.org/10.1097/00005768-199712000-00013>Influence of a beta2-agonist on physical performance at low temperature in elite athletes.</a></strong><br>1997. Larsson K, Gavhed D, Larsson L, Holmér I, Jorfelt L, Ohlsén P<br>[ID: 9432097]"
      ],
      "text/plain": [
       "<IPython.core.display.HTML object>"
      ]
     },
     "metadata": {},
     "output_type": "display_data"
    },
    {
     "data": {
      "text/html": [
       "<strong>Selective serum IgA deficiency in Icelanders. Frequency, family studies and Ig levels.</strong><br>1982. Ulfarsson J, Gudmundsson S, Birgisdóttir B, Kjeld JM, Jensson O<br>[ID: 7113764]"
      ],
      "text/plain": [
       "<IPython.core.display.HTML object>"
      ]
     },
     "metadata": {},
     "output_type": "display_data"
    },
    {
     "data": {
      "text/html": [
       "<strong><a href=http://dx.doi.org/10.1007/s004030000198>Nitric oxide participates in prick test and irritant patch test reactions in human skin.</a></strong><br>2001. Wallengren J, Larsson B<br>[ID: 11357225]"
      ],
      "text/plain": [
       "<IPython.core.display.HTML object>"
      ]
     },
     "metadata": {},
     "output_type": "display_data"
    },
    {
     "data": {
      "text/html": [
       "<strong><a href=http://dx.doi.org/10.1371/journal.pone.0140986>Nasal Levels of Antimicrobial Peptides in Allergic Asthma Patients and Healthy Controls: Differences and Effect of a Short 1,25(OH)2 Vitamin D3 Treatment.</a></strong><br>2015. Thijs W, Janssen K, van Schadewijk AM, Papapoulos SE, le Cessie S, Middeldorp S, Melissant CF, Rabe KF, Hiemstra PS<br>[ID: 26545199]"
      ],
      "text/plain": [
       "<IPython.core.display.HTML object>"
      ]
     },
     "metadata": {},
     "output_type": "display_data"
    },
    {
     "data": {
      "text/html": [
       "<strong>Importance of mold allergy in asthma.</strong><br>2008. Portnoy JM, Barnes CS, Kennedy K<br>[ID: 18377778]"
      ],
      "text/plain": [
       "<IPython.core.display.HTML object>"
      ]
     },
     "metadata": {},
     "output_type": "display_data"
    },
    {
     "data": {
      "text/html": [
       "<strong><a href=http://dx.doi.org/10.1111/j.1365-2249.2008.03726.x>Immunoglobulin E antibodies from pancreatic cancer patients mediate antibody-dependent cell-mediated cytotoxicity against pancreatic cancer cells.</a></strong><br>2008. Fu SL, Pierre J, Smith-Norowitz TA, Hagler M, Bowne W, Pincus MR, Mueller CM, Zenilman ME, Bluth MH<br>[ID: 18803764]"
      ],
      "text/plain": [
       "<IPython.core.display.HTML object>"
      ]
     },
     "metadata": {},
     "output_type": "display_data"
    },
    {
     "data": {
      "text/html": [
       "<strong><a href=http://dx.doi.org/10.1002/1097-0142(19931215)72:12<3607::aid-cncr2820721210>3.0.co;2-9>A different profile of epitopic dominance in the immunoglobulin G response to bovine betalactoglobulin in lung cancer.</a></strong><br>1993. Michils A, Casimir G, Yernault JC, Gossart B, Duchateau J<br>[ID: 8252475]"
      ],
      "text/plain": [
       "<IPython.core.display.HTML object>"
      ]
     },
     "metadata": {},
     "output_type": "display_data"
    },
    {
     "data": {
      "text/html": [
       "<strong><a href=http://dx.doi.org/10.1183/09031936.01.17508980>Off-line sampling of exhaled air for nitric oxide measurement in children: methodological aspects.</a></strong><br>2001. Jöbsis Q, Schellekens SL, Kroesbergen A, Hop WC, de Jongste JC<br>[ID: 11488323]"
      ],
      "text/plain": [
       "<IPython.core.display.HTML object>"
      ]
     },
     "metadata": {},
     "output_type": "display_data"
    },
    {
     "data": {
      "text/html": [
       "<strong><a href=http://dx.doi.org/10.4049/jimmunol.172.5.3252>Grass pollen immunotherapy induces mucosal and peripheral IL-10 responses and blocking IgG activity.</a></strong><br>2004. Nouri-Aria KT, Wachholz PA, Francis JN, Jacobson MR, Walker SM, Wilcock LK, Staple SQ, Aalberse RC, Till SJ, Durham SR<br>[ID: 14978133]"
      ],
      "text/plain": [
       "<IPython.core.display.HTML object>"
      ]
     },
     "metadata": {},
     "output_type": "display_data"
    },
    {
     "data": {
      "text/html": [
       "<strong>Neuropeptide degradation in naive and steroid-treated allergic saliva.</strong><br>2001. Albo F, Antonangeli R, Cavazza A, Marini M, Roda LG, Rossi P<br>[ID: 11562069]"
      ],
      "text/plain": [
       "<IPython.core.display.HTML object>"
      ]
     },
     "metadata": {},
     "output_type": "display_data"
    },
    {
     "data": {
      "text/html": [
       "<strong><a href=http://dx.doi.org/10.1111/j.1365-3083.2010.02376.x>Serum immunoglobulin free light chains in severe forms of atopic dermatitis.</a></strong><br>2010. Kayserova J, Capkova S, Skalicka A, Vernerova E, Polouckova A, Malinova V, Bartunkova J, Sediva A<br>[ID: 20384876]"
      ],
      "text/plain": [
       "<IPython.core.display.HTML object>"
      ]
     },
     "metadata": {},
     "output_type": "display_data"
    },
    {
     "data": {
      "text/html": [
       "<strong><a href=http://dx.doi.org/10.1159/000323893>Faecal microbiota and short-chain fatty acid levels in faeces from infants with cow's milk protein allergy.</a></strong><br>2011. Thompson-Chagoyan OC, Fallani M, Maldonado J, Vieites JM, Khanna S, Edwards C, Doré J, Gil A<br>[ID: 21720179]"
      ],
      "text/plain": [
       "<IPython.core.display.HTML object>"
      ]
     },
     "metadata": {},
     "output_type": "display_data"
    },
    {
     "data": {
      "text/html": [
       "<strong><a href=http://dx.doi.org/10.3109/00016488209130852>Role of atopic allergy in chronic otitis media. Evaluation based on serum IgE and nasal/aural cytologic findings in patients with operated chronic ears.</a></strong><br>1982. Ojala K, Sipilä P, Sorri M, Karma P<br>[ID: 7064696]"
      ],
      "text/plain": [
       "<IPython.core.display.HTML object>"
      ]
     },
     "metadata": {},
     "output_type": "display_data"
    },
    {
     "data": {
      "text/html": [
       "<strong>A six-year survey of immunogenicity and efficacy of hepatitis B vaccine in infants born to HBsAg carriers.</strong><br>1992. Zhu QR, Duan SC, Xu HF<br>[ID: 1395837]"
      ],
      "text/plain": [
       "<IPython.core.display.HTML object>"
      ]
     },
     "metadata": {},
     "output_type": "display_data"
    },
    {
     "data": {
      "text/html": [
       "<strong><a href=http://dx.doi.org/10.1097/MPG.0b013e3182662401>Parental report of abdominal pain and abdominal pain-related functional gastrointestinal disorders from a community survey.</a></strong><br>2012. Saps M, Adams P, Bonilla S, Chogle A, Nichols-Vinueza D<br>[ID: 22744191]"
      ],
      "text/plain": [
       "<IPython.core.display.HTML object>"
      ]
     },
     "metadata": {},
     "output_type": "display_data"
    },
    {
     "data": {
      "text/html": [
       "<strong><a href=http://dx.doi.org/10.1002/jat.1244>Seasonal variations in spontaneous levels of DNA damage; implication in the risk assessment of environmental chemicals.</a></strong><br>2007. Verschaeve L, Koppen G, Gorp UV, Schoeters G, Jacobs G, Zwijzen C<br>[ID: 17370239]"
      ],
      "text/plain": [
       "<IPython.core.display.HTML object>"
      ]
     },
     "metadata": {},
     "output_type": "display_data"
    },
    {
     "data": {
      "text/html": [
       "<strong>[Dot immunobinding assay in detection of IgE-type rheumatoid factor].</strong><br>1992. Yang JL<br>[ID: 1338503]"
      ],
      "text/plain": [
       "<IPython.core.display.HTML object>"
      ]
     },
     "metadata": {},
     "output_type": "display_data"
    },
    {
     "data": {
      "text/html": [
       "<strong><a href=http://dx.doi.org/10.1016/j.arcped.2014.02.027>[Severe nutritional deficiencies in young infants with inappropriate plant milk consumption].</a></strong><br>2014. Le Louer B, Lemale J, Garcette K, Orzechowski C, Chalvon A, Girardet JP, Tounian P<br>[ID: 24726668]"
      ],
      "text/plain": [
       "<IPython.core.display.HTML object>"
      ]
     },
     "metadata": {},
     "output_type": "display_data"
    },
    {
     "data": {
      "text/html": [
       "<strong><a href=http://dx.doi.org/10.1186/s40413-017-0158-z>A partially hydrolyzed 100% whey formula and the risk of eczema and any allergy: an updated meta-analysis.</a></strong><br>2017. Szajewska H, Horvath A<br>[ID: 28781718]"
      ],
      "text/plain": [
       "<IPython.core.display.HTML object>"
      ]
     },
     "metadata": {},
     "output_type": "display_data"
    },
    {
     "data": {
      "text/html": [
       "<strong><a href=http://dx.doi.org/10.1016/0091-6749(92)90465-e>Identification of common allergenic structures in hazel pollen and hazelnuts: a possible explanation for sensitivity to hazelnuts in patients allergic to tree pollen.</a></strong><br>1992. Hirschwehr R, Valenta R, Ebner C, Ferreira F, Sperr WR, Valent P, Rohac M, Rumpold H, Scheiner O, Kraft D<br>[ID: 1281178]"
      ],
      "text/plain": [
       "<IPython.core.display.HTML object>"
      ]
     },
     "metadata": {},
     "output_type": "display_data"
    },
    {
     "data": {
      "text/html": [
       "<strong><a href=http://dx.doi.org/10.3109/03009739609178924>The lymphocyte phenotype in patients with primary fibromyalgia.</a></strong><br>1996. Samborski W, Lacki JK, Wiktorowicz KE<br>[ID: 9055389]"
      ],
      "text/plain": [
       "<IPython.core.display.HTML object>"
      ]
     },
     "metadata": {},
     "output_type": "display_data"
    },
    {
     "data": {
      "text/html": [
       "<strong><a href=http://dx.doi.org/10.1016/j.ijporl.2010.10.029>Acoustic rhinometry, spirometry and nitric oxide in relation to airway allergy and smoking habits in an adolescent cohort.</a></strong><br>2011. Irander K, Borres MP, Palm JP<br>[ID: 21081250]"
      ],
      "text/plain": [
       "<IPython.core.display.HTML object>"
      ]
     },
     "metadata": {},
     "output_type": "display_data"
    },
    {
     "data": {
      "text/html": [
       "<strong><a href=http://dx.doi.org/10.1080/09603123.2018.1506569>Indoor air pollution aggravates asthma in Chinese children and induces the changes in serum level of miR-155.</a></strong><br>2019. Liu Q, Wang W, Jing W<br>[ID: 30084260]"
      ],
      "text/plain": [
       "<IPython.core.display.HTML object>"
      ]
     },
     "metadata": {},
     "output_type": "display_data"
    },
    {
     "data": {
      "text/html": [
       "<strong>[Quantitative determination of the irritating effect on human skin of butanol, octanol, acetaldehyde and crotonaldehyde].</strong><br>1984. Baĭnova A, Madzhunov N<br>[ID: 6237358]"
      ],
      "text/plain": [
       "<IPython.core.display.HTML object>"
      ]
     },
     "metadata": {},
     "output_type": "display_data"
    },
    {
     "data": {
      "text/html": [
       "<strong><a href=http://dx.doi.org/10.1016/j.bcp.2010.07.029>Nature or nurture: let food be your epigenetic medicine in chronic inflammatory disorders.</a></strong><br>2010. Szarc vel Szic K, Ndlovu MN, Haegeman G, Vanden Berghe W<br>[ID: 20688047]"
      ],
      "text/plain": [
       "<IPython.core.display.HTML object>"
      ]
     },
     "metadata": {},
     "output_type": "display_data"
    },
    {
     "data": {
      "text/html": [
       "<strong><a href=http://dx.doi.org/10.1177/039463200702000207>Interleukin-3 promotes the expression of E-NPP3/CD203C on human blood basophils in healthy subjects and in patients with birch pollen allergy.</a></strong><br>2007. Hauswirth AW, Sonneck K, Florian S, Krauth MT, Bohm A, Sperr WR, Valenta R, Schernthaner GH, Printz D, Fritsch G, Buhring HJ, Valent P<br>[ID: 17624239]"
      ],
      "text/plain": [
       "<IPython.core.display.HTML object>"
      ]
     },
     "metadata": {},
     "output_type": "display_data"
    },
    {
     "data": {
      "text/html": [
       "<strong>Associations of Toll-like receptor 7 and 8 Polymorphisms with Asthma and Asthma-related Phenotypes in a Chinese Han Population.</strong><br>2015. Zhang Q, Qian FH, Yin XW, Cao Q, Bai JL, Du Q, Shi Y<br>[ID: 26725554]"
      ],
      "text/plain": [
       "<IPython.core.display.HTML object>"
      ]
     },
     "metadata": {},
     "output_type": "display_data"
    },
    {
     "data": {
      "text/html": [
       "<strong>The Safety of Nasal Allergen Challenge Test Assessed in Lower Airways.</strong><br>2015. Krzych-Falta E, Piekarska B, Sybilski A, Wojas O, Samoliński B<br>[ID: 26725555]"
      ],
      "text/plain": [
       "<IPython.core.display.HTML object>"
      ]
     },
     "metadata": {},
     "output_type": "display_data"
    },
    {
     "data": {
      "text/html": [
       "<strong><a href=http://dx.doi.org/10.1016/j.vetimm.2009.09.015>Sensitization of skin mast cells with IgE antibodies to Culicoides allergens occurs frequently in clinically healthy horses.</a></strong><br>2009. Wagner B, Miller WH Jr, Erb HN, Lunn DP, Antczak DF<br>[ID: 19836083]"
      ],
      "text/plain": [
       "<IPython.core.display.HTML object>"
      ]
     },
     "metadata": {},
     "output_type": "display_data"
    },
    {
     "data": {
      "text/html": [
       "<strong><a href=http://dx.doi.org/10.1002/cbf.3075>Regulation of Trek1 expression in nasal mucosa with allergic rhinitis by specific immunotherapy.</a></strong><br>2015. Wang Y, Lv L, Zang H, Gao Z, Zhang F, Wang X, Zhou X<br>[ID: 25529528]"
      ],
      "text/plain": [
       "<IPython.core.display.HTML object>"
      ]
     },
     "metadata": {},
     "output_type": "display_data"
    },
    {
     "data": {
      "text/html": [
       "<strong>Dietary antigens: uptake and humoral immunity in man.</strong><br>1988. Husby S<br>[ID: 3288250]"
      ],
      "text/plain": [
       "<IPython.core.display.HTML object>"
      ]
     },
     "metadata": {},
     "output_type": "display_data"
    },
    {
     "data": {
      "text/html": [
       "<strong>[Quality of life in patients with perennial allergic rhinitis: using the Japanese version of the SF-36 Health Status Questionnaire].</strong><br>2001. Fukuroku K, Ogino S<br>[ID: 11398335]"
      ],
      "text/plain": [
       "<IPython.core.display.HTML object>"
      ]
     },
     "metadata": {},
     "output_type": "display_data"
    },
    {
     "data": {
      "text/html": [
       "<strong><a href=http://dx.doi.org/10.1016/j.vaccine.2008.01.041>Kinetics of asthma- and allergy-associated immune response gene expression in peripheral blood mononuclear cells from vaccinated infants after in vitro re-stimulation with vaccine antigen.</a></strong><br>2008. Lahdenperä AI, Nilsson LJ, Regnström K<br>[ID: 18336961]"
      ],
      "text/plain": [
       "<IPython.core.display.HTML object>"
      ]
     },
     "metadata": {},
     "output_type": "display_data"
    },
    {
     "data": {
      "text/html": [
       "<strong><a href=http://dx.doi.org/10.1097/01.ico.0000178277.29010.bc>Tear film lipid layer alterations in allergic conjunctivitis.</a></strong><br>2006. Suzuki S, Goto E, Dogru M, Asano-Kato N, Matsumoto Y, Hara Y, Fujishima H, Tsubota K<br>[ID: 16633026]"
      ],
      "text/plain": [
       "<IPython.core.display.HTML object>"
      ]
     },
     "metadata": {},
     "output_type": "display_data"
    },
    {
     "data": {
      "text/html": [
       "<strong><a href=http://dx.doi.org/10.3109/15563650.2010.508747>Dermal toxicity associated with epibatidine exposure.</a></strong><br>2010. Waring WS<br>[ID: 20704454]"
      ],
      "text/plain": [
       "<IPython.core.display.HTML object>"
      ]
     },
     "metadata": {},
     "output_type": "display_data"
    },
    {
     "data": {
      "text/html": [
       "<strong><a href=http://dx.doi.org/10.1093/intimm/dxy011>Probiotic treatment during neonatal age provides optimal protection against experimental asthma through the modulation of microbiota and T cells.</a></strong><br>2018. Nunes CF, Nogueira JS, Vianna PHO, Ciambarella BT, Rodrigues PM, Miranda KR, Lobo LA, Domingues RMCP, Busch M, Atella GC, Vale AM, Bellio M, Nóbrega A, Canto FB, Fucs R<br>[ID: 29420746]"
      ],
      "text/plain": [
       "<IPython.core.display.HTML object>"
      ]
     },
     "metadata": {},
     "output_type": "display_data"
    },
    {
     "data": {
      "text/html": [
       "<strong><a href=http://dx.doi.org/10.1007/978-1-4939-6481-9_7>Generation and Evaluation of Prophylactic mRNA Vaccines Against Allergy.</a></strong><br>2017. Weiss R, Scheiblhofer S, Thalhamer J<br>[ID: 27987146]"
      ],
      "text/plain": [
       "<IPython.core.display.HTML object>"
      ]
     },
     "metadata": {},
     "output_type": "display_data"
    },
    {
     "data": {
      "text/html": [
       "<strong><a href=http://dx.doi.org/10.1111/j.1600-0536.1989.tb03169.x>ETAF/interleukin-1 and epidermal lymphocyte chemotactic factor in epidermis overlying an irritant patch test.</a></strong><br>1989. Grønhøj Larsen C, Ternowitz T, Grønhøj Larsen F, Zachariae C, Thestrup-Pedersen K<br>[ID: 2788554]"
      ],
      "text/plain": [
       "<IPython.core.display.HTML object>"
      ]
     },
     "metadata": {},
     "output_type": "display_data"
    },
    {
     "data": {
      "text/html": [
       "<strong>[HLA and IgA deficiency].</strong><br>1978. Seignalet J, Michel FB, Guendon R, Thomas R, Robinet-Levy M, Lapinski H<br>[ID: 675021]"
      ],
      "text/plain": [
       "<IPython.core.display.HTML object>"
      ]
     },
     "metadata": {},
     "output_type": "display_data"
    },
    {
     "data": {
      "text/html": [
       "<strong><a href=http://dx.doi.org/10.1002/(sici)1097-0274(199803)33:3<274::aid-ajim9>3.0.co;2-w>Airway response to formaldehyde inhalation in asthmatic subjects with suspected respiratory formaldehyde sensitization.</a></strong><br>1998. Krakowiak A, Górski P, Pazdrak K, Ruta U<br>[ID: 9481426]"
      ],
      "text/plain": [
       "<IPython.core.display.HTML object>"
      ]
     },
     "metadata": {},
     "output_type": "display_data"
    },
    {
     "data": {
      "text/html": [
       "<strong>Proliferative responses of lymphocytes to food antigens are useful for detection of allergens in nonimmediate types of food allergy.</strong><br>1997. Kondo N, Fukutomi O, Agata H, Yokoyama Y<br>[ID: 9161939]"
      ],
      "text/plain": [
       "<IPython.core.display.HTML object>"
      ]
     },
     "metadata": {},
     "output_type": "display_data"
    },
    {
     "data": {
      "text/html": [
       "<strong><a href=http://dx.doi.org/10.1177/0394632015617069>Expression of IL-17A concentration and effector functions of peripheral blood neutrophils in food allergy hypersensitivity patients.</a></strong><br>2016. Żbikowska-Gotz M, Pałgan K, Gawrońska-Ukleja E, Kuźmiński A, Przybyszewski M, Socha E, Bartuzi Z<br>[ID: 26684636]"
      ],
      "text/plain": [
       "<IPython.core.display.HTML object>"
      ]
     },
     "metadata": {},
     "output_type": "display_data"
    },
    {
     "data": {
      "text/html": [
       "<strong><a href=http://dx.doi.org/10.7717/peerj.888>Transfer of intestinal bacterial components to mammary secretions in the cow.</a></strong><br>2015. Young W, Hine BC, Wallace OA, Callaghan M, Bibiloni R<br>[ID: 25922791]"
      ],
      "text/plain": [
       "<IPython.core.display.HTML object>"
      ]
     },
     "metadata": {},
     "output_type": "display_data"
    },
    {
     "data": {
      "text/html": [
       "<strong>[Swiss Study on Air Pollution and Lung Diseases in Adults (SAPALDIA)].</strong><br>1998. Leuenberger P, Künzli N, Ackermann-Liebrich U, Schindler C, Bolognini G, Bongard JP, Brändli O, Defila C, Domenighetti G, Karrer W, Keller R, Medici T, Monn C, Perruchoud AP, Schöni M, Tschopp JM, Villiger B, Wüthrich B, Zellweger JP<br>[ID: 9522421]"
      ],
      "text/plain": [
       "<IPython.core.display.HTML object>"
      ]
     },
     "metadata": {},
     "output_type": "display_data"
    },
    {
     "data": {
      "text/html": [
       "<strong><a href=http://dx.doi.org/10.1111/j.1600-0536.1995.tb00475.x>Contact allergy to Dermatophagoides in atopic dermatitis patients and healthy subjects.</a></strong><br>1995. Manzini BM, Motolese A, Donini M, Seidenari S<br>[ID: 8654075]"
      ],
      "text/plain": [
       "<IPython.core.display.HTML object>"
      ]
     },
     "metadata": {},
     "output_type": "display_data"
    },
    {
     "data": {
      "text/html": [
       "<strong><a href=http://dx.doi.org/10.1007/s00405-017-4513-z>The effect of allergic rhinitis with positive skin prick test on choroidal thickness.</a></strong><br>2017. Yenigun A, Elbay A, Dogan R, Ozturan O, Ozdemir MH<br>[ID: 28265747]"
      ],
      "text/plain": [
       "<IPython.core.display.HTML object>"
      ]
     },
     "metadata": {},
     "output_type": "display_data"
    },
    {
     "data": {
      "text/html": [
       "<strong><a href=http://dx.doi.org/10.1111/j.2042-7158.1994.tb03717.x>Effect of terfenadine on substance P and vasoactive intestinal polypeptide concentrations in nasal secretions from patients with nasal allergy.</a></strong><br>1994. Takeyama M, Mori K, Morikawa N, Asakura S, Chaen T, Watanabe N, Mogi G<br>[ID: 7515418]"
      ],
      "text/plain": [
       "<IPython.core.display.HTML object>"
      ]
     },
     "metadata": {},
     "output_type": "display_data"
    },
    {
     "data": {
      "text/html": [
       "<strong><a href=http://dx.doi.org/10.1111/myc.12744>Vitamin D levels in asthmatic patients with and without allergic bronchopulmonary aspergillosis.</a></strong><br>2018. Agarwal R, Sehgal IS, Dhooria S, Aggarwal AN, Sachdeva N, Bhadada SK, Garg M, Behera D, Chakrabarti A<br>[ID: 29314357]"
      ],
      "text/plain": [
       "<IPython.core.display.HTML object>"
      ]
     },
     "metadata": {},
     "output_type": "display_data"
    },
    {
     "data": {
      "text/html": [
       "<strong><a href=http://dx.doi.org/10.1159/000237314>Development of allergy to laboratory animals is associated with particular Gm and HLA genes.</a></strong><br>1996. Oxelius VA, Sjöstedt L, Willers S, Löw B<br>[ID: 8645982]"
      ],
      "text/plain": [
       "<IPython.core.display.HTML object>"
      ]
     },
     "metadata": {},
     "output_type": "display_data"
    },
    {
     "data": {
      "text/html": [
       "<strong><a href=http://dx.doi.org/10.1007/BF01978111>Hyperkinetic Syndrome: The role of allergy among psychological and neurological factors.</a></strong><br>1994. Blank R, Remschmidt H<br>[ID: 29871457]"
      ],
      "text/plain": [
       "<IPython.core.display.HTML object>"
      ]
     },
     "metadata": {},
     "output_type": "display_data"
    },
    {
     "data": {
      "text/html": [
       "<strong><a href=http://dx.doi.org/10.1016/s0750-7658(02)00638-x>[Amniotic fluid embolism: successful evolution course after uterine arteries embolization].</a></strong><br>2002. Dorne R, Pommier C, Emery JC, Dieudonné F, Bongiovanni JP<br>[ID: 12078439]"
      ],
      "text/plain": [
       "<IPython.core.display.HTML object>"
      ]
     },
     "metadata": {},
     "output_type": "display_data"
    },
    {
     "data": {
      "text/html": [
       "<strong><a href=http://dx.doi.org/10.1159/000237278>Structure and function of IgE myeloma protein VL from an atopic patient.</a></strong><br>1996. Zavázal V, Krauz V, Kratzin H, Hilschmann N<br>[ID: 8645991]"
      ],
      "text/plain": [
       "<IPython.core.display.HTML object>"
      ]
     },
     "metadata": {},
     "output_type": "display_data"
    },
    {
     "data": {
      "text/html": [
       "<strong>Carriage rate of Staphylococcus aureus among patients receiving allergy injections.</strong><br>1980. Kirmani N, Tuazon CU, Alling D<br>[ID: 7425396]"
      ],
      "text/plain": [
       "<IPython.core.display.HTML object>"
      ]
     },
     "metadata": {},
     "output_type": "display_data"
    },
    {
     "data": {
      "text/html": [
       "<strong><a href=http://dx.doi.org/10.1111/j.1398-9995.1997.tb02153.x>Exposure chamber for allergen challenge. A placebo-controlled, double-blind trial in house-dust-mite asthma.</a></strong><br>1997. Rønborg SM, Mosbech H, Poulsen LK<br>[ID: 9284981]"
      ],
      "text/plain": [
       "<IPython.core.display.HTML object>"
      ]
     },
     "metadata": {},
     "output_type": "display_data"
    },
    {
     "data": {
      "text/html": [
       "<strong><a href=http://dx.doi.org/10.1002/ppul.22570>Fractional exhaled nitric oxide in healthy non-asthmatic 7-year olds and prenatal exposure to polycyclic aromatic hydrocarbons: nested regression analysis.</a></strong><br>2012. Jedrychowski W, Maugeri U, Mroz E, Flak E, Rembiasz M, Jacek R, Sowa A<br>[ID: 22588790]"
      ],
      "text/plain": [
       "<IPython.core.display.HTML object>"
      ]
     },
     "metadata": {},
     "output_type": "display_data"
    },
    {
     "data": {
      "text/html": [
       "<strong><a href=http://dx.doi.org/10.1111/j.1398-9995.1981.tb01571.x>Relationship of allergen-specific IgE antibodies, skin prick tests and allergic disorders in unselected adolescents.</a></strong><br>1981. Haahtela T, Jaakonmäki I<br>[ID: 6172046]"
      ],
      "text/plain": [
       "<IPython.core.display.HTML object>"
      ]
     },
     "metadata": {},
     "output_type": "display_data"
    },
    {
     "data": {
      "text/html": [
       "<strong>Mannose-binding Lectin Deficiency in Patients with a History of Recurrent Infections.</strong><br>2016. Rashidi E, Fazlollahi MR, Zahedifard S, Talebzadeh A, Kazemnejad A, Saghafi S, Pourpak Z<br>[ID: 26996114]"
      ],
      "text/plain": [
       "<IPython.core.display.HTML object>"
      ]
     },
     "metadata": {},
     "output_type": "display_data"
    },
    {
     "data": {
      "text/html": [
       "<strong><a href=http://dx.doi.org/10.1111/j.1755-3768.1984.tb08454.x>Late keratopathy due to intraocular sand particles. A case history with misleading tests for allergy.</a></strong><br>1984. Fledelius HC, Løchte JJ<br>[ID: 6524310]"
      ],
      "text/plain": [
       "<IPython.core.display.HTML object>"
      ]
     },
     "metadata": {},
     "output_type": "display_data"
    },
    {
     "data": {
      "text/html": [
       "<strong><a href=http://dx.doi.org/10.1016/j.nut.2013.10.011>Milk nutritional composition and its role in human health.</a></strong><br>2014. Pereira PC<br>[ID: 24800664]"
      ],
      "text/plain": [
       "<IPython.core.display.HTML object>"
      ]
     },
     "metadata": {},
     "output_type": "display_data"
    },
    {
     "data": {
      "text/html": [
       "<strong><a href=http://dx.doi.org/10.1111/j.1398-9995.2005.00824.x>Dog factor differences in Can f 1 allergen production.</a></strong><br>2005. Ramadour M, Guetat M, Guetat J, El Biaze M, Magnan A, Vervloet D<br>[ID: 15969688]"
      ],
      "text/plain": [
       "<IPython.core.display.HTML object>"
      ]
     },
     "metadata": {},
     "output_type": "display_data"
    },
    {
     "data": {
      "text/html": [
       "<strong><a href=http://dx.doi.org/10.1046/j.1440-1681.2002.03605.x>Concentration of egg white lysozyme in the serum of healthy subjects after oral administration.</a></strong><br>2002. Hashida S, Ishikawa E, Nakamichi N, Sekino H<br>[ID: 11906463]"
      ],
      "text/plain": [
       "<IPython.core.display.HTML object>"
      ]
     },
     "metadata": {},
     "output_type": "display_data"
    },
    {
     "data": {
      "text/html": [
       "<strong><a href=http://dx.doi.org/10.1371/journal.pone.0004401>CLSI-derived hematology and biochemistry reference intervals for healthy adults in eastern and southern Africa.</a></strong><br>2009. Karita E, Ketter N, Price MA, Kayitenkore K, Kaleebu P, Nanvubya A, Anzala O, Jaoko W, Mutua G, Ruzagira E, Mulenga J, Sanders EJ, Mwangome M, Allen S, Bwanika A, Bahemuka U, Awuondo K, Omosa G, Farah B, Amornkul P, ...<br>[ID: 19197365]"
      ],
      "text/plain": [
       "<IPython.core.display.HTML object>"
      ]
     },
     "metadata": {},
     "output_type": "display_data"
    },
    {
     "data": {
      "text/html": [
       "<strong><a href=http://dx.doi.org/10.2500/aap.2015.36.3814>Oxidative stress markers in patients with hymenoptera venom allergy.</a></strong><br>2015. Patella V, Incorvaia C, Minciullo PL, Oricchio C, Saitta S, Florio G, Saija A, Gangemi S<br>[ID: 25562550]"
      ],
      "text/plain": [
       "<IPython.core.display.HTML object>"
      ]
     },
     "metadata": {},
     "output_type": "display_data"
    },
    {
     "data": {
      "text/html": [
       "<strong>[Various factors leading to development of food allergies during breast feeding].</strong><br>1991. Gmoshinskaia MV, Fateeva EM, Gmoshinskiĭ IV<br>[ID: 2067900]"
      ],
      "text/plain": [
       "<IPython.core.display.HTML object>"
      ]
     },
     "metadata": {},
     "output_type": "display_data"
    },
    {
     "data": {
      "text/html": [
       "<strong><a href=http://dx.doi.org/10.1038/ejcn.2010.231>An impact of the diet on serum fatty acid and lipid profiles in Polish vegetarian children and children with allergy.</a></strong><br>2011. Gorczyca D, Paściak M, Szponar B, Gamian A, Jankowski A<br>[ID: 21048771]"
      ],
      "text/plain": [
       "<IPython.core.display.HTML object>"
      ]
     },
     "metadata": {},
     "output_type": "display_data"
    },
    {
     "data": {
      "text/html": [
       "<strong>[Is surgical treatment of hyperthyroidism in pregnancy reasonable?].</strong><br>2000. Barczyński M, Barczyński M<br>[ID: 11398595]"
      ],
      "text/plain": [
       "<IPython.core.display.HTML object>"
      ]
     },
     "metadata": {},
     "output_type": "display_data"
    },
    {
     "data": {
      "text/html": [
       "<strong><a href=http://dx.doi.org/10.1212/WNL.0000000000003432>Comorbidity between central disorders of hypersomnolence and immune-based disorders.</a></strong><br>2017. Barateau L, Lopez R, Arnulf I, Lecendreux M, Franco P, Drouot X, Leu-Semenescu S, Jaussent I, Dauvilliers Y<br>[ID: 27864522]"
      ],
      "text/plain": [
       "<IPython.core.display.HTML object>"
      ]
     },
     "metadata": {},
     "output_type": "display_data"
    },
    {
     "data": {
      "text/html": [
       "<strong>Fish and egg specific immunoglobin e in multiple sclerosis patients.</strong><br>2013. Ashtari F, Jamshidi F, Shoormasti RS, Pourpak Z, Akbari M, Zandieh F<br>[ID: 23776721]"
      ],
      "text/plain": [
       "<IPython.core.display.HTML object>"
      ]
     },
     "metadata": {},
     "output_type": "display_data"
    },
    {
     "data": {
      "text/html": [
       "<strong><a href=http://dx.doi.org/10.1097/MCG.0b013e3181639a98>Probiotics: use in allergic disorders: a Nutrition, Allergy, Mucosal Immunology, and Intestinal Microbiota (NAMI) Research Group Report.</a></strong><br>2008. Isolauri E, Salminen S, Nutrition, Allergy, Mucosal Immunology, and Intestinal Microbiota (NAMI) Research Group Report.<br>[ID: 18542035]"
      ],
      "text/plain": [
       "<IPython.core.display.HTML object>"
      ]
     },
     "metadata": {},
     "output_type": "display_data"
    },
    {
     "data": {
      "text/html": [
       "<strong><a href=http://dx.doi.org/10.1111/j.1398-9995.1991.tb00624.x>Lifestyle effect on total IgE. Lifestyles have a cumulative impact on controlling total IgE levels.</a></strong><br>1991. Shirakawa T, Morimoto K<br>[ID: 1789396]"
      ],
      "text/plain": [
       "<IPython.core.display.HTML object>"
      ]
     },
     "metadata": {},
     "output_type": "display_data"
    },
    {
     "data": {
      "text/html": [
       "<strong><a href=http://dx.doi.org/10.1111/j.1699-0463.1991.tb05174.x>Langerhans cells and subsets of lymphocytes in the nasal mucosa.</a></strong><br>1991. Hellquist HB, Olsen KE, Irander K, Karlsson E, Odkvist LM<br>[ID: 2043356]"
      ],
      "text/plain": [
       "<IPython.core.display.HTML object>"
      ]
     },
     "metadata": {},
     "output_type": "display_data"
    },
    {
     "data": {
      "text/html": [
       "<strong><a href=http://dx.doi.org/10.1080/14397595.2018.1526357>Interleukin 5-producing ST2<sup>+</sup> memory Th2 cells in IgG4-related dacryoadenitis and sialadenitis.</a></strong><br>2019. Yamamoto M, Takano KI, Kamekura R, Aochi S, Suzuki C, Ichimiya S, Nakase H, Himi T, Takahashi H<br>[ID: 30354922]"
      ],
      "text/plain": [
       "<IPython.core.display.HTML object>"
      ]
     },
     "metadata": {},
     "output_type": "display_data"
    },
    {
     "data": {
      "text/html": [
       "<strong><a href=http://dx.doi.org/10.1097/ACI.0000000000000203>Understanding probiotics' role in allergic children: the clue of gut microbiota profiling.</a></strong><br>2015. Vernocchi P, Del Chierico F, Fiocchi AG, El Hachem M, Dallapiccola B, Rossi P, Putignani L<br>[ID: 26258924]"
      ],
      "text/plain": [
       "<IPython.core.display.HTML object>"
      ]
     },
     "metadata": {},
     "output_type": "display_data"
    },
    {
     "data": {
      "text/html": [
       "<strong><a href=http://dx.doi.org/10.1111/j.1651-2227.1985.tb10019.x>Non-IgE-mediated asthma in children.</a></strong><br>1985. Ostergaard PA<br>[ID: 4050418]"
      ],
      "text/plain": [
       "<IPython.core.display.HTML object>"
      ]
     },
     "metadata": {},
     "output_type": "display_data"
    },
    {
     "data": {
      "text/html": [
       "<strong><a href=http://dx.doi.org/10.1016/s0140-6736(95)91742-x>Breastfeeding as prophylaxis against atopic disease: prospective follow-up study until 17 years old.</a></strong><br>1995. Saarinen UM, Kajosaari M<br>[ID: 7564787]"
      ],
      "text/plain": [
       "<IPython.core.display.HTML object>"
      ]
     },
     "metadata": {},
     "output_type": "display_data"
    },
    {
     "data": {
      "text/html": [
       "<strong><a href=http://dx.doi.org/10.4103/1658-354X.76500>An unusual cause of post-operative orbital edema in a child after general anesthesia.</a></strong><br>2011. Tobias JD, Jagannathan N, Sawardekar A, Bhalla T<br>[ID: 21655032]"
      ],
      "text/plain": [
       "<IPython.core.display.HTML object>"
      ]
     },
     "metadata": {},
     "output_type": "display_data"
    },
    {
     "data": {
      "text/html": [
       "<strong>Reference Intervals for Serum Immunoglobulins IgG, IgA, IgM and Complements C3 and C4 in Iranian Healthy Children.</strong><br>2012. Kardar G, Oraei M, Shahsavani M, Namdar Z, Kazemisefat G, Haghi Ashtiani M, Shams S, Pourpak Z, Moin M<br>[ID: 23113211]"
      ],
      "text/plain": [
       "<IPython.core.display.HTML object>"
      ]
     },
     "metadata": {},
     "output_type": "display_data"
    },
    {
     "data": {
      "text/html": [
       "<strong><a href=http://dx.doi.org/10.1016/j.aller.2015.05.001>Histamine, histamine intoxication and intolerance.</a></strong><br>2015. Kovacova-Hanuskova E, Buday T, Gavliakova S, Plevkova J<br>[ID: 26242570]"
      ],
      "text/plain": [
       "<IPython.core.display.HTML object>"
      ]
     },
     "metadata": {},
     "output_type": "display_data"
    },
    {
     "data": {
      "text/html": [
       "<strong><a href=http://dx.doi.org/10.1097/NT.0000000000000108>Raw Milk Consumption: Risks and Benefits.</a></strong><br>2015. Lucey JA<br>[ID: 27340300]"
      ],
      "text/plain": [
       "<IPython.core.display.HTML object>"
      ]
     },
     "metadata": {},
     "output_type": "display_data"
    },
    {
     "data": {
      "text/html": [
       "<strong>[Allergic manifestations of systemic lupus erythematosus].</strong><br>1985. Diumenjo MS, Lisanti M, Vallés R, Rivero I<br>[ID: 4083230]"
      ],
      "text/plain": [
       "<IPython.core.display.HTML object>"
      ]
     },
     "metadata": {},
     "output_type": "display_data"
    },
    {
     "data": {
      "text/html": [
       "<strong><a href=http://dx.doi.org/10.1016/j.aller.2018.03.010>Asthma, exercise and metabolic dysregulation in paediatrics.</a></strong><br>2019. Milanese M, Miraglia Del Giudice E, Peroni DG<br>[ID: 30789156]"
      ],
      "text/plain": [
       "<IPython.core.display.HTML object>"
      ]
     },
     "metadata": {},
     "output_type": "display_data"
    },
    {
     "data": {
      "text/html": [
       "<strong>[Total and specific IgE determination in children allergy. A comparison with the skin tests (author's transl)].</strong><br>1981. Freire Macías JM, García Solís D, Madrazo JL, García de Pesquera F, Vázquez Albertino R<br>[ID: 7294520]"
      ],
      "text/plain": [
       "<IPython.core.display.HTML object>"
      ]
     },
     "metadata": {},
     "output_type": "display_data"
    },
    {
     "data": {
      "text/html": [
       "<strong>Vaccination and allergy.</strong><br>2004. Rottem M, Shoenfeld Y<br>[ID: 15167034]"
      ],
      "text/plain": [
       "<IPython.core.display.HTML object>"
      ]
     },
     "metadata": {},
     "output_type": "display_data"
    },
    {
     "data": {
      "text/html": [
       "<strong><a href=http://dx.doi.org/10.1007/s00403-002-0301-7>Gene polymorphisms (G82S, 1704G/T, 2184A/G and 2245G/A) of the receptor of advanced glycation end products (RAGE) in plaque psoriasis.</a></strong><br>2002. Vasků V, Kanková K, Vasků A, Muzík J, Izakovicová Hollá L, Semrádová V, Vácha J<br>[ID: 12029499]"
      ],
      "text/plain": [
       "<IPython.core.display.HTML object>"
      ]
     },
     "metadata": {},
     "output_type": "display_data"
    },
    {
     "data": {
      "text/html": [
       "<strong>[Passive smoking--(un)recognized effects on the respiratory system].</strong><br>1993. Mustajbegović J, Zuskin E<br>[ID: 8302142]"
      ],
      "text/plain": [
       "<IPython.core.display.HTML object>"
      ]
     },
     "metadata": {},
     "output_type": "display_data"
    },
    {
     "data": {
      "text/html": [
       "<strong><a href=http://dx.doi.org/10.1111/j.1600-0668.2010.00658.x>Culturable mold in indoor air and its association with moisture-related problems and asthma and allergy among Swedish children.</a></strong><br>2010. Holme J, Hägerhed-Engman L, Mattsson J, Sundell J, Bornehag CG<br>[ID: 20557376]"
      ],
      "text/plain": [
       "<IPython.core.display.HTML object>"
      ]
     },
     "metadata": {},
     "output_type": "display_data"
    },
    {
     "data": {
      "text/html": [
       "<strong><a href=http://dx.doi.org/10.1080/19440049.2018.1488277>Investigation of the potential for a simplified exposure tool in medical nutrition (SETIM) to minimise exposures to sweeteners in young patients aged 1-3 years with PKU and CMPA.</a></strong><br>2018. O'Sullivan AJ, O'Mahony C, Meunier L, Loveridge N, McKevitt AI<br>[ID: 29912642]"
      ],
      "text/plain": [
       "<IPython.core.display.HTML object>"
      ]
     },
     "metadata": {},
     "output_type": "display_data"
    },
    {
     "data": {
      "text/html": [
       "<strong>T-cell receptor Vbeta repertoire in mite-allergic subjects after sublingual immunotherapy.</strong><br>2000. Mastrandrea F, Coradduzza G, Serio G, Scarcia G, Minardi A<br>[ID: 10923588]"
      ],
      "text/plain": [
       "<IPython.core.display.HTML object>"
      ]
     },
     "metadata": {},
     "output_type": "display_data"
    },
    {
     "data": {
      "text/html": [
       "<strong>[Exercise induced vasculitis].</strong><br>2013. Graif Y, Teplitski V<br>[ID: 23957082]"
      ],
      "text/plain": [
       "<IPython.core.display.HTML object>"
      ]
     },
     "metadata": {},
     "output_type": "display_data"
    },
    {
     "data": {
      "text/html": [
       "<strong>[Experiences with thrombocytopenia test in specific diagnosis of food hypersensitivity].</strong><br>1977. Much T, Wüthrich B<br>[ID: 847452]"
      ],
      "text/plain": [
       "<IPython.core.display.HTML object>"
      ]
     },
     "metadata": {},
     "output_type": "display_data"
    },
    {
     "data": {
      "text/html": [
       "<strong><a href=http://dx.doi.org/10.1007/s11626-018-0233-y>Interleukin-13 stimulates production of nitric oxide in cultured human nasal epithelium.</a></strong><br>2018. Carson JL, Hernandez M, Jaspers I, Mills K, Brighton L, Zhou H, Zhang J, Hazucha MJ<br>[ID: 29380192]"
      ],
      "text/plain": [
       "<IPython.core.display.HTML object>"
      ]
     },
     "metadata": {},
     "output_type": "display_data"
    },
    {
     "data": {
      "text/html": [
       "<strong><a href=http://dx.doi.org/10.1159/000501079>Why the 20% + 2 Tryptase Formula Is a Diagnostic Gold Standard for Severe Systemic Mast Cell Activation and Mast Cell Activation Syndrome.</a></strong><br>2019. Valent P, Bonadonna P, Hartmann K, Broesby-Olsen S, Brockow K, Butterfield JH, Triggiani M, Lyons JJ, Oude Elberink JNG, Arock M, Metcalfe DD, Akin C<br>[ID: 31256161]"
      ],
      "text/plain": [
       "<IPython.core.display.HTML object>"
      ]
     },
     "metadata": {},
     "output_type": "display_data"
    },
    {
     "data": {
      "text/html": [
       "<strong><a href=http://dx.doi.org/10.1007/s00405-015-3812-5>Middle ear function in sinonasal polyposis.</a></strong><br>2016. Bakhshaee M, Ardakani HP, Ghazizadeh AH, Movahed R, Jarahi L, Rajati M<br>[ID: 26521187]"
      ],
      "text/plain": [
       "<IPython.core.display.HTML object>"
      ]
     },
     "metadata": {},
     "output_type": "display_data"
    },
    {
     "data": {
      "text/html": [
       "<strong><a href=http://dx.doi.org/10.3168/jds.2008-1927>An adjuvant-free mouse model to evaluate the allergenicity of milk whey protein.</a></strong><br>2009. Gonipeta B, Parvataneni S, Tempelman RJ, Gangur V<br>[ID: 19762789]"
      ],
      "text/plain": [
       "<IPython.core.display.HTML object>"
      ]
     },
     "metadata": {},
     "output_type": "display_data"
    },
    {
     "data": {
      "text/html": [
       "<strong><a href=http://dx.doi.org/10.1111/j.1651-2227.1991.tb11825.x>Breast feeding modifies production of SIgA cow's milk-antibodies in infants.</a></strong><br>1991. Renz H, Brehler C, Petzoldt S, Prinz H, Rieger CH<br>[ID: 2035304]"
      ],
      "text/plain": [
       "<IPython.core.display.HTML object>"
      ]
     },
     "metadata": {},
     "output_type": "display_data"
    },
    {
     "data": {
      "text/html": [
       "<strong><a href=http://dx.doi.org/10.1016/j.jaci.2007.01.022>Mechanisms of allergen-specific immunotherapy.</a></strong><br>2007. Akdis M, Akdis CA<br>[ID: 17321578]"
      ],
      "text/plain": [
       "<IPython.core.display.HTML object>"
      ]
     },
     "metadata": {},
     "output_type": "display_data"
    },
    {
     "data": {
      "text/html": [
       "<strong><a href=http://dx.doi.org/10.1159/000176301>CD4+ T cells have a key instructive role in educating dendritic cells in allergy.</a></strong><br>2009. Larsson K, Lindstedt M, Lundberg K, Dexlin L, Wingren C, Korsgren M, Greiff L, Borrebaeck CA<br>[ID: 19033727]"
      ],
      "text/plain": [
       "<IPython.core.display.HTML object>"
      ]
     },
     "metadata": {},
     "output_type": "display_data"
    },
    {
     "data": {
      "text/html": [
       "<strong><a href=http://dx.doi.org/10.1358/dot.2011.47.4.1587029>Bilastine for the relief of allergy symptoms.</a></strong><br>2011. Sádaba Díaz de Rada B, Azanza Perea JR, Gomez-Guiu Hormigos A<br>[ID: 21573249]"
      ],
      "text/plain": [
       "<IPython.core.display.HTML object>"
      ]
     },
     "metadata": {},
     "output_type": "display_data"
    },
    {
     "data": {
      "text/html": [
       "<strong>A recommended occupational exposure limit for formaldehyde based on irritation.</strong><br>1997. Paustenbach D, Alarie Y, Kulle T, Schachter N, Smith R, Swenberg J, Witschi H, Horowitz SB<br>[ID: 9055874]"
      ],
      "text/plain": [
       "<IPython.core.display.HTML object>"
      ]
     },
     "metadata": {},
     "output_type": "display_data"
    },
    {
     "data": {
      "text/html": [
       "<strong><a href=http://dx.doi.org/10.1055/s-0033-1363210>[Tonsillitis and sore throat in childhood].</a></strong><br>2014. Stelter K<br>[ID: 24710788]"
      ],
      "text/plain": [
       "<IPython.core.display.HTML object>"
      ]
     },
     "metadata": {},
     "output_type": "display_data"
    },
    {
     "data": {
      "text/html": [
       "<strong><a href=http://dx.doi.org/10.1159/000090279>T regulatory cells in allergy.</a></strong><br>2006. Akdis M, Blaser K, Akdis CA<br>[ID: 16354957]"
      ],
      "text/plain": [
       "<IPython.core.display.HTML object>"
      ]
     },
     "metadata": {},
     "output_type": "display_data"
    },
    {
     "data": {
      "text/html": [
       "<strong>Mite allergy is associated with a specific profile of IgG epitopes recognized on antigen p1 of Dermatophagoides pteronyssinus.</strong><br>1997. Duchateau J, Michils A, Michel O, Baras L<br>[ID: 9088656]"
      ],
      "text/plain": [
       "<IPython.core.display.HTML object>"
      ]
     },
     "metadata": {},
     "output_type": "display_data"
    },
    {
     "data": {
      "text/html": [
       "<strong><a href=http://dx.doi.org/10.4103/2230-8210.109660>Carbimazole-induced cholestatic hepatitis in Graves' disease.</a></strong><br>2013. Kota SK, Meher LK, Kota SK, Jammula S, Modi KD<br>[ID: 23776913]"
      ],
      "text/plain": [
       "<IPython.core.display.HTML object>"
      ]
     },
     "metadata": {},
     "output_type": "display_data"
    },
    {
     "data": {
      "text/html": [
       "<strong><a href=http://dx.doi.org/10.1080/09273948.2018.1467465>Increased Lacrimal Fluid Level of HMGB1 in Vernal Keratoconjunctivitis.</a></strong><br>2019. Caputo R, Pasti M, de Libero C, Mori F, Barni S, Danti G, Buonvicino D, Urru M, Chiarugi A, Pucci N<br>[ID: 29847189]"
      ],
      "text/plain": [
       "<IPython.core.display.HTML object>"
      ]
     },
     "metadata": {},
     "output_type": "display_data"
    },
    {
     "data": {
      "text/html": [
       "<strong><a href=http://dx.doi.org/10.1080/20018525.2017.1353395>Phase I study evaluating the safety, tolerability and pharmacokinetics of a novel oral dissolvable film containing dexamethasone versus Fortecortin dexamethasone tablets.</a></strong><br>2017. Diamant Z, Samuelsson Palmgren G, Westrin B, Bjermer L<br>[ID: 28815005]"
      ],
      "text/plain": [
       "<IPython.core.display.HTML object>"
      ]
     },
     "metadata": {},
     "output_type": "display_data"
    },
    {
     "data": {
      "text/html": [
       "<strong>Study of IgE-dependent sulphidoleukotriene cellular releasability.</strong><br>1998. Ferrer M, Sanz ML, Prieto I, Vila L, Oehling A<br>[ID: 9555614]"
      ],
      "text/plain": [
       "<IPython.core.display.HTML object>"
      ]
     },
     "metadata": {},
     "output_type": "display_data"
    },
    {
     "data": {
      "text/html": [
       "<strong><a href=http://dx.doi.org/10.1172/JCI117743>Milk-induced eczema is associated with the expansion of T cells expressing cutaneous lymphocyte antigen.</a></strong><br>1995. Abernathy-Carver KJ, Sampson HA, Picker LJ, Leung DY<br>[ID: 7532192]"
      ],
      "text/plain": [
       "<IPython.core.display.HTML object>"
      ]
     },
     "metadata": {},
     "output_type": "display_data"
    },
    {
     "data": {
      "text/html": [
       "<strong><a href=http://dx.doi.org/10.3205/cto000110>Tonsillitis and sore throat in children.</a></strong><br>2014. Stelter K<br>[ID: 25587367]"
      ],
      "text/plain": [
       "<IPython.core.display.HTML object>"
      ]
     },
     "metadata": {},
     "output_type": "display_data"
    },
    {
     "data": {
      "text/html": [
       "<strong><a href=http://dx.doi.org/10.1111/cxo.12891>Corneal elevation changes after forced eyelid closure in healthy participants and in patients with keratoconus.</a></strong><br>2019. Atalay E, Najjar RP, Tun TA, Özalp O, Bilgeç MD, Yıldırım N<br>[ID: 30887593]"
      ],
      "text/plain": [
       "<IPython.core.display.HTML object>"
      ]
     },
     "metadata": {},
     "output_type": "display_data"
    },
    {
     "data": {
      "text/html": [
       "<strong><a href=http://dx.doi.org/10.1016/j.anai.2016.12.002>Mealtime behavior among parents and their young children with food allergy.</a></strong><br>2017. Herbert LJ, Mehta P, Sharma H<br>[ID: 28094121]"
      ],
      "text/plain": [
       "<IPython.core.display.HTML object>"
      ]
     },
     "metadata": {},
     "output_type": "display_data"
    },
    {
     "data": {
      "text/html": [
       "<strong>Moisturizer allergy: diagnosis and management.</strong><br>2008. Zirwas MJ, Stechschulte SA<br>[ID: 21212847]"
      ],
      "text/plain": [
       "<IPython.core.display.HTML object>"
      ]
     },
     "metadata": {},
     "output_type": "display_data"
    },
    {
     "data": {
      "text/html": [
       "<strong>[Bronchial reactivity in patients with seasonal allergic rhinitis].</strong><br>2002. Gudelj I, Plavec D, Susac A, Cvitanović S, Tudorić N<br>[ID: 12619439]"
      ],
      "text/plain": [
       "<IPython.core.display.HTML object>"
      ]
     },
     "metadata": {},
     "output_type": "display_data"
    },
    {
     "data": {
      "text/html": [
       "<strong>Shift from Th2 to Th1 response in immunotherapy with venoms.</strong><br>2000. Kosnik M, Wraber B<br>[ID: 11005617]"
      ],
      "text/plain": [
       "<IPython.core.display.HTML object>"
      ]
     },
     "metadata": {},
     "output_type": "display_data"
    },
    {
     "data": {
      "text/html": [
       "<strong><a href=http://dx.doi.org/10.1159/000321829>Common filaggrin null alleles are not associated with hymenoptera venom allergy in Europeans.</a></strong><br>2011. Aslam A, Lloyd-Lavery A, Warrell DA, Misbah S, Ogg GS<br>[ID: 20975288]"
      ],
      "text/plain": [
       "<IPython.core.display.HTML object>"
      ]
     },
     "metadata": {},
     "output_type": "display_data"
    },
    {
     "data": {
      "text/html": [
       "<strong><a href=http://dx.doi.org/10.4103/0019-5278.58912>Occupational lifestyle diseases: An emerging issue.</a></strong><br>2009. Sharma M, Majumdar PK<br>[ID: 20442827]"
      ],
      "text/plain": [
       "<IPython.core.display.HTML object>"
      ]
     },
     "metadata": {},
     "output_type": "display_data"
    },
    {
     "data": {
      "text/html": [
       "<strong>Effect of oral L-arginine administration on exhaled nitric oxide (NO) concentration in healthy volunteers.</strong><br>2013. Ogata H, Yatabe M, Misaka S, Shikama Y, Sato S, Munakata M, Kimura J<br>[ID: 23842514]"
      ],
      "text/plain": [
       "<IPython.core.display.HTML object>"
      ]
     },
     "metadata": {},
     "output_type": "display_data"
    },
    {
     "data": {
      "text/html": [
       "<strong><a href=http://dx.doi.org/10.4081/monaldi.2005.657>Complementary and alternative medicine for the treatment and diagnosis of asthma and allergic diseases.</a></strong><br>2005. Passalacqua G, Compalati E, Schiappoli M, Senna G<br>[ID: 16035564]"
      ],
      "text/plain": [
       "<IPython.core.display.HTML object>"
      ]
     },
     "metadata": {},
     "output_type": "display_data"
    },
    {
     "data": {
      "text/html": [
       "<strong><a href=http://dx.doi.org/10.1016/0306-9877(86)90025-3>The vitamin C treatment of allergy and the normally unprimed state of antibodies.</a></strong><br>1986. Cathcart RF 3rd<br>[ID: 2879212]"
      ],
      "text/plain": [
       "<IPython.core.display.HTML object>"
      ]
     },
     "metadata": {},
     "output_type": "display_data"
    },
    {
     "data": {
      "text/html": [
       "<strong>Association of -308G/A Polymorphism and Serum Level of TNF- α with Bronchial asthma in Children.</strong><br>2018. Nasser MZ, Ezzat DA<br>[ID: 30600954]"
      ],
      "text/plain": [
       "<IPython.core.display.HTML object>"
      ]
     },
     "metadata": {},
     "output_type": "display_data"
    },
    {
     "data": {
      "text/html": [
       "<strong><a href=http://dx.doi.org/10.1111/j.1751-1097.2007.00211.x>UV-induced immunosuppression in the balance.</a></strong><br>2008. de Gruijl FR<br>[ID: 18173695]"
      ],
      "text/plain": [
       "<IPython.core.display.HTML object>"
      ]
     },
     "metadata": {},
     "output_type": "display_data"
    },
    {
     "data": {
      "text/html": [
       "<strong><a href=http://dx.doi.org/10.4155/bio.11.33>Biotherapeutic bioanalysis: a multi-indication case study review.</a></strong><br>2011. Myler HA, Given A, Kolz K, Mora JR, Hristopoulos G<br>[ID: 21417732]"
      ],
      "text/plain": [
       "<IPython.core.display.HTML object>"
      ]
     },
     "metadata": {},
     "output_type": "display_data"
    },
    {
     "data": {
      "text/html": [
       "<strong>[Prevention of allergic diseases].</strong><br>1999. Le Sellin J<br>[ID: 10399523]"
      ],
      "text/plain": [
       "<IPython.core.display.HTML object>"
      ]
     },
     "metadata": {},
     "output_type": "display_data"
    },
    {
     "data": {
      "text/html": [
       "<strong><a href=http://dx.doi.org/10.15537/smj.2019.1.23754>The role of anxious temperament in patients with allergic rhinitis.</a></strong><br>2019. Tas HI, Caglar O<br>[ID: 30617380]"
      ],
      "text/plain": [
       "<IPython.core.display.HTML object>"
      ]
     },
     "metadata": {},
     "output_type": "display_data"
    },
    {
     "data": {
      "text/html": [
       "<strong><a href=http://dx.doi.org/10.3345/kjp.2013.56.12.505>Mechanisms of immune tolerance to allergens in children.</a></strong><br>2013. Kucuksezer UC, Ozdemir C, Akdis M, Akdis CA<br>[ID: 24416044]"
      ],
      "text/plain": [
       "<IPython.core.display.HTML object>"
      ]
     },
     "metadata": {},
     "output_type": "display_data"
    },
    {
     "data": {
      "text/html": [
       "<strong><a href=http://dx.doi.org/10.3345/kjp.2013.56.12.514>Food protein-induced proctocolitis: Is this allergic disorder a reality or a phantom in neonates?</a></strong><br>2013. Hwang JB, Hong J<br>[ID: 24416045]"
      ],
      "text/plain": [
       "<IPython.core.display.HTML object>"
      ]
     },
     "metadata": {},
     "output_type": "display_data"
    },
    {
     "data": {
      "text/html": [
       "<strong><a href=http://dx.doi.org/10.1111/pai.12232>The first thousand days - intestinal microbiology of early life: establishing a symbiosis.</a></strong><br>2014. Wopereis H, Oozeer R, Knipping K, Belzer C, Knol J<br>[ID: 24899389]"
      ],
      "text/plain": [
       "<IPython.core.display.HTML object>"
      ]
     },
     "metadata": {},
     "output_type": "display_data"
    },
    {
     "data": {
      "text/html": [
       "<strong><a href=http://dx.doi.org/10.1183/09031936.98.12020483>Hydrogen peroxide in exhaled air of healthy children: reference values.</a></strong><br>1998. Jöbsis Q, Raatgeep HC, Schellekens SL, Hop WC, Hermans PW, de Jongste JC<br>[ID: 9727806]"
      ],
      "text/plain": [
       "<IPython.core.display.HTML object>"
      ]
     },
     "metadata": {},
     "output_type": "display_data"
    },
    {
     "data": {
      "text/html": [
       "<strong><a href=http://dx.doi.org/10.3390/nu10101481>Microbiota and Derived Parameters in Fecal Samples of Infants with Non-IgE Cow's Milk Protein Allergy under a Restricted Diet.</a></strong><br>2018. Díaz M, Guadamuro L, Espinosa-Martos I, Mancabelli L, Jiménez S, Molinos-Norniella C, Pérez-Solis D, Milani C, Rodríguez JM, Ventura M, Bousoño C, Gueimonde M, Margolles A, Díaz JJ, Delgado S<br>[ID: 30314304]"
      ],
      "text/plain": [
       "<IPython.core.display.HTML object>"
      ]
     },
     "metadata": {},
     "output_type": "display_data"
    },
    {
     "data": {
      "text/html": [
       "<strong><a href=http://dx.doi.org/10.1016/0091-6749(88)90075-9>Duration of the suppressive effect of tricyclic antidepressants on histamine-induced wheal-and-flare reactions in human skin.</a></strong><br>1988. Rao KS, Menon PK, Hilman BC, Sebastian CS, Bairnsfather L<br>[ID: 2903876]"
      ],
      "text/plain": [
       "<IPython.core.display.HTML object>"
      ]
     },
     "metadata": {},
     "output_type": "display_data"
    },
    {
     "data": {
      "text/html": [
       "<strong><a href=http://dx.doi.org/10.1371/journal.pone.0147809>Allergic Patients with Long-Term Asthma Display Low Levels of Bifidobacterium adolescentis.</a></strong><br>2016. Hevia A, Milani C, López P, Donado CD, Cuervo A, González S, Suárez A, Turroni F, Gueimonde M, Ventura M, Sánchez B, Margolles A<br>[ID: 26840903]"
      ],
      "text/plain": [
       "<IPython.core.display.HTML object>"
      ]
     },
     "metadata": {},
     "output_type": "display_data"
    },
    {
     "data": {
      "text/html": [
       "<strong><a href=http://dx.doi.org/10.3390/nu11010185>Letter to the Editor Re: Borschel M., et al. Comparison of Growth of Healthy Term Infants Fed Extensively Hydrolyzed Protein- and Amino Acid-Based Infant Formulas. <i>Nutrients</i> 2018, <i>10</i>, 289.</a></strong><br>2019. Harvey BM, Langford JE<br>[ID: 30658383]"
      ],
      "text/plain": [
       "<IPython.core.display.HTML object>"
      ]
     },
     "metadata": {},
     "output_type": "display_data"
    },
    {
     "data": {
      "text/html": [
       "<strong><a href=http://dx.doi.org/10.1016/j.jpeds.2008.02.043>Hypoallergenicity and effects on growth and tolerance of a new amino acid-based formula with docosahexaenoic acid and arachidonic acid.</a></strong><br>2008. Burks W, Jones SM, Berseth CL, Harris C, Sampson HA, Scalabrin DM<br>[ID: 18534230]"
      ],
      "text/plain": [
       "<IPython.core.display.HTML object>"
      ]
     },
     "metadata": {},
     "output_type": "display_data"
    },
    {
     "data": {
      "text/html": [
       "<strong>Hypertonic saline challenge tests in the diagnosis of bronchial hyperresponsiveness and asthma in children.</strong><br>2002. Mai XM, Nilsson L, Kjellman NI, Björkstén B<br>[ID: 12431196]"
      ],
      "text/plain": [
       "<IPython.core.display.HTML object>"
      ]
     },
     "metadata": {},
     "output_type": "display_data"
    },
    {
     "data": {
      "text/html": [
       "<strong>Changes of some parameters of humoral and cellular immunity in allergy to pollen.</strong><br>1996. Mitrea CM, Cojocaru M, Iamandescu IB<br>[ID: 8908638]"
      ],
      "text/plain": [
       "<IPython.core.display.HTML object>"
      ]
     },
     "metadata": {},
     "output_type": "display_data"
    },
    {
     "data": {
      "text/html": [
       "<strong><a href=http://dx.doi.org/10.1016/0091-6749(76)90192-5>Intact humoral and cell-mediated immunity in chronic marijuana smoking.</a></strong><br>1976. Rachelefsky GS, Opelz G, Mickey MR, Lessin P, Kiuchi M, Silverstein MJ, Stiehm ER<br>[ID: 135011]"
      ],
      "text/plain": [
       "<IPython.core.display.HTML object>"
      ]
     },
     "metadata": {},
     "output_type": "display_data"
    },
    {
     "data": {
      "text/html": [
       "<strong><a href=http://dx.doi.org/10.3109/1547691X.2016.1171266>Amorphous nanosilica particles block induction of oral tolerance in mice.</a></strong><br>2016. Toda T, Yoshino S<br>[ID: 27086695]"
      ],
      "text/plain": [
       "<IPython.core.display.HTML object>"
      ]
     },
     "metadata": {},
     "output_type": "display_data"
    },
    {
     "data": {
      "text/html": [
       "<strong><a href=http://dx.doi.org/10.3390/nu10111790>Solid Food Introduction and the Development of Food Allergies.</a></strong><br>2018. Caffarelli C, Di Mauro D, Mastrorilli C, Bottau P, Cipriani F, Ricci G<br>[ID: 30453619]"
      ],
      "text/plain": [
       "<IPython.core.display.HTML object>"
      ]
     },
     "metadata": {},
     "output_type": "display_data"
    },
    {
     "data": {
      "text/html": [
       "<strong><a href=http://dx.doi.org/10.1002/ppul.20712>Exhaled breath condensate pH in infants and children with acute and recurrent wheezy bronchitis.</a></strong><br>2007. Vogelberg C, Würfel C, Knoetzsch A, Kahlert A, Range U, Leupold W<br>[ID: 17960820]"
      ],
      "text/plain": [
       "<IPython.core.display.HTML object>"
      ]
     },
     "metadata": {},
     "output_type": "display_data"
    },
    {
     "data": {
      "text/html": [
       "<strong><a href=http://dx.doi.org/10.1111/j.1468-3083.2006.01852.x>The autologous serum skin test in a cohort of chronic idiopathic urticaria patients compared to respiratory allergy patients and healthy individuals.</a></strong><br>2007. Guttman-Yassky E, Bergman R, Maor C, Mamorsky M, Pollack S, Shahar E<br>[ID: 17207165]"
      ],
      "text/plain": [
       "<IPython.core.display.HTML object>"
      ]
     },
     "metadata": {},
     "output_type": "display_data"
    },
    {
     "data": {
      "text/html": [
       "<strong><a href=http://dx.doi.org/10.2340/0001555576488490>Burning mouth syndrome: the role of contact hypersensitivity.</a></strong><br>1996. Virgili A, Corazza M, Trombelli L, Arcidiacono A<br>[ID: 8982420]"
      ],
      "text/plain": [
       "<IPython.core.display.HTML object>"
      ]
     },
     "metadata": {},
     "output_type": "display_data"
    },
    {
     "data": {
      "text/html": [
       "<strong><a href=http://dx.doi.org/10.1097/SCS.0000000000005973>Myelomeningocele: Medical Considerations and Stomatologic Aspects in the Dental Treatment.</a></strong><br>2019. Amaral COFD, Nardeli CS, Saito IC, Valério JS, Filho MSPA, Straioto FG<br>[ID: 31567772]"
      ],
      "text/plain": [
       "<IPython.core.display.HTML object>"
      ]
     },
     "metadata": {},
     "output_type": "display_data"
    },
    {
     "data": {
      "text/html": [
       "<strong><a href=http://dx.doi.org/10.1097/MD.0000000000014421>Association between food allergy and ankylosing spondylitis: An observational study.</a></strong><br>2019. Niu Q, Wei W, Huang Z, Zhang J, Yang B, Wang L<br>[ID: 30732197]"
      ],
      "text/plain": [
       "<IPython.core.display.HTML object>"
      ]
     },
     "metadata": {},
     "output_type": "display_data"
    },
    {
     "data": {
      "text/html": [
       "<strong>Our experience with acetylsalicylic acid hypersensitivity.</strong><br>1984. Piña J, Barbado A, Marques D, Leitão MC, Duarte C, Gomes MJ, Amaral-Marques R<br>[ID: 6475695]"
      ],
      "text/plain": [
       "<IPython.core.display.HTML object>"
      ]
     },
     "metadata": {},
     "output_type": "display_data"
    },
    {
     "data": {
      "text/html": [
       "<strong>[Plasma leptin level in patients with bronchial asthma].</strong><br>2009. Mineev VN, Sorokina LN, Berestovskaia VS, Nema MA, Petrovskaia NV<br>[ID: 19705789]"
      ],
      "text/plain": [
       "<IPython.core.display.HTML object>"
      ]
     },
     "metadata": {},
     "output_type": "display_data"
    },
    {
     "data": {
      "text/html": [
       "<strong><a href=http://dx.doi.org/10.13201/j.issn.1001-1781.2017.15.002>[Clinical symptoms and immunology inspection characteristics of nasal cavity local allergy].</a></strong><br>2017. Yin ZX, Zhu Y, Zhai X, Zhang JL, Liu G<br>[ID: 29798346]"
      ],
      "text/plain": [
       "<IPython.core.display.HTML object>"
      ]
     },
     "metadata": {},
     "output_type": "display_data"
    },
    {
     "data": {
      "text/html": [
       "<strong><a href=http://dx.doi.org/10.1007/s10753-008-9059-1>Dehydroepiandrosterone and dehydroepiandrosterone sulphate in atopic allergy and chronic urticaria.</a></strong><br>2008. Kasperska-Zajac A, Brzoza Z, Rogala B<br>[ID: 18288594]"
      ],
      "text/plain": [
       "<IPython.core.display.HTML object>"
      ]
     },
     "metadata": {},
     "output_type": "display_data"
    },
    {
     "data": {
      "text/html": [
       "<strong><a href=http://dx.doi.org/10.1046/j.1365-2249.2003.02074.x>High positive frequency of antibodies to metallothionein and heat shock protein 70 in sera of patients with metal allergy.</a></strong><br>2003. Jin GB, Nakayama H, Shmyhlo M, Inoue S, Kondo M, Ikezawa Z, Ouchi Y, Cyong JC<br>[ID: 12562388]"
      ],
      "text/plain": [
       "<IPython.core.display.HTML object>"
      ]
     },
     "metadata": {},
     "output_type": "display_data"
    },
    {
     "data": {
      "text/html": [
       "<strong><a href=http://dx.doi.org/10.1016/0091-6749(86)90175-2>The lymphocyte transformation test for diagnosis of drug-induced occupational allergy.</a></strong><br>1986. Stejskal VD, Olin RG, Forsbeck M<br>[ID: 2936791]"
      ],
      "text/plain": [
       "<IPython.core.display.HTML object>"
      ]
     },
     "metadata": {},
     "output_type": "display_data"
    },
    {
     "data": {
      "text/html": [
       "<strong><a href=http://dx.doi.org/10.1111/j.1346-8138.2008.00448.x>Case of anaphylaxis caused by ingestion of royal jelly.</a></strong><br>2008. Katayama M, Aoki M, Kawana S<br>[ID: 18419679]"
      ],
      "text/plain": [
       "<IPython.core.display.HTML object>"
      ]
     },
     "metadata": {},
     "output_type": "display_data"
    },
    {
     "data": {
      "text/html": [
       "<strong>Post-transcriptional regulation of interleukin-10 in peripheral B cells of airway allergy patients.</strong><br>2016. Luo XQ, Yang SB, Qiu SQ, Xie RD, Yang LT, Ke YX, Zhao HX, Geng XR, Yang G, Liu ZQ, Liu JQ, Wang S, Liu DB, Liu J<br>[ID: 28078048]"
      ],
      "text/plain": [
       "<IPython.core.display.HTML object>"
      ]
     },
     "metadata": {},
     "output_type": "display_data"
    },
    {
     "data": {
      "text/html": [
       "<strong><a href=http://dx.doi.org/10.1016/j.anai.2010.08.002>Drug allergy: an updated practice parameter.</a></strong><br>2010. Joint Task Force on Practice Parameters., American Academy of Allergy, Asthma and Immunology., American College of Allergy, Asthma and Immunology., Joint Council of Allergy, Asthma and Immunology.<br>[ID: 20934625]"
      ],
      "text/plain": [
       "<IPython.core.display.HTML object>"
      ]
     },
     "metadata": {},
     "output_type": "display_data"
    },
    {
     "data": {
      "text/html": [
       "<strong><a href=http://dx.doi.org/10.3109/02770908809073201>Human seminal plasma allergy in India.</a></strong><br>1988. Shah A, Sethi S, Agarwal MK<br>[ID: 3182586]"
      ],
      "text/plain": [
       "<IPython.core.display.HTML object>"
      ]
     },
     "metadata": {},
     "output_type": "display_data"
    },
    {
     "data": {
      "text/html": [
       "<strong>Infantile colic: practicalities of management, including dietary aspects.</strong><br>2010. Shergill-Bonner R<br>[ID: 21319674]"
      ],
      "text/plain": [
       "<IPython.core.display.HTML object>"
      ]
     },
     "metadata": {},
     "output_type": "display_data"
    },
    {
     "data": {
      "text/html": [
       "<strong><a href=http://dx.doi.org/10.1177/000348940411300605>Immune-mediated disorders associated with idiopathic sudden sensorineural hearing loss.</a></strong><br>2004. Toubi E, Ben-David J, Kessel A, Halas K, Sabo E, Luntz M<br>[ID: 15224826]"
      ],
      "text/plain": [
       "<IPython.core.display.HTML object>"
      ]
     },
     "metadata": {},
     "output_type": "display_data"
    },
    {
     "data": {
      "text/html": [
       "<strong>Evidence of probiotics in prevention of allergy and asthma.</strong><br>2005. Björkstén B<br>[ID: 16248828]"
      ],
      "text/plain": [
       "<IPython.core.display.HTML object>"
      ]
     },
     "metadata": {},
     "output_type": "display_data"
    },
    {
     "data": {
      "text/html": [
       "<strong><a href=http://dx.doi.org/10.4049/jimmunol.180.7.4514>Assessment of Bet v 1-specific CD4+ T cell responses in allergic and nonallergic individuals using MHC class II peptide tetramers.</a></strong><br>2008. Van Overtvelt L, Wambre E, Maillère B, von Hofe E, Louise A, Balazuc AM, Bohle B, Ebo D, Leboulaire C, Garcia G, Moingeon P<br>[ID: 18354173]"
      ],
      "text/plain": [
       "<IPython.core.display.HTML object>"
      ]
     },
     "metadata": {},
     "output_type": "display_data"
    },
    {
     "data": {
      "text/html": [
       "<strong>[Anti-alpha-gliadin antibodies. Sensitivity, specificity and correlation with blood xylose test in the 3 diagnostic stages of celiac disease in children].</strong><br>1987. Ventura A, Florean P, Trevisan M, Not T, Perticarari S, Quadrifoglio F, Torre G, Cauci S<br>[ID: 3444740]"
      ],
      "text/plain": [
       "<IPython.core.display.HTML object>"
      ]
     },
     "metadata": {},
     "output_type": "display_data"
    },
    {
     "data": {
      "text/html": [
       "<strong><a href=http://dx.doi.org/10.2165/00023210-199605050-00002>Histamine and Seizures : Implications for the Treatment of Epilepsy.</a></strong><br>1996. Yokoyama H, Iinuma K<br>[ID: 26071045]"
      ],
      "text/plain": [
       "<IPython.core.display.HTML object>"
      ]
     },
     "metadata": {},
     "output_type": "display_data"
    },
    {
     "data": {
      "text/html": [
       "<strong><a href=http://dx.doi.org/10.1016/j.vaccine.2007.12.038>Vaccine adjuvant systems containing monophosphoryl lipid A and QS21 induce strong and persistent humoral and T cell responses against hepatitis B surface antigen in healthy adult volunteers.</a></strong><br>2008. Vandepapelière P, Horsmans Y, Moris P, Van Mechelen M, Janssens M, Koutsoukos M, Van Belle P, Clement F, Hanon E, Wettendorff M, Garçon N, Leroux-Roels G<br>[ID: 18272264]"
      ],
      "text/plain": [
       "<IPython.core.display.HTML object>"
      ]
     },
     "metadata": {},
     "output_type": "display_data"
    },
    {
     "data": {
      "text/html": [
       "<strong><a href=http://dx.doi.org/10.1111/iji.12365>Variation in the TEK gene is not associated with asthma but with allergic conjunctivitis.</a></strong><br>2018. Fodor LE, Gézsi A, Gál Z, Nagy A, Kiss A, Bikov A, Szalai C<br>[ID: 29667338]"
      ],
      "text/plain": [
       "<IPython.core.display.HTML object>"
      ]
     },
     "metadata": {},
     "output_type": "display_data"
    },
    {
     "data": {
      "text/html": [
       "<strong><a href=http://dx.doi.org/10.1111/j.1398-9995.1988.tb00926.x>Bronchial provocation studies in farmers with positive RAST to the storage mite Lepidoglyphus destructor.</a></strong><br>1988. van Hage-Hamsten M, Ihre E, Zetterström O, Johansson SG<br>[ID: 3207179]"
      ],
      "text/plain": [
       "<IPython.core.display.HTML object>"
      ]
     },
     "metadata": {},
     "output_type": "display_data"
    },
    {
     "data": {
      "text/html": [
       "<strong><a href=http://dx.doi.org/10.1016/0091-6749(88)90882-2>Immediate skin test reactivity to common aeroallergens in patients with respiratory allergies: a comparative analysis of allergen-induced skin reactions and their histamine controls.</a></strong><br>1988. Lopez LR, Noriega Y, Losno R<br>[ID: 3379226]"
      ],
      "text/plain": [
       "<IPython.core.display.HTML object>"
      ]
     },
     "metadata": {},
     "output_type": "display_data"
    },
    {
     "data": {
      "text/html": [
       "<strong><a href=http://dx.doi.org/10.1111/j.1365-2133.2007.08336.x>The association between alcohol consumption and contact sensitization in Danish adults: the Glostrup Allergy Study.</a></strong><br>2008. Thyssen JP, Nielsen NH, Linneberg A<br>[ID: 18067484]"
      ],
      "text/plain": [
       "<IPython.core.display.HTML object>"
      ]
     },
     "metadata": {},
     "output_type": "display_data"
    },
    {
     "data": {
      "text/html": [
       "<strong><a href=http://dx.doi.org/10.1186/s12876-016-0450-3>Food IgG4 antibodies are elevated not only in children with wheat allergy but also in children with gastrointestinal diseases.</a></strong><br>2016. Czaja-Bulsa G, Bulsa M, Gębala A<br>[ID: 27004959]"
      ],
      "text/plain": [
       "<IPython.core.display.HTML object>"
      ]
     },
     "metadata": {},
     "output_type": "display_data"
    },
    {
     "data": {
      "text/html": [
       "<strong>Leucocytes in human milk and lymphocyte subsets in cow's milk-allergic infants.</strong><br>2002. Järvinen KM, Suomalainen H<br>[ID: 12390440]"
      ],
      "text/plain": [
       "<IPython.core.display.HTML object>"
      ]
     },
     "metadata": {},
     "output_type": "display_data"
    },
    {
     "data": {
      "text/html": [
       "<strong>Low frequency of CD4+, but not CD8+, T cells expressing interferon-gamma is related to cow's milk allergy in infancy.</strong><br>2002. Osterlund P, Suomalainen H<br>[ID: 12390442]"
      ],
      "text/plain": [
       "<IPython.core.display.HTML object>"
      ]
     },
     "metadata": {},
     "output_type": "display_data"
    },
    {
     "data": {
      "text/html": [
       "<strong><a href=http://dx.doi.org/10.1177/1359105315600235>Alexithymia in food-allergic versus healthy children and young adults.</a></strong><br>2017. Polloni L, Gregori D, Ferruzza E, Oricoli C, Lazzarotto F, Bonaguro R, Toniolo A, Celegato N, Muraro A<br>[ID: 26349611]"
      ],
      "text/plain": [
       "<IPython.core.display.HTML object>"
      ]
     },
     "metadata": {},
     "output_type": "display_data"
    },
    {
     "data": {
      "text/html": [
       "<strong><a href=http://dx.doi.org/10.1186/s40168-017-0254-x>Exposure to household furry pets influences the gut microbiota of infant at 3-4 months following various birth scenarios.</a></strong><br>2017. Tun HM, Konya T, Takaro TK, Brook JR, Chari R, Field CJ, Guttman DS, Becker AB, Mandhane PJ, Turvey SE, Subbarao P, Sears MR, Scott JA, Kozyrskyj AL, CHILD Study Investigators.<br>[ID: 28381231]"
      ],
      "text/plain": [
       "<IPython.core.display.HTML object>"
      ]
     },
     "metadata": {},
     "output_type": "display_data"
    },
    {
     "data": {
      "text/html": [
       "<strong><a href=http://dx.doi.org/10.24953/turkjped.2019.01.016>Severe iron deficiency anemia and anasarca edema due to excessive cow`s milk intake.</a></strong><br>2019. Mantadakis E, Zikidou P, Tsouvala E, Thomaidis S, Chatzimichael A<br>[ID: 31559729]"
      ],
      "text/plain": [
       "<IPython.core.display.HTML object>"
      ]
     },
     "metadata": {},
     "output_type": "display_data"
    },
    {
     "data": {
      "text/html": [
       "<strong><a href=http://dx.doi.org/10.3109/00016489709117792>Inflammatory cytokine expression on nasal polyps developed in allergic and infectious rhinitis.</a></strong><br>1997. Min YG, Lee CH, Rhee CS, Kim KH, Kim CS, Koh YY, Min KU, Anderson PL<br>[ID: 9105471]"
      ],
      "text/plain": [
       "<IPython.core.display.HTML object>"
      ]
     },
     "metadata": {},
     "output_type": "display_data"
    },
    {
     "data": {
      "text/html": [
       "<strong><a href=http://dx.doi.org/10.1111/j.1365-2133.1990.tb08278.x>HLA-A, B, C and DR antigens in nickel contact sensitivity.</a></strong><br>1990. Mozzanica N, Rizzolo L, Veneroni G, Diotti R, Hepeisen S, Finzi AF<br>[ID: 2322496]"
      ],
      "text/plain": [
       "<IPython.core.display.HTML object>"
      ]
     },
     "metadata": {},
     "output_type": "display_data"
    },
    {
     "data": {
      "text/html": [
       "<strong><a href=http://dx.doi.org/10.1080/02652039109374005>The importance of endogenous histamine relative to dietary histamine in the aetiology of scombrotoxicosis.</a></strong><br>1991. Ijomah P, Clifford MN, Walker R, Wright J, Hardy R, Murray CK<br>[ID: 1806404]"
      ],
      "text/plain": [
       "<IPython.core.display.HTML object>"
      ]
     },
     "metadata": {},
     "output_type": "display_data"
    },
    {
     "data": {
      "text/html": [
       "<strong><a href=http://dx.doi.org/10.1016/0091-6749(76)90039-7>IgE levels in sera of cancer patients.</a></strong><br>1976. Winters WD, Heiner DC<br>[ID: 1249352]"
      ],
      "text/plain": [
       "<IPython.core.display.HTML object>"
      ]
     },
     "metadata": {},
     "output_type": "display_data"
    },
    {
     "data": {
      "text/html": [
       "<strong><a href=http://dx.doi.org/10.2500/ar.2014.5.0076>Soluble HLA-G serum levels depend on allergy type and IgE levels.</a></strong><br>2014. Ciprandi G, DeAmici M<br>[ID: 24612937]"
      ],
      "text/plain": [
       "<IPython.core.display.HTML object>"
      ]
     },
     "metadata": {},
     "output_type": "display_data"
    },
    {
     "data": {
      "text/html": [
       "<strong><a href=http://dx.doi.org/10.1159/000236713>Effects of conjunctival hyperosmolar challenge in allergic subjects and normal controls.</a></strong><br>1994. Ciprandi G, Buscaglia S, Pesce G, Lotti R, Rolando M, Bagnasco M, Canonica GW<br>[ID: 7950410]"
      ],
      "text/plain": [
       "<IPython.core.display.HTML object>"
      ]
     },
     "metadata": {},
     "output_type": "display_data"
    },
    {
     "data": {
      "text/html": [
       "<strong><a href=http://dx.doi.org/10.18926/AMO/32416>Maximal expiratory flow-volume patterns in airway allergy.</a></strong><br>1983. Meguro T, Ogata M, Nishioka K, Yamanaka M, Ogura Y<br>[ID: 6869066]"
      ],
      "text/plain": [
       "<IPython.core.display.HTML object>"
      ]
     },
     "metadata": {},
     "output_type": "display_data"
    },
    {
     "data": {
      "text/html": [
       "<strong><a href=http://dx.doi.org/10.1002/ppul.20953>Alveolar and bronchial nitric oxide output in healthy children.</a></strong><br>2008. Sepponen A, Lehtimäki L, Huhtala H, Kaila M, Kankaanranta H, Moilanen E<br>[ID: 19009623]"
      ],
      "text/plain": [
       "<IPython.core.display.HTML object>"
      ]
     },
     "metadata": {},
     "output_type": "display_data"
    },
    {
     "data": {
      "text/html": [
       "<strong><a href=http://dx.doi.org/10.1093/pch/19.8.440>Vaccine recommendations for children and youth for the 2014/2015 influenza season.</a></strong><br>2014. Moore DL, Canadian Paediatric Society, Infectious Diseases and Immunization Committee.<br>[ID: 25383002]"
      ],
      "text/plain": [
       "<IPython.core.display.HTML object>"
      ]
     },
     "metadata": {},
     "output_type": "display_data"
    },
    {
     "data": {
      "text/html": [
       "<strong><a href=http://dx.doi.org/10.1128/IAI.00072-12>Enhanced basophil reactivities during severe malaria and their relationship with the Plasmodium falciparum histamine-releasing factor translationally controlled tumor protein.</a></strong><br>2012. Pelleau S, Diop S, Dia Badiane M, Vitte J, Beguin P, Nato F, Diop BM, Bongrand P, Parzy D, Jambou R<br>[ID: 22753372]"
      ],
      "text/plain": [
       "<IPython.core.display.HTML object>"
      ]
     },
     "metadata": {},
     "output_type": "display_data"
    },
    {
     "data": {
      "text/html": [
       "<strong>IgE concentration in asthmatic children. Relation to other immunoglobulins, histamine-latex reaction, eosinophilia and skin reactivity.</strong><br>1977. Barberá G, Muñoz-López F, Cruz-Hernández M, Torralba A<br>[ID: 610409]"
      ],
      "text/plain": [
       "<IPython.core.display.HTML object>"
      ]
     },
     "metadata": {},
     "output_type": "display_data"
    },
    {
     "data": {
      "text/html": [
       "<strong><a href=http://dx.doi.org/10.1016/j.vetimm.2014.11.012>Cloning and expression of recombinant equine interleukin-3 and its effect on sulfidoleukotriene and cytokine production by equine peripheral blood leukocytes.</a></strong><br>2015. Janda J, Lehmann M, Luttmann W, Marti E<br>[ID: 25530476]"
      ],
      "text/plain": [
       "<IPython.core.display.HTML object>"
      ]
     },
     "metadata": {},
     "output_type": "display_data"
    },
    {
     "data": {
      "text/html": [
       "<strong><a href=http://dx.doi.org/10.1128/CVI.00172-06>Analysis of plasmacytoid and myeloid dendritic cells in nasal epithelium.</a></strong><br>2006. Hartmann E, Graefe H, Hopert A, Pries R, Rothenfusser S, Poeck H, Mack B, Endres S, Hartmann G, Wollenberg B<br>[ID: 16928885]"
      ],
      "text/plain": [
       "<IPython.core.display.HTML object>"
      ]
     },
     "metadata": {},
     "output_type": "display_data"
    },
    {
     "data": {
      "text/html": [
       "<strong><a href=http://dx.doi.org/10.1111/sji.12820>Serum levels of epithelial-derived mediators and interleukin-4/interleukin-13 signaling after bronchial challenge with Dermatophagoides pteronyssinus in patients with allergic asthma.</a></strong><br>2019. Kalinauskaite-Zukauske V, Janulaityte I, Januskevicius A, Malakauskas K<br>[ID: 31486098]"
      ],
      "text/plain": [
       "<IPython.core.display.HTML object>"
      ]
     },
     "metadata": {},
     "output_type": "display_data"
    },
    {
     "data": {
      "text/html": [
       "<strong>Exposure to a high concentration of mite allergen in early infancy is a risk factor for developing atopic dermatitis: a 3-year follow-up study.</strong><br>2001. Huang JL, Chen CC, Kuo ML, Hsieh KH<br>[ID: 11251859]"
      ],
      "text/plain": [
       "<IPython.core.display.HTML object>"
      ]
     },
     "metadata": {},
     "output_type": "display_data"
    },
    {
     "data": {
      "text/html": [
       "<strong><a href=http://dx.doi.org/10.2478/s11686-013-0157-3>Cross-sectional study of serum reactivity to Anisakis simplex in healthy adults in Niterói, Brazil.</a></strong><br>2013. Figueiredo Junior I, Vericimo MA, Cardoso LR, São Clemente SC, do Nascimento ER, Teixeira GA<br>[ID: 23990439]"
      ],
      "text/plain": [
       "<IPython.core.display.HTML object>"
      ]
     },
     "metadata": {},
     "output_type": "display_data"
    },
    {
     "data": {
      "text/html": [
       "<strong><a href=http://dx.doi.org/10.5114/pg.2016.61374>Medium chain triglycerides (MCT) formulas in paediatric and allergological practice.</a></strong><br>2016. Łoś-Rycharska E, Kieraszewicz Z, Czerwionka-Szaflarska M<br>[ID: 28053676]"
      ],
      "text/plain": [
       "<IPython.core.display.HTML object>"
      ]
     },
     "metadata": {},
     "output_type": "display_data"
    },
    {
     "data": {
      "text/html": [
       "<strong>Analysis of subsets of B cells, Breg, CD4Treg and CD8Treg cells in adult patients with primary selective IgM deficiency.</strong><br>2016. Louis AG, Agrawal S, Gupta S<br>[ID: 27168952]"
      ],
      "text/plain": [
       "<IPython.core.display.HTML object>"
      ]
     },
     "metadata": {},
     "output_type": "display_data"
    },
    {
     "data": {
      "text/html": [
       "<strong><a href=http://dx.doi.org/10.1111/j.1398-9995.1985.tb02677.x>Standardization of the prick test. A comparative study of three methods.</a></strong><br>1985. Basomba A, Sastre A, Peláez A, Romar A, Campos A, García-Villalmanzo A<br>[ID: 4051141]"
      ],
      "text/plain": [
       "<IPython.core.display.HTML object>"
      ]
     },
     "metadata": {},
     "output_type": "display_data"
    },
    {
     "data": {
      "text/html": [
       "<strong><a href=http://dx.doi.org/10.1002/eji.200940045>Role of Treg in immune regulation of allergic diseases.</a></strong><br>2010. Palomares O, Yaman G, Azkur AK, Akkoc T, Akdis M, Akdis CA<br>[ID: 20148422]"
      ],
      "text/plain": [
       "<IPython.core.display.HTML object>"
      ]
     },
     "metadata": {},
     "output_type": "display_data"
    },
    {
     "data": {
      "text/html": [
       "<strong><a href=http://dx.doi.org/10.1177/1740774517722131>Phase 1 healthy volunteer willingness to participate and enrollment preferences.</a></strong><br>2017. Chen SC, Sinaii N, Bedarida G, Gregorio MA, Emanuel E, Grady C<br>[ID: 28766409]"
      ],
      "text/plain": [
       "<IPython.core.display.HTML object>"
      ]
     },
     "metadata": {},
     "output_type": "display_data"
    },
    {
     "data": {
      "text/html": [
       "<strong>[Food allergy. Objective diagnosis and test of therapeutic efficacy by measuring intestinal permeability].</strong><br>1986. André C<br>[ID: 2937039]"
      ],
      "text/plain": [
       "<IPython.core.display.HTML object>"
      ]
     },
     "metadata": {},
     "output_type": "display_data"
    },
    {
     "data": {
      "text/html": [
       "<strong><a href=http://dx.doi.org/10.1046/j.1365-2273.1997.00073.x>A study of some current methods for assessment of nasal histamine reactivity.</a></strong><br>1997. Hellgren J, Jarlstedt J, Dimberg L, Torén K, Karlsson G<br>[ID: 9466066]"
      ],
      "text/plain": [
       "<IPython.core.display.HTML object>"
      ]
     },
     "metadata": {},
     "output_type": "display_data"
    },
    {
     "data": {
      "text/html": [
       "<strong><a href=http://dx.doi.org/10.1177/147323000603400509>Interleukin-4, interleukin-8 and E-selectin levels in intranasal polyposis patients with and without allergy: a comparative study.</a></strong><br>2006. Ural A, Tezer MS, Yücel A, Atilla H, Ileri F<br>[ID: 17133781]"
      ],
      "text/plain": [
       "<IPython.core.display.HTML object>"
      ]
     },
     "metadata": {},
     "output_type": "display_data"
    },
    {
     "data": {
      "text/html": [
       "<strong>Gene expression of subunits of the IL-12 family cytokines in moDCs derived in vitro from the cord blood of children of healthy and allergic mothers.</strong><br>2014. Hrdý J, Novotná O, Kocourková I, Prokešová L<br>[ID: 24785110]"
      ],
      "text/plain": [
       "<IPython.core.display.HTML object>"
      ]
     },
     "metadata": {},
     "output_type": "display_data"
    },
    {
     "data": {
      "text/html": [
       "<strong>Immunological role of nasal staphylococcus aureus carriage in patients with persistent allergic rhinitis.</strong><br>2008. Refaat MM, Ahmed TM, Ashour ZA, Atia MY<br>[ID: 21532892]"
      ],
      "text/plain": [
       "<IPython.core.display.HTML object>"
      ]
     },
     "metadata": {},
     "output_type": "display_data"
    },
    {
     "data": {
      "text/html": [
       "<strong><a href=http://dx.doi.org/10.26402/jpp.2018.4.09>Microbial patterns in patients with histamine intolerance.</a></strong><br>2018. Schink M, Konturek PC, Tietz E, Dieterich W, Pinzer TC, Wirtz S, Neurath MF, Zopf Y<br>[ID: 30552302]"
      ],
      "text/plain": [
       "<IPython.core.display.HTML object>"
      ]
     },
     "metadata": {},
     "output_type": "display_data"
    },
    {
     "data": {
      "text/html": [
       "<strong><a href=http://dx.doi.org/10.1016/s0300-483x(02)00300-1>Pollution, environmental factors and childhood respiratory allergic disease.</a></strong><br>2002. Nicolai T<br>[ID: 12505332]"
      ],
      "text/plain": [
       "<IPython.core.display.HTML object>"
      ]
     },
     "metadata": {},
     "output_type": "display_data"
    },
    {
     "data": {
      "text/html": [
       "<strong><a href=http://dx.doi.org/10.4103/0972-124X.167165>Herbal oral gel induced contact stomatitis along with desquamative gingivitis due to a coloring agent.</a></strong><br>2015. Singh B, Sharma A, Garg A<br>[ID: 26644725]"
      ],
      "text/plain": [
       "<IPython.core.display.HTML object>"
      ]
     },
     "metadata": {},
     "output_type": "display_data"
    },
    {
     "data": {
      "text/html": [
       "<strong><a href=http://dx.doi.org/10.3346/jkms.2005.20.1.46>Occupational asthma and rhinitis induced by a herbal medicine, Wonji (Polygala tenuifolia).</a></strong><br>2005. Park HK, Jeon SG, Kim TB, Kang HR, Chang YS, Kim YK, Cho SH, Min KU, Kim YY<br>[ID: 15716601]"
      ],
      "text/plain": [
       "<IPython.core.display.HTML object>"
      ]
     },
     "metadata": {},
     "output_type": "display_data"
    },
    {
     "data": {
      "text/html": [
       "<strong>[An update on pediatric nutrition for general physicians].</strong><br>2011. Vásquez Garibay EM<br>[ID: 22352123]"
      ],
      "text/plain": [
       "<IPython.core.display.HTML object>"
      ]
     },
     "metadata": {},
     "output_type": "display_data"
    },
    {
     "data": {
      "text/html": [
       "<strong><a href=http://dx.doi.org/10.1016/j.rvsc.2016.04.010>Antibodies reacting to carbonic anhydrase isozymes (I and II) and albumin in sera from dogs.</a></strong><br>2016. Nishita T, Miyazaki R, Miyazaki T, Ochiai H, Orito K<br>[ID: 27234558]"
      ],
      "text/plain": [
       "<IPython.core.display.HTML object>"
      ]
     },
     "metadata": {},
     "output_type": "display_data"
    },
    {
     "data": {
      "text/html": [
       "<strong>[The skin prick test and nasal provocation test with individually prepared flour extracts in patients with bakers' rhinitis and asthma].</strong><br>1999. Tasman AJ, Witzel A, Simonis B, Sohmen R, Grieshaber R, Heppt W<br>[ID: 10506499]"
      ],
      "text/plain": [
       "<IPython.core.display.HTML object>"
      ]
     },
     "metadata": {},
     "output_type": "display_data"
    },
    {
     "data": {
      "text/html": [
       "<strong>IL-10-producing type 1 regulatory T cells and allergy.</strong><br>2007. Wu K, Bi Y, Sun K, Wang C<br>[ID: 17764617]"
      ],
      "text/plain": [
       "<IPython.core.display.HTML object>"
      ]
     },
     "metadata": {},
     "output_type": "display_data"
    },
    {
     "data": {
      "text/html": [
       "<strong>[Effect of adrenergic and histaminergic disorders on the subclinical course of atopic bronchial asthma].</strong><br>2003. Mineev VN, Nesterovich II, Fedoseev GB<br>[ID: 14971157]"
      ],
      "text/plain": [
       "<IPython.core.display.HTML object>"
      ]
     },
     "metadata": {},
     "output_type": "display_data"
    },
    {
     "data": {
      "text/html": [
       "<strong>ANALYSIS OF THE LEVEL OF CYTOKINES WITH ANTIVIRAL ACTIVITY IN PATIENTS WITH ALLERGOPATHOLOGY IN ACTIVE AND LATENT PHASES OF CHRONIC PERSISTENT EPSTEIN-BARR INFECTION.</strong><br>2019. Zubchenko S, Potemkina G, Havrylyuk A, Lomikovska M, Sharikadze O<br>[ID: 31215899]"
      ],
      "text/plain": [
       "<IPython.core.display.HTML object>"
      ]
     },
     "metadata": {},
     "output_type": "display_data"
    },
    {
     "data": {
      "text/html": [
       "<strong><a href=http://dx.doi.org/10.1186/s12901-016-0031-7>Quality of life and symptoms before and after nasal septoplasty compared with healthy individuals.</a></strong><br>2016. Bugten V, Nilsen AH, Thorstensen WM, Moxness MH, Amundsen MF, Nordgård S<br>[ID: 27799847]"
      ],
      "text/plain": [
       "<IPython.core.display.HTML object>"
      ]
     },
     "metadata": {},
     "output_type": "display_data"
    },
    {
     "data": {
      "text/html": [
       "<strong><a href=http://dx.doi.org/10.1016/S0009-9236(97)90083-7>Arylamine N-acetyltransferase (NAT2) gene mutations in children with allergic diseases.</a></strong><br>1997. Zielińska E, Niewiarowski W, Bodalski J, Stańczyk A, Bolanowski W, Rebowski G<br>[ID: 9433392]"
      ],
      "text/plain": [
       "<IPython.core.display.HTML object>"
      ]
     },
     "metadata": {},
     "output_type": "display_data"
    },
    {
     "data": {
      "text/html": [
       "<strong><a href=http://dx.doi.org/10.1089/jamp.2018.1487>Differences in Particle Deposition Between Members of Imaging-Based Asthma Clusters.</a></strong><br>2019. Choi J, LeBlanc LJ, Choi S, Haghighi B, Hoffman EA, O'Shaughnessy P, Wenzel SE, Castro M, Fain S, Jarjour N, Schiebler ML, Denlinger L, Delvadia R, Walenga R, Babiskin A, Lin CL<br>[ID: 30888242]"
      ],
      "text/plain": [
       "<IPython.core.display.HTML object>"
      ]
     },
     "metadata": {},
     "output_type": "display_data"
    },
    {
     "data": {
      "text/html": [
       "<strong>Eosinophilic cystitis and cholangitis - systemic disease triggered by mycobacterium tuberculosis?</strong><br>2016. Buda P, Grenda R, Wieteska-Klimczak A, Gietka P, Skobejko-Włodarska L, Felberg K, Książyk J<br>[ID: 27717950]"
      ],
      "text/plain": [
       "<IPython.core.display.HTML object>"
      ]
     },
     "metadata": {},
     "output_type": "display_data"
    },
    {
     "data": {
      "text/html": [
       "<strong>HIV-1 induced AIDS is an allergy and the allergen is the Shed gp120--a review, hypothesis, and implications.</strong><br>2004. Becker Y<br>[ID: 15266113]"
      ],
      "text/plain": [
       "<IPython.core.display.HTML object>"
      ]
     },
     "metadata": {},
     "output_type": "display_data"
    },
    {
     "data": {
      "text/html": [
       "<strong><a href=http://dx.doi.org/10.1111/j.1398-9995.1995.tb01168.x>Type III allergy skin testing. Position statement for EAACI Subcommittee on Skin Tests and Allergen Standardization.</a></strong><br>1995. Terho E, Frew AJ<br>[ID: 7573827]"
      ],
      "text/plain": [
       "<IPython.core.display.HTML object>"
      ]
     },
     "metadata": {},
     "output_type": "display_data"
    },
    {
     "data": {
      "text/html": [
       "<strong>The evaluation of selected parameters of cellular nonspecific immunity in normal and allergic horses.</strong><br>2011. Wilkołek P, Szczepanik M, Gołyński M, Adamek L, Pomorska A, Maj-Martyniuk M, Sitkowski W<br>[ID: 21721417]"
      ],
      "text/plain": [
       "<IPython.core.display.HTML object>"
      ]
     },
     "metadata": {},
     "output_type": "display_data"
    },
    {
     "data": {
      "text/html": [
       "<strong><a href=http://dx.doi.org/10.1111/j.1398-9995.1995.tb01181.x>IgG1 and IgG4 antibody responses to the dust mite Lepidoglyphus destructor in a naturally exposed farming population.</a></strong><br>1995. Johansson E, Härfast B, Johansson SG, van Hage-Hamsten M<br>[ID: 7573839]"
      ],
      "text/plain": [
       "<IPython.core.display.HTML object>"
      ]
     },
     "metadata": {},
     "output_type": "display_data"
    },
    {
     "data": {
      "text/html": [
       "<strong><a href=http://dx.doi.org/10.1093/jn/130.7.1657>Dietary (n-6) and (n-3) fatty acids and energy restriction modulate mesenteric lymph node lymphocyte function in autoimmune-prone (NZB x NZW)F1 mice.</a></strong><br>2000. Lim BO, Jolly CA, Zaman K, Fernandes G<br>[ID: 10867032]"
      ],
      "text/plain": [
       "<IPython.core.display.HTML object>"
      ]
     },
     "metadata": {},
     "output_type": "display_data"
    },
    {
     "data": {
      "text/html": [
       "<strong>Asthma and allergy among schoolchildren in a mountainous, dry, non-polluted area in Norway.</strong><br>2000. Njå F, Røksund OD, Svidal B, Nystad W, Carlsen KH<br>[ID: 10768734]"
      ],
      "text/plain": [
       "<IPython.core.display.HTML object>"
      ]
     },
     "metadata": {},
     "output_type": "display_data"
    },
    {
     "data": {
      "text/html": [
       "<strong><a href=http://dx.doi.org/10.1159/000282329>Diffusion of cefmenoxime and latamoxef into prostatic fluid in the patients with acute bacterial prostatitis.</a></strong><br>1992. Katoh N, Ono Y, Ohshima S, Miyake K<br>[ID: 1585513]"
      ],
      "text/plain": [
       "<IPython.core.display.HTML object>"
      ]
     },
     "metadata": {},
     "output_type": "display_data"
    },
    {
     "data": {
      "text/html": [
       "<strong>[Discriminant function analysis in the assessment of laboratory values in children with food allergy in acute viral hepatitis B].</strong><br>2009. Kalagina LS, Rossokhin VF, Efremenko TN, Zobkova TI<br>[ID: 20050284]"
      ],
      "text/plain": [
       "<IPython.core.display.HTML object>"
      ]
     },
     "metadata": {},
     "output_type": "display_data"
    },
    {
     "data": {
      "text/html": [
       "<strong><a href=http://dx.doi.org/10.1053/rmed.2002.1340>Capsaicin inhalation test for identification of sensory hyperreactivity.</a></strong><br>2002. Johansson A, Löwhagen O, Millqvist E, Bende M<br>[ID: 12243320]"
      ],
      "text/plain": [
       "<IPython.core.display.HTML object>"
      ]
     },
     "metadata": {},
     "output_type": "display_data"
    },
    {
     "data": {
      "text/html": [
       "<strong><a href=http://dx.doi.org/10.1097/00005176-199404000-00016>Does early diet have an effect on subsequent macromolecular absorption and serum IgE?</a></strong><br>1994. Juvonen P, Månsson M, Jakobsson I<br>[ID: 8057219]"
      ],
      "text/plain": [
       "<IPython.core.display.HTML object>"
      ]
     },
     "metadata": {},
     "output_type": "display_data"
    },
    {
     "data": {
      "text/html": [
       "<strong>Delayed reaction to cow's milk proteins: a case study.</strong><br>1998. Vila Sexto L, Sánchez López G, Sanz Larruga ML, Diéguez López I<br>[ID: 9777541]"
      ],
      "text/plain": [
       "<IPython.core.display.HTML object>"
      ]
     },
     "metadata": {},
     "output_type": "display_data"
    },
    {
     "data": {
      "text/html": [
       "<strong><a href=http://dx.doi.org/10.1042/CS20100459>Mast cells in health and disease.</a></strong><br>2011. Weller CL, Collington SJ, Williams T, Lamb JR<br>[ID: 21320076]"
      ],
      "text/plain": [
       "<IPython.core.display.HTML object>"
      ]
     },
     "metadata": {},
     "output_type": "display_data"
    },
    {
     "data": {
      "text/html": [
       "<strong>[Autoantibodies and respiratory allergy: immunologic case study].</strong><br>1984. Scolozzi R, Boccafogli A, Vicentini L, Salmi R, Coletti M, Guidoboni CA, Tocchetto M, Lanza M, Cova M<br>[ID: 6508941]"
      ],
      "text/plain": [
       "<IPython.core.display.HTML object>"
      ]
     },
     "metadata": {},
     "output_type": "display_data"
    },
    {
     "data": {
      "text/html": [
       "<strong><a href=http://dx.doi.org/10.1016/j.vaccine.2006.04.043>Effect of allergen-specific immunotherapy on platelet secretory activity in patients with grass-pollen allergy.</a></strong><br>2006. Kasperska-Zajac A, Brzoza Z, Rogala B<br>[ID: 17011086]"
      ],
      "text/plain": [
       "<IPython.core.display.HTML object>"
      ]
     },
     "metadata": {},
     "output_type": "display_data"
    },
    {
     "data": {
      "text/html": [
       "<strong><a href=http://dx.doi.org/10.1002/ijc.28785>Infectious, autoimmune and allergic diseases and risk of Hodgkin lymphoma in children and adolescents: a Children's Oncology Group study.</a></strong><br>2014. Linabery AM, Erhardt EB, Fonstad RK, Ambinder RF, Bunin GR, Ross JA, Spector LG, Grufferman S<br>[ID: 24523151]"
      ],
      "text/plain": [
       "<IPython.core.display.HTML object>"
      ]
     },
     "metadata": {},
     "output_type": "display_data"
    },
    {
     "data": {
      "text/html": [
       "<strong><a href=http://dx.doi.org/10.1016/j.jsams.2008.07.001>The effect of steady state exercise on circulating human IgE and IgG in young healthy volunteers with known allergy.</a></strong><br>2010. Aldred S, Love JA, Tonks LA, Stephens E, Jones DS, Blannin AK<br>[ID: 18977173]"
      ],
      "text/plain": [
       "<IPython.core.display.HTML object>"
      ]
     },
     "metadata": {},
     "output_type": "display_data"
    },
    {
     "data": {
      "text/html": [
       "<strong><a href=http://dx.doi.org/10.1111/j.0105-1873.2004.00413.x>Sesquiterpene lactone mix patch testing supplemented with dandelion extract in patients with allergic contact dermatitis, atopic dermatitis and non-allergic chronic inflammatory skin diseases.</a></strong><br>2004. Jovanović M, Poljacki M, Mimica-Dukić N, Boza P, Vujanović Lj, Duran V, Stojanović S<br>[ID: 15479198]"
      ],
      "text/plain": [
       "<IPython.core.display.HTML object>"
      ]
     },
     "metadata": {},
     "output_type": "display_data"
    },
    {
     "data": {
      "text/html": [
       "<strong><a href=http://dx.doi.org/10.1111/j.1399-3038.2006.00484.x>A matched patient-sibling study on the usage of paracetamol and the subsequent development of allergy and asthma.</a></strong><br>2007. Koniman R, Chan YH, Tan TN, Van Bever HP<br>[ID: 17338785]"
      ],
      "text/plain": [
       "<IPython.core.display.HTML object>"
      ]
     },
     "metadata": {},
     "output_type": "display_data"
    },
    {
     "data": {
      "text/html": [
       "<strong><a href=http://dx.doi.org/10.1007/5584_2017_20>Evaluation of Immune Indices and Serum Vitamin D Content in Children with Atopic Dermatitis.</a></strong><br>2017. Lipińska-Opałka A, Wawrzyniak A, Lewicki S, Zdanowski R, Kalicki B<br>[ID: 28512681]"
      ],
      "text/plain": [
       "<IPython.core.display.HTML object>"
      ]
     },
     "metadata": {},
     "output_type": "display_data"
    },
    {
     "data": {
      "text/html": [
       "<strong><a href=http://dx.doi.org/10.1007/s00420-006-0097-4>Occupational sensitization to storage mites in the personnel of a water-damaged grocery store.</a></strong><br>2006. Koistinen T, Ruoppi P, Putus T, Pennanen S, Harju A, Nuutinen J<br>[ID: 16544169]"
      ],
      "text/plain": [
       "<IPython.core.display.HTML object>"
      ]
     },
     "metadata": {},
     "output_type": "display_data"
    },
    {
     "data": {
      "text/html": [
       "<strong><a href=http://dx.doi.org/10.1159/000234778>Specificities of IgE and IgG antibodies in patients with birch pollen allergy.</a></strong><br>1989. Jarolim E, Rumpold H, Endler AT, Schlerka G, Ebner H, Scheiner O, Kraft D<br>[ID: 2707881]"
      ],
      "text/plain": [
       "<IPython.core.display.HTML object>"
      ]
     },
     "metadata": {},
     "output_type": "display_data"
    },
    {
     "data": {
      "text/html": [
       "<strong><a href=http://dx.doi.org/10.1177/039463201002300140>Peripheral TH-17 cells in children with allergic rhinitis: preliminary report.</a></strong><br>2010. Ciprandi G, Castellazzi AM, Fenoglio D, Battaglia F, Marseglia G<br>[ID: 20378028]"
      ],
      "text/plain": [
       "<IPython.core.display.HTML object>"
      ]
     },
     "metadata": {},
     "output_type": "display_data"
    },
    {
     "data": {
      "text/html": [
       "<strong><a href=http://dx.doi.org/10.1007/s00383-002-0728-0>Comparing wound closure using tissue glue versus subcuticular suture for pediatric surgical incisions: a prospective, randomised trial.</a></strong><br>2002. Ong CC, Jacobsen AS, Joseph VT<br>[ID: 12415411]"
      ],
      "text/plain": [
       "<IPython.core.display.HTML object>"
      ]
     },
     "metadata": {},
     "output_type": "display_data"
    },
    {
     "data": {
      "text/html": [
       "<strong><a href=http://dx.doi.org/10.1016/j.clim.2005.10.003>Association between levels of Toll-like receptors 2 and 4 and CD14 mRNA and allergy in pregnant women and their offspring.</a></strong><br>2006. Krauss-Etschmann S, Hartl D, Heinrich J, Thaqi A, Prell C, Campoy C, Molina FS, Hector A, Decsi T, Schendel DJ, Koletzko BV<br>[ID: 16290232]"
      ],
      "text/plain": [
       "<IPython.core.display.HTML object>"
      ]
     },
     "metadata": {},
     "output_type": "display_data"
    },
    {
     "data": {
      "text/html": [
       "<strong><a href=http://dx.doi.org/10.1016/0091-6749(78)90471-2>Reappraisal of intracutaneous tests in the diagnosis of reaginic allergy.</a></strong><br>1978. Reddy PM, Nagaya H, Pascual HC, Lee SK, Gupta S, Lauridsen JI, Jerome DC<br>[ID: 618945]"
      ],
      "text/plain": [
       "<IPython.core.display.HTML object>"
      ]
     },
     "metadata": {},
     "output_type": "display_data"
    },
    {
     "data": {
      "text/html": [
       "<strong><a href=http://dx.doi.org/10.1086/648408>Constitutive expression of the antimicrobial peptide RNase 7 is associated with Staphylococcus aureus infection of the skin.</a></strong><br>2009. Zanger P, Holzer J, Schleucher R, Steffen H, Schittek B, Gabrysch S<br>[ID: 19919305]"
      ],
      "text/plain": [
       "<IPython.core.display.HTML object>"
      ]
     },
     "metadata": {},
     "output_type": "display_data"
    },
    {
     "data": {
      "text/html": [
       "<strong><a href=http://dx.doi.org/10.3390/nu9080841>Diet Quality throughout Early Life in Relation to Allergic Sensitization and Atopic Diseases in Childhood.</a></strong><br>2017. Nguyen AN, Elbert NJ, Pasmans SGMA, Kiefte-de Jong JC, de Jong NW, Moll HA, Jaddoe VWV, de Jongste JC, Franco OH, Duijts L, Voortman T<br>[ID: 28783056]"
      ],
      "text/plain": [
       "<IPython.core.display.HTML object>"
      ]
     },
     "metadata": {},
     "output_type": "display_data"
    },
    {
     "data": {
      "text/html": [
       "<strong><a href=http://dx.doi.org/10.1021/pr100939g>Toward protein biomarkers for allergy: CD4+ T cell proteomics in allergic and nonallergic subjects sampled in and out of pollen season.</a></strong><br>2011. Blüggel M, Spertini F, Lutter P, Wassenberg J, Audran R, Corthésy B, Müllner S, Blum S, Wattenberg A, Mercenier A, Affolter M, Kussmann M<br>[ID: 21410266]"
      ],
      "text/plain": [
       "<IPython.core.display.HTML object>"
      ]
     },
     "metadata": {},
     "output_type": "display_data"
    },
    {
     "data": {
      "text/html": [
       "<strong><a href=http://dx.doi.org/10.3390/nu2070652>Health benefits of nut consumption.</a></strong><br>2010. Ros E<br>[ID: 22254047]"
      ],
      "text/plain": [
       "<IPython.core.display.HTML object>"
      ]
     },
     "metadata": {},
     "output_type": "display_data"
    },
    {
     "data": {
      "text/html": [
       "<strong>Basophil count in neonates is not suitable for atopy predictivity.</strong><br>1996. Calbi M, Giacchetti L, Coppola A, Triggiani M<br>[ID: 9015783]"
      ],
      "text/plain": [
       "<IPython.core.display.HTML object>"
      ]
     },
     "metadata": {},
     "output_type": "display_data"
    },
    {
     "data": {
      "text/html": [
       "<strong><a href=http://dx.doi.org/10.1034/j.1398-9995.2000.00514.x>Quality of life and capsaicin sensitivity in patients with sensory airway hyperreactivity.</a></strong><br>2000. Millqvist E, Löwhagen O, Bende M<br>[ID: 10858984]"
      ],
      "text/plain": [
       "<IPython.core.display.HTML object>"
      ]
     },
     "metadata": {},
     "output_type": "display_data"
    },
    {
     "data": {
      "text/html": [
       "<strong>Cough provocation with capsaicin is an objective way to test sensory hyperreactivity in patients with asthma-like symptoms.</strong><br>2000. Millqvist E<br>[ID: 10858985]"
      ],
      "text/plain": [
       "<IPython.core.display.HTML object>"
      ]
     },
     "metadata": {},
     "output_type": "display_data"
    },
    {
     "data": {
      "text/html": [
       "<strong><a href=http://dx.doi.org/10.1080/19490976.2018.1491265>Conventional culture methods with commercially available media unveil the presence of novel culturable bacteria.</a></strong><br>2019. Ito T, Sekizuka T, Kishi N, Yamashita A, Kuroda M<br>[ID: 30118379]"
      ],
      "text/plain": [
       "<IPython.core.display.HTML object>"
      ]
     },
     "metadata": {},
     "output_type": "display_data"
    },
    {
     "data": {
      "text/html": [
       "<strong><a href=http://dx.doi.org/10.1183/09031936.01.17202460>Histamine challenges discriminate between symptomatic and asymptomatic children. MAS-Study Group. Multicentre Allergy Study.</a></strong><br>2001. Niggemann B, Illi S, Madloch C, Völkel K, Lau S, Bergmann R, von Mutius E, Wahn U, MAS-Study Group. Multicentre Allergy Study.<br>[ID: 11334127]"
      ],
      "text/plain": [
       "<IPython.core.display.HTML object>"
      ]
     },
     "metadata": {},
     "output_type": "display_data"
    },
    {
     "data": {
      "text/html": [
       "<strong><a href=http://dx.doi.org/10.1159/000235428>Appearance of macrophage migration inhibition factor in patients with systemic reactions to bee venom.</a></strong><br>1991. Goldberg A, Livni E, Mekori YA<br>[ID: 1937921]"
      ],
      "text/plain": [
       "<IPython.core.display.HTML object>"
      ]
     },
     "metadata": {},
     "output_type": "display_data"
    },
    {
     "data": {
      "text/html": [
       "<strong><a href=http://dx.doi.org/10.1093/jpepsy/25.1.35>A multimethod assessment of behavioral and emotional adjustment in children with asthma.</a></strong><br>2000. Klinnert MD, McQuaid EL, McCormick D, Adinoff AD, Bryant NE<br>[ID: 10826242]"
      ],
      "text/plain": [
       "<IPython.core.display.HTML object>"
      ]
     },
     "metadata": {},
     "output_type": "display_data"
    },
    {
     "data": {
      "text/html": [
       "<strong><a href=http://dx.doi.org/10.1111/j.1399-3038.2004.00191.x>Bone mineral status in children with cow milk allergy.</a></strong><br>2004. Jensen VB, Jørgensen IM, Rasmussen KB, Mølgaard C, Prahl P<br>[ID: 15610372]"
      ],
      "text/plain": [
       "<IPython.core.display.HTML object>"
      ]
     },
     "metadata": {},
     "output_type": "display_data"
    },
    {
     "data": {
      "text/html": [
       "<strong><a href=http://dx.doi.org/10.1111/pai.12670>Perceived exercise limitation in asthma: The role of disease severity, overweight, and physical activity in children.</a></strong><br>2017. Westergren T, Berntsen S, Lødrup Carlsen KC, Mowinckel P, Håland G, Fegran L, Carlsen KH<br>[ID: 27734537]"
      ],
      "text/plain": [
       "<IPython.core.display.HTML object>"
      ]
     },
     "metadata": {},
     "output_type": "display_data"
    },
    {
     "data": {
      "text/html": [
       "<strong><a href=http://dx.doi.org/10.1016/j.bbmt.2017.05.018>Manufacture of Autologous CD34<sup>+</sup> Selected Grafts in the NIAID-Sponsored HALT-MS and SCOT Multicenter Clinical Trials for Autoimmune Diseases.</a></strong><br>2017. Keever-Taylor CA, Heimfeld S, Steinmiller KC, Nash RA, Sullivan KM, Czarniecki CW, Granderson TC, Goldstein JS, Griffith LM<br>[ID: 28602891]"
      ],
      "text/plain": [
       "<IPython.core.display.HTML object>"
      ]
     },
     "metadata": {},
     "output_type": "display_data"
    },
    {
     "data": {
      "text/html": [
       "<strong><a href=http://dx.doi.org/10.1111/imm.12157>The circadian clock is functional in eosinophils and mast cells.</a></strong><br>2013. Baumann A, Gönnenwein S, Bischoff SC, Sherman H, Chapnik N, Froy O, Lorentz A<br>[ID: 23876110]"
      ],
      "text/plain": [
       "<IPython.core.display.HTML object>"
      ]
     },
     "metadata": {},
     "output_type": "display_data"
    },
    {
     "data": {
      "text/html": [
       "<strong><a href=http://dx.doi.org/10.1097/MPG.0b013e3181b99cd5>Effect of feeding a formula supplemented with long-chain polyunsaturated fatty acids for 14 weeks improves the ex vivo response to a mitogen and reduces the response to a soy protein in infants at low risk for allergy.</a></strong><br>2010. Field CJ, Van Aerde JE, Goruk S, Clandinin MT<br>[ID: 20386325]"
      ],
      "text/plain": [
       "<IPython.core.display.HTML object>"
      ]
     },
     "metadata": {},
     "output_type": "display_data"
    },
    {
     "data": {
      "text/html": [
       "<strong>Allergen biodistribution in humans.</strong><br>2003. Bagnasco M, Morbelli S, Altrinetti V, Falagiani P, Mariani G, Passalacqua G<br>[ID: 12947990]"
      ],
      "text/plain": [
       "<IPython.core.display.HTML object>"
      ]
     },
     "metadata": {},
     "output_type": "display_data"
    },
    {
     "data": {
      "text/html": [
       "<strong><a href=http://dx.doi.org/10.1002/jcph.794>PRT062607 Achieves Complete Inhibition of the Spleen Tyrosine Kinase at Tolerated Exposures Following Oral Dosing in Healthy Volunteers.</a></strong><br>2017. Coffey G, Rani A, Betz A, Pak Y, Haberstock-Debic H, Pandey A, Hollenbach S, Gretler DD, Mant T, Jurcevic S, Sinha U<br>[ID: 27406873]"
      ],
      "text/plain": [
       "<IPython.core.display.HTML object>"
      ]
     },
     "metadata": {},
     "output_type": "display_data"
    },
    {
     "data": {
      "text/html": [
       "<strong>Nonspecific plasma proteins during sublingual immunotherapy.</strong><br>2003. Reich M, Zwacka G, Markert UR<br>[ID: 12947996]"
      ],
      "text/plain": [
       "<IPython.core.display.HTML object>"
      ]
     },
     "metadata": {},
     "output_type": "display_data"
    },
    {
     "data": {
      "text/html": [
       "<strong><a href=http://dx.doi.org/10.2500/ar.2012.3.0022>Polymorphic variants of interleukin-13 R130Q, interleukin-4 T589C, interleukin-4RA I50V, and interleukin-4RA Q576R in allergic rhinitis: A pilot study.</a></strong><br>2012. Yadav A, Govindasamy GK, Naidu R<br>[ID: 22852128]"
      ],
      "text/plain": [
       "<IPython.core.display.HTML object>"
      ]
     },
     "metadata": {},
     "output_type": "display_data"
    },
    {
     "data": {
      "text/html": [
       "<strong>[Weaning of infants in the Turin district. An epidemiological survey].</strong><br>1994. Savino F, Manzoni P, Tonini I, Dall'Aglio M, Mostert M, Oggero R<br>[ID: 8090149]"
      ],
      "text/plain": [
       "<IPython.core.display.HTML object>"
      ]
     },
     "metadata": {},
     "output_type": "display_data"
    },
    {
     "data": {
      "text/html": [
       "<strong><a href=http://dx.doi.org/10.1016/j.actatropica.2005.05.006>Serum cytokine changes in Turkish children infected with Giardia lamblia with and without allergy: Effect of metronidazole treatment.</a></strong><br>2005. Bayraktar MR, Mehmet N, Durmaz R<br>[ID: 15979046]"
      ],
      "text/plain": [
       "<IPython.core.display.HTML object>"
      ]
     },
     "metadata": {},
     "output_type": "display_data"
    },
    {
     "data": {
      "text/html": [
       "<strong><a href=http://dx.doi.org/10.1111/j.1399-3038.2007.00553.x>FcgammaRIIIa-V/F 158 polymorphism in Turkish children with asthma bronchiale and allergic rhinitis.</a></strong><br>2008. Zeyrek D, Tanac R, Altinoz S, Berdeli A, Gulen F, Koksoy H, Demir E<br>[ID: 18199088]"
      ],
      "text/plain": [
       "<IPython.core.display.HTML object>"
      ]
     },
     "metadata": {},
     "output_type": "display_data"
    },
    {
     "data": {
      "text/html": [
       "<strong><a href=http://dx.doi.org/10.1111/j.1399-3038.2005.00312.x>Increased IFN-gamma secretion from duodenal biopsy samples in delayed-type cow's milk allergy.</a></strong><br>2005. Paajanen L, Vaarala O, Karttunen R, Tuure T, Korpela R, Kokkonen J<br>[ID: 16101938]"
      ],
      "text/plain": [
       "<IPython.core.display.HTML object>"
      ]
     },
     "metadata": {},
     "output_type": "display_data"
    },
    {
     "data": {
      "text/html": [
       "<strong><a href=http://dx.doi.org/10.3109/00016489309135772>Micro-ecology of the nasopharyngeal bacterial flora in otitis-prone and non-otitis-prone children.</a></strong><br>1993. Bernstein JM, Faden HF, Dryja DM, Wactawski-Wende J<br>[ID: 8442428]"
      ],
      "text/plain": [
       "<IPython.core.display.HTML object>"
      ]
     },
     "metadata": {},
     "output_type": "display_data"
    },
    {
     "data": {
      "text/html": [
       "<strong><a href=http://dx.doi.org/10.1016/j.physbeh.2015.06.023>Identification and association of relationships between selected personal and environmental factors and formal components of temperament and strategies of coping with stress in asthmatic patients.</a></strong><br>2015. Panek M, Pietras T, Witusik A, Wieteska Ł, Małachowska B, Mokros Ł, Fendler W, Szemraj J, Kuna P<br>[ID: 26079811]"
      ],
      "text/plain": [
       "<IPython.core.display.HTML object>"
      ]
     },
     "metadata": {},
     "output_type": "display_data"
    },
    {
     "data": {
      "text/html": [
       "<strong><a href=http://dx.doi.org/10.1111/j.1600-0536.1984.tb00964.x>Age differences in poison ivy dermatitis.</a></strong><br>1984. Lejman E, Stoudemayer T, Grove G, Kligman AM<br>[ID: 6238788]"
      ],
      "text/plain": [
       "<IPython.core.display.HTML object>"
      ]
     },
     "metadata": {},
     "output_type": "display_data"
    },
    {
     "data": {
      "text/html": [
       "<strong>Single breath assessment of bronchial responsiveness: a comparison with the astograph method.</strong><br>1991. Mashalla YJ, Tokui N, Kido M<br>[ID: 2028108]"
      ],
      "text/plain": [
       "<IPython.core.display.HTML object>"
      ]
     },
     "metadata": {},
     "output_type": "display_data"
    },
    {
     "data": {
      "text/html": [
       "<strong><a href=http://dx.doi.org/10.1590/s1413-81232011000900026>[Air pollution in internal environments and sick building syndrome].</a></strong><br>2011. Schirmer WN, Pian LB, Szymanski MS, Gauer MA<br>[ID: 21860958]"
      ],
      "text/plain": [
       "<IPython.core.display.HTML object>"
      ]
     },
     "metadata": {},
     "output_type": "display_data"
    },
    {
     "data": {
      "text/html": [
       "<strong><a href=http://dx.doi.org/10.1111/j.1651-2227.1983.tb09657.x>HLA antigens in intestinal cow's milk allergy.</a></strong><br>1983. Verkasalo M, Kuitunen P, Tiilikainen A, Savilahti E<br>[ID: 6574688]"
      ],
      "text/plain": [
       "<IPython.core.display.HTML object>"
      ]
     },
     "metadata": {},
     "output_type": "display_data"
    },
    {
     "data": {
      "text/html": [
       "<strong>Organ-specific and general tolerance of iotrolan 280 after intravenous administration: phase I study in healthy volunteers.</strong><br>1989. Staks T, Seifert W, Wenzel-Hora BI, Fuhrmeister A<br>[ID: 2568805]"
      ],
      "text/plain": [
       "<IPython.core.display.HTML object>"
      ]
     },
     "metadata": {},
     "output_type": "display_data"
    },
    {
     "data": {
      "text/html": [
       "<strong>Nasal Hyperreactivity: Nonspecific Nasal Provocation Tests. Review by the Rhinoconjunctivitis Committee of the Spanish Society of Allergy and Clinical Immunology.</strong><br>2015. Lluch-Bernal M, Dordal MT, Antón E, Campo P, Colás C, Dávila I, Del Cuvillo Bernal A, Fernández-Parra B, González R, González ML, Matheu V, Montoro J, Panizo C, Rondón C, Sánchez MC, Valero A, Vega F, Velázquez E, Navarro A, SEAIC 2010 Rhinoconjunctivitis Committee.<br>[ID: 26817136]"
      ],
      "text/plain": [
       "<IPython.core.display.HTML object>"
      ]
     },
     "metadata": {},
     "output_type": "display_data"
    },
    {
     "data": {
      "text/html": [
       "<strong><a href=http://dx.doi.org/10.1080/10408398.2019.1657062>Nuts, cereals, seeds and legumes proteins derived emulsifiers as a source of plant protein beverages: A review.</a></strong><br>2019. Qamar S, Manrique YJ, Parekh H, Falconer JR<br>[ID: 31478387]"
      ],
      "text/plain": [
       "<IPython.core.display.HTML object>"
      ]
     },
     "metadata": {},
     "output_type": "display_data"
    },
    {
     "data": {
      "text/html": [
       "<strong>Prevalence of Penicillium specific Ig E level and allergy symptoms among office workers in a selected company in Bangi, Malaysia.</strong><br>2007. Goh JC, Juliana J, Malina O, Ngah ZU, Norhafizalena O<br>[ID: 17568376]"
      ],
      "text/plain": [
       "<IPython.core.display.HTML object>"
      ]
     },
     "metadata": {},
     "output_type": "display_data"
    },
    {
     "data": {
      "text/html": [
       "<strong><a href=http://dx.doi.org/10.1164/ajrccm.150.6.7524984>Allergen-specific challenge induces intercellular adhesion molecule 1 (ICAM-1 or CD54) on nasal epithelial cells in allergic subjects. Relationships with early and late inflammatory phenomena.</a></strong><br>1994. Ciprandi G, Pronzato C, Ricca V, Passalacqua G, Bagnasco M, Canonica GW<br>[ID: 7524984]"
      ],
      "text/plain": [
       "<IPython.core.display.HTML object>"
      ]
     },
     "metadata": {},
     "output_type": "display_data"
    },
    {
     "data": {
      "text/html": [
       "<strong><a href=http://dx.doi.org/10.1080/15459620590958732>Exposure to volatile methacrylates in dental personnel.</a></strong><br>2005. Hagberg S, Ljungkvist G, Andreasson H, Karlsson S, Barregård L<br>[ID: 16020090]"
      ],
      "text/plain": [
       "<IPython.core.display.HTML object>"
      ]
     },
     "metadata": {},
     "output_type": "display_data"
    },
    {
     "data": {
      "text/html": [
       "<strong>Association of chronic rhinosinusitis with nasal polyps and asthma: clinical and radiological features, allergy and inflammation markers.</strong><br>2008. Staikūniene J, Vaitkus S, Japertiene LM, Ryskiene S<br>[ID: 18469501]"
      ],
      "text/plain": [
       "<IPython.core.display.HTML object>"
      ]
     },
     "metadata": {},
     "output_type": "display_data"
    },
    {
     "data": {
      "text/html": [
       "<strong><a href=http://dx.doi.org/10.2500/aap.2011.32.3471>Recurrent diarrhea in a 26-year-old man.</a></strong><br>2011. Baker TW, Stokes S, Clawson J, Garrett T, Sacha JJ, Gonzalez-Reyes E<br>[ID: 22221444]"
      ],
      "text/plain": [
       "<IPython.core.display.HTML object>"
      ]
     },
     "metadata": {},
     "output_type": "display_data"
    },
    {
     "data": {
      "text/html": [
       "<strong><a href=http://dx.doi.org/10.1016/j.jaci.2004.05.023>Peripheral blood eosinophils from patients with allergic asthma contain increased intracellular eosinophil-derived neurotoxin.</a></strong><br>2004. Sedgwick JB, Vrtis RF, Jansen KJ, Kita H, Bartemes K, Busse WW<br>[ID: 15356558]"
      ],
      "text/plain": [
       "<IPython.core.display.HTML object>"
      ]
     },
     "metadata": {},
     "output_type": "display_data"
    },
    {
     "data": {
      "text/html": [
       "<strong>Environmental air pollution and lung disease in children.</strong><br>1999. Nicolai T<br>[ID: 10695314]"
      ],
      "text/plain": [
       "<IPython.core.display.HTML object>"
      ]
     },
     "metadata": {},
     "output_type": "display_data"
    },
    {
     "data": {
      "text/html": [
       "<strong><a href=http://dx.doi.org/10.3390/nu11050997>Effect of Adherence to Mediterranean Diet during Pregnancy on Children's Health: A Systematic Review.</a></strong><br>2019. Biagi C, Nunzio MD, Bordoni A, Gori D, Lanari M<br>[ID: 31052443]"
      ],
      "text/plain": [
       "<IPython.core.display.HTML object>"
      ]
     },
     "metadata": {},
     "output_type": "display_data"
    },
    {
     "data": {
      "text/html": [
       "<strong><a href=http://dx.doi.org/10.1186/s12889-019-6934-7>Relationships between perceived health status and ambient air quality parameters in healthy Japanese: a panel study.</a></strong><br>2019. Nakao M, Yamauchi K, Mitsuma S, Omori H, Ishihara Y<br>[ID: 31117980]"
      ],
      "text/plain": [
       "<IPython.core.display.HTML object>"
      ]
     },
     "metadata": {},
     "output_type": "display_data"
    },
    {
     "data": {
      "text/html": [
       "<strong>Dermatophagoides farinae mite allergen and specific immunotherapy in Shanghai.</strong><br>2009. Wen TH<br>[ID: 20066974]"
      ],
      "text/plain": [
       "<IPython.core.display.HTML object>"
      ]
     },
     "metadata": {},
     "output_type": "display_data"
    },
    {
     "data": {
      "text/html": [
       "<strong><a href=http://dx.doi.org/10.1111/all.12847>Siblings Promote a Type 1/Type 17-oriented immune response in the airways of asymptomatic neonates.</a></strong><br>2016. Wolsk HM, Chawes BL, Følsgaard NV, Rasmussen MA, Brix S, Bisgaard H<br>[ID: 26808998]"
      ],
      "text/plain": [
       "<IPython.core.display.HTML object>"
      ]
     },
     "metadata": {},
     "output_type": "display_data"
    },
    {
     "data": {
      "text/html": [
       "<strong><a href=http://dx.doi.org/10.1111/j.1600-0536.1983.tb04354.x>Contact allergy to petrolatums. (I). Sensitizing capacity of different brands of yellow and white petrolatums.</a></strong><br>1983. Dooms-Goossens A, Degreef H<br>[ID: 6861480]"
      ],
      "text/plain": [
       "<IPython.core.display.HTML object>"
      ]
     },
     "metadata": {},
     "output_type": "display_data"
    },
    {
     "data": {
      "text/html": [
       "<strong><a href=http://dx.doi.org/10.1080/13548506.2014.993406>Perinatal stress and food allergy: a preliminary study on maternal reports.</a></strong><br>2015. Polloni L, Ferruzza E, Ronconi L, Lazzarotto F, Toniolo A, Bonaguro R, Muraro A<br>[ID: 25531062]"
      ],
      "text/plain": [
       "<IPython.core.display.HTML object>"
      ]
     },
     "metadata": {},
     "output_type": "display_data"
    },
    {
     "data": {
      "text/html": [
       "<strong>Mechanisms of specific immunotherapy: current knowledge.</strong><br>2003. Akdis CA, Blaser K<br>[ID: 15119042]"
      ],
      "text/plain": [
       "<IPython.core.display.HTML object>"
      ]
     },
     "metadata": {},
     "output_type": "display_data"
    },
    {
     "data": {
      "text/html": [
       "<strong><a href=http://dx.doi.org/10.1034/j.1600-0536.2003.480208.x>Cytokine gene polymorphisms in allergic contact dermatitis.</a></strong><br>2003. Westphal GA, Schnuch A, Moessner R, König IR, Kränke B, Hallier E, Ziegler A, Reich K<br>[ID: 12694213]"
      ],
      "text/plain": [
       "<IPython.core.display.HTML object>"
      ]
     },
     "metadata": {},
     "output_type": "display_data"
    },
    {
     "data": {
      "text/html": [
       "<strong><a href=http://dx.doi.org/10.1159/000445500>Tryptophan Metabolism in Allergic Disorders.</a></strong><br>2016. Gostner JM, Becker K, Kofler H, Strasser B, Fuchs D<br>[ID: 27161289]"
      ],
      "text/plain": [
       "<IPython.core.display.HTML object>"
      ]
     },
     "metadata": {},
     "output_type": "display_data"
    },
    {
     "data": {
      "text/html": [
       "<strong>Influence of Toll-like-receptor ligands on the dendritic cell-T cell interactions: therapeutic options for allergic diseases? Mini-review.</strong><br>2008. Bullens DM, Ceuppens JL<br>[ID: 19075786]"
      ],
      "text/plain": [
       "<IPython.core.display.HTML object>"
      ]
     },
     "metadata": {},
     "output_type": "display_data"
    },
    {
     "data": {
      "text/html": [
       "<strong><a href=http://dx.doi.org/10.1111/j.1365-2273.1985.tb00260.x>A history of acute suppurative otitis media and allergic symptomatology in children with chronic secretory otitis media and controls.</a></strong><br>1985. Mills R, Brain C<br>[ID: 3830477]"
      ],
      "text/plain": [
       "<IPython.core.display.HTML object>"
      ]
     },
     "metadata": {},
     "output_type": "display_data"
    },
    {
     "data": {
      "text/html": [
       "<strong><a href=http://dx.doi.org/10.1111/pai.12142>High-mobility group box-1 (HMGB-1) and serum soluble receptor for advanced glycation end products (sRAGE) in children affected by vernal keratoconjunctivitis.</a></strong><br>2014. Zicari AM, Zicari A, Nebbioso M, Mari E, Celani C, Lollobrigida V, Cesoni Marcelli A, Occasi F, Duse M<br>[ID: 24236762]"
      ],
      "text/plain": [
       "<IPython.core.display.HTML object>"
      ]
     },
     "metadata": {},
     "output_type": "display_data"
    },
    {
     "data": {
      "text/html": [
       "<strong><a href=http://dx.doi.org/10.1159/000080523>T regulatory cells in allergy and health: a question of allergen specificity and balance.</a></strong><br>2004. Taylor A, Verhagen J, Akdis CA, Akdis M<br>[ID: 15340251]"
      ],
      "text/plain": [
       "<IPython.core.display.HTML object>"
      ]
     },
     "metadata": {},
     "output_type": "display_data"
    },
    {
     "data": {
      "text/html": [
       "<strong><a href=http://dx.doi.org/10.1016/j.imlet.2018.10.009>Does a carrot a day keep the allergy away?</a></strong><br>2019. Hufnagl K, Jensen-Jarolim E<br>[ID: 30339818]"
      ],
      "text/plain": [
       "<IPython.core.display.HTML object>"
      ]
     },
     "metadata": {},
     "output_type": "display_data"
    },
    {
     "data": {
      "text/html": [
       "<strong><a href=http://dx.doi.org/10.1002/tox.10050>The mycotoxins citrinin, gliotoxin, and patulin affect interferon-gamma rather than interleukin-4 production in human blood cells.</a></strong><br>2002. Wichmann G, Herbarth O, Lehmann I<br>[ID: 12112629]"
      ],
      "text/plain": [
       "<IPython.core.display.HTML object>"
      ]
     },
     "metadata": {},
     "output_type": "display_data"
    },
    {
     "data": {
      "text/html": [
       "<strong><a href=http://dx.doi.org/10.1111/all.12966>High-dose bee venom exposure induces similar tolerogenic B-cell responses in allergic patients and healthy beekeepers.</a></strong><br>2017. Boonpiyathad T, Meyer N, Moniuszko M, Sokolowska M, Eljaszewicz A, Wirz OF, Tomasiak-Lozowska MM, Bodzenta-Lukaszyk A, Ruxrungtham K, van de Veen W<br>[ID: 27341567]"
      ],
      "text/plain": [
       "<IPython.core.display.HTML object>"
      ]
     },
     "metadata": {},
     "output_type": "display_data"
    },
    {
     "data": {
      "text/html": [
       "<strong>Immunological features of asthma (Part II). A report to the Research Committee of the British Thoracic and Tuberculosis Association.</strong><br>1975. <br>[ID: 1053440]"
      ],
      "text/plain": [
       "<IPython.core.display.HTML object>"
      ]
     },
     "metadata": {},
     "output_type": "display_data"
    },
    {
     "data": {
      "text/html": [
       "<strong><a href=http://dx.doi.org/10.1016/j.ejim.2005.12.011>A case report of Clarkson's disease: If you don't know it, you'll miss it.</a></strong><br>2006. Bonadies N, Baud P, Peter HJ, Buergi U, Mueller BU<br>[ID: 16864014]"
      ],
      "text/plain": [
       "<IPython.core.display.HTML object>"
      ]
     },
     "metadata": {},
     "output_type": "display_data"
    },
    {
     "data": {
      "text/html": [
       "<strong><a href=http://dx.doi.org/10.1089/088922299310638>MN and IIIB recombinant glycoprotein 120 vaccine-induced binding antibodies to native envelope glycoprotein of human immunodeficiency virus type 1 primary isolates. National Institute of Allergy and Infectious Disease Aids Vaccine Evaluation Group.</a></strong><br>1999. Gorse GJ, Patel GB, Mandava M, Berman PW, Belshe RB<br>[ID: 10408729]"
      ],
      "text/plain": [
       "<IPython.core.display.HTML object>"
      ]
     },
     "metadata": {},
     "output_type": "display_data"
    },
    {
     "data": {
      "text/html": [
       "<strong><a href=http://dx.doi.org/10.1016/s0165-2427(03)00007-2>Monoclonal anti-equine IgE antibodies with specificity for different epitopes on the immunoglobulin heavy chain of native IgE.</a></strong><br>2003. Wagner B, Radbruch A, Rohwer J, Leibold W<br>[ID: 12628763]"
      ],
      "text/plain": [
       "<IPython.core.display.HTML object>"
      ]
     },
     "metadata": {},
     "output_type": "display_data"
    },
    {
     "data": {
      "text/html": [
       "<strong><a href=http://dx.doi.org/10.1016/j.alit.2017.11.008>Recent advances in understanding the roles of blood platelets in the pathogenesis of allergic inflammation and bronchial asthma.</a></strong><br>2018. Takeda T, Morita H, Saito H, Matsumoto K, Matsuda A<br>[ID: 29242144]"
      ],
      "text/plain": [
       "<IPython.core.display.HTML object>"
      ]
     },
     "metadata": {},
     "output_type": "display_data"
    },
    {
     "data": {
      "text/html": [
       "<strong><a href=http://dx.doi.org/10.1111/j.1398-9995.1998.tb03776.x>Decreased peripheral blood gamma delta T cells in patients with bronchial asthma.</a></strong><br>1998. Krejsek J, Král B, Vokurková D, Derner V, Tousková M, Paráková Z, Kopecký O<br>[ID: 9491232]"
      ],
      "text/plain": [
       "<IPython.core.display.HTML object>"
      ]
     },
     "metadata": {},
     "output_type": "display_data"
    },
    {
     "data": {
      "text/html": [
       "<strong><a href=http://dx.doi.org/10.1016/0091-6749(87)90009-1>Effect of disodium cromoglycate on neutrophil movement and intracellular calcium mobilization.</a></strong><br>1987. Skedinger MC, Augustine NH, Morris EZ, Nielson DW, Zimmerman GA, Hill HR<br>[ID: 3117863]"
      ],
      "text/plain": [
       "<IPython.core.display.HTML object>"
      ]
     },
     "metadata": {},
     "output_type": "display_data"
    },
    {
     "data": {
      "text/html": [
       "<strong><a href=http://dx.doi.org/10.1185/03007990903510317>Meta-analysis of the evidence for a partially hydrolyzed 100% whey formula for the prevention of allergic diseases.</a></strong><br>2010. Szajewska H, Horvath A<br>[ID: 20001576]"
      ],
      "text/plain": [
       "<IPython.core.display.HTML object>"
      ]
     },
     "metadata": {},
     "output_type": "display_data"
    },
    {
     "data": {
      "text/html": [
       "<strong><a href=http://dx.doi.org/10.3950/jibiinkoka.95.541>[Immunological study of the HLA class II antigen associated with birch pollen allergy].</a></strong><br>1992. Adachi T, Kumai M, Miyokawa N<br>[ID: 1602355]"
      ],
      "text/plain": [
       "<IPython.core.display.HTML object>"
      ]
     },
     "metadata": {},
     "output_type": "display_data"
    },
    {
     "data": {
      "text/html": [
       "<strong>Isothiazolinone preservative as important contact allergen in cosmetics.</strong><br>1987. de Groot AC<br>[ID: 3691316]"
      ],
      "text/plain": [
       "<IPython.core.display.HTML object>"
      ]
     },
     "metadata": {},
     "output_type": "display_data"
    },
    {
     "data": {
      "text/html": [
       "<strong><a href=http://dx.doi.org/10.1371/journal.pone.0086796>Inverse immunological responses induced by allergic rhinitis and head and neck squamous cell carcinoma.</a></strong><br>2014. Millrud CR, Hylander T, Kumlien Georen S, Kågedal Å, Winqvist O, Cardell LO<br>[ID: 24466243]"
      ],
      "text/plain": [
       "<IPython.core.display.HTML object>"
      ]
     },
     "metadata": {},
     "output_type": "display_data"
    },
    {
     "data": {
      "text/html": [
       "<strong>[Airway hyperreactivity in patients with allergic and non-allergic rhinitis].</strong><br>2003. González Hernández J, Gómez Vera J, Orea Solano M, Flores Sandoval G, Ríos Nava R, de la Torre F<br>[ID: 12940107]"
      ],
      "text/plain": [
       "<IPython.core.display.HTML object>"
      ]
     },
     "metadata": {},
     "output_type": "display_data"
    },
    {
     "data": {
      "text/html": [
       "<strong><a href=http://dx.doi.org/10.1186/1939-4551-6-3>The biodiversity hypothesis and allergic disease: world allergy organization position statement.</a></strong><br>2013. Haahtela T, Holgate S, Pawankar R, Akdis CA, Benjaponpitak S, Caraballo L, Demain J, Portnoy J, von Hertzen L, WAO Special Committee on Climate Change and Biodiversity.<br>[ID: 23663440]"
      ],
      "text/plain": [
       "<IPython.core.display.HTML object>"
      ]
     },
     "metadata": {},
     "output_type": "display_data"
    },
    {
     "data": {
      "text/html": [
       "<strong><a href=http://dx.doi.org/10.1111/all.13299>Altered miR-193a-5p expression in children with cow's milk allergy.</a></strong><br>2018. D'Argenio V, Del Monaco V, Paparo L, De Palma FDE, Nocerino R, D'Alessio F, Visconte F, Discepolo V, Del Vecchio L, Salvatore F, Berni Canani R<br>[ID: 28857182]"
      ],
      "text/plain": [
       "<IPython.core.display.HTML object>"
      ]
     },
     "metadata": {},
     "output_type": "display_data"
    },
    {
     "data": {
      "text/html": [
       "<strong><a href=http://dx.doi.org/10.1159/000457915>Mechanisms of Tolerance Induction.</a></strong><br>2017. Nowak-Węgrzyn A, Chatchatee P<br>[ID: 28521317]"
      ],
      "text/plain": [
       "<IPython.core.display.HTML object>"
      ]
     },
     "metadata": {},
     "output_type": "display_data"
    },
    {
     "data": {
      "text/html": [
       "<strong><a href=http://dx.doi.org/10.1016/j.kjms.2014.12.003>TGF-β1 and IL-10 single nucleotide polymorphisms as risk factors for oral cancer in Taiwanese.</a></strong><br>2015. Hsu HJ, Yang YH, Shieh TY, Chen CH, Kao YH, Yang CF, Ko EC<br>[ID: 25744234]"
      ],
      "text/plain": [
       "<IPython.core.display.HTML object>"
      ]
     },
     "metadata": {},
     "output_type": "display_data"
    },
    {
     "data": {
      "text/html": [
       "<strong><a href=http://dx.doi.org/10.1111/j.1399-3038.2005.00359.x>Basophil Activation Test and specific IgE measurements using a panel of recombinant natural rubber latex allergens to determine the latex allergen sensitization profile in children.</a></strong><br>2006. Sanz ML, García-Avilés MC, Tabar AI, Anda M, García BE, Barber D, Salcedo G, Rihs HP, Raulf-Heimsoth M<br>[ID: 16618365]"
      ],
      "text/plain": [
       "<IPython.core.display.HTML object>"
      ]
     },
     "metadata": {},
     "output_type": "display_data"
    },
    {
     "data": {
      "text/html": [
       "<strong><a href=http://dx.doi.org/10.1016/j.rmed.2008.02.012>Exhaled nitric oxide: independent effects of atopy, smoking, respiratory tract infection, gender and height.</a></strong><br>2008. Dressel H, de la Motte D, Reichert J, Ochmann U, Petru R, Angerer P, Holz O, Nowak D, Jörres RA<br>[ID: 18396030]"
      ],
      "text/plain": [
       "<IPython.core.display.HTML object>"
      ]
     },
     "metadata": {},
     "output_type": "display_data"
    },
    {
     "data": {
      "text/html": [
       "<strong><a href=http://dx.doi.org/10.1007/s00405-012-2189-y>The role of allergy in the etiopathogenesis of idiopathic sudden sensorineural hearing loss.</a></strong><br>2013. Keleş E, Sapmaz E, Gödekmerdan A<br>[ID: 23008128]"
      ],
      "text/plain": [
       "<IPython.core.display.HTML object>"
      ]
     },
     "metadata": {},
     "output_type": "display_data"
    },
    {
     "data": {
      "text/html": [
       "<strong>Decreased Sensitization to Aeroallergens among Southwestern Iranian Male Farmers.</strong><br>2017. Moghtaderi M, Torab Jahromi M, Farjadian S, Ghassemi P, Hosseini Teshnizi S<br>[ID: 28865410]"
      ],
      "text/plain": [
       "<IPython.core.display.HTML object>"
      ]
     },
     "metadata": {},
     "output_type": "display_data"
    },
    {
     "data": {
      "text/html": [
       "<strong><a href=http://dx.doi.org/10.1007/s00403-004-0462-7>Nickel sulphate and epoxy resin: differences in iron status and glutathione redox ration at the time of patch testing.</a></strong><br>2004. Kaur S, Zilmer M, Eisen M, Rehema A, Kullisaar T, Vihalemm T, Zilmer K<br>[ID: 15045513]"
      ],
      "text/plain": [
       "<IPython.core.display.HTML object>"
      ]
     },
     "metadata": {},
     "output_type": "display_data"
    },
    {
     "data": {
      "text/html": [
       "<strong>Serum IgE levels: correlation with skin test reactivity in Thai adults with respiratory allergy.</strong><br>1991. Vanichapuntu M, Janwitayanuchit S, Verasertniyom O, Chitrabamrung S, Vatanasuk M<br>[ID: 1807263]"
      ],
      "text/plain": [
       "<IPython.core.display.HTML object>"
      ]
     },
     "metadata": {},
     "output_type": "display_data"
    },
    {
     "data": {
      "text/html": [
       "<strong><a href=http://dx.doi.org/10.1155/2016/1028401>Potential of IL-33 for Preventing the Kidney Injury via Regulating the Lipid Metabolism in Gout Patients.</a></strong><br>2016. Duan L, Huang Y, Su Q, Lin Q, Liu W, Luo J, Yu B, He Y, Qian H, Liu Y, Chen J, Shi G<br>[ID: 27579324]"
      ],
      "text/plain": [
       "<IPython.core.display.HTML object>"
      ]
     },
     "metadata": {},
     "output_type": "display_data"
    },
    {
     "data": {
      "text/html": [
       "<strong>[Bronchial reactivity after provocation of the nasal mucosa with histamine].</strong><br>1991. Somogyi-Zalud E, Godnić-Cvar J<br>[ID: 1815488]"
      ],
      "text/plain": [
       "<IPython.core.display.HTML object>"
      ]
     },
     "metadata": {},
     "output_type": "display_data"
    },
    {
     "data": {
      "text/html": [
       "<strong><a href=http://dx.doi.org/10.1371/journal.pone.0136458>Insect Consumption to Address Undernutrition, a National Survey on the Prevalence of Insect Consumption among Adults and Vendors in Laos.</a></strong><br>2015. Barennes H, Phimmasane M, Rajaonarivo C<br>[ID: 26317772]"
      ],
      "text/plain": [
       "<IPython.core.display.HTML object>"
      ]
     },
     "metadata": {},
     "output_type": "display_data"
    },
    {
     "data": {
      "text/html": [
       "<strong><a href=http://dx.doi.org/10.1111/j.1600-0536.1990.tb05168.x>Contact and photocontact allergy to ketoprofen: clinical and experimental study.</a></strong><br>1990. Mozzanica N, Pigatto PD<br>[ID: 2151373]"
      ],
      "text/plain": [
       "<IPython.core.display.HTML object>"
      ]
     },
     "metadata": {},
     "output_type": "display_data"
    },
    {
     "data": {
      "text/html": [
       "<strong><a href=http://dx.doi.org/10.15036/arerugi.66.804>AN ADULT CASE OF ANAPHYLAXIS CAUSED BY ALLERGY TO JELLYFISH.</a></strong><br>2017. Suzuki S, Miyata Y, Jinno M, Kishino Y, Homma T, Ota S, Tanaka A, Yokoe T, Ohnishi T, Sagara H, Kurata N, Shimakura K, Kurose K<br>[ID: 28701646]"
      ],
      "text/plain": [
       "<IPython.core.display.HTML object>"
      ]
     },
     "metadata": {},
     "output_type": "display_data"
    },
    {
     "data": {
      "text/html": [
       "<strong><a href=http://dx.doi.org/10.4168/aair.2013.5.6.383>Threshold for positivity and optimal dipyrone concentration in flow cytometry-assisted basophil activation test.</a></strong><br>2013. Hagau N, Longrois D, Petrisor C<br>[ID: 24179685]"
      ],
      "text/plain": [
       "<IPython.core.display.HTML object>"
      ]
     },
     "metadata": {},
     "output_type": "display_data"
    },
    {
     "data": {
      "text/html": [
       "<strong><a href=http://dx.doi.org/10.1189/jlb.0212074>CCL26/eotaxin-3 is more effective to induce the migration of eosinophils of asthmatics than CCL11/eotaxin-1 and CCL24/eotaxin-2.</a></strong><br>2013. Provost V, Larose MC, Langlois A, Rola-Pleszczynski M, Flamand N, Laviolette M<br>[ID: 23532518]"
      ],
      "text/plain": [
       "<IPython.core.display.HTML object>"
      ]
     },
     "metadata": {},
     "output_type": "display_data"
    },
    {
     "data": {
      "text/html": [
       "<strong>[Evaluation of allergologic diagnosis in patients with bronchial asthma].</strong><br>1989. Popović-Grle S, Pavlović M, Pavicić F, Rakusić N, Ivicević A<br>[ID: 2798568]"
      ],
      "text/plain": [
       "<IPython.core.display.HTML object>"
      ]
     },
     "metadata": {},
     "output_type": "display_data"
    },
    {
     "data": {
      "text/html": [
       "<strong><a href=http://dx.doi.org/10.4168/aair.2013.5.6.409>The Influence of IgE on Cultured Human Mast Cells.</a></strong><br>2013. Frandsen PM, Krohn IJ, Hoffmann HJ, Schiøtz PO<br>[ID: 24179689]"
      ],
      "text/plain": [
       "<IPython.core.display.HTML object>"
      ]
     },
     "metadata": {},
     "output_type": "display_data"
    },
    {
     "data": {
      "text/html": [
       "<strong><a href=http://dx.doi.org/10.1016/j.yrtph.2005.11.002>Improved ELISA method for screening human antigen-specific IgE and its application for monitoring specific IgE for novel proteins in genetically modified foods.</a></strong><br>2006. Takagi K, Teshima R, Nakajima O, Okunuki H, Sawada J<br>[ID: 16364525]"
      ],
      "text/plain": [
       "<IPython.core.display.HTML object>"
      ]
     },
     "metadata": {},
     "output_type": "display_data"
    },
    {
     "data": {
      "text/html": [
       "<strong><a href=http://dx.doi.org/10.18632/oncotarget.13107>Interleukin-13 suppresses interleukin-10 via inhibiting A20 in peripheral B cells of patients with food allergy.</a></strong><br>2016. Li MY, Zhu M, Linghu EQ, Feng F, Zhu B, Wu C, Guo MZ<br>[ID: 27825134]"
      ],
      "text/plain": [
       "<IPython.core.display.HTML object>"
      ]
     },
     "metadata": {},
     "output_type": "display_data"
    },
    {
     "data": {
      "text/html": [
       "<strong><a href=http://dx.doi.org/10.1046/j.1365-2222.1998.00314.x>Anti-betalactoglobulin IgG antibodies bind to a specific profile of epitopes when patients are allergic to cow's milk proteins.</a></strong><br>1998. Duchateau J, Michils A, Lambert J, Gossart B, Casimir G<br>[ID: 9720816]"
      ],
      "text/plain": [
       "<IPython.core.display.HTML object>"
      ]
     },
     "metadata": {},
     "output_type": "display_data"
    },
    {
     "data": {
      "text/html": [
       "<strong><a href=http://dx.doi.org/10.1186/s13052-015-0191-x>Position Statement on Breastfeeding from the Italian Pediatric Societies.</a></strong><br>2015. Davanzo R, Romagnoli C, Corsello G<br>[ID: 26498033]"
      ],
      "text/plain": [
       "<IPython.core.display.HTML object>"
      ]
     },
     "metadata": {},
     "output_type": "display_data"
    },
    {
     "data": {
      "text/html": [
       "<strong><a href=http://dx.doi.org/10.1002/ppul.22769>Induced sputum cell count and cytokine profile in atopic and non-atopic children with asthma.</a></strong><br>2013. Vizmanos-Lamotte G, Moreno-Galdó A, Muñoz X, Gómez-Ollés S, Gartner S, Cruz MJ<br>[ID: 23401467]"
      ],
      "text/plain": [
       "<IPython.core.display.HTML object>"
      ]
     },
     "metadata": {},
     "output_type": "display_data"
    },
    {
     "data": {
      "text/html": [
       "<strong><a href=http://dx.doi.org/10.1111/j.1399-3038.2010.01025.x>Correlation of allergen-specific IgG subclass antibodies and T lymphocyte cytokine responses in children with multiple food allergies.</a></strong><br>2010. Scott-Taylor TH, O'B Hourihane J, Strobel S<br>[ID: 20444160]"
      ],
      "text/plain": [
       "<IPython.core.display.HTML object>"
      ]
     },
     "metadata": {},
     "output_type": "display_data"
    },
    {
     "data": {
      "text/html": [
       "<strong><a href=http://dx.doi.org/10.1007/s00394-014-0689-9>Prebiotic effect during the first year of life in healthy infants fed formula containing GOS as the only prebiotic: a multicentre, randomised, double-blind and placebo-controlled trial.</a></strong><br>2015. Sierra C, Bernal MJ, Blasco J, Martínez R, Dalmau J, Ortuño I, Espín B, Vasallo MI, Gil D, Vidal ML, Infante D, Leis R, Maldonado J, Moreno JM, Román E<br>[ID: 24671237]"
      ],
      "text/plain": [
       "<IPython.core.display.HTML object>"
      ]
     },
     "metadata": {},
     "output_type": "display_data"
    },
    {
     "data": {
      "text/html": [
       "<strong>Sublingual reactivity to rBET V1 and rPHL P1 in patients with oral allergy syndrome.</strong><br>2006. Marcucci F, Sensi L, Di Cara G, Gidaro G, Incorvaia C, Frati F<br>[ID: 16569352]"
      ],
      "text/plain": [
       "<IPython.core.display.HTML object>"
      ]
     },
     "metadata": {},
     "output_type": "display_data"
    },
    {
     "data": {
      "text/html": [
       "<strong><a href=http://dx.doi.org/10.1002/lary.5541030212>Eosinophil cationic protein in the nasal secretions of patients with mite allergic rhinitis.</a></strong><br>1993. Nishioka K, Saito C, Nagano T, Okano M, Masuda Y, Kuriyama T<br>[ID: 8426511]"
      ],
      "text/plain": [
       "<IPython.core.display.HTML object>"
      ]
     },
     "metadata": {},
     "output_type": "display_data"
    },
    {
     "data": {
      "text/html": [
       "<strong><a href=http://dx.doi.org/10.1111/j.1600-0536.1983.tb04356.x>Prevalence of dichromate sensitivity.</a></strong><br>1983. Peltonen L, Fräki J<br>[ID: 6222873]"
      ],
      "text/plain": [
       "<IPython.core.display.HTML object>"
      ]
     },
     "metadata": {},
     "output_type": "display_data"
    },
    {
     "data": {
      "text/html": [
       "<strong><a href=http://dx.doi.org/10.1111/j.1398-9995.1994.tb00841.x>Farm workers' occupational allergy to Tetranychus urticae: clinical and immunologic aspects.</a></strong><br>1994. Astarita C, Franzese A, Scala G, Sproviero S, Raucci G<br>[ID: 8074267]"
      ],
      "text/plain": [
       "<IPython.core.display.HTML object>"
      ]
     },
     "metadata": {},
     "output_type": "display_data"
    },
    {
     "data": {
      "text/html": [
       "<strong><a href=http://dx.doi.org/10.1016/j.jaci.2013.11.027>Mechanisms underlying the neuronal-based symptoms of allergy.</a></strong><br>2014. Undem BJ, Taylor-Clark T<br>[ID: 24433703]"
      ],
      "text/plain": [
       "<IPython.core.display.HTML object>"
      ]
     },
     "metadata": {},
     "output_type": "display_data"
    },
    {
     "data": {
      "text/html": [
       "<strong><a href=http://dx.doi.org/10.1111/j.1365-2125.1995.tb04465.x>Pharmacokinetics and pharmacodynamics of tucaresol, an antisickling agent, in healthy volunteers.</a></strong><br>1995. Rolan PE, Mercer AJ, Wootton R, Posner J<br>[ID: 7640143]"
      ],
      "text/plain": [
       "<IPython.core.display.HTML object>"
      ]
     },
     "metadata": {},
     "output_type": "display_data"
    },
    {
     "data": {
      "text/html": [
       "<strong><a href=http://dx.doi.org/10.1007/s10493-019-00376-2>Storage mite concentrations are underestimated compared to house dust mite concentrations.</a></strong><br>2019. Reboux G, Valot B, Rocchi S, Scherer E, Roussel S, Millon L<br>[ID: 31093854]"
      ],
      "text/plain": [
       "<IPython.core.display.HTML object>"
      ]
     },
     "metadata": {},
     "output_type": "display_data"
    },
    {
     "data": {
      "text/html": [
       "<strong><a href=http://dx.doi.org/10.1128/AEM.00003-14>Altered fecal microbiota composition associated with food allergy in infants.</a></strong><br>2014. Ling Z, Li Z, Liu X, Cheng Y, Luo Y, Tong X, Yuan L, Wang Y, Sun J, Li L, Xiang C<br>[ID: 24532064]"
      ],
      "text/plain": [
       "<IPython.core.display.HTML object>"
      ]
     },
     "metadata": {},
     "output_type": "display_data"
    },
    {
     "data": {
      "text/html": [
       "<strong><a href=http://dx.doi.org/10.1111/pai.12732>Food allergy and attitudes to close interpersonal relationships: An exploratory study on attachment.</a></strong><br>2017. Polloni L, Schiff S, Ferruzza E, Lazzarotto F, Bonaguro R, Toniolo A, Celegato N, Muraro A<br>[ID: 28480615]"
      ],
      "text/plain": [
       "<IPython.core.display.HTML object>"
      ]
     },
     "metadata": {},
     "output_type": "display_data"
    },
    {
     "data": {
      "text/html": [
       "<strong><a href=http://dx.doi.org/10.1007/s12016-007-8035-0>Exercise-induced bronchospasm in children.</a></strong><br>2008. Randolph C<br>[ID: 18330728]"
      ],
      "text/plain": [
       "<IPython.core.display.HTML object>"
      ]
     },
     "metadata": {},
     "output_type": "display_data"
    },
    {
     "data": {
      "text/html": [
       "<strong><a href=http://dx.doi.org/10.1111/j.1398-9995.1996.tb04546.x>Epitope analysis of HLA-DR-restricted helper T-cell responses to Der p II, a major allergen molecule of Dermatophagoides pteronyssinus.</a></strong><br>1996. Okano M, Nagano T, Nakada M, Masuda Y, Kino K, Yasueda H, Nose Y, Nishimura Y, Ohta N<br>[ID: 8721525]"
      ],
      "text/plain": [
       "<IPython.core.display.HTML object>"
      ]
     },
     "metadata": {},
     "output_type": "display_data"
    },
    {
     "data": {
      "text/html": [
       "<strong><a href=http://dx.doi.org/10.1088/1752-7155/9/4/047114>Extended nitric oxide analysis may improve personalized anti-inflammatory treatment in asthmatic children with intermediate F(E)NO50.</a></strong><br>2015. Thornadtsson A, Neerincx AH, Högman M, Hugen C, Sintnicolaas C, Harren FJ, Merkus PJ, Cristescu SM<br>[ID: 26670199]"
      ],
      "text/plain": [
       "<IPython.core.display.HTML object>"
      ]
     },
     "metadata": {},
     "output_type": "display_data"
    },
    {
     "data": {
      "text/html": [
       "<strong><a href=http://dx.doi.org/10.1186/1475-2891-13-93>Eosinophilic gastroenteritis with refractory ulcer disease and gastrointestinal bleeding as a rare manifestation of seronegative gastrointestinal food allergy.</a></strong><br>2014. Raithel M, Hahn M, Donhuijsen K, Hagel AF, Nägel A, Rieker RJ, Neurath MF, Reinshagen M<br>[ID: 25228412]"
      ],
      "text/plain": [
       "<IPython.core.display.HTML object>"
      ]
     },
     "metadata": {},
     "output_type": "display_data"
    },
    {
     "data": {
      "text/html": [
       "<strong><a href=http://dx.doi.org/10.1155/2013/149829>A Dermal Piercing Complicated by Mycobacterium fortuitum.</a></strong><br>2013. Patel T, Scroggins-Markle L, Kelly B<br>[ID: 24073343]"
      ],
      "text/plain": [
       "<IPython.core.display.HTML object>"
      ]
     },
     "metadata": {},
     "output_type": "display_data"
    },
    {
     "data": {
      "text/html": [
       "<strong>Clinical symptoms and IgE responses to common food proteins in atopic and healthy children.</strong><br>1984. Hattevig G, Kjellman B, Johansson SG, Björkstén B<br>[ID: 6542467]"
      ],
      "text/plain": [
       "<IPython.core.display.HTML object>"
      ]
     },
     "metadata": {},
     "output_type": "display_data"
    },
    {
     "data": {
      "text/html": [
       "<strong><a href=http://dx.doi.org/10.1371/journal.pone.0126582>Decreased Expression of Innate Immunity-Related Genes in Peripheral Blood Mononuclear Cells from Patients with IgG4-Related Disease.</a></strong><br>2015. Nakajima A, Masaki Y, Nakamura T, Kawanami T, Ishigaki Y, Takegami T, Kawano M, Yamada K, Tsukamoto N, Matsui S, Saeki T, Okazaki K, Kamisawa T, Miyashita T, Yakushijin Y, Fujikawa K, Yamamoto M, Hamano H, Origuchi T, Hirata S, ...<br>[ID: 25973893]"
      ],
      "text/plain": [
       "<IPython.core.display.HTML object>"
      ]
     },
     "metadata": {},
     "output_type": "display_data"
    },
    {
     "data": {
      "text/html": [
       "<strong><a href=http://dx.doi.org/10.1080/000164800750000487>The role of thymidine phosphorylase in the pathogenesis of allergic rhinitis.</a></strong><br>2000. Nishimoto K, Matsune S, Miyadera K, Takebayashi Y, Furukawa T, Sumizawa T, Akiyama SI, Kurono Y<br>[ID: 11039877]"
      ],
      "text/plain": [
       "<IPython.core.display.HTML object>"
      ]
     },
     "metadata": {},
     "output_type": "display_data"
    },
    {
     "data": {
      "text/html": [
       "<strong>[Activity of amine oxidases from blood plasma and thrombocytes in sensitization and allergy].</strong><br>1989. Shleĭkin AG, Artamonova VG, Burykina GN, Gor'kova LB, Dernovaia LV<br>[ID: 2741399]"
      ],
      "text/plain": [
       "<IPython.core.display.HTML object>"
      ]
     },
     "metadata": {},
     "output_type": "display_data"
    },
    {
     "data": {
      "text/html": [
       "<strong><a href=http://dx.doi.org/10.13201/j.issn.1001-1781.2017.11.012>[Detection of differentially expressed gene of allergic rhinitis based on RT² profiler PCR array].</a></strong><br>2017. Peng Y, Li XQ, Qiu QH<br>[ID: 29775004]"
      ],
      "text/plain": [
       "<IPython.core.display.HTML object>"
      ]
     },
     "metadata": {},
     "output_type": "display_data"
    },
    {
     "data": {
      "text/html": [
       "<strong>[Study of helper T lymphocytes and suppressor T lymphocytes in respiratory allergy and their modifications in relation to symptomatology].</strong><br>1986. Vila Justribo M, Duce Gracia F, Bello Dronda S, Larrad Mur L<br>[ID: 2946209]"
      ],
      "text/plain": [
       "<IPython.core.display.HTML object>"
      ]
     },
     "metadata": {},
     "output_type": "display_data"
    },
    {
     "data": {
      "text/html": [
       "<strong><a href=http://dx.doi.org/10.1089/jmf.2010.0174>Antioxidant bioavailability and rapid immune-modulating effects after consumption of a single acute dose of a high-metabolite yeast immunogen: results of a placebo-controlled double-blinded crossover pilot study.</a></strong><br>2011. Jensen GS, Redman KA, Benson KF, Carter SG, Mitzner MA, Reeves S, Robinson L<br>[ID: 21501093]"
      ],
      "text/plain": [
       "<IPython.core.display.HTML object>"
      ]
     },
     "metadata": {},
     "output_type": "display_data"
    },
    {
     "data": {
      "text/html": [
       "<strong>[The importance of nasal provocation and rhinomanometry (author's transl)].</strong><br>1981. Berdel D, Koch U<br>[ID: 7345318]"
      ],
      "text/plain": [
       "<IPython.core.display.HTML object>"
      ]
     },
     "metadata": {},
     "output_type": "display_data"
    },
    {
     "data": {
      "text/html": [
       "<strong><a href=http://dx.doi.org/10.1371/journal.pone.0021435>Diversity of murine norovirus strains isolated from asymptomatic mice of different genetic backgrounds within a single U.S. research institute.</a></strong><br>2011. Barron EL, Sosnovtsev SV, Bok K, Prikhodko V, Sandoval-Jaime C, Rhodes CR, Hasenkrug K, Carmody AB, Ward JM, Perdue K, Green KY<br>[ID: 21738664]"
      ],
      "text/plain": [
       "<IPython.core.display.HTML object>"
      ]
     },
     "metadata": {},
     "output_type": "display_data"
    },
    {
     "data": {
      "text/html": [
       "<strong><a href=http://dx.doi.org/10.29262/ram.v66i2.628>[MASK (Mobile Airways Sentinel Network), a mobile App with ARIA's comprehensive solution in Spanish-speaking countries].</a></strong><br>2019. Larenas-Linnemann D, Mullol J, Ivancevich JC, Anto JM, Cardona V, Dedeu T, Rodríguez-González M, Huerta-Villalobos YR, Neffen H, Fuentes-Pérez JM, Rodríguez-Zagal E, Valero A, Zernotti M, Bartra J, Alobid I, Castillo-Vizuete JA, Dordal T, Hijano R, Picado C, Sastre J, ...<br>[ID: 31200425]"
      ],
      "text/plain": [
       "<IPython.core.display.HTML object>"
      ]
     },
     "metadata": {},
     "output_type": "display_data"
    },
    {
     "data": {
      "text/html": [
       "<strong>[Mechanism of changes in amine binding to plasma proteins during allergy].</strong><br>1989. Shleĭkin AG, Gor'kova LB, Pozhilenkova KS, Zvezdochkin AG<br>[ID: 2741420]"
      ],
      "text/plain": [
       "<IPython.core.display.HTML object>"
      ]
     },
     "metadata": {},
     "output_type": "display_data"
    },
    {
     "data": {
      "text/html": [
       "<strong><a href=http://dx.doi.org/10.1186/s13601-019-0260-0>Cofactors of wheat-dependent exercise-induced anaphylaxis do not increase highly individual gliadin absorption in healthy volunteers.</a></strong><br>2019. Scherf KA, Lindenau AC, Valentini L, Collado MC, García-Mantrana I, Christensen M, Tomsitz D, Kugler C, Biedermann T, Brockow K<br>[ID: 30962874]"
      ],
      "text/plain": [
       "<IPython.core.display.HTML object>"
      ]
     },
     "metadata": {},
     "output_type": "display_data"
    },
    {
     "data": {
      "text/html": [
       "<strong><a href=http://dx.doi.org/10.5493/wjem.v5.i3.188>Multiplex planar microarrays for disease prognosis, diagnosis and theranosis.</a></strong><br>2015. Lea P<br>[ID: 26309820]"
      ],
      "text/plain": [
       "<IPython.core.display.HTML object>"
      ]
     },
     "metadata": {},
     "output_type": "display_data"
    },
    {
     "data": {
      "text/html": [
       "<strong><a href=http://dx.doi.org/10.1007/bf02932118>Perinatal period cytokines related to increased risk of future allergy development.</a></strong><br>2007. Zizka J, Kverka M, Novotná O, Stanková I, Lodinová-Zádníková R, Kocourková I, Sterzl I, Prokesová L<br>[ID: 18298055]"
      ],
      "text/plain": [
       "<IPython.core.display.HTML object>"
      ]
     },
     "metadata": {},
     "output_type": "display_data"
    },
    {
     "data": {
      "text/html": [
       "<strong><a href=http://dx.doi.org/10.1111/imcb.12050>IFNβ inhibits the development of allergen tolerance and is conducive to the development of asthma on subsequent allergen exposure.</a></strong><br>2018. Fear VS, Poh WP, Gorman S, Waithman JC, Fear MW<br>[ID: 29611236]"
      ],
      "text/plain": [
       "<IPython.core.display.HTML object>"
      ]
     },
     "metadata": {},
     "output_type": "display_data"
    },
    {
     "data": {
      "text/html": [
       "<strong>[Definition and clinic of the allergic rhinitis].</strong><br>2016. Spielhaupter M<br>[ID: 27120868]"
      ],
      "text/plain": [
       "<IPython.core.display.HTML object>"
      ]
     },
     "metadata": {},
     "output_type": "display_data"
    },
    {
     "data": {
      "text/html": [
       "<strong><a href=http://dx.doi.org/10.1016/j.aller.2019.03.003>Nutritional status and food intake of children with cow's milk allergy.</a></strong><br>2019. Boaventura RM, Mendonça RB, Fonseca FA, Mallozi M, Souza FS, Sarni ROS<br>[ID: 31167726]"
      ],
      "text/plain": [
       "<IPython.core.display.HTML object>"
      ]
     },
     "metadata": {},
     "output_type": "display_data"
    },
    {
     "data": {
      "text/html": [
       "<strong><a href=http://dx.doi.org/10.3950/jibiinkoka.93.157>[Changes in the partial pressure of oxygen of the nasal mucosa caused by stellate ganglion block].</a></strong><br>1990. Iida Y<br>[ID: 2348273]"
      ],
      "text/plain": [
       "<IPython.core.display.HTML object>"
      ]
     },
     "metadata": {},
     "output_type": "display_data"
    },
    {
     "data": {
      "text/html": [
       "<strong>Interleukin-4 and interferon-gamma production by peripheral blood mononuclear cells from food-allergic patients.</strong><br>1996. André F, Pène J, André C<br>[ID: 8836343]"
      ],
      "text/plain": [
       "<IPython.core.display.HTML object>"
      ]
     },
     "metadata": {},
     "output_type": "display_data"
    },
    {
     "data": {
      "text/html": [
       "<strong><a href=http://dx.doi.org/10.1203/00006450-199411000-00018>Reactivity of gliadin and lectins with celiac intestinal mucosa.</a></strong><br>1994. Pittschieler K, Ladinser B, Petell JK<br>[ID: 7877884]"
      ],
      "text/plain": [
       "<IPython.core.display.HTML object>"
      ]
     },
     "metadata": {},
     "output_type": "display_data"
    },
    {
     "data": {
      "text/html": [
       "<strong><a href=http://dx.doi.org/10.1111/j.1365-3083.1993.tb03327.x>IgA and IgG subclass deficiency in a poor population in a developing country.</a></strong><br>1993. Castrignano SB, Carlsson B, Carneiro-Sampaio MS, Söderström T, Hanson LA<br>[ID: 8385798]"
      ],
      "text/plain": [
       "<IPython.core.display.HTML object>"
      ]
     },
     "metadata": {},
     "output_type": "display_data"
    },
    {
     "data": {
      "text/html": [
       "<strong><a href=http://dx.doi.org/10.1016/j.jaci.2010.06.011>Potential mechanisms for the hypothesized link between sunshine, vitamin D, and food allergy in children.</a></strong><br>2010. Vassallo MF, Camargo CA Jr<br>[ID: 20624647]"
      ],
      "text/plain": [
       "<IPython.core.display.HTML object>"
      ]
     },
     "metadata": {},
     "output_type": "display_data"
    },
    {
     "data": {
      "text/html": [
       "<strong><a href=http://dx.doi.org/10.3389/fimmu.2019.01051>Discriminatory Molecular Biomarkers of Allergic and Nonallergic Asthma and Its Severity.</a></strong><br>2019. Baos S, Calzada D, Cremades-Jimeno L, de Pedro M, Sastre J, Picado C, Quiralte J, Florido F, Lahoz C, Cárdaba B<br>[ID: 31143187]"
      ],
      "text/plain": [
       "<IPython.core.display.HTML object>"
      ]
     },
     "metadata": {},
     "output_type": "display_data"
    },
    {
     "data": {
      "text/html": [
       "<strong>Correlation between childhood eczema and specific IgG antibody level.</strong><br>2018. Liu Y, Yan H, Shao F, Li QH, Cui M<br>[ID: 29685016]"
      ],
      "text/plain": [
       "<IPython.core.display.HTML object>"
      ]
     },
     "metadata": {},
     "output_type": "display_data"
    },
    {
     "data": {
      "text/html": [
       "<strong>Measurements of ECP in serum and the impact of plasma coagulation.</strong><br>2000. Björk A, Venge P, Peterson CG<br>[ID: 10843424]"
      ],
      "text/plain": [
       "<IPython.core.display.HTML object>"
      ]
     },
     "metadata": {},
     "output_type": "display_data"
    },
    {
     "data": {
      "text/html": [
       "<strong><a href=http://dx.doi.org/10.3343/kjlm.2010.30.6.660>[Usefulness of total IgE in predicting positive allergen specific IgE Tests in Korean subjects].</a></strong><br>2010. Jung SW, Oh EJ, Lee J, Kim Y, Kim SY, Kim Y, Park YJ<br>[ID: 21157154]"
      ],
      "text/plain": [
       "<IPython.core.display.HTML object>"
      ]
     },
     "metadata": {},
     "output_type": "display_data"
    },
    {
     "data": {
      "text/html": [
       "<strong><a href=http://dx.doi.org/10.18632/oncotarget.15243>Tick-host conflict: immunoglobulin E antibodies to tick proteins in patients with anaphylaxis to tick bite.</a></strong><br>2017. Mateos-Hernández L, Villar M, Moral A, Rodríguez CG, Arias TA, de la Osa V, Brito FF, Fernández de Mera IG, Alberdi P, Ruiz-Fons F, Cabezas-Cruz A, Estrada-Peña A, de la Fuente J<br>[ID: 28423486]"
      ],
      "text/plain": [
       "<IPython.core.display.HTML object>"
      ]
     },
     "metadata": {},
     "output_type": "display_data"
    },
    {
     "data": {
      "text/html": [
       "<strong><a href=http://dx.doi.org/10.1164/ajrccm.165.3.2104066>Bronchial responsiveness to adenosine 5'-monophosphate (AMP) and methacholine differ in their relationship with airway allergy and baseline FEV(1).</a></strong><br>2002. De Meer G, Heederik D, Postma DS<br>[ID: 11818315]"
      ],
      "text/plain": [
       "<IPython.core.display.HTML object>"
      ]
     },
     "metadata": {},
     "output_type": "display_data"
    },
    {
     "data": {
      "text/html": [
       "<strong><a href=http://dx.doi.org/10.2500/aap.2009.30.3257>Low-cost interventions improve indoor air quality and children's health.</a></strong><br>2009. Johnson L, Ciaccio C, Barnes CS, Kennedy K, Forrest E, Gard LC, Pacheco F, Dowling P, Portnoy JM<br>[ID: 19772759]"
      ],
      "text/plain": [
       "<IPython.core.display.HTML object>"
      ]
     },
     "metadata": {},
     "output_type": "display_data"
    },
    {
     "data": {
      "text/html": [
       "<strong><a href=http://dx.doi.org/10.1016/j.jaci.2014.09.014>Anaphylaxis: Unique aspects of clinical diagnosis and management in infants (birth to age 2 years).</a></strong><br>2015. Simons FE, Sampson HA<br>[ID: 25441636]"
      ],
      "text/plain": [
       "<IPython.core.display.HTML object>"
      ]
     },
     "metadata": {},
     "output_type": "display_data"
    },
    {
     "data": {
      "text/html": [
       "<strong><a href=http://dx.doi.org/10.1111/j.1365-2249.2005.02777.x>Different natural killer (NK) receptor expression and immunoglobulin E (IgE) regulation by NK1 and NK2 cells.</a></strong><br>2005. Aktas E, Akdis M, Bilgic S, Disch R, Falk CS, Blaser K, Akdis C, Deniz G<br>[ID: 15807855]"
      ],
      "text/plain": [
       "<IPython.core.display.HTML object>"
      ]
     },
     "metadata": {},
     "output_type": "display_data"
    },
    {
     "data": {
      "text/html": [
       "<strong><a href=http://dx.doi.org/10.1371/journal.pone.0200603>The Cow Milk Symptom Score (CoMiSSTM) in presumed healthy infants.</a></strong><br>2018. Vandenplas Y, Salvatore S, Ribes-Koninckx C, Carvajal E, Szajewska H, Huysentruyt K<br>[ID: 30020980]"
      ],
      "text/plain": [
       "<IPython.core.display.HTML object>"
      ]
     },
     "metadata": {},
     "output_type": "display_data"
    },
    {
     "data": {
      "text/html": [
       "<strong><a href=http://dx.doi.org/10.3345/kjp.2014.57.4.164>Effectiveness and safety of seasonal influenza vaccination in children with underlying respiratory diseases and allergy.</a></strong><br>2014. Kang JH<br>[ID: 24868213]"
      ],
      "text/plain": [
       "<IPython.core.display.HTML object>"
      ]
     },
     "metadata": {},
     "output_type": "display_data"
    },
    {
     "data": {
      "text/html": [
       "<strong>Measuring T cell cytokines in allergic upper and lower airway inflammation: can we move to the clinic?</strong><br>2007. Bullens DM<br>[ID: 17692031]"
      ],
      "text/plain": [
       "<IPython.core.display.HTML object>"
      ]
     },
     "metadata": {},
     "output_type": "display_data"
    },
    {
     "data": {
      "text/html": [
       "<strong><a href=http://dx.doi.org/10.1111/all.12197>The history of mast cell and basophil research - some lessons learnt from the last century.</a></strong><br>2013. Blank U, Falcone FH, Nilsson G<br>[ID: 23991682]"
      ],
      "text/plain": [
       "<IPython.core.display.HTML object>"
      ]
     },
     "metadata": {},
     "output_type": "display_data"
    },
    {
     "data": {
      "text/html": [
       "<strong><a href=http://dx.doi.org/10.1017/S0007114507886326>Immunological and metabolic effects of cis-9, trans-11-conjugated linoleic acid in subjects with birch pollen allergy.</a></strong><br>2008. Turpeinen AM, Ylönen N, von Willebrand E, Basu S, Aro A<br>[ID: 18167173]"
      ],
      "text/plain": [
       "<IPython.core.display.HTML object>"
      ]
     },
     "metadata": {},
     "output_type": "display_data"
    },
    {
     "data": {
      "text/html": [
       "<strong>Sensitization to Food Additives in Patients with Allergy: A Study Based on Skin Test and Open Oral Challenge.</strong><br>2016. Moghtaderi M, Hejrati Z, Dehghani Z, Dehghani F, Kolahi N<br>[ID: 27424134]"
      ],
      "text/plain": [
       "<IPython.core.display.HTML object>"
      ]
     },
     "metadata": {},
     "output_type": "display_data"
    },
    {
     "data": {
      "text/html": [
       "<strong><a href=http://dx.doi.org/10.1002/humu.23548>Asthma and allergic rhinitis associate with the rs2229542 variant that induces a p.Lys90Glu mutation and compromises AKR1B1 protein levels.</a></strong><br>2018. García-Martín E, Sánchez-Gómez FJ, Amo G, García Menaya J, Cordobés C, Ayuso P, Plaza Serón MC, Blanca M, Campo P, Esguevillas G, Pajares MA, G Agúndez JA, Pérez-Sala D<br>[ID: 29726087]"
      ],
      "text/plain": [
       "<IPython.core.display.HTML object>"
      ]
     },
     "metadata": {},
     "output_type": "display_data"
    },
    {
     "data": {
      "text/html": [
       "<strong>A prospective study of humoral immune responses to cow milk antigens in the first year of life.</strong><br>1994. Kaila M, Arvilommi H, Soppi E, Laine S, Isolauri E<br>[ID: 7951758]"
      ],
      "text/plain": [
       "<IPython.core.display.HTML object>"
      ]
     },
     "metadata": {},
     "output_type": "display_data"
    },
    {
     "data": {
      "text/html": [
       "<strong>Role of IL-10 in allergen-specific immunotherapy and normal response to allergens.</strong><br>2001. Akdis CA, Blaser K<br>[ID: 11564436]"
      ],
      "text/plain": [
       "<IPython.core.display.HTML object>"
      ]
     },
     "metadata": {},
     "output_type": "display_data"
    },
    {
     "data": {
      "text/html": [
       "<strong><a href=http://dx.doi.org/10.1186/s40413-015-0063-2>Mechanisms of allergen-specific immunotherapy and immune tolerance to allergens.</a></strong><br>2015. Akdis CA, Akdis M<br>[ID: 26023323]"
      ],
      "text/plain": [
       "<IPython.core.display.HTML object>"
      ]
     },
     "metadata": {},
     "output_type": "display_data"
    },
    {
     "data": {
      "text/html": [
       "<strong><a href=http://dx.doi.org/10.1289/ehp.5715>Persistent hematologic and immunologic disturbances in 8-year-old Dutch children associated with perinatal dioxin exposure.</a></strong><br>2003. ten Tusscher GW, Steerenberg PA, van Loveren H, Vos JG, von dem Borne AE, Westra M, van der Slikke JW, Olie K, Pluim HJ, Koppe JG<br>[ID: 12948893]"
      ],
      "text/plain": [
       "<IPython.core.display.HTML object>"
      ]
     },
     "metadata": {},
     "output_type": "display_data"
    },
    {
     "data": {
      "text/html": [
       "<strong><a href=http://dx.doi.org/10.1016/j.jaci.2016.03.025>MACVIA clinical decision algorithm in adolescents and adults with allergic rhinitis.</a></strong><br>2016. Bousquet J, Schünemann HJ, Hellings PW, Arnavielhe S, Bachert C, Bedbrook A, Bergmann KC, Bosnic-Anticevich S, Brozek J, Calderon M, Canonica GW, Casale TB, Chavannes NH, Cox L, Chrystyn H, Cruz AA, Dahl R, De Carlo G, Demoly P, Devillier P, ...<br>[ID: 27260321]"
      ],
      "text/plain": [
       "<IPython.core.display.HTML object>"
      ]
     },
     "metadata": {},
     "output_type": "display_data"
    },
    {
     "data": {
      "text/html": [
       "<strong><a href=http://dx.doi.org/10.1093/occmed/48.2.91>Nasal challenge test in the diagnosis of allergic respiratory diseases in subjects occupationally exposed to a high molecular allergen (flour).</a></strong><br>1998. Górski P, Krakowiak A, Pazdrak K, Palczynski C, Ruta U, Walusiak J<br>[ID: 9614767]"
      ],
      "text/plain": [
       "<IPython.core.display.HTML object>"
      ]
     },
     "metadata": {},
     "output_type": "display_data"
    },
    {
     "data": {
      "text/html": [
       "<strong>HLA-A, B, C and HLA-DR antigens in extrinsic allergic alveolitis (budgerigar fancier's lung disease).</strong><br>1982. Muers MF, Faux JA, Ting A, Morris PJ<br>[ID: 7067067]"
      ],
      "text/plain": [
       "<IPython.core.display.HTML object>"
      ]
     },
     "metadata": {},
     "output_type": "display_data"
    },
    {
     "data": {
      "text/html": [
       "<strong>The Kiss of Death: A Rare Case of Anaphylaxis to the Bite of the \"Red Margined Kissing Bug\".</strong><br>2015. Anderson C, Belnap C<br>[ID: 26793414]"
      ],
      "text/plain": [
       "<IPython.core.display.HTML object>"
      ]
     },
     "metadata": {},
     "output_type": "display_data"
    },
    {
     "data": {
      "text/html": [
       "<strong><a href=http://dx.doi.org/10.1038/mi.2009.16>Cholera toxin B suppresses allergic inflammation through induction of secretory IgA.</a></strong><br>2009. Smits HH, Gloudemans AK, van Nimwegen M, Willart MA, Soullié T, Muskens F, de Jong EC, Boon L, Pilette C, Johansen FE, Hoogsteden HC, Hammad H, Lambrecht BN<br>[ID: 19404246]"
      ],
      "text/plain": [
       "<IPython.core.display.HTML object>"
      ]
     },
     "metadata": {},
     "output_type": "display_data"
    },
    {
     "data": {
      "text/html": [
       "<strong><a href=http://dx.doi.org/10.1016/j.imlet.2017.05.013>Different capacity of in vitro generated myeloid dendritic cells of newborns of healthy and allergic mothers to respond to probiotic strain E. coli O83:K24:H31.</a></strong><br>2017. Súkeníková L, Černý V, Novotná O, Petrásková P, Boráková K, Kolářová L, Prokešová L, Hrdý J<br>[ID: 28554713]"
      ],
      "text/plain": [
       "<IPython.core.display.HTML object>"
      ]
     },
     "metadata": {},
     "output_type": "display_data"
    },
    {
     "data": {
      "text/html": [
       "<strong><a href=http://dx.doi.org/10.1111/j.1365-2249.2012.04630.x>Impaired function of regulatory T cells in cord blood of children of allergic mothers.</a></strong><br>2012. Hrdý J, Kocourková I, Prokešová L<br>[ID: 22943196]"
      ],
      "text/plain": [
       "<IPython.core.display.HTML object>"
      ]
     },
     "metadata": {},
     "output_type": "display_data"
    },
    {
     "data": {
      "text/html": [
       "<strong>Suppressor T cells and soluble suppressor factors in allergy: effect of immunotherapy.</strong><br>1984. Kesarwala HH, Maccia C, Amaram N, Szep R, Papageorgiou P<br>[ID: 6239712]"
      ],
      "text/plain": [
       "<IPython.core.display.HTML object>"
      ]
     },
     "metadata": {},
     "output_type": "display_data"
    },
    {
     "data": {
      "text/html": [
       "<strong><a href=http://dx.doi.org/10.4103/ijmr.IJMR_379_16>Association of increased risk of asthma with elevated arginase &amp; interleukin-13 levels in serum &amp; rs2781666 G/T genotype of arginase I.</a></strong><br>2018. Donthi S, Neela VSK, Gaddam S, Mohammed HH, Ansari SS, Valluri VL, Sivasai KSR<br>[ID: 30381539]"
      ],
      "text/plain": [
       "<IPython.core.display.HTML object>"
      ]
     },
     "metadata": {},
     "output_type": "display_data"
    },
    {
     "data": {
      "text/html": [
       "<strong>Reliability of histamine release test in dust mite allergy: influence of the degree of sensitization.</strong><br>1995. Resano A, Prieto I, Sanz ML, Oehling A<br>[ID: 8574438]"
      ],
      "text/plain": [
       "<IPython.core.display.HTML object>"
      ]
     },
     "metadata": {},
     "output_type": "display_data"
    },
    {
     "data": {
      "text/html": [
       "<strong><a href=http://dx.doi.org/10.1111/j.1399-3038.2004.00085.x>Serum thrombomodulin in systemic lupus erythematosus and juvenile idiopathic arthritis.</a></strong><br>2004. el-Gamal YM, Heshmat NM, el-Kerdany TH, Fawzy AF<br>[ID: 15209962]"
      ],
      "text/plain": [
       "<IPython.core.display.HTML object>"
      ]
     },
     "metadata": {},
     "output_type": "display_data"
    },
    {
     "data": {
      "text/html": [
       "<strong>Influenza viral infections: presentation, prevention, and treatment.</strong><br>1998. Kennedy MM<br>[ID: 9778668]"
      ],
      "text/plain": [
       "<IPython.core.display.HTML object>"
      ]
     },
     "metadata": {},
     "output_type": "display_data"
    },
    {
     "data": {
      "text/html": [
       "<strong>The gut microbiota in internal medicine: implications for health and disease.</strong><br>2015. Lankelma JM, Nieuwdorp M, de Vos WM, Wiersinga WJ<br>[ID: 25753070]"
      ],
      "text/plain": [
       "<IPython.core.display.HTML object>"
      ]
     },
     "metadata": {},
     "output_type": "display_data"
    },
    {
     "data": {
      "text/html": [
       "<strong>Latex allergy in children.</strong><br>1999. Cantani A<br>[ID: 10212852]"
      ],
      "text/plain": [
       "<IPython.core.display.HTML object>"
      ]
     },
     "metadata": {},
     "output_type": "display_data"
    },
    {
     "data": {
      "text/html": [
       "<strong>Human selenium status and glutathione peroxidase activity in north-west England.</strong><br>1990. Pearson DJ, Day JP, Suarez-Mendez VJ, Miller PF, Owen S, Woodcock A<br>[ID: 2364917]"
      ],
      "text/plain": [
       "<IPython.core.display.HTML object>"
      ]
     },
     "metadata": {},
     "output_type": "display_data"
    },
    {
     "data": {
      "text/html": [
       "<strong><a href=http://dx.doi.org/10.1016/j.imbio.2019.08.006>Vasoactive intestinal peptide alleviates food allergy via restoring regulatory B cell functions.</a></strong><br>2019. Zeng HT, Zhao M, Yang SB, Huang H, Geng XR, Liu JQ, Yang G, Li DC, Yang LT, Zheng PY, Yang PC<br>[ID: 31471097]"
      ],
      "text/plain": [
       "<IPython.core.display.HTML object>"
      ]
     },
     "metadata": {},
     "output_type": "display_data"
    },
    {
     "data": {
      "text/html": [
       "<strong>Food allergy and infantile autism.</strong><br>1995. Lucarelli S, Frediani T, Zingoni AM, Ferruzzi F, Giardini O, Quintieri F, Barbato M, D'Eufemia P, Cardi E<br>[ID: 8869369]"
      ],
      "text/plain": [
       "<IPython.core.display.HTML object>"
      ]
     },
     "metadata": {},
     "output_type": "display_data"
    },
    {
     "data": {
      "text/html": [
       "<strong><a href=http://dx.doi.org/10.1159/000201270>Adverse reaction to food: assessment by double-blind placebo-controlled food challenge and clinical, psychosomatic and immunologic analysis.</a></strong><br>1995. Vatn MH, Grimstad IA, Thorsen L, Kittang E, Refnin I, Malt U, Løvik A, Langeland T, Naalsund A<br>[ID: 8549887]"
      ],
      "text/plain": [
       "<IPython.core.display.HTML object>"
      ]
     },
     "metadata": {},
     "output_type": "display_data"
    },
    {
     "data": {
      "text/html": [
       "<strong><a href=http://dx.doi.org/10.1292/jvms.10-0410>Flow cytometric analysis of lymphocyte proliferative responses to food allergens in dogs with food allergy.</a></strong><br>2011. Fujimura M, Masuda K, Hayashiya M, Okayama T<br>[ID: 21673480]"
      ],
      "text/plain": [
       "<IPython.core.display.HTML object>"
      ]
     },
     "metadata": {},
     "output_type": "display_data"
    },
    {
     "data": {
      "text/html": [
       "<strong>Free radicals as potential mediators of metal-allergy: Ni2+- and Co2+-mediated free radical generation.</strong><br>1998. Van den Broeke LT, Gräslund A, Nilsson JL, Wahlberg JE, Scheynius A, Karlberg AT<br>[ID: 9795082]"
      ],
      "text/plain": [
       "<IPython.core.display.HTML object>"
      ]
     },
     "metadata": {},
     "output_type": "display_data"
    },
    {
     "data": {
      "text/html": [
       "<strong><a href=http://dx.doi.org/10.1016/0091-6749(84)90286-0>Transfer of latent atopy by bone marrow transplantation? A case report.</a></strong><br>1984. Saarinen UM<br>[ID: 6379019]"
      ],
      "text/plain": [
       "<IPython.core.display.HTML object>"
      ]
     },
     "metadata": {},
     "output_type": "display_data"
    },
    {
     "data": {
      "text/html": [
       "<strong>A comparative analysis of latex allergy in the healthy versus high-risk pediatric population.</strong><br>1999. Faust K, Shrewsbury C, Zaglaniczny K, Jarrett M<br>[ID: 10876437]"
      ],
      "text/plain": [
       "<IPython.core.display.HTML object>"
      ]
     },
     "metadata": {},
     "output_type": "display_data"
    },
    {
     "data": {
      "text/html": [
       "<strong>[Analysis and evaluation for cosmetics allergy].</strong><br>2006. Cheng Y, Dong YY, Wang C, Liu J, Hu KX<br>[ID: 17290775]"
      ],
      "text/plain": [
       "<IPython.core.display.HTML object>"
      ]
     },
     "metadata": {},
     "output_type": "display_data"
    },
    {
     "data": {
      "text/html": [
       "<strong>[Serum immunoglobulin E concentration in workers producing chlorfenvinphos].</strong><br>2001. Kossmann S, Konieczny B<br>[ID: 11957784]"
      ],
      "text/plain": [
       "<IPython.core.display.HTML object>"
      ]
     },
     "metadata": {},
     "output_type": "display_data"
    },
    {
     "data": {
      "text/html": [
       "<strong><a href=http://dx.doi.org/10.4168/aair.2014.6.3.252>p53 Codon 72 Genetic Polymorphism in Asthmatic Children: Evidence of Interaction With Acid Phosphatase Locus 1.</a></strong><br>2014. Saccucci P, Verrotti A, Giannini C, Verini M, Chiarelli F, Neri A, Magrini A<br>[ID: 24843801]"
      ],
      "text/plain": [
       "<IPython.core.display.HTML object>"
      ]
     },
     "metadata": {},
     "output_type": "display_data"
    },
    {
     "data": {
      "text/html": [
       "<strong>Autoimmune disease and allergy are controlled by vitamin C treatment.</strong><br>1994. Kodama M, Kodama T, Murakami M, Kodama M<br>[ID: 7919130]"
      ],
      "text/plain": [
       "<IPython.core.display.HTML object>"
      ]
     },
     "metadata": {},
     "output_type": "display_data"
    },
    {
     "data": {
      "text/html": [
       "<strong>[Phenotyping: personal contribution to research on increased susceptibility of individual HLA phenotype combinations in predisposition to contact allergies].</strong><br>1993. Jovanović M, Poljacki M, Milakov J, Duran V, Stojanović S<br>[ID: 7869982]"
      ],
      "text/plain": [
       "<IPython.core.display.HTML object>"
      ]
     },
     "metadata": {},
     "output_type": "display_data"
    },
    {
     "data": {
      "text/html": [
       "<strong><a href=http://dx.doi.org/10.1183/09031936.96.09071402>Lower airway responses to rhinovirus 39 in healthy allergic and nonallergic subjects.</a></strong><br>1996. Skoner DP, Doyle WJ, Seroky J, Van Deusen MA, Fireman P<br>[ID: 8836650]"
      ],
      "text/plain": [
       "<IPython.core.display.HTML object>"
      ]
     },
     "metadata": {},
     "output_type": "display_data"
    },
    {
     "data": {
      "text/html": [
       "<strong><a href=http://dx.doi.org/10.1046/j.1365-2230.2000.00696.x>Clinical aspects of atopic dermatitis.</a></strong><br>2000. Thestrup-Pedersen K<br>[ID: 11122225]"
      ],
      "text/plain": [
       "<IPython.core.display.HTML object>"
      ]
     },
     "metadata": {},
     "output_type": "display_data"
    },
    {
     "data": {
      "text/html": [
       "<strong><a href=http://dx.doi.org/10.1002/ibd.3780040406>Altered expression of interferon-gamma and interleukin-4 in inflammatory bowel disease.</a></strong><br>1998. Camoglio L, Te Velde AA, Tigges AJ, Das PK, Van Deventer SJ<br>[ID: 9836081]"
      ],
      "text/plain": [
       "<IPython.core.display.HTML object>"
      ]
     },
     "metadata": {},
     "output_type": "display_data"
    },
    {
     "data": {
      "text/html": [
       "<strong>Modification of human LDL by in vitro incubation with cigarette smoke or copper ions: implications for allergies, asthma and atherosclerosis.</strong><br>1996. Vruwink KG, Gershwin ME, Sachet P, Halpern G, Davis PA<br>[ID: 8959540]"
      ],
      "text/plain": [
       "<IPython.core.display.HTML object>"
      ]
     },
     "metadata": {},
     "output_type": "display_data"
    },
    {
     "data": {
      "text/html": [
       "<strong><a href=http://dx.doi.org/10.1111/j.1365-2133.1992.tb08045.x>The influence of daily dish-washing with synthetic detergent on human skin.</a></strong><br>1992. Klein G, Grubauer G, Fritsch P<br>[ID: 1390141]"
      ],
      "text/plain": [
       "<IPython.core.display.HTML object>"
      ]
     },
     "metadata": {},
     "output_type": "display_data"
    },
    {
     "data": {
      "text/html": [
       "<strong><a href=http://dx.doi.org/10.1055/s-0038-1649492>Comparison of 1α-25-dihydroxyvitamin D3 and IgE Levels between Allergic Rhinitis Patients and Healthy People.</a></strong><br>2018. Demir MG<br>[ID: 30357064]"
      ],
      "text/plain": [
       "<IPython.core.display.HTML object>"
      ]
     },
     "metadata": {},
     "output_type": "display_data"
    },
    {
     "data": {
      "text/html": [
       "<strong>[IgE-antibodies to Helicobacter pylori in children with gastroduodenal diseases and concomitant of allergy].</strong><br>2013. Mazurina SA, Il'intseva NV, Agefonov VE, Gervazieva VB<br>[ID: 24933960]"
      ],
      "text/plain": [
       "<IPython.core.display.HTML object>"
      ]
     },
     "metadata": {},
     "output_type": "display_data"
    },
    {
     "data": {
      "text/html": [
       "<strong>Fatal adverse event secondary to high osmolality contrast agent.</strong><br>1998. Guharoy R, Medicis J, Lehmann D<br>[ID: 9778765]"
      ],
      "text/plain": [
       "<IPython.core.display.HTML object>"
      ]
     },
     "metadata": {},
     "output_type": "display_data"
    },
    {
     "data": {
      "text/html": [
       "<strong><a href=http://dx.doi.org/10.1080/19440049.2017.1401737>Predictive modelling of the exposure to steviol glycosides in Irish patients aged 1-3 years with phenylketonuria and cow's milk protein allergy.</a></strong><br>2018. O'Sullivan AJ, Pigat S, O'Mahony C, Gibney MJ, McKevitt AI<br>[ID: 29111886]"
      ],
      "text/plain": [
       "<IPython.core.display.HTML object>"
      ]
     },
     "metadata": {},
     "output_type": "display_data"
    },
    {
     "data": {
      "text/html": [
       "<strong><a href=http://dx.doi.org/10.1096/fj.14-264838>Medication use by U.S. crewmembers on the International Space Station.</a></strong><br>2015. Wotring VE<br>[ID: 26187345]"
      ],
      "text/plain": [
       "<IPython.core.display.HTML object>"
      ]
     },
     "metadata": {},
     "output_type": "display_data"
    },
    {
     "data": {
      "text/html": [
       "<strong><a href=http://dx.doi.org/10.1007/s11882-013-0381-9>Is there a role for probiotics in the prevention or treatment of food allergy?</a></strong><br>2013. Nermes M, Salminen S, Isolauri E<br>[ID: 23934549]"
      ],
      "text/plain": [
       "<IPython.core.display.HTML object>"
      ]
     },
     "metadata": {},
     "output_type": "display_data"
    },
    {
     "data": {
      "text/html": [
       "<strong><a href=http://dx.doi.org/10.1016/j.jri.2014.05.001>Placental immune response to apple allergen in allergic mothers.</a></strong><br>2014. Abelius MS, Enke U, Varosi F, Hoyer H, Schleussner E, Jenmalm MC, Markert UR<br>[ID: 25048667]"
      ],
      "text/plain": [
       "<IPython.core.display.HTML object>"
      ]
     },
     "metadata": {},
     "output_type": "display_data"
    },
    {
     "data": {
      "text/html": [
       "<strong><a href=http://dx.doi.org/10.1016/j.imbio.2014.07.018>Der p 2 can induce bystander activation of B cells derived from patients with systemic lupus erythematosus.</a></strong><br>2014. Yu SJ, Liao EC, Tsai JJ<br>[ID: 25130611]"
      ],
      "text/plain": [
       "<IPython.core.display.HTML object>"
      ]
     },
     "metadata": {},
     "output_type": "display_data"
    },
    {
     "data": {
      "text/html": [
       "<strong>The relation of multiple sclerosis with allergy and atopy: a case control study.</strong><br>2013. Karimi P, Modarresi SZ, Sahraian MA, Shokouhi Shoormasti R, Mahlooji M, Kazemnejad A, Pourpak Z<br>[ID: 23754358]"
      ],
      "text/plain": [
       "<IPython.core.display.HTML object>"
      ]
     },
     "metadata": {},
     "output_type": "display_data"
    },
    {
     "data": {
      "text/html": [
       "<strong><a href=http://dx.doi.org/10.1007/s10616-007-9112-1>In vitro and in vivo anti-allergic effects of 'benifuuki' green tea containing O-methylated catechin and ginger extract enhancement.</a></strong><br>2007. Maeda-Yamamoto M, Ema K, Shibuichi I<br>[ID: 19003003]"
      ],
      "text/plain": [
       "<IPython.core.display.HTML object>"
      ]
     },
     "metadata": {},
     "output_type": "display_data"
    },
    {
     "data": {
      "text/html": [
       "<strong><a href=http://dx.doi.org/10.1097/MPG.0000000000000767>Characteristics and Prognosis of Allergic Proctocolitis in Infants.</a></strong><br>2015. Kaya A, Toyran M, Civelek E, Misirlioglu E, Kirsaclioglu C, Kocabas CN<br>[ID: 26039942]"
      ],
      "text/plain": [
       "<IPython.core.display.HTML object>"
      ]
     },
     "metadata": {},
     "output_type": "display_data"
    },
    {
     "data": {
      "text/html": [
       "<strong><a href=http://dx.doi.org/10.1016/j.vaccine.2011.07.110>A mixture of three prebiotics does not affect vaccine specific antibody responses in healthy term infants in the first year of life.</a></strong><br>2011. Stam J, van Stuijvenberg M, Garssen J, Knipping K, Sauer PJ<br>[ID: 21821078]"
      ],
      "text/plain": [
       "<IPython.core.display.HTML object>"
      ]
     },
     "metadata": {},
     "output_type": "display_data"
    },
    {
     "data": {
      "text/html": [
       "<strong><a href=http://dx.doi.org/10.1111/j.1398-9995.1984.tb01929.x>Type I allergy to normal cellular constituents in chronic inflammatory bowel disease? Results from basophil histamine release test compared with total IgE and antinuclear antibodies.</a></strong><br>1984. Elmgreen J, Stahl Skov P, Permin H, Binder V, Heugh Wandall J, Norn S<br>[ID: 6198937]"
      ],
      "text/plain": [
       "<IPython.core.display.HTML object>"
      ]
     },
     "metadata": {},
     "output_type": "display_data"
    },
    {
     "data": {
      "text/html": [
       "<strong>[Normal reactivity and hyperreactivity in the bronchi induced by respiratory irritants].</strong><br>1990. Godnić-Cvar J<br>[ID: 2217628]"
      ],
      "text/plain": [
       "<IPython.core.display.HTML object>"
      ]
     },
     "metadata": {},
     "output_type": "display_data"
    },
    {
     "data": {
      "text/html": [
       "<strong>Etiologic significance of mosquito (Anopheles stephensi) in respiratory allergy in India.</strong><br>1991. Agarwal MK, Chaudhry S, Jhamb S, Gaur SN, Chauhan UP, Agarwal HC<br>[ID: 1750723]"
      ],
      "text/plain": [
       "<IPython.core.display.HTML object>"
      ]
     },
     "metadata": {},
     "output_type": "display_data"
    },
    {
     "data": {
      "text/html": [
       "<strong><a href=http://dx.doi.org/10.1111/j.1399-3038.2007.00711.x>Content of beta-casomorphins in milk of women with a history of allergy.</a></strong><br>2008. Sidor K, Jarmołowska B, Kaczmarski M, Kostyra E, Iwan M, Kostyra H<br>[ID: 18208459]"
      ],
      "text/plain": [
       "<IPython.core.display.HTML object>"
      ]
     },
     "metadata": {},
     "output_type": "display_data"
    },
    {
     "data": {
      "text/html": [
       "<strong><a href=http://dx.doi.org/10.1111/j.1399-3038.2009.00965.x>Diagnostic value of exhaled nitric oxide in childhood asthma and allergy.</a></strong><br>2010. Sachs-Olsen C, Lødrup Carlsen KC, Mowinckel P, Håland G, Devulapalli CS, Munthe-Kaas MC, Carlsen KH<br>[ID: 21083852]"
      ],
      "text/plain": [
       "<IPython.core.display.HTML object>"
      ]
     },
     "metadata": {},
     "output_type": "display_data"
    },
    {
     "data": {
      "text/html": [
       "<strong><a href=http://dx.doi.org/10.1016/j.bbi.2017.10.013>Evidence of fatigue, disordered sleep and peripheral inflammation, but not increased brain TSPO expression, in seasonal allergy: A [<sup>11</sup>C]PBR28 PET study.</a></strong><br>2018. Tamm S, Cervenka S, Forsberg A, Estelius J, Grunewald J, Gyllfors P, Karshikoff B, Kosek E, Lampa J, Lensmar C, Strand V, Åkerstedt T, Halldin C, Ingvar M, Olgart Höglund C, Lekander M<br>[ID: 29054675]"
      ],
      "text/plain": [
       "<IPython.core.display.HTML object>"
      ]
     },
     "metadata": {},
     "output_type": "display_data"
    },
    {
     "data": {
      "text/html": [
       "<strong>[The quality of life after chemotherapy in advanced non-small cell lung cancer patients].</strong><br>1999. Słowik-Gabryelska A, Szczepanik A, Kalicka A<br>[ID: 10344148]"
      ],
      "text/plain": [
       "<IPython.core.display.HTML object>"
      ]
     },
     "metadata": {},
     "output_type": "display_data"
    },
    {
     "data": {
      "text/html": [
       "<strong><a href=http://dx.doi.org/10.1155/2013/539834>Allergy or tolerance: reduced inflammatory cytokine response and concomitant IL-10 production of lymphocytes and monocytes in symptom-free titanium dental implant patients.</a></strong><br>2013. Thomas P, Iglhaut G, Wollenberg A, Cadosch D, Summer B<br>[ID: 24106709]"
      ],
      "text/plain": [
       "<IPython.core.display.HTML object>"
      ]
     },
     "metadata": {},
     "output_type": "display_data"
    },
    {
     "data": {
      "text/html": [
       "<strong><a href=http://dx.doi.org/10.1371/journal.pone.0077893>Lactobacilli regulate Staphylococcus aureus 161:2-induced pro-inflammatory T-cell responses in vitro.</a></strong><br>2013. Haileselassie Y, Johansson MA, Zimmer CL, Björkander S, Petursdottir DH, Dicksved J, Petersson M, Persson JO, Fernandez C, Roos S, Holmlund U, Sverremark-Ekström E<br>[ID: 24205015]"
      ],
      "text/plain": [
       "<IPython.core.display.HTML object>"
      ]
     },
     "metadata": {},
     "output_type": "display_data"
    },
    {
     "data": {
      "text/html": [
       "<strong><a href=http://dx.doi.org/10.1073/pnas.1205624109>Environmental biodiversity, human microbiota, and allergy are interrelated.</a></strong><br>2012. Hanski I, von Hertzen L, Fyhrquist N, Koskinen K, Torppa K, Laatikainen T, Karisola P, Auvinen P, Paulin L, Mäkelä MJ, Vartiainen E, Kosunen TU, Alenius H, Haahtela T<br>[ID: 22566627]"
      ],
      "text/plain": [
       "<IPython.core.display.HTML object>"
      ]
     },
     "metadata": {},
     "output_type": "display_data"
    },
    {
     "data": {
      "text/html": [
       "<strong><a href=http://dx.doi.org/10.1016/j.bjoms.2012.10.003>Demodicidosis: an uncommon erythema after cranio-maxillofacial surgery.</a></strong><br>2013. Luebbers HT, Lanzer M, Graetz KW, Kruse AL<br>[ID: 23099109]"
      ],
      "text/plain": [
       "<IPython.core.display.HTML object>"
      ]
     },
     "metadata": {},
     "output_type": "display_data"
    },
    {
     "data": {
      "text/html": [
       "<strong><a href=http://dx.doi.org/10.1088/1752-7163/aa76ef>Normal values of offline exhaled and nasal nitric oxide in healthy children and teens using chemiluminescence.</a></strong><br>2017. Menou A, Babeanu D, Paruit HN, Ordureau A, Guillard S, Chambellan A<br>[ID: 28579561]"
      ],
      "text/plain": [
       "<IPython.core.display.HTML object>"
      ]
     },
     "metadata": {},
     "output_type": "display_data"
    },
    {
     "data": {
      "text/html": [
       "<strong><a href=http://dx.doi.org/10.4103/0970-2113.63609>Role played by Th2 type cytokines in IgE mediated allergy and asthma.</a></strong><br>2010. Deo SS, Mistry KJ, Kakade AM, Niphadkar PV<br>[ID: 20616938]"
      ],
      "text/plain": [
       "<IPython.core.display.HTML object>"
      ]
     },
     "metadata": {},
     "output_type": "display_data"
    },
    {
     "data": {
      "text/html": [
       "<strong><a href=http://dx.doi.org/10.1164/ajrccm.156.2.9612069>Positive human health effects of dust suppression with canola oil in swine barns.</a></strong><br>1997. Senthilselvan A, Zhang Y, Dosman JA, Barber EM, Holfeld LE, Kirychuk SP, Cormier Y, Hurst TS, Rhodes CS<br>[ID: 9279217]"
      ],
      "text/plain": [
       "<IPython.core.display.HTML object>"
      ]
     },
     "metadata": {},
     "output_type": "display_data"
    },
    {
     "data": {
      "text/html": [
       "<strong><a href=http://dx.doi.org/10.1183/09031936.02.00229102>Allergy and immunity to fungal infections and colonization.</a></strong><br>2002. Crameri R, Blaser K<br>[ID: 11843314]"
      ],
      "text/plain": [
       "<IPython.core.display.HTML object>"
      ]
     },
     "metadata": {},
     "output_type": "display_data"
    },
    {
     "data": {
      "text/html": [
       "<strong><a href=http://dx.doi.org/10.1159/000234091>Immunoglobulin E in feces of children with intestinal Ascaris lumbricoides infestation.</a></strong><br>1986. Kolmannskog S<br>[ID: 3733234]"
      ],
      "text/plain": [
       "<IPython.core.display.HTML object>"
      ]
     },
     "metadata": {},
     "output_type": "display_data"
    },
    {
     "data": {
      "text/html": [
       "<strong>Physical activity and asthma symptoms among New York City Head Start Children.</strong><br>2009. Rundle A, Goldstein IF, Mellins RB, Ashby-Thompson M, Hoepner L, Jacobson JS<br>[ID: 19863284]"
      ],
      "text/plain": [
       "<IPython.core.display.HTML object>"
      ]
     },
     "metadata": {},
     "output_type": "display_data"
    },
    {
     "data": {
      "text/html": [
       "<strong><a href=http://dx.doi.org/10.1016/j.mehy.2008.06.012>AIDS: \"it's the bacteria, stupid!\".</a></strong><br>2008. Broxmeyer L, Cantwell A<br>[ID: 18691828]"
      ],
      "text/plain": [
       "<IPython.core.display.HTML object>"
      ]
     },
     "metadata": {},
     "output_type": "display_data"
    },
    {
     "data": {
      "text/html": [
       "<strong>Human rhinoviruses, allergy, and asthma: a clinical approach.</strong><br>2009. Emuzyte R, Firantiene R, Petraityte R, Sasnauskas K<br>[ID: 20051716]"
      ],
      "text/plain": [
       "<IPython.core.display.HTML object>"
      ]
     },
     "metadata": {},
     "output_type": "display_data"
    },
    {
     "data": {
      "text/html": [
       "<strong><a href=http://dx.doi.org/10.1007/s10719-015-9638-y>Glycoproteomic studies of IgE from a novel hyper IgE syndrome linked to PGM3 mutation.</a></strong><br>2016. Wu G, Hitchen PG, Panico M, North SJ, Barbouche MR, Binet D, Morris HR, Dell A, Haslam SM<br>[ID: 26687240]"
      ],
      "text/plain": [
       "<IPython.core.display.HTML object>"
      ]
     },
     "metadata": {},
     "output_type": "display_data"
    },
    {
     "data": {
      "text/html": [
       "<strong><a href=http://dx.doi.org/10.1111/j.1365-3083.1980.tb00041.x>Lymphocyte transformation in nickel allergy: amplification of T-lymphocyte responses to nickel sulphate by macrophages in vitro.</a></strong><br>1980. Silvennoinen-Kassinen S<br>[ID: 6158091]"
      ],
      "text/plain": [
       "<IPython.core.display.HTML object>"
      ]
     },
     "metadata": {},
     "output_type": "display_data"
    },
    {
     "data": {
      "text/html": [
       "<strong>Mediators of Immune Response.</strong><br>1999. Medunitsyn NV<br>[ID: 12687131]"
      ],
      "text/plain": [
       "<IPython.core.display.HTML object>"
      ]
     },
     "metadata": {},
     "output_type": "display_data"
    },
    {
     "data": {
      "text/html": [
       "<strong><a href=http://dx.doi.org/10.4269/ajtmh.1977.26.872>Immunoglobulin E in Nigerian onchocerciasis.</a></strong><br>1977. Somorin AO, Heiner DC, Ajugwo RE<br>[ID: 907050]"
      ],
      "text/plain": [
       "<IPython.core.display.HTML object>"
      ]
     },
     "metadata": {},
     "output_type": "display_data"
    },
    {
     "data": {
      "text/html": [
       "<strong>[NAT2* genotype in children with bronchial asthma and other atopic diseases].</strong><br>1999. Luszawska-Kutrzeba T<br>[ID: 10909485]"
      ],
      "text/plain": [
       "<IPython.core.display.HTML object>"
      ]
     },
     "metadata": {},
     "output_type": "display_data"
    },
    {
     "data": {
      "text/html": [
       "<strong>Factors for high-risk asthma in Taiwanese children.</strong><br>2010. Cheng CH, Shyur SD, Huang LH, Kao YH, Lei WT, Lo CY, Kuo-Hsi L, Chen CK, Liu LC<br>[ID: 21337908]"
      ],
      "text/plain": [
       "<IPython.core.display.HTML object>"
      ]
     },
     "metadata": {},
     "output_type": "display_data"
    },
    {
     "data": {
      "text/html": [
       "<strong>[Acoustic rhinometry for evaluating the effectiveness of antihistaminics].</strong><br>1998. Enzmann H, Mathe F<br>[ID: 9647926]"
      ],
      "text/plain": [
       "<IPython.core.display.HTML object>"
      ]
     },
     "metadata": {},
     "output_type": "display_data"
    },
    {
     "data": {
      "text/html": [
       "<strong>[The diagnostic value of endonasal provocation with chemical antigens in occupational respiratory allergoses].</strong><br>1998. Makarova VN, Budanova LF, Gorbonosova NB<br>[ID: 9885498]"
      ],
      "text/plain": [
       "<IPython.core.display.HTML object>"
      ]
     },
     "metadata": {},
     "output_type": "display_data"
    },
    {
     "data": {
      "text/html": [
       "<strong><a href=http://dx.doi.org/10.1183/09031936.96.09102070>Defective inhibition of sodium on basophil histamine release in patients with allergic rhinitis and bronchial asthma.</a></strong><br>1996. Tedeschi A, Cottini M, Salmaso C, Milazzo N, Miadonna A<br>[ID: 8902469]"
      ],
      "text/plain": [
       "<IPython.core.display.HTML object>"
      ]
     },
     "metadata": {},
     "output_type": "display_data"
    },
    {
     "data": {
      "text/html": [
       "<strong><a href=http://dx.doi.org/10.1111/j.1365-2222.2007.02676.x>Differences in the composition of intestinal Bifidobacterium species and the development of allergic diseases in infants in rural Japan.</a></strong><br>2007. Suzuki S, Shimojo N, Tajiri Y, Kumemura M, Kohno Y<br>[ID: 17430346]"
      ],
      "text/plain": [
       "<IPython.core.display.HTML object>"
      ]
     },
     "metadata": {},
     "output_type": "display_data"
    },
    {
     "data": {
      "text/html": [
       "<strong><a href=http://dx.doi.org/10.1111/j.1365-2567.2006.02475.x>Use of multiple peptides containing T cell epitopes is a feasible approach for peptide-based immunotherapy in Can f 1 allergy.</a></strong><br>2007. Immonen AK, Taivainen AH, Närvänen AT, Kinnunen TT, Saarelainen SA, Rytkönen-Nissinen MA, Virtanen TI<br>[ID: 17233739]"
      ],
      "text/plain": [
       "<IPython.core.display.HTML object>"
      ]
     },
     "metadata": {},
     "output_type": "display_data"
    },
    {
     "data": {
      "text/html": [
       "<strong>[Seasonal fluctuations of substance P and vasoactive intestinal peptide concentrations in nasal secretions of patients with nasal allergy to Japanese cedar pollen].</strong><br>1992. Mori K, Asakura S, Morikawa N, Chaen T, Watanabe N, Mogi G, Takeyama M<br>[ID: 1283939]"
      ],
      "text/plain": [
       "<IPython.core.display.HTML object>"
      ]
     },
     "metadata": {},
     "output_type": "display_data"
    },
    {
     "data": {
      "text/html": [
       "<strong><a href=http://dx.doi.org/10.1183/09031936.01.17407330>Health effects of diesel exhaust emissions.</a></strong><br>2001. Sydbom A, Blomberg A, Parnia S, Stenfors N, Sandström T, Dahlén SE<br>[ID: 11401072]"
      ],
      "text/plain": [
       "<IPython.core.display.HTML object>"
      ]
     },
     "metadata": {},
     "output_type": "display_data"
    },
    {
     "data": {
      "text/html": [
       "<strong><a href=http://dx.doi.org/10.1158/0008-5472.CAN-16-2929>The Host Microbiome Regulates and Maintains Human Health: A Primer and Perspective for Non-Microbiologists.</a></strong><br>2017. Thomas S, Izard J, Walsh E, Batich K, Chongsathidkiet P, Clarke G, Sela DA, Muller AJ, Mullin JM, Albert K, Gilligan JP, DiGuilio K, Dilbarova R, Alexander W, Prendergast GC<br>[ID: 28292977]"
      ],
      "text/plain": [
       "<IPython.core.display.HTML object>"
      ]
     },
     "metadata": {},
     "output_type": "display_data"
    },
    {
     "data": {
      "text/html": [
       "<strong><a href=http://dx.doi.org/10.2500/ar.2014.5.0103>CD8(+) T cells implicated in the pathogenesis of allergic fungal rhinosinusitis.</a></strong><br>2014. Pant H, Macardle P<br>[ID: 25565051]"
      ],
      "text/plain": [
       "<IPython.core.display.HTML object>"
      ]
     },
     "metadata": {},
     "output_type": "display_data"
    },
    {
     "data": {
      "text/html": [
       "<strong><a href=http://dx.doi.org/10.1111/j.1399-3038.2012.01286.x>Effect of lactose on gut microbiota and metabolome of infants with cow's milk allergy.</a></strong><br>2012. Francavilla R, Calasso M, Calace L, Siragusa S, Ndagijimana M, Vernocchi P, Brunetti L, Mancino G, Tedeschi G, Guerzoni E, Indrio F, Laghi L, Miniello VL, Gobbetti M, De Angelis M<br>[ID: 22435727]"
      ],
      "text/plain": [
       "<IPython.core.display.HTML object>"
      ]
     },
     "metadata": {},
     "output_type": "display_data"
    },
    {
     "data": {
      "text/html": [
       "<strong>[Desaturases of fatty acids (FADS) and their physiological and clinical implication].</strong><br>2016. Žák A, Slabý A, Tvrzická E, Jáchymová M, Macášek J, Vecka M, Zeman M, Staňková B<br>[ID: 27088787]"
      ],
      "text/plain": [
       "<IPython.core.display.HTML object>"
      ]
     },
     "metadata": {},
     "output_type": "display_data"
    },
    {
     "data": {
      "text/html": [
       "<strong><a href=http://dx.doi.org/10.3390/jfb8030037>Sujiaonori-Derived Algal Biomaterials Inhibit Allergic Reaction in Allergen-Sensitized RBL-2H3 Cell Line and Improve Skin Health in Humans.</a></strong><br>2017. Ngatu NR, Tanaka M, Ikeda M, Inoue M, Kanbara S, Nojima S<br>[ID: 28850069]"
      ],
      "text/plain": [
       "<IPython.core.display.HTML object>"
      ]
     },
     "metadata": {},
     "output_type": "display_data"
    },
    {
     "data": {
      "text/html": [
       "<strong><a href=http://dx.doi.org/10.1016/j.jaci.2005.09.004>T regulatory cells in allergy: novel concepts in the pathogenesis, prevention, and treatment of allergic diseases.</a></strong><br>2005. Akdis M, Blaser K, Akdis CA<br>[ID: 16275361]"
      ],
      "text/plain": [
       "<IPython.core.display.HTML object>"
      ]
     },
     "metadata": {},
     "output_type": "display_data"
    },
    {
     "data": {
      "text/html": [
       "<strong>[Intestinal permeability in patients with food allergy].</strong><br>1998. Kohout P, Ettlerová K, Brátová M, Zadák Z<br>[ID: 9820068]"
      ],
      "text/plain": [
       "<IPython.core.display.HTML object>"
      ]
     },
     "metadata": {},
     "output_type": "display_data"
    },
    {
     "data": {
      "text/html": [
       "<strong>[Epizootiology and pathogenesis of avian mycobacteriosis in the house sparrow (Passer domesticus) and tree sparrow (Passer montanus)].</strong><br>1993. Hejlícek K, Treml F<br>[ID: 8116139]"
      ],
      "text/plain": [
       "<IPython.core.display.HTML object>"
      ]
     },
     "metadata": {},
     "output_type": "display_data"
    },
    {
     "data": {
      "text/html": [
       "<strong>[Epizootiology and pathogenesis of avian mycobacteriosis in the ring-necked pheasant (Phasianus colchicus) and the Hungarian partridge (Perdix perdix)].</strong><br>1993. Hejlícek K, Treml F<br>[ID: 8116140]"
      ],
      "text/plain": [
       "<IPython.core.display.HTML object>"
      ]
     },
     "metadata": {},
     "output_type": "display_data"
    },
    {
     "data": {
      "text/html": [
       "<strong><a href=http://dx.doi.org/10.1111/j.1365-2133.1987.tb04136.x>IgG4 antibodies in patients with atopic dermatitis.</a></strong><br>1987. Gondo A, Saeki N, Tokuda Y<br>[ID: 3676080]"
      ],
      "text/plain": [
       "<IPython.core.display.HTML object>"
      ]
     },
     "metadata": {},
     "output_type": "display_data"
    },
    {
     "data": {
      "text/html": [
       "<strong>[Tissue factor and tissue factor pathway inhibitor during specific bronchial challenge in allergic asthma patients].</strong><br>2005. Kemona-Chetnik I, Bodzenta-Lukaszyk A, Kucharewicz I, Rogalewska AM<br>[ID: 16095153]"
      ],
      "text/plain": [
       "<IPython.core.display.HTML object>"
      ]
     },
     "metadata": {},
     "output_type": "display_data"
    },
    {
     "data": {
      "text/html": [
       "<strong><a href=http://dx.doi.org/10.18632/oncotarget.5212>Caffeine affects the biological responses of human hematopoietic cells of myeloid lineage via downregulation of the mTOR pathway and xanthine oxidase activity.</a></strong><br>2015. Gibbs BF, Gonçalves Silva I, Prokhorov A, Abooali M, Yasinska IM, Casely-Hayford MA, Berger SM, Fasler-Kan E, Sumbayev VV<br>[ID: 26384306]"
      ],
      "text/plain": [
       "<IPython.core.display.HTML object>"
      ]
     },
     "metadata": {},
     "output_type": "display_data"
    },
    {
     "data": {
      "text/html": [
       "<strong>Defective tumor necrosis factor-alpha production in infants with cow's milk allergy.</strong><br>1999. Osterlund P, Järvinen KM, Laine S, Suomalainen H<br>[ID: 10565559]"
      ],
      "text/plain": [
       "<IPython.core.display.HTML object>"
      ]
     },
     "metadata": {},
     "output_type": "display_data"
    },
    {
     "data": {
      "text/html": [
       "<strong>[Clinical features of atopic asthma and their relation to the T-regulatory cells and total immunoglobulin E].</strong><br>2014. Liakhovs'ka NV, Kutsenko NL, Mykytiuk MV, Kaĭdashev IP<br>[ID: 25286594]"
      ],
      "text/plain": [
       "<IPython.core.display.HTML object>"
      ]
     },
     "metadata": {},
     "output_type": "display_data"
    },
    {
     "data": {
      "text/html": [
       "<strong><a href=http://dx.doi.org/10.1007/s11262-006-0056-x>The spreading of HIV-1 infection in the human organism is caused by fractalkine trafficking of the infected lymphocytes--a review, hypothesis and implications for treatment.</a></strong><br>2007. Becker Y<br>[ID: 17151939]"
      ],
      "text/plain": [
       "<IPython.core.display.HTML object>"
      ]
     },
     "metadata": {},
     "output_type": "display_data"
    },
    {
     "data": {
      "text/html": [
       "<strong>Immuno-enzymatic study of IgG subclasses specific for allergen in house dust immediate hypersensitivity.</strong><br>1979. Etievant M, Leluc B, Bouclier R, Henocq E<br>[ID: 382920]"
      ],
      "text/plain": [
       "<IPython.core.display.HTML object>"
      ]
     },
     "metadata": {},
     "output_type": "display_data"
    },
    {
     "data": {
      "text/html": [
       "<strong><a href=http://dx.doi.org/10.1172/jci.insight.98101>Conjugated bile acids attenuate allergen-induced airway inflammation and hyperresponsiveness by inhibiting UPR transducers.</a></strong><br>2019. Nakada EM, Bhakta NR, Korwin-Mihavics BR, Kumar A, Chamberlain N, Bruno SR, Chapman DG, Hoffman SM, Daphtary N, Aliyeva M, Irvin CG, Dixon AE, Woodruff PG, Amin S, Poynter ME, Desai DH, Anathy V<br>[ID: 31045581]"
      ],
      "text/plain": [
       "<IPython.core.display.HTML object>"
      ]
     },
     "metadata": {},
     "output_type": "display_data"
    },
    {
     "data": {
      "text/html": [
       "<strong><a href=http://dx.doi.org/10.4168/aair.2012.4.6.367>Immunologic evaluation of ofloxacin hypersensitivity.</a></strong><br>2012. Nam YH, Kim JE, Kim SH, Jin HJ, Hwang EK, Shin YS, Ye YM, Park HS<br>[ID: 23115735]"
      ],
      "text/plain": [
       "<IPython.core.display.HTML object>"
      ]
     },
     "metadata": {},
     "output_type": "display_data"
    },
    {
     "data": {
      "text/html": [
       "<strong><a href=http://dx.doi.org/10.1111/all.12692>Prevalence of celiac disease in patients with severe food allergy.</a></strong><br>2015. Pillon R, Ziberna F, Badina L, Ventura A, Longo G, Quaglia S, De Leo L, Vatta S, Martelossi S, Patano G, Not T, Berti I<br>[ID: 26179550]"
      ],
      "text/plain": [
       "<IPython.core.display.HTML object>"
      ]
     },
     "metadata": {},
     "output_type": "display_data"
    },
    {
     "data": {
      "text/html": [
       "<strong>Allergy and SLE: common and variable.</strong><br>1997. Shahar E, Lorber M<br>[ID: 9254878]"
      ],
      "text/plain": [
       "<IPython.core.display.HTML object>"
      ]
     },
     "metadata": {},
     "output_type": "display_data"
    },
    {
     "data": {
      "text/html": [
       "<strong>Human giardiasis as an etiology of skin allergy: the role of adhesion molecules and interleukin-6.</strong><br>2004. Mahmoud MS, Salem AA, Rifaat MM<br>[ID: 15587302]"
      ],
      "text/plain": [
       "<IPython.core.display.HTML object>"
      ]
     },
     "metadata": {},
     "output_type": "display_data"
    },
    {
     "data": {
      "text/html": [
       "<strong>New actions for old nutrients.</strong><br>2012. Lifschitz C<br>[ID: 22493160]"
      ],
      "text/plain": [
       "<IPython.core.display.HTML object>"
      ]
     },
     "metadata": {},
     "output_type": "display_data"
    },
    {
     "data": {
      "text/html": [
       "<strong><a href=http://dx.doi.org/10.1016/j.cyto.2006.09.006>Macrophage migration inhibitory factor in zinc-allergic systemic contact dermatitis.</a></strong><br>2006. Yanagi T, Kodama K, Yoshihisa Y, Shimizu H, Shimizu T<br>[ID: 17070066]"
      ],
      "text/plain": [
       "<IPython.core.display.HTML object>"
      ]
     },
     "metadata": {},
     "output_type": "display_data"
    },
    {
     "data": {
      "text/html": [
       "<strong><a href=http://dx.doi.org/10.1016/j.alit.2015.05.007>Sensitization to fungal allergens: Resolved and unresolved issues.</a></strong><br>2015. Fukutomi Y, Taniguchi M<br>[ID: 26433528]"
      ],
      "text/plain": [
       "<IPython.core.display.HTML object>"
      ]
     },
     "metadata": {},
     "output_type": "display_data"
    },
    {
     "data": {
      "text/html": [
       "<strong><a href=http://dx.doi.org/10.2500/ajra.2010.24.3428>Septal deviation and nasal resistance: an investigation using virtual surgery and computational fluid dynamics.</a></strong><br>2010. Garcia GJ, Rhee JS, Senior BA, Kimbell JS<br>[ID: 20109325]"
      ],
      "text/plain": [
       "<IPython.core.display.HTML object>"
      ]
     },
     "metadata": {},
     "output_type": "display_data"
    },
    {
     "data": {
      "text/html": [
       "<strong><a href=http://dx.doi.org/10.1159/000237461>Allergen-specific conjunctival challenge in asthma. An additional diagnostic tool to define sensitization.</a></strong><br>1997. Ciprandi G, Buscaglia S, Scordamaglia A, Canonica GW<br>[ID: 9066510]"
      ],
      "text/plain": [
       "<IPython.core.display.HTML object>"
      ]
     },
     "metadata": {},
     "output_type": "display_data"
    },
    {
     "data": {
      "text/html": [
       "<strong><a href=http://dx.doi.org/10.1111/j.1346-8138.2004.tb00586.x>Drug eruption caused by azathioprine: value of using the drug-induced lymphocytes stimulation test for diagnosis.</a></strong><br>2004. Mori H, Yamanaka K, Kaketa M, Tamada K, Hakamada A, Isoda K, Yamanishi K, Mizutani H<br>[ID: 15628319]"
      ],
      "text/plain": [
       "<IPython.core.display.HTML object>"
      ]
     },
     "metadata": {},
     "output_type": "display_data"
    },
    {
     "data": {
      "text/html": [
       "<strong><a href=http://dx.doi.org/10.1177/0145561319874310>The Impact of Serum 25-Hydroxyvitamin D3 Levels on Allergic Rhinitis.</a></strong><br>2019. Çoban K, Öz I, Topçu Dİ, Aydın E<br>[ID: 31569970]"
      ],
      "text/plain": [
       "<IPython.core.display.HTML object>"
      ]
     },
     "metadata": {},
     "output_type": "display_data"
    },
    {
     "data": {
      "text/html": [
       "<strong><a href=http://dx.doi.org/10.1093/infdis/jiw067>A 12-Month-Interval Dosing Study in Adults Indicates That a Single Dose of the National Institute of Allergy and Infectious Diseases Tetravalent Dengue Vaccine Induces a Robust Neutralizing Antibody Response.</a></strong><br>2016. Durbin AP, Kirkpatrick BD, Pierce KK, Carmolli MP, Tibery CM, Grier PL, Hynes N, Opert K, Jarvis AP, Sabundayo BP, McElvany BD, Sendra EA, Larsson CJ, Jo M, Lovchik JM, Luke CJ, Walsh MC, Fraser EA, Subbarao K, Whitehead SS<br>[ID: 26908742]"
      ],
      "text/plain": [
       "<IPython.core.display.HTML object>"
      ]
     },
     "metadata": {},
     "output_type": "display_data"
    },
    {
     "data": {
      "text/html": [
       "<strong><a href=http://dx.doi.org/10.1136/emj.2008.069823>Acute coronary syndrome triggered by honeybee sting: a case report.</a></strong><br>2009. Murat SN, Karasu BB, Akdemir R, Kilic H, Ornek E, Ozcan O<br>[ID: 19773510]"
      ],
      "text/plain": [
       "<IPython.core.display.HTML object>"
      ]
     },
     "metadata": {},
     "output_type": "display_data"
    },
    {
     "data": {
      "text/html": [
       "<strong><a href=http://dx.doi.org/10.1371/journal.pntd.0002673>Anti-Anisakis IgE seroprevalence in the healthy Croatian coastal population and associated risk factors.</a></strong><br>2014. Mladineo I, Poljak V, Martínez-Sernández V, Ubeira FM<br>[ID: 24516680]"
      ],
      "text/plain": [
       "<IPython.core.display.HTML object>"
      ]
     },
     "metadata": {},
     "output_type": "display_data"
    },
    {
     "data": {
      "text/html": [
       "<strong><a href=http://dx.doi.org/10.1016/j.jaci.2012.07.002>Use and interpretation of diagnostic vaccination in primary immunodeficiency: a working group report of the Basic and Clinical Immunology Interest Section of the American Academy of Allergy, Asthma &amp; Immunology.</a></strong><br>2012. Orange JS, Ballow M, Stiehm ER, Ballas ZK, Chinen J, De La Morena M, Kumararatne D, Harville TO, Hesterberg P, Koleilat M, McGhee S, Perez EE, Raasch J, Scherzer R, Schroeder H, Seroogy C, Huissoon A, Sorensen RU, Katial R<br>[ID: 22935624]"
      ],
      "text/plain": [
       "<IPython.core.display.HTML object>"
      ]
     },
     "metadata": {},
     "output_type": "display_data"
    },
    {
     "data": {
      "text/html": [
       "<strong><a href=http://dx.doi.org/10.1117/1.JBO.18.6.061206>Use of Raman spectroscopy in the analysis of nickel allergy.</a></strong><br>2013. Alda J, Castillo-Martinez C, Valdes-Rodriguez R, Hernández-Blanco D, Moncada B, González FJ<br>[ID: 23124058]"
      ],
      "text/plain": [
       "<IPython.core.display.HTML object>"
      ]
     },
     "metadata": {},
     "output_type": "display_data"
    },
    {
     "data": {
      "text/html": [
       "<strong><a href=http://dx.doi.org/10.1080/09603120601124199>Molecular identification of environmental bacteria in indoor air in the domestic home: description of a new species of Exiguobacterium.</a></strong><br>2007. Yuan I, Xu J, Millar BC, Dooley JS, Rooney PJ, Alexander HD, Moore JE<br>[ID: 17365082]"
      ],
      "text/plain": [
       "<IPython.core.display.HTML object>"
      ]
     },
     "metadata": {},
     "output_type": "display_data"
    },
    {
     "data": {
      "text/html": [
       "<strong>[The role of immediate-type allergic reactions in the pathogenesis of the nephrotic syndrome].</strong><br>1996. Shishkin AN<br>[ID: 8771676]"
      ],
      "text/plain": [
       "<IPython.core.display.HTML object>"
      ]
     },
     "metadata": {},
     "output_type": "display_data"
    },
    {
     "data": {
      "text/html": [
       "<strong><a href=http://dx.doi.org/10.1111/j.1365-2044.2005.04529.x>Anaphylaxis to Gelofusine confirmed by in vitro basophil activation test: a case series.</a></strong><br>2006. Apostolou E, Deckert K, Puy R, Sandrini A, de Leon MP, Douglass JA, Rolland JM, O'hehir RE<br>[ID: 16480352]"
      ],
      "text/plain": [
       "<IPython.core.display.HTML object>"
      ]
     },
     "metadata": {},
     "output_type": "display_data"
    },
    {
     "data": {
      "text/html": [
       "<strong><a href=http://dx.doi.org/10.1086/501857>Nasal carriage of Staphylococcus aureus among patients receiving allergen-injection immunotherapy: associated factors and quantitative nasal cultures.</a></strong><br>2001. Bassetti S, Dunagan DP, D'Agostino RB Jr, Sherertz RJ<br>[ID: 11876451]"
      ],
      "text/plain": [
       "<IPython.core.display.HTML object>"
      ]
     },
     "metadata": {},
     "output_type": "display_data"
    },
    {
     "data": {
      "text/html": [
       "<strong>Intestinal permeability in healthy and allergic children before and after sodium-cromoglycate treatment assessed with different-sized polyethyleneglycols (PEG 400 and PEG 1000).</strong><br>1984. Fälth-Magnusson K, Kjellman NI, Magnusson KE, Sundqvist T<br>[ID: 6428772]"
      ],
      "text/plain": [
       "<IPython.core.display.HTML object>"
      ]
     },
     "metadata": {},
     "output_type": "display_data"
    },
    {
     "data": {
      "text/html": [
       "<strong>Nickel allergy--reliability of patch test. Evaluated in female twins.</strong><br>1981. Menne T<br>[ID: 6461539]"
      ],
      "text/plain": [
       "<IPython.core.display.HTML object>"
      ]
     },
     "metadata": {},
     "output_type": "display_data"
    },
    {
     "data": {
      "text/html": [
       "<strong><a href=http://dx.doi.org/10.1007/s00005-018-0526-6>Precision/Personalized Medicine in Allergic Diseases and Asthma.</a></strong><br>2018. Kucuksezer UC, Ozdemir C, Akdis M, Akdis CA<br>[ID: 30251122]"
      ],
      "text/plain": [
       "<IPython.core.display.HTML object>"
      ]
     },
     "metadata": {},
     "output_type": "display_data"
    },
    {
     "data": {
      "text/html": [
       "<strong>[Favorable effect of breast feeding and late introduction of cow's milk on the prevention of suspected allergic symptoms in infancy].</strong><br>1996. Arató A, Szalai K, Tausz I, Szönyi L<br>[ID: 8927352]"
      ],
      "text/plain": [
       "<IPython.core.display.HTML object>"
      ]
     },
     "metadata": {},
     "output_type": "display_data"
    },
    {
     "data": {
      "text/html": [
       "<strong><a href=http://dx.doi.org/10.1016/j.jaci.2011.02.012>Influence of gastrointestinal commensal bacteria on the immune responses that mediate allergy and asthma.</a></strong><br>2011. McLoughlin RM, Mills KH<br>[ID: 21420159]"
      ],
      "text/plain": [
       "<IPython.core.display.HTML object>"
      ]
     },
     "metadata": {},
     "output_type": "display_data"
    },
    {
     "data": {
      "text/html": [
       "<strong><a href=http://dx.doi.org/10.23822/EurAnnACI.1764-1489.33>Allergy and high trait anxiety are related to increases in heart rate variability: results of naturalistic long-term design study.</a></strong><br>2018. Rajcani J, Solarikova P, Brezina I<br>[ID: 29350018]"
      ],
      "text/plain": [
       "<IPython.core.display.HTML object>"
      ]
     },
     "metadata": {},
     "output_type": "display_data"
    },
    {
     "data": {
      "text/html": [
       "<strong><a href=http://dx.doi.org/10.23822/EurAnnACI.1764-1489.28>Bodybuilding protein supplements and cow's milk allergy in adult.</a></strong><br>2018. Sousa MJCS, Reis Ferreira AL, Moreira da Silva JP<br>[ID: 29350021]"
      ],
      "text/plain": [
       "<IPython.core.display.HTML object>"
      ]
     },
     "metadata": {},
     "output_type": "display_data"
    },
    {
     "data": {
      "text/html": [
       "<strong><a href=http://dx.doi.org/10.3950/jibiinkoka.102.898>[Effects of topical alpha 1- and beta 2-adrenoceptor stimulants on nasal nitric oxide level].</a></strong><br>1999. Kai T<br>[ID: 10459292]"
      ],
      "text/plain": [
       "<IPython.core.display.HTML object>"
      ]
     },
     "metadata": {},
     "output_type": "display_data"
    },
    {
     "data": {
      "text/html": [
       "<strong><a href=http://dx.doi.org/10.1111/j.1398-9995.1987.tb02210.x>Serum levels of total IgE in non-allergic children. Influence of genetic and environmental factors.</a></strong><br>1987. Berciano FA, Crespo M, Bao CG, Alvarez FV<br>[ID: 3618972]"
      ],
      "text/plain": [
       "<IPython.core.display.HTML object>"
      ]
     },
     "metadata": {},
     "output_type": "display_data"
    },
    {
     "data": {
      "text/html": [
       "<strong><a href=http://dx.doi.org/10.3892/etm.2014.1638>Clinical significance of TLR3 and TLR4 in peripheral blood mononuclear cells from children with Henoch-Schönlein purpura nephritis.</a></strong><br>2014. Chang H, Yu DS, Liu XQ, Zhang QY, Cheng N, Zhang SQ, Qu ZH<br>[ID: 24926370]"
      ],
      "text/plain": [
       "<IPython.core.display.HTML object>"
      ]
     },
     "metadata": {},
     "output_type": "display_data"
    },
    {
     "data": {
      "text/html": [
       "<strong>Soluble CD23 in allergic diseases.</strong><br>1999. Rogala B, Rymarczyk B<br>[ID: 10483874]"
      ],
      "text/plain": [
       "<IPython.core.display.HTML object>"
      ]
     },
     "metadata": {},
     "output_type": "display_data"
    },
    {
     "data": {
      "text/html": [
       "<strong><a href=http://dx.doi.org/10.1097/MD.0000000000005953>Effect of probiotics on digestibility and immunity in infants: A study protocol for a randomized controlled trial.</a></strong><br>2017. Xiao L, Ding G, Ding Y, Deng C, Ze X, Chen L, Zhang Y, Song L, Yan H, Liu F, Ben X<br>[ID: 28383398]"
      ],
      "text/plain": [
       "<IPython.core.display.HTML object>"
      ]
     },
     "metadata": {},
     "output_type": "display_data"
    },
    {
     "data": {
      "text/html": [
       "<strong>Transfer factor and allergy.</strong><br>2010. Gómez Vera J, Chávez Sánchez R, Flores Sandoval G, Orea Solano M, López Tiro JJ, Santiago Santos AD, Espinosa Padilla S, Espinosa Rosales F, Huerta J, Ortega Martell JA, Berrón Pérez R, Estrada García A, Pérez Tapia M, Rodríguez Flores A, Serrano Miranda E, Pineda García O, Andaluz C, Cervantes Trujano E, Portugués Díaz A, Barrientos Zamudio J, ...<br>[ID: 21944489]"
      ],
      "text/plain": [
       "<IPython.core.display.HTML object>"
      ]
     },
     "metadata": {},
     "output_type": "display_data"
    },
    {
     "data": {
      "text/html": [
       "<strong><a href=http://dx.doi.org/10.1016/j.vaccine.2005.07.052>Generation of therapeutic antibody responses against IgE in dogs, an animal species with exceptionally high plasma IgE levels.</a></strong><br>2006. Ledin A, Bergvall K, Hillbertz NS, Hansson H, Andersson G, Hedhammar A, Hellman L<br>[ID: 16169131]"
      ],
      "text/plain": [
       "<IPython.core.display.HTML object>"
      ]
     },
     "metadata": {},
     "output_type": "display_data"
    },
    {
     "data": {
      "text/html": [
       "<strong><a href=http://dx.doi.org/10.3920/BM2017.0020>Ratio of Klebsiella/Bifidobacterium in early life correlates with later development of paediatric allergy.</a></strong><br>2017. Low JSY, Soh SE, Lee YK, Kwek KYC, Holbrook JD, Van der Beek EM, Shek LP, Goh AEN, Teoh OH, Godfrey KM, Chong YS, Knol J, Lay C<br>[ID: 29022383]"
      ],
      "text/plain": [
       "<IPython.core.display.HTML object>"
      ]
     },
     "metadata": {},
     "output_type": "display_data"
    },
    {
     "data": {
      "text/html": [
       "<strong><a href=http://dx.doi.org/10.1111/j.1365-2230.2008.02819.x>Evaluation of autologous serum skin test results in patients with chronic idiopathic urticaria, allergic/non-allergic asthma or rhinitis and healthy people.</a></strong><br>2008. Taskapan O, Kutlu A, Karabudak O<br>[ID: 18954415]"
      ],
      "text/plain": [
       "<IPython.core.display.HTML object>"
      ]
     },
     "metadata": {},
     "output_type": "display_data"
    },
    {
     "data": {
      "text/html": [
       "<strong>Lymphocyte blastogenesis in children with cow's milk hypersensitivity after its elimination from the diet.</strong><br>1989. Brarda OA, Vanella LM, Greco CR<br>[ID: 2750640]"
      ],
      "text/plain": [
       "<IPython.core.display.HTML object>"
      ]
     },
     "metadata": {},
     "output_type": "display_data"
    },
    {
     "data": {
      "text/html": [
       "<strong>Serum IgE and Allergy Related Genotypes of IL-4R α and IL-13 Genes: Association with Glioma Susceptibility and Glioblastoma Prognosis.</strong><br>2018. Gohar MK, Ammar MG, Alnagar AA, Abd-ElAziz HA<br>[ID: 30242995]"
      ],
      "text/plain": [
       "<IPython.core.display.HTML object>"
      ]
     },
     "metadata": {},
     "output_type": "display_data"
    },
    {
     "data": {
      "text/html": [
       "<strong>The Effect of Breast Feeding on T-Lymphocyte Subpopulation.</strong><br>2018. Korraa AA, Youssef M, Almorsy EA, Dosoqui HA, ElSaied AM<br>[ID: 30243002]"
      ],
      "text/plain": [
       "<IPython.core.display.HTML object>"
      ]
     },
     "metadata": {},
     "output_type": "display_data"
    },
    {
     "data": {
      "text/html": [
       "<strong>[The oral neutrophil alteration test in drug allergy].</strong><br>1989. Uk KW, Ok CS, Gon BJ, Sil CD<br>[ID: 2611392]"
      ],
      "text/plain": [
       "<IPython.core.display.HTML object>"
      ]
     },
     "metadata": {},
     "output_type": "display_data"
    },
    {
     "data": {
      "text/html": [
       "<strong><a href=http://dx.doi.org/10.3389/fimmu.2014.00570>Eosinophil cytokines, chemokines, and growth factors: emerging roles in immunity.</a></strong><br>2014. Davoine F, Lacy P<br>[ID: 25426119]"
      ],
      "text/plain": [
       "<IPython.core.display.HTML object>"
      ]
     },
     "metadata": {},
     "output_type": "display_data"
    },
    {
     "data": {
      "text/html": [
       "<strong><a href=http://dx.doi.org/10.2500/aap.2006.27.2909>Effect of body mass index on quality of life in allergic/asthmatic patients.</a></strong><br>2006. Kalpaklioğlu AF, Kara T, Kurtipek E, Saygun M<br>[ID: 17176785]"
      ],
      "text/plain": [
       "<IPython.core.display.HTML object>"
      ]
     },
     "metadata": {},
     "output_type": "display_data"
    },
    {
     "data": {
      "text/html": [
       "<strong>Food allergy in cystic fibrosis.</strong><br>1994. Lucarelli S, Quattrucci S, Zingoni AM, Frediani T, Diamanti S, Quintieri F, Barbato M, Cardi E, Antonelli M<br>[ID: 7731414]"
      ],
      "text/plain": [
       "<IPython.core.display.HTML object>"
      ]
     },
     "metadata": {},
     "output_type": "display_data"
    },
    {
     "data": {
      "text/html": [
       "<strong><a href=http://dx.doi.org/10.1111/j.1574-695X.2012.00959.x>Reduced tonsillar expression of human β-defensin 1, 2 and 3 in allergic rhinitis.</a></strong><br>2012. Bogefors J, Kvarnhammar AM, Höckerfelt U, Cardell LO<br>[ID: 22444247]"
      ],
      "text/plain": [
       "<IPython.core.display.HTML object>"
      ]
     },
     "metadata": {},
     "output_type": "display_data"
    },
    {
     "data": {
      "text/html": [
       "<strong><a href=http://dx.doi.org/10.1159/000235121>Western blot analysis of water-soluble wheat flour (Triticum vulgaris) allergens.</a></strong><br>1990. Pfeil T, Schwabl U, Ulmer WT, König W<br>[ID: 1693911]"
      ],
      "text/plain": [
       "<IPython.core.display.HTML object>"
      ]
     },
     "metadata": {},
     "output_type": "display_data"
    },
    {
     "data": {
      "text/html": [
       "<strong><a href=http://dx.doi.org/10.1186/s13073-015-0243-2>Practical guidelines for B-cell receptor repertoire sequencing analysis.</a></strong><br>2015. Yaari G, Kleinstein SH<br>[ID: 26589402]"
      ],
      "text/plain": [
       "<IPython.core.display.HTML object>"
      ]
     },
     "metadata": {},
     "output_type": "display_data"
    },
    {
     "data": {
      "text/html": [
       "<strong><a href=http://dx.doi.org/10.1016/j.freeradbiomed.2019.01.021>Delayed kinetics of phagocytosis related respiratory burst in blood is a distinctive feature of moderate exacerbation of bronchial asthma.</a></strong><br>2019. Tikhonova IV, Grinevich AA, Kosyakova NI, Safronova VG<br>[ID: 30685404]"
      ],
      "text/plain": [
       "<IPython.core.display.HTML object>"
      ]
     },
     "metadata": {},
     "output_type": "display_data"
    },
    {
     "data": {
      "text/html": [
       "<strong>Erythrocyte antigens as immunogenetic markers of respiratory atopic diseases in Georgians.</strong><br>1995. Khetsuriani NG, Gamkrelidze AG<br>[ID: 7551203]"
      ],
      "text/plain": [
       "<IPython.core.display.HTML object>"
      ]
     },
     "metadata": {},
     "output_type": "display_data"
    },
    {
     "data": {
      "text/html": [
       "<strong><a href=http://dx.doi.org/10.1542/peds.2018-2367>Recommendations for Prevention and Control of Influenza in Children, 2018-2019.</a></strong><br>2018. COMMITTEE ON INFECTIOUS DISEASES.<br>[ID: 30177511]"
      ],
      "text/plain": [
       "<IPython.core.display.HTML object>"
      ]
     },
     "metadata": {},
     "output_type": "display_data"
    },
    {
     "data": {
      "text/html": [
       "<strong>[Allergen-induced cytokine messenger RNA expression of peripheral blood mononuclear cells in active and remission of food allergy].</strong><br>1998. Tomiita M, Kohno Y, Shimojo N, Niimi H<br>[ID: 9656573]"
      ],
      "text/plain": [
       "<IPython.core.display.HTML object>"
      ]
     },
     "metadata": {},
     "output_type": "display_data"
    },
    {
     "data": {
      "text/html": [
       "<strong><a href=http://dx.doi.org/10.1186/s40064-015-1202-5>In vitro effects of zinc on the cytokine production from peripheral blood mononuclear cells in patients with zinc allergy.</a></strong><br>2015. Yoshihisa Y, Rehman MU, Yamakoshi-Shibutani T, Shimizu T<br>[ID: 26261762]"
      ],
      "text/plain": [
       "<IPython.core.display.HTML object>"
      ]
     },
     "metadata": {},
     "output_type": "display_data"
    },
    {
     "data": {
      "text/html": [
       "<strong>Immunoglobulin E in patients with ischemic heart disease.</strong><br>2008. Sinkiewicz W, Błazejewski J, Bujak R, Kubica J, Dudziak J<br>[ID: 18651396]"
      ],
      "text/plain": [
       "<IPython.core.display.HTML object>"
      ]
     },
     "metadata": {},
     "output_type": "display_data"
    },
    {
     "data": {
      "text/html": [
       "<strong>Asymptomatic IgE mediated food hypersensitivity in patients with nasal polyps.</strong><br>2003. Doğru H, Tüz M, Uygur K, Akkaya A, Yasan H<br>[ID: 14629124]"
      ],
      "text/plain": [
       "<IPython.core.display.HTML object>"
      ]
     },
     "metadata": {},
     "output_type": "display_data"
    },
    {
     "data": {
      "text/html": [
       "<strong>[Clinical and laboratory markers of immune dysfunction in patients with rheumatoid arthritis and their blood relatives].</strong><br>2005. Arleevskaia MI, Shilkina NP, Tsibul'kin AP<br>[ID: 15988998]"
      ],
      "text/plain": [
       "<IPython.core.display.HTML object>"
      ]
     },
     "metadata": {},
     "output_type": "display_data"
    },
    {
     "data": {
      "text/html": [
       "<strong><a href=http://dx.doi.org/10.1016/j.appet.2015.04.065>Prevalence of picky eating behaviour in Chinese school-age children and associations with anthropometric parameters and intelligence quotient. A cross-sectional study.</a></strong><br>2015. Xue Y, Lee E, Ning K, Zheng Y, Ma D, Gao H, Yang B, Bai Y, Wang P, Zhang Y<br>[ID: 25934087]"
      ],
      "text/plain": [
       "<IPython.core.display.HTML object>"
      ]
     },
     "metadata": {},
     "output_type": "display_data"
    },
    {
     "data": {
      "text/html": [
       "<strong><a href=http://dx.doi.org/10.2165/00063030-200721060-00006>Therapeutic applications of synthetic CpG oligodeoxynucleotides as TLR9 agonists for immune modulation.</a></strong><br>2007. Jurk M, Vollmer J<br>[ID: 18020622]"
      ],
      "text/plain": [
       "<IPython.core.display.HTML object>"
      ]
     },
     "metadata": {},
     "output_type": "display_data"
    },
    {
     "data": {
      "text/html": [
       "<strong>Segmental allergen challenge induces plasma protein leakage into the airways of asthmatic subjects at 4 hours but not at 5 minutes after challenge.</strong><br>1999. Nocker RE, van der Zee JS, Weller FR, van Overveld FJ, Jansen HM, Out TA<br>[ID: 10402062]"
      ],
      "text/plain": [
       "<IPython.core.display.HTML object>"
      ]
     },
     "metadata": {},
     "output_type": "display_data"
    },
    {
     "data": {
      "text/html": [
       "<strong><a href=http://dx.doi.org/10.1139/y02-116>Peripheral blood mononuclear cell production of TNF-alpha in response to North American ginseng stimulation.</a></strong><br>2002. Zhou DL, Kitts DD<br>[ID: 12450071]"
      ],
      "text/plain": [
       "<IPython.core.display.HTML object>"
      ]
     },
     "metadata": {},
     "output_type": "display_data"
    },
    {
     "data": {
      "text/html": [
       "<strong><a href=http://dx.doi.org/10.1371/journal.pone.0218670>Phosphodiesterase 4D, miR-203 and selected cytokines in the peripheral blood are associated with canine atopic dermatitis.</a></strong><br>2019. Koury J, Ramirez A, Xie C, Harb J, Dong C, Maki C, Ramos T, Izadyar F, Clark D, Drechsler Y, Kaur G, Hao J<br>[ID: 31226136]"
      ],
      "text/plain": [
       "<IPython.core.display.HTML object>"
      ]
     },
     "metadata": {},
     "output_type": "display_data"
    },
    {
     "data": {
      "text/html": [
       "<strong><a href=http://dx.doi.org/10.1006/appe.1993.1005>The milk mucus belief: sensations associated with the belief and characteristics of believers.</a></strong><br>1993. Arney WK, Pinnock CB<br>[ID: 8452377]"
      ],
      "text/plain": [
       "<IPython.core.display.HTML object>"
      ]
     },
     "metadata": {},
     "output_type": "display_data"
    },
    {
     "data": {
      "text/html": [
       "<strong>Restoration of immune suppressor function of regulatory B cells collected from patients with allergic rhinitis with Chinese medical formula Yupingfeng San.</strong><br>2019. Zhou CJ, Ma F, Liao WJ, Song LJ, Yu D, Song YN, Hu TY, Liu ZQ, Liu ZG, Zhang XW, Yang PC<br>[ID: 30972189]"
      ],
      "text/plain": [
       "<IPython.core.display.HTML object>"
      ]
     },
     "metadata": {},
     "output_type": "display_data"
    },
    {
     "data": {
      "text/html": [
       "<strong><a href=http://dx.doi.org/10.1081/jas-120019038>Growth of asthmatic children before long-term treatment with inhaled corticosteroids.</a></strong><br>2003. Moudiou T, Theophilatou D, Priftis K, Papadimitriou A<br>[ID: 14579998]"
      ],
      "text/plain": [
       "<IPython.core.display.HTML object>"
      ]
     },
     "metadata": {},
     "output_type": "display_data"
    },
    {
     "data": {
      "text/html": [
       "<strong><a href=http://dx.doi.org/10.1097/MPG.0b013e3181cea52b>Partially hydrolyzed 100% whey protein infant formula and reduced risk of atopic dermatitis: a meta-analysis.</a></strong><br>2010. Alexander DD, Cabana MD<br>[ID: 20216095]"
      ],
      "text/plain": [
       "<IPython.core.display.HTML object>"
      ]
     },
     "metadata": {},
     "output_type": "display_data"
    },
    {
     "data": {
      "text/html": [
       "<strong><a href=http://dx.doi.org/10.1111/j.1398-9995.2009.02132.x>EAACI/GA(2)LEN task force consensus report: the autologous serum skin test in urticaria.</a></strong><br>2009. Konstantinou GN, Asero R, Maurer M, Sabroe RA, Schmid-Grendelmeier P, Grattan CE<br>[ID: 19650847]"
      ],
      "text/plain": [
       "<IPython.core.display.HTML object>"
      ]
     },
     "metadata": {},
     "output_type": "display_data"
    },
    {
     "data": {
      "text/html": [
       "<strong><a href=http://dx.doi.org/10.1111/j.1398-9995.1997.tb00993.x>Allergenicity of alpha-caseins from cow, sheep, and goat.</a></strong><br>1997. Spuergin P, Walter M, Schiltz E, Deichmann K, Forster J, Mueller H<br>[ID: 9140519]"
      ],
      "text/plain": [
       "<IPython.core.display.HTML object>"
      ]
     },
     "metadata": {},
     "output_type": "display_data"
    },
    {
     "data": {
      "text/html": [
       "<strong><a href=http://dx.doi.org/10.1086/313757>Practice guidelines for the management of cryptococcal disease. Infectious Diseases Society of America.</a></strong><br>2000. Saag MS, Graybill RJ, Larsen RA, Pappas PG, Perfect JR, Powderly WG, Sobel JD, Dismukes WE<br>[ID: 10770733]"
      ],
      "text/plain": [
       "<IPython.core.display.HTML object>"
      ]
     },
     "metadata": {},
     "output_type": "display_data"
    },
    {
     "data": {
      "text/html": [
       "<strong><a href=http://dx.doi.org/10.2152/jmi.63.27>The intestinal microbiota and its role in human health and disease.</a></strong><br>2016. Kataoka K<br>[ID: 27040049]"
      ],
      "text/plain": [
       "<IPython.core.display.HTML object>"
      ]
     },
     "metadata": {},
     "output_type": "display_data"
    },
    {
     "data": {
      "text/html": [
       "<strong><a href=http://dx.doi.org/10.1093/pch/18.8.e51>Influenza vaccine recommendations for children and youth for the 2013/2014 season.</a></strong><br>2013. Moore DL, Canadian Paediatric Society, Infectious Diseases and Immunization Committee.<br>[ID: 24426802]"
      ],
      "text/plain": [
       "<IPython.core.display.HTML object>"
      ]
     },
     "metadata": {},
     "output_type": "display_data"
    },
    {
     "data": {
      "text/html": [
       "<strong><a href=http://dx.doi.org/10.1186/1471-2334-9-131>Treatment duration of febrile urinary tract infection (FUTIRST trial): a randomized placebo-controlled multicenter trial comparing short (7 days) antibiotic treatment with conventional treatment (14 days).</a></strong><br>2009. van Nieuwkoop C, van't Wout JW, Assendelft WJ, Elzevier HW, Leyten EM, Koster T, Wattel-Louis GH, Delfos NM, Ablij HC, Kuijper EJ, Pander J, Blom JW, Spelt IC, van Dissel JT<br>[ID: 19691829]"
      ],
      "text/plain": [
       "<IPython.core.display.HTML object>"
      ]
     },
     "metadata": {},
     "output_type": "display_data"
    },
    {
     "data": {
      "text/html": [
       "<strong><a href=http://dx.doi.org/10.1016/j.humimm.2010.07.008>FcεRI levels and frequencies of peripheral blood dendritic cell populations in allergic rhinitis.</a></strong><br>2010. Lundberg K, Greiff L, Borrebaeck CA, Lindstedt M<br>[ID: 20650300]"
      ],
      "text/plain": [
       "<IPython.core.display.HTML object>"
      ]
     },
     "metadata": {},
     "output_type": "display_data"
    },
    {
     "data": {
      "text/html": [
       "<strong><a href=http://dx.doi.org/10.1007/s00467-008-1003-y>Polymorphisms in interleukin-4-related genes in patients with minimal change nephrotic syndrome.</a></strong><br>2009. Ikeuchi Y, Kobayashi Y, Arakawa H, Suzuki M, Tamra K, Morikawa A<br>[ID: 19011907]"
      ],
      "text/plain": [
       "<IPython.core.display.HTML object>"
      ]
     },
     "metadata": {},
     "output_type": "display_data"
    },
    {
     "data": {
      "text/html": [
       "<strong>[Detection of a factor suppressing leukocyte migration in the sera of allergy patients following antigen administration].</strong><br>1977. Gorbach AD, Novikov DK, Gorbach IN<br>[ID: 325958]"
      ],
      "text/plain": [
       "<IPython.core.display.HTML object>"
      ]
     },
     "metadata": {},
     "output_type": "display_data"
    },
    {
     "data": {
      "text/html": [
       "<strong><a href=http://dx.doi.org/10.1148/124.1.17>Evaluation of bronchospasm during excretory urography.</a></strong><br>1977. Littner MR, Rosenfield AT, Ulreich S, Putman CE<br>[ID: 866632]"
      ],
      "text/plain": [
       "<IPython.core.display.HTML object>"
      ]
     },
     "metadata": {},
     "output_type": "display_data"
    },
    {
     "data": {
      "text/html": [
       "<strong><a href=http://dx.doi.org/10.1515/jcim-2014-0060>Effect of daily drinking of Aloe vera gel extract on plasma total antioxidant capacity and oral pathogenic bacteria in healthy volunteer: a short-term study.</a></strong><br>2015. Prueksrisakul T, Chantarangsu S, Thunyakitpisal P<br>[ID: 25803090]"
      ],
      "text/plain": [
       "<IPython.core.display.HTML object>"
      ]
     },
     "metadata": {},
     "output_type": "display_data"
    },
    {
     "data": {
      "text/html": [
       "<strong><a href=http://dx.doi.org/10.1046/j.1365-2222.1999.00545.x>Relationship between allergic status and specificity of IgG antibody to inhaled allergens: the grass pollen model.</a></strong><br>1999. Michils A, Vervier I, Choufani G, Gossart B, Duchateau J<br>[ID: 10336601]"
      ],
      "text/plain": [
       "<IPython.core.display.HTML object>"
      ]
     },
     "metadata": {},
     "output_type": "display_data"
    },
    {
     "data": {
      "text/html": [
       "<strong><a href=http://dx.doi.org/10.1021/acs.jafc.6b04199>RNA-Seq Analysis of Developing Pecan (Carya illinoinensis) Embryos Reveals Parallel Expression Patterns among Allergen and Lipid Metabolism Genes.</a></strong><br>2017. Mattison CP, Rai R, Settlage RE, Hinchliffe DJ, Madison C, Bland JM, Brashear S, Graham CJ, Tarver MR, Florane C, Bechtel PJ<br>[ID: 28121438]"
      ],
      "text/plain": [
       "<IPython.core.display.HTML object>"
      ]
     },
     "metadata": {},
     "output_type": "display_data"
    },
    {
     "data": {
      "text/html": [
       "<strong><a href=http://dx.doi.org/10.1016/j.jim.2014.03.003>Development of hydrogel biochip for in vitro allergy diagnostics.</a></strong><br>2014. Feyzkhanova GU, Filippova MA, Talibov VO, Dementieva EI, Maslennikov VV, Reznikov YP, Offermann N, Zasedatelev AS, Rubina AY, Fooke-Achterrath M<br>[ID: 24631646]"
      ],
      "text/plain": [
       "<IPython.core.display.HTML object>"
      ]
     },
     "metadata": {},
     "output_type": "display_data"
    },
    {
     "data": {
      "text/html": [
       "<strong><a href=http://dx.doi.org/10.1186/s13223-016-0115-3>T-cell receptor phenotype pattern in atopic children using commercial fluorescently labeled antibodies against 21 human class-specific v segments for the tcrβ chain (vβ) of peripheral blood: a cross sectional study.</a></strong><br>2016. Gohal G, McCusker C, Mazer B, Alizadehfar R, Lejtenyi D, Ben-Shoshan M<br>[ID: 26941803]"
      ],
      "text/plain": [
       "<IPython.core.display.HTML object>"
      ]
     },
     "metadata": {},
     "output_type": "display_data"
    },
    {
     "data": {
      "text/html": [
       "<strong>[Proliferative response of peripheral blood mononuclear cells to the recombinant allergen BtM of the Blomia tropicalis housedust mite].</strong><br>2004. Parga Lozano C, Marrugo Cano J, Hernández Bonfante L<br>[ID: 15456619]"
      ],
      "text/plain": [
       "<IPython.core.display.HTML object>"
      ]
     },
     "metadata": {},
     "output_type": "display_data"
    },
    {
     "data": {
      "text/html": [
       "<strong><a href=http://dx.doi.org/10.4161/hv.25203>Pre-exposure prophylaxis against rabies in children: safety of purified chick embryo cell rabies vaccine (Vaxirab N) when administered by intradermal route.</a></strong><br>2013. Ravish HS, Srikanth J, Ashwath Narayana DH, Annadani R, Vijayashankar V, Undi M<br>[ID: 23787889]"
      ],
      "text/plain": [
       "<IPython.core.display.HTML object>"
      ]
     },
     "metadata": {},
     "output_type": "display_data"
    },
    {
     "data": {
      "text/html": [
       "<strong><a href=http://dx.doi.org/10.1111/j.1365-2222.1990.tb02670.x>Mite allergy and exposure to storage mites and house dust mites in farmers.</a></strong><br>1990. Iversen M, Korsgaard J, Hallas T, Dahl R<br>[ID: 2357620]"
      ],
      "text/plain": [
       "<IPython.core.display.HTML object>"
      ]
     },
     "metadata": {},
     "output_type": "display_data"
    },
    {
     "data": {
      "text/html": [
       "<strong><a href=http://dx.doi.org/10.1111/j.0105-1873.2005.00576.x>Deodorants: an experimental provocation study with isoeugenol.</a></strong><br>2005. Bruze M, Johansen JD, Andersen KE, Frosch P, Goossens A, Lepoittevin JP, Rastogi SC, White I, Menné T<br>[ID: 15898999]"
      ],
      "text/plain": [
       "<IPython.core.display.HTML object>"
      ]
     },
     "metadata": {},
     "output_type": "display_data"
    },
    {
     "data": {
      "text/html": [
       "<strong><a href=http://dx.doi.org/10.1016/j.vaccine.2007.01.062>Effect of allergen-specific immunotherapy on plasma level of platelet factor 4 (PF-4) and beta-thromboglobulin (beta-TG), platelet activation markers in patients with house dust mite allergy.</a></strong><br>2007. Kasperska-Zajac A, Brzoza Z, Rogala B<br>[ID: 17291641]"
      ],
      "text/plain": [
       "<IPython.core.display.HTML object>"
      ]
     },
     "metadata": {},
     "output_type": "display_data"
    },
    {
     "data": {
      "text/html": [
       "<strong><a href=http://dx.doi.org/10.1074/mcp.T500004-MCP200>Profiling of alopecia areata autoantigens based on protein microarray technology.</a></strong><br>2005. Lueking A, Huber O, Wirths C, Schulte K, Stieler KM, Blume-Peytavi U, Kowald A, Hensel-Wiegel K, Tauber R, Lehrach H, Meyer HE, Cahill DJ<br>[ID: 15939964]"
      ],
      "text/plain": [
       "<IPython.core.display.HTML object>"
      ]
     },
     "metadata": {},
     "output_type": "display_data"
    },
    {
     "data": {
      "text/html": [
       "<strong>Determination of reactive oxygen species in nasal polyps.</strong><br>2005. Uneri C, Oztürk O, Polat S, Yüksel M, Haklar G<br>[ID: 16218511]"
      ],
      "text/plain": [
       "<IPython.core.display.HTML object>"
      ]
     },
     "metadata": {},
     "output_type": "display_data"
    },
    {
     "data": {
      "text/html": [
       "<strong><a href=http://dx.doi.org/10.1111/j.1365-2249.2007.03329.x>The levels of CD4+CD25+ regulatory T cells in paediatric patients with allergic rhinitis and bronchial asthma.</a></strong><br>2007. Lee JH, Yu HH, Wang LC, Yang YH, Lin YT, Chiang BL<br>[ID: 17349011]"
      ],
      "text/plain": [
       "<IPython.core.display.HTML object>"
      ]
     },
     "metadata": {},
     "output_type": "display_data"
    },
    {
     "data": {
      "text/html": [
       "<strong>Nasal cytologies--impact of sampling method, repeated sampling and interobserver variability.</strong><br>2005. Deutschle T, Friemel E, Starnecker K, Riechelmann H<br>[ID: 16218516]"
      ],
      "text/plain": [
       "<IPython.core.display.HTML object>"
      ]
     },
     "metadata": {},
     "output_type": "display_data"
    },
    {
     "data": {
      "text/html": [
       "<strong><a href=http://dx.doi.org/10.1016/j.humimm.2005.04.001>Sensitivity to bee venom antigen phospholipase A2: association with specific HLA class I and class II alleles and haplotypes in beekeepers and allergic patients.</a></strong><br>2005. Sánchez-Velasco P, Antón E, Muñoz D, Martínez-Quesada J, Ruíz de Alegría C, López-Hoyos M, García-Martín A, Jiménez I, Alonso ST, Duque S, Suárez A, Jerez J, Leyva-Cobián F<br>[ID: 16112029]"
      ],
      "text/plain": [
       "<IPython.core.display.HTML object>"
      ]
     },
     "metadata": {},
     "output_type": "display_data"
    },
    {
     "data": {
      "text/html": [
       "<strong><a href=http://dx.doi.org/10.1016/j.mehy.2017.07.035>Role of gut microbiota in idiopathic nephrotic syndrome in children.</a></strong><br>2017. Kaneko K, Tsuji S, Kimata T<br>[ID: 29055396]"
      ],
      "text/plain": [
       "<IPython.core.display.HTML object>"
      ]
     },
     "metadata": {},
     "output_type": "display_data"
    },
    {
     "data": {
      "text/html": [
       "<strong>ADMA, SDMA, L-Arginine and nitric oxide in allergic pediatric bronchial asthma.</strong><br>2012. Riccioni G, Bucciarelli V, Verini M, Consilvio NP, Gallina S, Martini F, Aceto A, Scotti L, Bucciarelli T<br>[ID: 23034276]"
      ],
      "text/plain": [
       "<IPython.core.display.HTML object>"
      ]
     },
     "metadata": {},
     "output_type": "display_data"
    },
    {
     "data": {
      "text/html": [
       "<strong>Implication of responses to bacterial heat shock proteins, chronic microbial infections, and dental metal allergy in patients with pustulosis palmaris et plantaris.</strong><br>2003. Kosugi M, Ishihara K, Okuda K<br>[ID: 14694830]"
      ],
      "text/plain": [
       "<IPython.core.display.HTML object>"
      ]
     },
     "metadata": {},
     "output_type": "display_data"
    },
    {
     "data": {
      "text/html": [
       "<strong><a href=http://dx.doi.org/10.3390/nu10050548>The Food-Specific Serum IgG Reactivity in Major Depressive Disorder Patients, Irritable Bowel Syndrome Patients and Healthy Controls.</a></strong><br>2018. Karakula-Juchnowicz H, Gałęcka M, Rog J, Bartnicka A, Łukaszewicz Z, Krukow P, Morylowska-Topolska J, Skonieczna-Zydecka K, Krajka T, Jonak K, Juchnowicz D<br>[ID: 29710769]"
      ],
      "text/plain": [
       "<IPython.core.display.HTML object>"
      ]
     },
     "metadata": {},
     "output_type": "display_data"
    },
    {
     "data": {
      "text/html": [
       "<strong><a href=http://dx.doi.org/10.1378/chest.122.1.171>Association of asthma severity and bronchial hyperresponsiveness with a polymorphism in the cytotoxic T-lymphocyte antigen-4 gene.</a></strong><br>2002. Lee SY, Lee YH, Shin C, Shim JJ, Kang KH, Yoo SH, In KH<br>[ID: 12114354]"
      ],
      "text/plain": [
       "<IPython.core.display.HTML object>"
      ]
     },
     "metadata": {},
     "output_type": "display_data"
    },
    {
     "data": {
      "text/html": [
       "<strong><a href=http://dx.doi.org/10.1089/AID.2018.0073>Short Communication: Bioequivalence of Tenofovir Component of Tenofovir/Rilpivirine/Emtricitabine in Digital Pills.</a></strong><br>2019. Chai PR, Pereira LM, Jambaulikar GD, Carrico AW, O'Cleirigh C, Mayer KH, Boyer EW<br>[ID: 30693811]"
      ],
      "text/plain": [
       "<IPython.core.display.HTML object>"
      ]
     },
     "metadata": {},
     "output_type": "display_data"
    },
    {
     "data": {
      "text/html": [
       "<strong><a href=http://dx.doi.org/10.1002/alr.21437>Phenylthiocarbamide taste sensitivity is associated with sinonasal symptoms in healthy adults.</a></strong><br>2015. Farquhar DR, Kovatch KJ, Palmer JN, Shofer FS, Adappa ND, Cohen NA<br>[ID: 25532854]"
      ],
      "text/plain": [
       "<IPython.core.display.HTML object>"
      ]
     },
     "metadata": {},
     "output_type": "display_data"
    },
    {
     "data": {
      "text/html": [
       "<strong>Comparative analysis of lyophilized fresh fruits and vegetables with commercial extracts for skin testing of patients with food allergy.</strong><br>1991. Deluze C, Dunoyer-Geindre S, Girard JP<br>[ID: 1669566]"
      ],
      "text/plain": [
       "<IPython.core.display.HTML object>"
      ]
     },
     "metadata": {},
     "output_type": "display_data"
    },
    {
     "data": {
      "text/html": [
       "<strong>Atopic dermatitis: serum immunoglobulins and T-lymphocyte subpopulations.</strong><br>1991. Valdés Sánchez AF, Gómez Echevarría AH, Lastra Alfonso G<br>[ID: 1669572]"
      ],
      "text/plain": [
       "<IPython.core.display.HTML object>"
      ]
     },
     "metadata": {},
     "output_type": "display_data"
    },
    {
     "data": {
      "text/html": [
       "<strong><a href=http://dx.doi.org/10.1186/1471-2458-13-936>Rationale, design and methods for a community-based study of clustering and cumulative effects of chronic disease processes and their effects on ageing: the Busselton healthy ageing study.</a></strong><br>2013. James A, Hunter M, Straker L, Beilby J, Bucks R, Davis T, Eikelboom RH, Hillman D, Hui J, Hung J, Knuiman M, Mackey DA, Newton RU, Palmer LJ, Musk AB, Busselton Healthy Ageing Study Investigator Group.<br>[ID: 24099269]"
      ],
      "text/plain": [
       "<IPython.core.display.HTML object>"
      ]
     },
     "metadata": {},
     "output_type": "display_data"
    },
    {
     "data": {
      "text/html": [
       "<strong>[Epidemiology, diagnosis and treatment of the house-dust-mite allergy in asthmatic children].</strong><br>1974. Cernelc VD, Bobinjec M, Cernelc S<br>[ID: 4282821]"
      ],
      "text/plain": [
       "<IPython.core.display.HTML object>"
      ]
     },
     "metadata": {},
     "output_type": "display_data"
    },
    {
     "data": {
      "text/html": [
       "<strong><a href=http://dx.doi.org/10.1159/000283033>The T cell response to major grass allergens is regulated and includes IL-10 production in atopic but not in non-atopic subjects.</a></strong><br>2010. Domdey A, Liu A, Millner A, Lund K, Jacobi H, Malling HJ, Søndergaard I, Würtzen PA<br>[ID: 20150742]"
      ],
      "text/plain": [
       "<IPython.core.display.HTML object>"
      ]
     },
     "metadata": {},
     "output_type": "display_data"
    },
    {
     "data": {
      "text/html": [
       "<strong><a href=http://dx.doi.org/10.1080/09603123.2011.588322>Levels of endotoxin in 390 Swedish homes: determinants and the risk for respiratory symptoms in children.</a></strong><br>2012. Moniruzzaman S, Hägerhed Engman L, James P, Sigsgaard T, Thorne PS, Sundell J, Bornehag CG<br>[ID: 21707246]"
      ],
      "text/plain": [
       "<IPython.core.display.HTML object>"
      ]
     },
     "metadata": {},
     "output_type": "display_data"
    },
    {
     "data": {
      "text/html": [
       "<strong>T and B cell responses to HDM allergens and antigens.</strong><br>2007. Thomas WR, Hales BJ<br>[ID: 17873403]"
      ],
      "text/plain": [
       "<IPython.core.display.HTML object>"
      ]
     },
     "metadata": {},
     "output_type": "display_data"
    },
    {
     "data": {
      "text/html": [
       "<strong><a href=http://dx.doi.org/10.1007/978-1-4939-7352-1_13>Analysis of Complement Activation by Nanoparticles.</a></strong><br>2018. Neun BW, Ilinskaya AN, Dobrovolskaia MA<br>[ID: 29039100]"
      ],
      "text/plain": [
       "<IPython.core.display.HTML object>"
      ]
     },
     "metadata": {},
     "output_type": "display_data"
    },
    {
     "data": {
      "text/html": [
       "<strong>[Diagnostic significance of the determination of IgE in food allergy].</strong><br>1987. Nogaller AM, Luniakov AS, Gridneva LI<br>[ID: 3447295]"
      ],
      "text/plain": [
       "<IPython.core.display.HTML object>"
      ]
     },
     "metadata": {},
     "output_type": "display_data"
    },
    {
     "data": {
      "text/html": [
       "<strong>[Gustatory sensitivity to sodium chloride and potassium chloride and certain parameters of sodium metabolism in patients with bronchial asthma].</strong><br>2008. Mineev VN, Suparnovich IIu<br>[ID: 19069456]"
      ],
      "text/plain": [
       "<IPython.core.display.HTML object>"
      ]
     },
     "metadata": {},
     "output_type": "display_data"
    },
    {
     "data": {
      "text/html": [
       "<strong><a href=http://dx.doi.org/10.1016/0006-2952(85)90304-1>Inhibition of leukotriene B4 formation in human neutrophils after oral nafazatrom (Bay g 6575).</a></strong><br>1985. Strasser T, Fischer S, Weber PC<br>[ID: 2988560]"
      ],
      "text/plain": [
       "<IPython.core.display.HTML object>"
      ]
     },
     "metadata": {},
     "output_type": "display_data"
    },
    {
     "data": {
      "text/html": [
       "<strong>Cord blood basophil releasability: a predictive marker for allergy?</strong><br>1988. Miadonna A, Tedeschi A, Leggieri E, Motta G, Fabbri C, Lorini M, Lucci G, Froldi M, Marini A, Zanussi C<br>[ID: 2456082]"
      ],
      "text/plain": [
       "<IPython.core.display.HTML object>"
      ]
     },
     "metadata": {},
     "output_type": "display_data"
    },
    {
     "data": {
      "text/html": [
       "<strong><a href=http://dx.doi.org/10.1055/s-0030-1256476>[Skin tests for diagnostics of allergic immediate-type reactions. Guideline of the German Society for Allergology and Clinical Immunology].</a></strong><br>2011. Ruëff F, Bergmann KC, Brockow K, Fuchs T, Grübl A, Jung K, Klimek L, Müsken H, Pfaar O, Przybilla B, Sitter H, Wehrmann W, German Society for Allergology and Clinical Immunology.<br>[ID: 21830178]"
      ],
      "text/plain": [
       "<IPython.core.display.HTML object>"
      ]
     },
     "metadata": {},
     "output_type": "display_data"
    },
    {
     "data": {
      "text/html": [
       "<strong>The role of regulatory T cells in IgE-mediated food allergy.</strong><br>2013. Palomares O<br>[ID: 24459813]"
      ],
      "text/plain": [
       "<IPython.core.display.HTML object>"
      ]
     },
     "metadata": {},
     "output_type": "display_data"
    },
    {
     "data": {
      "text/html": [
       "<strong>[Chronic urticaria in sports horses].</strong><br>1999. Francqueville M, Sabbah A<br>[ID: 10443302]"
      ],
      "text/plain": [
       "<IPython.core.display.HTML object>"
      ]
     },
     "metadata": {},
     "output_type": "display_data"
    },
    {
     "data": {
      "text/html": [
       "<strong><a href=http://dx.doi.org/10.29262/ram.v66i1.578>[MASK (Mobile Airways Sentinel Network). ARIA's comprehensive solution for mobile app for the multimorbidity of allergic rhinitis and asthma].</a></strong><br>2019. Larenas-Linnemann D, Mullol J, Ivancevich JC, Antó JM, Cardona V, Dedeu T, Rodríguez-González M, Huerta Y, Neffen H, Fuentes-Pérez JM, Rodríguez-Zagal E, Valero A, Zernotti M, Bartra J, Alobid I, Castillo-Vizuete JA, Dordal T, Hijano R, Picado C, Sastre J, ...<br>[ID: 31013416]"
      ],
      "text/plain": [
       "<IPython.core.display.HTML object>"
      ]
     },
     "metadata": {},
     "output_type": "display_data"
    },
    {
     "data": {
      "text/html": [
       "<strong>Healthy adults demonstrate less skin reactivity to commercial extracts of commonly ingested food than to D. farinae.</strong><br>1999. Chng HH, Tang CY, Leong KP<br>[ID: 10697256]"
      ],
      "text/plain": [
       "<IPython.core.display.HTML object>"
      ]
     },
     "metadata": {},
     "output_type": "display_data"
    },
    {
     "data": {
      "text/html": [
       "<strong><a href=http://dx.doi.org/10.1097/MJT.0000000000000193>Erythema Multiforme Associated With Misoprostol: A Case Report.</a></strong><br>2016. Sahraei Z, Mirabzadeh M, Eshraghi A<br>[ID: 26196523]"
      ],
      "text/plain": [
       "<IPython.core.display.HTML object>"
      ]
     },
     "metadata": {},
     "output_type": "display_data"
    },
    {
     "data": {
      "text/html": [
       "<strong><a href=http://dx.doi.org/10.1111/1523-1747.ep12475275>The autologous mixed epidermal cell-T lymphocyte reaction is elevated in psoriasis: a crucial role for epidermal HLA-DR+/CD1a- antigen-presenting cells.</a></strong><br>1991. Prens EP, Benne K, van Joost T, Benner R<br>[ID: 1710638]"
      ],
      "text/plain": [
       "<IPython.core.display.HTML object>"
      ]
     },
     "metadata": {},
     "output_type": "display_data"
    },
    {
     "data": {
      "text/html": [
       "<strong><a href=http://dx.doi.org/10.1016/j.coi.2009.07.012>Immune tolerance in allergy.</a></strong><br>2009. Akdis M<br>[ID: 19700272]"
      ],
      "text/plain": [
       "<IPython.core.display.HTML object>"
      ]
     },
     "metadata": {},
     "output_type": "display_data"
    },
    {
     "data": {
      "text/html": [
       "<strong><a href=http://dx.doi.org/10.1080/13651500500443233>Allergy to drugs: is there an association with mental ill-health?</a></strong><br>2006. Bavbek S, Pasaoglu G, Canat S, Sagduyu G, Misirligil Z<br>[ID: 24926771]"
      ],
      "text/plain": [
       "<IPython.core.display.HTML object>"
      ]
     },
     "metadata": {},
     "output_type": "display_data"
    },
    {
     "data": {
      "text/html": [
       "<strong>[The possibilities for preventive diagnosis and nondrug treatment in drug allergy].</strong><br>1999. Dizik GM, Zavtur IS, Makhnakova EA, Okonskiĭ EI, Perekhrestenko AP<br>[ID: 10672694]"
      ],
      "text/plain": [
       "<IPython.core.display.HTML object>"
      ]
     },
     "metadata": {},
     "output_type": "display_data"
    },
    {
     "data": {
      "text/html": [
       "<strong><a href=http://dx.doi.org/10.1080/13697130600736934>Soy and red clover for mid-life and aging.</a></strong><br>2006. Geller SE, Studee L<br>[ID: 16857655]"
      ],
      "text/plain": [
       "<IPython.core.display.HTML object>"
      ]
     },
     "metadata": {},
     "output_type": "display_data"
    },
    {
     "data": {
      "text/html": [
       "<strong><a href=http://dx.doi.org/10.1371/journal.pone.0151109>Whole-Genome Saliva and Blood DNA Methylation Profiling in Individuals with a Respiratory Allergy.</a></strong><br>2016. Langie SA, Szarc Vel Szic K, Declerck K, Traen S, Koppen G, Van Camp G, Schoeters G, Vanden Berghe W, De Boever P<br>[ID: 26999364]"
      ],
      "text/plain": [
       "<IPython.core.display.HTML object>"
      ]
     },
     "metadata": {},
     "output_type": "display_data"
    },
    {
     "data": {
      "text/html": [
       "<strong>Vitamin C infusion treatment enhances cortisol production of the adrenal via the pituitary ACTH route.</strong><br>1994. Kodama M, Kodama T, Murakami M, Kodama M<br>[ID: 7772741]"
      ],
      "text/plain": [
       "<IPython.core.display.HTML object>"
      ]
     },
     "metadata": {},
     "output_type": "display_data"
    },
    {
     "data": {
      "text/html": [
       "<strong><a href=http://dx.doi.org/10.1186/s13063-016-1467-1>Dietary supplementation with Bifidobacterium longum subsp. infantis (B. infantis) in healthy breastfed infants: study protocol for a randomised controlled trial.</a></strong><br>2016. Awasthi S, Wilken R, Patel F, German JB, Mills DA, Lebrilla CB, Kim K, Freeman SL, Smilowitz JT, Armstrong AW, Maverakis E<br>[ID: 27449926]"
      ],
      "text/plain": [
       "<IPython.core.display.HTML object>"
      ]
     },
     "metadata": {},
     "output_type": "display_data"
    },
    {
     "data": {
      "text/html": [
       "<strong>A study of the immediate cutaneous response. Influencing factors.</strong><br>1993. Moreno Benítez F, Millán Nnez-Cortés J, García Vadillo C, Lobatón Sánchez de Medina P<br>[ID: 8337994]"
      ],
      "text/plain": [
       "<IPython.core.display.HTML object>"
      ]
     },
     "metadata": {},
     "output_type": "display_data"
    },
    {
     "data": {
      "text/html": [
       "<strong><a href=http://dx.doi.org/10.4168/aair.2015.7.2.195>An IgE-Mediated Allergic Reaction Caused by Mulberry Fruit.</a></strong><br>2015. Choi JH, Sim JK, Oh JY, Hur GY, Min KH, Lee SY, Shim JJ, Kang KH<br>[ID: 25729628]"
      ],
      "text/plain": [
       "<IPython.core.display.HTML object>"
      ]
     },
     "metadata": {},
     "output_type": "display_data"
    },
    {
     "data": {
      "text/html": [
       "<strong><a href=http://dx.doi.org/10.1111/odi.12169>Evaluation of micronuclear frequencies in both circulating lymphocytes and buccal epithelial cells of patients with oral lichen planus and oral lichenoid contact reactions.</a></strong><br>2014. Saruhanoğlu A, Ergun S, Kaya M, Warnakulasuriya S, Erbağcı M, Öztürk Ş, Deniz E, Özel S, Çefle K, Palanduz Ş, Tanyeri H<br>[ID: 24033885]"
      ],
      "text/plain": [
       "<IPython.core.display.HTML object>"
      ]
     },
     "metadata": {},
     "output_type": "display_data"
    },
    {
     "data": {
      "text/html": [
       "<strong><a href=http://dx.doi.org/10.1007/s00420-015-1047-9>Healthy worker survivor analysis in an occupational cohort study of Dutch agricultural workers.</a></strong><br>2015. Spierenburg EA, Smit LA, Heederik D, Robbe P, Hylkema MN, Wouters IM<br>[ID: 25795169]"
      ],
      "text/plain": [
       "<IPython.core.display.HTML object>"
      ]
     },
     "metadata": {},
     "output_type": "display_data"
    },
    {
     "data": {
      "text/html": [
       "<strong>Vitamin D Increases Percentages of Interleukin-10 Secreting Regulatory T Cells in Children with Cow's Milk Allergy.</strong><br>2019. Mabrouk RR, Amer HA, Soliman DA, Mohamed NA, El-Ghoneimy DH, Hamdy AM, Atef SA<br>[ID: 31332993]"
      ],
      "text/plain": [
       "<IPython.core.display.HTML object>"
      ]
     },
     "metadata": {},
     "output_type": "display_data"
    },
    {
     "data": {
      "text/html": [
       "<strong><a href=http://dx.doi.org/10.1016/j.tvjl.2008.02.006>Lymphocyte blastogenic response to ovalbumin in a model for canine allergy.</a></strong><br>2009. Dévaud N, Hall JA, Gaschen F, Vallan C, Doherr MG, Williamson L, Peel JE, Burgener IA<br>[ID: 18397835]"
      ],
      "text/plain": [
       "<IPython.core.display.HTML object>"
      ]
     },
     "metadata": {},
     "output_type": "display_data"
    },
    {
     "data": {
      "text/html": [
       "<strong><a href=http://dx.doi.org/10.1177/1359105315573428>Multidimensional analysis of food-allergic children and adolescents' self-concept: A comparison with a healthy matched sample.</a></strong><br>2015. Polloni L, Baldi I, Lazzarotto F, Bonaguro R, Toniolo A, Gregori D, Muraro A<br>[ID: 26032801]"
      ],
      "text/plain": [
       "<IPython.core.display.HTML object>"
      ]
     },
     "metadata": {},
     "output_type": "display_data"
    },
    {
     "data": {
      "text/html": [
       "<strong><a href=http://dx.doi.org/10.1097/00004424-199503000-00002>Effects of iopromide on vasoactive peptides and allergy-mediated substances in healthy volunteers.</a></strong><br>1995. Szolar DH, Saeed M, Flueckiger F, Preidler K, Stiskal MA, Watzinger N, Sternthal H, Horina J<br>[ID: 7797411]"
      ],
      "text/plain": [
       "<IPython.core.display.HTML object>"
      ]
     },
     "metadata": {},
     "output_type": "display_data"
    },
    {
     "data": {
      "text/html": [
       "<strong><a href=http://dx.doi.org/10.1371/journal.pone.0122090>Allergen-Specific Cytokine Polarization Protects Shetland Ponies against Culicoides obsoletus-Induced Insect Bite Hypersensitivity.</a></strong><br>2015. Meulenbroeks C, van der Lugt JJ, van der Meide NM, Willemse T, Rutten VP, Zaiss DM<br>[ID: 25901733]"
      ],
      "text/plain": [
       "<IPython.core.display.HTML object>"
      ]
     },
     "metadata": {},
     "output_type": "display_data"
    },
    {
     "data": {
      "text/html": [
       "<strong><a href=http://dx.doi.org/10.3390/nu11081739>Cow's Milk Substitutes for Children: Nutritional Aspects of Milk from Different Mammalian Species, Special Formula and Plant-Based Beverages.</a></strong><br>2019. Verduci E, D'Elios S, Cerrato L, Comberiati P, Calvani M, Palazzo S, Martelli A, Landi M, Trikamjee T, Peroni DG<br>[ID: 31357608]"
      ],
      "text/plain": [
       "<IPython.core.display.HTML object>"
      ]
     },
     "metadata": {},
     "output_type": "display_data"
    },
    {
     "data": {
      "text/html": [
       "<strong><a href=http://dx.doi.org/10.3892/mmr.2018.9205>Identification of differentially expressed genes associated with asthma in children based on the bioanalysis of the regulatory network.</a></strong><br>2018. Wang C, Li H, Cao L, Wang G<br>[ID: 29956778]"
      ],
      "text/plain": [
       "<IPython.core.display.HTML object>"
      ]
     },
     "metadata": {},
     "output_type": "display_data"
    },
    {
     "data": {
      "text/html": [
       "<strong>Antigen absorption: food, fire or fuel?</strong><br>1995. Kamath KR<br>[ID: 24394428]"
      ],
      "text/plain": [
       "<IPython.core.display.HTML object>"
      ]
     },
     "metadata": {},
     "output_type": "display_data"
    },
    {
     "data": {
      "text/html": [
       "<strong><a href=http://dx.doi.org/10.1155/2017/7959154><i>Mycobacterium avium</i> Subsp. <i>paratuberculosis</i> Induces Specific IgE Production in Japanese People with Allergies.</a></strong><br>2017. Cossu D, Otsubo S, Otsubo Y, Eda S, Suzuki T, Iwao Y, Kuribayashi T, Yamamoto S, Sechi LA, Momotani E<br>[ID: 28523203]"
      ],
      "text/plain": [
       "<IPython.core.display.HTML object>"
      ]
     },
     "metadata": {},
     "output_type": "display_data"
    },
    {
     "data": {
      "text/html": [
       "<strong><a href=http://dx.doi.org/10.1007/s13197-017-2915-y>How well do plant based alternatives fare nutritionally compared to cow's milk?</a></strong><br>2018. Vanga SK, Raghavan V<br>[ID: 29358791]"
      ],
      "text/plain": [
       "<IPython.core.display.HTML object>"
      ]
     },
     "metadata": {},
     "output_type": "display_data"
    },
    {
     "data": {
      "text/html": [
       "<strong><a href=http://dx.doi.org/10.1111/j.1399-3038.2007.00684.x>Measles, mumps and rubella infections and atopic disorders in MMR-unvaccinated and MMR-vaccinated children.</a></strong><br>2008. Bernsen RM, van der Wouden JC<br>[ID: 18266826]"
      ],
      "text/plain": [
       "<IPython.core.display.HTML object>"
      ]
     },
     "metadata": {},
     "output_type": "display_data"
    },
    {
     "data": {
      "text/html": [
       "<strong><a href=http://dx.doi.org/10.1007/bf01308055>IgE levels in intestinal juice.</a></strong><br>1980. Belut D, Moneret-Vautrin DA, Nicolas JP, Grilliat JP<br>[ID: 7371471]"
      ],
      "text/plain": [
       "<IPython.core.display.HTML object>"
      ]
     },
     "metadata": {},
     "output_type": "display_data"
    },
    {
     "data": {
      "text/html": [
       "<strong><a href=http://dx.doi.org/10.1136/thoraxjnl-2018-212668>Combined impact of healthy lifestyle factors on risk of asthma, rhinoconjunctivitis and eczema in school children: ISAAC phase III.</a></strong><br>2019. Morales E, Strachan D, Asher I, Ellwood P, Pearce N, Garcia-Marcos L, ISAAC phase III study group., ISAAC Phase Three Study Group.<br>[ID: 30898896]"
      ],
      "text/plain": [
       "<IPython.core.display.HTML object>"
      ]
     },
     "metadata": {},
     "output_type": "display_data"
    },
    {
     "data": {
      "text/html": [
       "<strong><a href=http://dx.doi.org/10.1159/000073265>Antigenic specificity of serum antibodies in mice fed soy protein.</a></strong><br>2003. Christensen HR, Bruun SW, Frøkiaer H<br>[ID: 14555859]"
      ],
      "text/plain": [
       "<IPython.core.display.HTML object>"
      ]
     },
     "metadata": {},
     "output_type": "display_data"
    },
    {
     "data": {
      "text/html": [
       "<strong>[Fractionation of the Trichinella spiralis antigen and allergy diagnosis trails].</strong><br>1978. Bratanov V, Lilkova N, Stoianova-Zaĭkova L<br>[ID: 88790]"
      ],
      "text/plain": [
       "<IPython.core.display.HTML object>"
      ]
     },
     "metadata": {},
     "output_type": "display_data"
    },
    {
     "data": {
      "text/html": [
       "<strong><a href=http://dx.doi.org/10.1177/039463201102400230>Lactose intolerance in systemic nickel allergy syndrome.</a></strong><br>2011. Cazzato IA, Vadrucci E, Cammarota G, Minelli M, Gasbarrini A<br>[ID: 21658331]"
      ],
      "text/plain": [
       "<IPython.core.display.HTML object>"
      ]
     },
     "metadata": {},
     "output_type": "display_data"
    },
    {
     "data": {
      "text/html": [
       "<strong><a href=http://dx.doi.org/10.1016/j.jfms.2010.08.006>Feline-specific serum total IgE quantitation in normal, asthmatic and parasitized cats.</a></strong><br>2010. Delgado C, Lee-Fowler TM, DeClue AE, Reinero CR<br>[ID: 21109474]"
      ],
      "text/plain": [
       "<IPython.core.display.HTML object>"
      ]
     },
     "metadata": {},
     "output_type": "display_data"
    },
    {
     "data": {
      "text/html": [
       "<strong><a href=http://dx.doi.org/10.1159/000029275>Atopy, airway reactivity and compressed air diving in males.</a></strong><br>1998. Tetzlaff K, Neubauer B, Reuter M, Friege L<br>[ID: 9730792]"
      ],
      "text/plain": [
       "<IPython.core.display.HTML object>"
      ]
     },
     "metadata": {},
     "output_type": "display_data"
    },
    {
     "data": {
      "text/html": [
       "<strong><a href=http://dx.doi.org/10.1093/pch/8.7.419>Whole cow's milk in infancy.</a></strong><br>2003. Leung AK, Sauve RS<br>[ID: 20019947]"
      ],
      "text/plain": [
       "<IPython.core.display.HTML object>"
      ]
     },
     "metadata": {},
     "output_type": "display_data"
    },
    {
     "data": {
      "text/html": [
       "<strong><a href=http://dx.doi.org/10.1034/j.1399-0039.2003.00046.x>IgG reactive to CTL-directed epitopes of self-antigens is either lacking or unbalanced in atopic dermatitis patients.</a></strong><br>2003. Kawamoto N, Yamada A, Ohkouchi S, Maeda T, Tanaka S, Hashimoto T, Saijo Y, Saijo S, Nukiwa T, Shichijo S, Aizawa H, Itoh K<br>[ID: 12753654]"
      ],
      "text/plain": [
       "<IPython.core.display.HTML object>"
      ]
     },
     "metadata": {},
     "output_type": "display_data"
    },
    {
     "data": {
      "text/html": [
       "<strong><a href=http://dx.doi.org/10.1111/jpn.13191>Metabolisable energy intake and growth of privately owned growing dogs in comparison with official recommendations on the growth curve and energy supply.</a></strong><br>2019. Klein C, Thes M, Böswald LF, Kienzle E<br>[ID: 31529724]"
      ],
      "text/plain": [
       "<IPython.core.display.HTML object>"
      ]
     },
     "metadata": {},
     "output_type": "display_data"
    },
    {
     "data": {
      "text/html": [
       "<strong><a href=http://dx.doi.org/10.1007/s004670050592>Up-regulation of interleukin-4 and CD23/FcepsilonRII in minimal change nephrotic syndrome.</a></strong><br>1999. Cho BS, Yoon SR, Jang JY, Pyun KH, Lee CE<br>[ID: 10353405]"
      ],
      "text/plain": [
       "<IPython.core.display.HTML object>"
      ]
     },
     "metadata": {},
     "output_type": "display_data"
    },
    {
     "data": {
      "text/html": [
       "<strong>Helicobacter pylori as a protective factor against food allergy.</strong><br>2008. Konturek PC, Rienecker H, Hahn EG, Raithel M<br>[ID: 18758415]"
      ],
      "text/plain": [
       "<IPython.core.display.HTML object>"
      ]
     },
     "metadata": {},
     "output_type": "display_data"
    },
    {
     "data": {
      "text/html": [
       "<strong>Food antibodies, intestinal permeability and HLA status in IgA deficient blood donors identified by a new rapid screening test.</strong><br>1986. Gillon J, Barclay GR, Yap PL, Ferguson A<br>[ID: 3791632]"
      ],
      "text/plain": [
       "<IPython.core.display.HTML object>"
      ]
     },
     "metadata": {},
     "output_type": "display_data"
    },
    {
     "data": {
      "text/html": [
       "<strong>Sub-class of IgG in allergic disease. I. IgG sub-class antibodies in immediate and non-immediate food allergy.</strong><br>1986. Kemeny DM, Urbanek R, Amlot PL, Ciclitira PJ, Richards D, Lessof MH<br>[ID: 3791631]"
      ],
      "text/plain": [
       "<IPython.core.display.HTML object>"
      ]
     },
     "metadata": {},
     "output_type": "display_data"
    },
    {
     "data": {
      "text/html": [
       "<strong><a href=http://dx.doi.org/10.1002/pmic.200700347>Proteomic analysis of wheat proteins recognized by IgE antibodies of allergic patients.</a></strong><br>2008. Sotkovský P, Hubálek M, Hernychová L, Novák P, Havranová M, Setinová I, Kitanovicová A, Fuchs M, Stulík J, Tucková L<br>[ID: 18340628]"
      ],
      "text/plain": [
       "<IPython.core.display.HTML object>"
      ]
     },
     "metadata": {},
     "output_type": "display_data"
    },
    {
     "data": {
      "text/html": [
       "<strong><a href=http://dx.doi.org/10.1038/s41385-018-0038-z>Antigen-specific regulatory T-cell responses against aeroantigens and their role in allergy.</a></strong><br>2018. Bacher P, Scheffold A<br>[ID: 29858582]"
      ],
      "text/plain": [
       "<IPython.core.display.HTML object>"
      ]
     },
     "metadata": {},
     "output_type": "display_data"
    },
    {
     "data": {
      "text/html": [
       "<strong><a href=http://dx.doi.org/10.1007/978-1-4020-9173-5_21>Obesity related programming statements in materials on infant feeding aimed at parents in five European countries.</a></strong><br>2009. von Rosen-von Hoewel J, Laitinen K, Martin-Bautista E, Campoy C, Jakobik V, Decsi T, Schmid MA, Morgan J, Gage H, Koletzko B, Raats M<br>[ID: 19536678]"
      ],
      "text/plain": [
       "<IPython.core.display.HTML object>"
      ]
     },
     "metadata": {},
     "output_type": "display_data"
    },
    {
     "data": {
      "text/html": [
       "<strong><a href=http://dx.doi.org/10.1590/s0100-879x2004001000008>Immunoglobulin E and systemic lupus erythematosus.</a></strong><br>2004. Atta AM, Sousa CP, Carvalho EM, Sousa-Atta ML<br>[ID: 15448870]"
      ],
      "text/plain": [
       "<IPython.core.display.HTML object>"
      ]
     },
     "metadata": {},
     "output_type": "display_data"
    },
    {
     "data": {
      "text/html": [
       "<strong><a href=http://dx.doi.org/10.1016/0091-6749(83)90097-0>Does hyperimmunoglobulinemia-E protect tropical populations from allergic disease?</a></strong><br>1983. Larrick JW, Buckley CE 3rd, Machamer CE, Schlagel GD, Yost JA, Blessing-Moore J, Levy D<br>[ID: 6822694]"
      ],
      "text/plain": [
       "<IPython.core.display.HTML object>"
      ]
     },
     "metadata": {},
     "output_type": "display_data"
    },
    {
     "data": {
      "text/html": [
       "<strong>New allergenic pollens of Delhi State, India, and their clinical significance.</strong><br>1979. Shivpuri DN, Singh AB, Babu CE<br>[ID: 760625]"
      ],
      "text/plain": [
       "<IPython.core.display.HTML object>"
      ]
     },
     "metadata": {},
     "output_type": "display_data"
    },
    {
     "data": {
      "text/html": [
       "<strong><a href=http://dx.doi.org/10.1017/S0029665109991832>Session 1: Allergic disease: The challenges of managing food hypersensitivity.</a></strong><br>2010. Venter C, Meyer R<br>[ID: 20003636]"
      ],
      "text/plain": [
       "<IPython.core.display.HTML object>"
      ]
     },
     "metadata": {},
     "output_type": "display_data"
    },
    {
     "data": {
      "text/html": [
       "<strong><a href=http://dx.doi.org/10.3945/ajcn.116.140012>Probiotics (<i>Lactobacillus gasseri</i> KS-13, <i>Bifidobacterium bifidum</i> G9-1, and <i>Bifidobacterium longum</i> MM-2) improve rhinoconjunctivitis-specific quality of life in individuals with seasonal allergies: a double-blind, placebo-controlled, randomized trial.</a></strong><br>2017. Dennis-Wall JC, Culpepper T, Nieves C Jr, Rowe CC, Burns AM, Rusch CT, Federico A, Ukhanova M, Waugh S, Mai V, Christman MC, Langkamp-Henken B<br>[ID: 28228426]"
      ],
      "text/plain": [
       "<IPython.core.display.HTML object>"
      ]
     },
     "metadata": {},
     "output_type": "display_data"
    },
    {
     "data": {
      "text/html": [
       "<strong>[Mechanisms and new innovations in hyposensitization].</strong><br>2011. Savolainen J, Alenius H, Renkonen R<br>[ID: 21805902]"
      ],
      "text/plain": [
       "<IPython.core.display.HTML object>"
      ]
     },
     "metadata": {},
     "output_type": "display_data"
    },
    {
     "data": {
      "text/html": [
       "<strong>Effects of food allergy on the dietary habits and intake of primary schools' Cypriot children.</strong><br>2017. Vassilopoulou E, Christoforou C, Andreou E, Heraclides A<br>[ID: 28752722]"
      ],
      "text/plain": [
       "<IPython.core.display.HTML object>"
      ]
     },
     "metadata": {},
     "output_type": "display_data"
    },
    {
     "data": {
      "text/html": [
       "<strong><a href=http://dx.doi.org/10.1016/0091-6749(92)90460-j>Indirect evidence of nasal inflammation assessed by titration of inflammatory mediators and enumeration of cells in nasal secretions of patients with chronic rhinitis.</a></strong><br>1992. Knani J, Campbell A, Enander I, Peterson CG, Michel FB, Bousquet J<br>[ID: 1334102]"
      ],
      "text/plain": [
       "<IPython.core.display.HTML object>"
      ]
     },
     "metadata": {},
     "output_type": "display_data"
    },
    {
     "data": {
      "text/html": [
       "<strong><a href=http://dx.doi.org/10.7727/wimj.2011.222>Effect of Submaximal Warm-up Exercise on Exercise-induced Asthma in African School Children.</a></strong><br>2015. Mtshali BF, Mokwena K, Oguntibeju OO<br>[ID: 26360684]"
      ],
      "text/plain": [
       "<IPython.core.display.HTML object>"
      ]
     },
     "metadata": {},
     "output_type": "display_data"
    },
    {
     "data": {
      "text/html": [
       "<strong><a href=http://dx.doi.org/10.1080/21645515.2018.1486354>Rabies post-exposure prophylaxis for a male with severe Henoch Schönlein purpura following rabies vaccination.</a></strong><br>2018. Zhu ZG, Zheng Y, Lu S, Hu Q, Fang Y<br>[ID: 29883249]"
      ],
      "text/plain": [
       "<IPython.core.display.HTML object>"
      ]
     },
     "metadata": {},
     "output_type": "display_data"
    },
    {
     "data": {
      "text/html": [
       "<strong><a href=http://dx.doi.org/10.1016/j.compbiolchem.2013.08.003>Identification of putative and potential cross-reactive chickpea (Cicer arietinum) allergens through an in silico approach.</a></strong><br>2013. Kulkarni A, Ananthanarayan L, Raman K<br>[ID: 24099701]"
      ],
      "text/plain": [
       "<IPython.core.display.HTML object>"
      ]
     },
     "metadata": {},
     "output_type": "display_data"
    },
    {
     "data": {
      "text/html": [
       "<strong><a href=http://dx.doi.org/10.1007/s00403-011-1142-z>Usability of Fag e 2 ImmunoCAP in the diagnosis of buckwheat allergy.</a></strong><br>2011. Tohgi K, Kohno K, Takahashi H, Matsuo H, Nakayama S, Morita E<br>[ID: 21461893]"
      ],
      "text/plain": [
       "<IPython.core.display.HTML object>"
      ]
     },
     "metadata": {},
     "output_type": "display_data"
    },
    {
     "data": {
      "text/html": [
       "<strong><a href=http://dx.doi.org/10.1016/0091-6749(92)90138-r>Substance P and beta-endorphin-like immunoreactivity in lavage fluids of subjects with and without allergic asthma.</a></strong><br>1992. Nieber K, Baumgarten CR, Rathsack R, Furkert J, Oehme P, Kunkel G<br>[ID: 1383307]"
      ],
      "text/plain": [
       "<IPython.core.display.HTML object>"
      ]
     },
     "metadata": {},
     "output_type": "display_data"
    },
    {
     "data": {
      "text/html": [
       "<strong><a href=http://dx.doi.org/10.1016/j.ebiom.2018.04.014>Mass Spectrometric Identification of Urinary Biomarkers of Pulmonary Tuberculosis.</a></strong><br>2018. Isa F, Collins S, Lee MH, Decome D, Dorvil N, Joseph P, Smith L, Salerno S, Wells MT, Fischer S, Bean JM, Pape JW, Johnson WD, Fitzgerald DW, Rhee KY<br>[ID: 29752217]"
      ],
      "text/plain": [
       "<IPython.core.display.HTML object>"
      ]
     },
     "metadata": {},
     "output_type": "display_data"
    },
    {
     "data": {
      "text/html": [
       "<strong><a href=http://dx.doi.org/10.1111/j.1440-0960.2005.00127.x>Golfer's vasculitis.</a></strong><br>2005. Kelly RI, Opie J, Nixon R<br>[ID: 15670170]"
      ],
      "text/plain": [
       "<IPython.core.display.HTML object>"
      ]
     },
     "metadata": {},
     "output_type": "display_data"
    },
    {
     "data": {
      "text/html": [
       "<strong><a href=http://dx.doi.org/10.5604/12321966.1203879>Pantoea agglomerans: a mysterious bacterium of evil and good. Part IV. Beneficial effects.</a></strong><br>2016. Dutkiewicz J, Mackiewicz B, Lemieszek MK, Golec M, Milanowski J<br>[ID: 27294621]"
      ],
      "text/plain": [
       "<IPython.core.display.HTML object>"
      ]
     },
     "metadata": {},
     "output_type": "display_data"
    },
    {
     "data": {
      "text/html": [
       "<strong><a href=http://dx.doi.org/10.1111/1523-1747.ep12530539>HLA-antigens and contact hypersensitivity.</a></strong><br>1979. Roupe G, Rydberg L, Swanbeck G<br>[ID: 154539]"
      ],
      "text/plain": [
       "<IPython.core.display.HTML object>"
      ]
     },
     "metadata": {},
     "output_type": "display_data"
    },
    {
     "data": {
      "text/html": [
       "<strong><a href=http://dx.doi.org/10.1159/000088722>Allergic sensitisation in tuberculosis and leprosy patients.</a></strong><br>2005. Ellertsen LK, Wiker HG, Egeberg NT, Hetland G<br>[ID: 16210860]"
      ],
      "text/plain": [
       "<IPython.core.display.HTML object>"
      ]
     },
     "metadata": {},
     "output_type": "display_data"
    },
    {
     "data": {
      "text/html": [
       "<strong><a href=http://dx.doi.org/10.1186/s12903-017-0393-2>Oral symptoms and salivary findings in oral lichen planus, oral lichenoid lesions and stomatitis.</a></strong><br>2017. Larsen KR, Johansen JD, Reibel J, Zachariae C, Rosing K, Pedersen AML<br>[ID: 28662707]"
      ],
      "text/plain": [
       "<IPython.core.display.HTML object>"
      ]
     },
     "metadata": {},
     "output_type": "display_data"
    },
    {
     "data": {
      "text/html": [
       "<strong>[Diagnostic value of the intradermal tuberculin reaction in the adult, in Zaire].</strong><br>1986. Mizerero M, Kumboneki L<br>[ID: 3726266]"
      ],
      "text/plain": [
       "<IPython.core.display.HTML object>"
      ]
     },
     "metadata": {},
     "output_type": "display_data"
    },
    {
     "data": {
      "text/html": [
       "<strong><a href=http://dx.doi.org/10.1080/10408398.2010.499779>Probiotic fermentation of plant based products: possibilities and opportunities.</a></strong><br>2012. Gupta S, Abu-Ghannam N<br>[ID: 22059963]"
      ],
      "text/plain": [
       "<IPython.core.display.HTML object>"
      ]
     },
     "metadata": {},
     "output_type": "display_data"
    },
    {
     "data": {
      "text/html": [
       "<strong><a href=http://dx.doi.org/10.1002/bdrc.21116>The influence of the young microbiome on inflammatory diseases--Lessons from animal studies.</a></strong><br>2015. Bendtsen KM, Fisker L, Hansen AK, Hansen CH, Nielsen DS<br>[ID: 26663871]"
      ],
      "text/plain": [
       "<IPython.core.display.HTML object>"
      ]
     },
     "metadata": {},
     "output_type": "display_data"
    },
    {
     "data": {
      "text/html": [
       "<strong><a href=http://dx.doi.org/10.3390/cells8060620>To See or Not to See: A Systematic Review of the Importance of Human Ocular Surface Cytokine Biosignatures in Ocular Allergy.</a></strong><br>2019. Aydin E, Gokhale M, Azizoglu S, Suphioglu C<br>[ID: 31226821]"
      ],
      "text/plain": [
       "<IPython.core.display.HTML object>"
      ]
     },
     "metadata": {},
     "output_type": "display_data"
    },
    {
     "data": {
      "text/html": [
       "<strong><a href=http://dx.doi.org/10.1111/j.1398-9995.1998.tb03890.x>Comparison of olfactory function in patients with seasonal and perennial allergic rhinitis.</a></strong><br>1998. Moll B, Klimek L, Eggers G, Mann W<br>[ID: 9542610]"
      ],
      "text/plain": [
       "<IPython.core.display.HTML object>"
      ]
     },
     "metadata": {},
     "output_type": "display_data"
    },
    {
     "data": {
      "text/html": [
       "<strong><a href=http://dx.doi.org/10.1016/j.ijpara.2012.10.014>A nematode immunomodulator suppresses grass pollen-specific allergic responses by controlling excessive Th2 inflammation.</a></strong><br>2013. Daniłowicz-Luebert E, Steinfelder S, Kühl AA, Drozdenko G, Lucius R, Worm M, Hamelmann E, Hartmann S<br>[ID: 23174104]"
      ],
      "text/plain": [
       "<IPython.core.display.HTML object>"
      ]
     },
     "metadata": {},
     "output_type": "display_data"
    },
    {
     "data": {
      "text/html": [
       "<strong><a href=http://dx.doi.org/10.1111/crj.12170>Deletion polymorphism of GSTT1 gene as protective marker for allergic rhinitis.</a></strong><br>2015. Iorio A, Polimanti R, Piacentini S, Liumbruno GM, Manfellotto D, Fuciarelli M<br>[ID: 24902621]"
      ],
      "text/plain": [
       "<IPython.core.display.HTML object>"
      ]
     },
     "metadata": {},
     "output_type": "display_data"
    },
    {
     "data": {
      "text/html": [
       "<strong>Indirect enzyme-linked immunosorbent assay for measurement of human immunoglobulins E and G to purified cow's milk proteins: application in diagnosis of cow's milk allergy.</strong><br>1987. Campbell DE, Ngamphaiboon J, Clark MM, Harris MC, Kolski GB, Douglas SD<br>[ID: 3693541]"
      ],
      "text/plain": [
       "<IPython.core.display.HTML object>"
      ]
     },
     "metadata": {},
     "output_type": "display_data"
    },
    {
     "data": {
      "text/html": [
       "<strong><a href=http://dx.doi.org/10.1345/aph.1L593>Celecoxib-associated anaphylaxis.</a></strong><br>2009. Chamberlin KW, Silverman AR<br>[ID: 19299321]"
      ],
      "text/plain": [
       "<IPython.core.display.HTML object>"
      ]
     },
     "metadata": {},
     "output_type": "display_data"
    },
    {
     "data": {
      "text/html": [
       "<strong><a href=http://dx.doi.org/10.1111/j.1398-9995.2006.01106.x>Working towards healthy air in dwellings in Europe.</a></strong><br>2006. Franchi M, Carrer P, Kotzias D, Rameckers EM, Seppänen O, van Bronswijk JE, Viegi G, Gilder JA, Valovirta E<br>[ID: 16792586]"
      ],
      "text/plain": [
       "<IPython.core.display.HTML object>"
      ]
     },
     "metadata": {},
     "output_type": "display_data"
    },
    {
     "data": {
      "text/html": [
       "<strong><a href=http://dx.doi.org/10.1080/08958370390229852>Influence of age, gender, and allergy status on nasal reactivity to inhaled chlorine.</a></strong><br>2003. Shusterman D, Murphy MA, Balmes J<br>[ID: 14515221]"
      ],
      "text/plain": [
       "<IPython.core.display.HTML object>"
      ]
     },
     "metadata": {},
     "output_type": "display_data"
    },
    {
     "data": {
      "text/html": [
       "<strong><a href=http://dx.doi.org/10.1034/j.1600-0536.2003.00067.x>Use of in vitro release of interferon-gamma in the diagnosis of contact allergy to potassium dichromate - a controlled study.</a></strong><br>2003. Trattner A, Akerman L, Lapidoth M, Klein T, Weiss H, Ben Chaim B, David M<br>[ID: 12786722]"
      ],
      "text/plain": [
       "<IPython.core.display.HTML object>"
      ]
     },
     "metadata": {},
     "output_type": "display_data"
    },
    {
     "data": {
      "text/html": [
       "<strong><a href=http://dx.doi.org/10.1016/j.alit.2018.09.004>A comprehensive understanding of the gut mucosal immune system in allergic inflammation.</a></strong><br>2019. Tokuhara D, Kurashima Y, Kamioka M, Nakayama T, Ernst P, Kiyono H<br>[ID: 30366757]"
      ],
      "text/plain": [
       "<IPython.core.display.HTML object>"
      ]
     },
     "metadata": {},
     "output_type": "display_data"
    },
    {
     "data": {
      "text/html": [
       "<strong><a href=http://dx.doi.org/10.1034/j.1600-0536.2003.00094.x>Deodorants: an experimental provocation study with hydroxycitronellal.</a></strong><br>2003. Svedman C, Bruze M, Johansen JD, Andersen KE, Goossens A, Frosch PJ, Lepoittevin JP, Rastogi S, White IR, Menné T<br>[ID: 12786728]"
      ],
      "text/plain": [
       "<IPython.core.display.HTML object>"
      ]
     },
     "metadata": {},
     "output_type": "display_data"
    },
    {
     "data": {
      "text/html": [
       "<strong><a href=http://dx.doi.org/10.1111/j.1399-3038.2009.00961.x>Changes in faecal microbiota of infants with cow's milk protein allergy--a Spanish prospective case-control 6-month follow-up study.</a></strong><br>2010. Thompson-Chagoyan OC, Vieites JM, Maldonado J, Edwards C, Gil A<br>[ID: 19889194]"
      ],
      "text/plain": [
       "<IPython.core.display.HTML object>"
      ]
     },
     "metadata": {},
     "output_type": "display_data"
    },
    {
     "data": {
      "text/html": [
       "<strong><a href=http://dx.doi.org/10.1159/000095297>Saliva secretion in patients with allergic rhinitis.</a></strong><br>2006. Elad S, Heisler S, Shalit M<br>[ID: 16931889]"
      ],
      "text/plain": [
       "<IPython.core.display.HTML object>"
      ]
     },
     "metadata": {},
     "output_type": "display_data"
    },
    {
     "data": {
      "text/html": [
       "<strong><a href=http://dx.doi.org/10.1016/j.ejphar.2010.10.065>Histamine H(4) receptor antagonism inhibits allergen-specific T-cell responses mediated by human dendritic cells.</a></strong><br>2011. Lundberg K, Broos S, Greiff L, Borrebaeck CA, Lindstedt M<br>[ID: 21093429]"
      ],
      "text/plain": [
       "<IPython.core.display.HTML object>"
      ]
     },
     "metadata": {},
     "output_type": "display_data"
    },
    {
     "data": {
      "text/html": [
       "<strong><a href=http://dx.doi.org/10.1016/j.molimm.2016.08.013>Major grass pollen allergens and components detected in a southern Chinese cohort of patients with allergic rhinitis and/or asthma.</a></strong><br>2016. Luo W, Huang H, Zheng P, Wei N, Luo J, Sun B, Zeng G<br>[ID: 27614266]"
      ],
      "text/plain": [
       "<IPython.core.display.HTML object>"
      ]
     },
     "metadata": {},
     "output_type": "display_data"
    },
    {
     "data": {
      "text/html": [
       "<strong>[Advantages and disadvantages of inactivated and live influenza vaccine].</strong><br>2004. Gendon IuZ<br>[ID: 15293504]"
      ],
      "text/plain": [
       "<IPython.core.display.HTML object>"
      ]
     },
     "metadata": {},
     "output_type": "display_data"
    },
    {
     "data": {
      "text/html": [
       "<strong><a href=http://dx.doi.org/10.1046/j.1365-2133.1999.03106.x>Effects of repeated skin exposure to low nickel concentrations: a model for allergic contact dermatitis to nickel on the hands.</a></strong><br>1999. Nielsen NH, Menné T, Kristiansen J, Christensen JM, Borg L, Poulsen LK<br>[ID: 10583115]"
      ],
      "text/plain": [
       "<IPython.core.display.HTML object>"
      ]
     },
     "metadata": {},
     "output_type": "display_data"
    },
    {
     "data": {
      "text/html": [
       "<strong><a href=http://dx.doi.org/10.1002/cre2.91>Serum cytokine profile and clinicopathological findings in oral lichen planus, oral lichenoid lesions and stomatitis.</a></strong><br>2017. Larsen KR, Johansen JD, Reibel J, Zachariae C, Pedersen AML<br>[ID: 29744205]"
      ],
      "text/plain": [
       "<IPython.core.display.HTML object>"
      ]
     },
     "metadata": {},
     "output_type": "display_data"
    },
    {
     "data": {
      "text/html": [
       "<strong><a href=http://dx.doi.org/10.3748/wjg.v20.i41.15163>Intestinal microbiota in health and disease: role of bifidobacteria in gut homeostasis.</a></strong><br>2014. Tojo R, Suárez A, Clemente MG, de los Reyes-Gavilán CG, Margolles A, Gueimonde M, Ruas-Madiedo P<br>[ID: 25386066]"
      ],
      "text/plain": [
       "<IPython.core.display.HTML object>"
      ]
     },
     "metadata": {},
     "output_type": "display_data"
    },
    {
     "data": {
      "text/html": [
       "<strong><a href=http://dx.doi.org/10.1111/all.13361>Circadian profiling reveals higher histamine plasma levels and lower diamine oxidase serum activities in 24% of patients with suspected histamine intolerance compared to food allergy and controls.</a></strong><br>2018. Pinzer TC, Tietz E, Waldmann E, Schink M, Neurath MF, Zopf Y<br>[ID: 29154390]"
      ],
      "text/plain": [
       "<IPython.core.display.HTML object>"
      ]
     },
     "metadata": {},
     "output_type": "display_data"
    },
    {
     "data": {
      "text/html": [
       "<strong><a href=http://dx.doi.org/10.1046/j.1365-2249.2000.01268.x>Characterization of mercuric mercury (Hg2+)-induced lymphoblasts from patients with mercury allergy and from healthy subjects.</a></strong><br>2000. Cederbrant K, Hultman P<br>[ID: 10886235]"
      ],
      "text/plain": [
       "<IPython.core.display.HTML object>"
      ]
     },
     "metadata": {},
     "output_type": "display_data"
    },
    {
     "data": {
      "text/html": [
       "<strong><a href=http://dx.doi.org/10.1189/jlb.0108058>Human eosinophils constitutively express multiple Th1, Th2, and immunoregulatory cytokines that are secreted rapidly and differentially.</a></strong><br>2009. Spencer LA, Szela CT, Perez SA, Kirchhoffer CL, Neves JS, Radke AL, Weller PF<br>[ID: 18840671]"
      ],
      "text/plain": [
       "<IPython.core.display.HTML object>"
      ]
     },
     "metadata": {},
     "output_type": "display_data"
    },
    {
     "data": {
      "text/html": [
       "<strong><a href=http://dx.doi.org/10.1007/s00005-010-0104-z>Validation of basophil CD164 upregulation for pollen allergy diagnosis.</a></strong><br>2010. Wolanczyk-Medrala A, Barg W, Liebhart J, Panaszek B, Nadobna G, Litwa M, Gogolewski G, Medrala W<br>[ID: 20872290]"
      ],
      "text/plain": [
       "<IPython.core.display.HTML object>"
      ]
     },
     "metadata": {},
     "output_type": "display_data"
    },
    {
     "data": {
      "text/html": [
       "<strong><a href=http://dx.doi.org/10.1074/jbc.M116.746164>Suppressor of Cytokine Signaling (SOCS)1 Regulates Interleukin-4 (IL-4)-activated Insulin Receptor Substrate (IRS)-2 Tyrosine Phosphorylation in Monocytes and Macrophages via the Proteasome.</a></strong><br>2016. McCormick SM, Gowda N, Fang JX, Heller NM<br>[ID: 27507812]"
      ],
      "text/plain": [
       "<IPython.core.display.HTML object>"
      ]
     },
     "metadata": {},
     "output_type": "display_data"
    },
    {
     "data": {
      "text/html": [
       "<strong><a href=http://dx.doi.org/10.1007/s00592-012-0392-3>Prevalence of phonatory symptoms in patients with type 2 diabetes mellitus.</a></strong><br>2013. Hamdan AL, Kurban Z, Azar ST<br>[ID: 22527095]"
      ],
      "text/plain": [
       "<IPython.core.display.HTML object>"
      ]
     },
     "metadata": {},
     "output_type": "display_data"
    },
    {
     "data": {
      "text/html": [
       "<strong><a href=http://dx.doi.org/10.1111/j.1398-9995.2009.02248.x>Anaphylaxis to patent blue V: a case series and proposed diagnostic protocol.</a></strong><br>2010. Haque RA, Wagner A, Whisken JA, Nasser SM, Ewan PW<br>[ID: 19930233]"
      ],
      "text/plain": [
       "<IPython.core.display.HTML object>"
      ]
     },
     "metadata": {},
     "output_type": "display_data"
    },
    {
     "data": {
      "text/html": [
       "<strong>[Eosinophil cationic protein in persons with contact allergy to disinfectants].</strong><br>1997. Kieć-Swierczyńska M, Krecisz B, Krajewska B, Szymczak W<br>[ID: 9198716]"
      ],
      "text/plain": [
       "<IPython.core.display.HTML object>"
      ]
     },
     "metadata": {},
     "output_type": "display_data"
    },
    {
     "data": {
      "text/html": [
       "<strong>Interleukin-10-secreting regulatory T cells in allergy and asthma.</strong><br>2006. Urry Z, Xystrakis E, Hawrylowicz CM<br>[ID: 16899197]"
      ],
      "text/plain": [
       "<IPython.core.display.HTML object>"
      ]
     },
     "metadata": {},
     "output_type": "display_data"
    },
    {
     "data": {
      "text/html": [
       "<strong><a href=http://dx.doi.org/10.3390/nu11020212>Growth Pattern, Resting Energy Expenditure, and Nutrient Intake of Children with Food Allergies.</a></strong><br>2019. D'Auria E, Fabiano V, Bertoli S, Bedogni G, Bosetti A, Pendezza E, Sartorio MUA, Leone A, Spadafranca A, Borsani B, Stucchi F, Battezzati A, Zuccotti GV<br>[ID: 30678148]"
      ],
      "text/plain": [
       "<IPython.core.display.HTML object>"
      ]
     },
     "metadata": {},
     "output_type": "display_data"
    },
    {
     "data": {
      "text/html": [
       "<strong><a href=http://dx.doi.org/10.1079/BJN20041093>Immune response in mice to ingested soya protein: antibody production, oral tolerance and maternal transfer.</a></strong><br>2004. Christensen HR, Brix S, Frøkiaer H<br>[ID: 15137924]"
      ],
      "text/plain": [
       "<IPython.core.display.HTML object>"
      ]
     },
     "metadata": {},
     "output_type": "display_data"
    },
    {
     "data": {
      "text/html": [
       "<strong>[The guanine content in specimens of house dust collected in the living quarters of healthy persons and of patients with atopic bronchial asthma].</strong><br>1997. Dotsenko EA, Prishchepa IM, Novikov DK, Dotsenko ML, Efremenko II<br>[ID: 9460872]"
      ],
      "text/plain": [
       "<IPython.core.display.HTML object>"
      ]
     },
     "metadata": {},
     "output_type": "display_data"
    },
    {
     "data": {
      "text/html": [
       "<strong><a href=http://dx.doi.org/10.1007/s10753-016-0380-9>The Role of the T lymphocytes and Remodeling in Asthma.</a></strong><br>2016. Amin K<br>[ID: 27221139]"
      ],
      "text/plain": [
       "<IPython.core.display.HTML object>"
      ]
     },
     "metadata": {},
     "output_type": "display_data"
    },
    {
     "data": {
      "text/html": [
       "<strong><a href=http://dx.doi.org/10.3389/fpsyg.2017.00926>Learning to Detect Triggers of Airway Symptoms: The Role of Illness Beliefs, Conceptual Categories and Actual Experience with Allergic Symptoms.</a></strong><br>2017. Janssens T, Caris E, Van Diest I, Van den Bergh O<br>[ID: 28638358]"
      ],
      "text/plain": [
       "<IPython.core.display.HTML object>"
      ]
     },
     "metadata": {},
     "output_type": "display_data"
    },
    {
     "data": {
      "text/html": [
       "<strong><a href=http://dx.doi.org/10.3892/ijmm.2012.956>The N363S and I559N single nucleotide polymorphisms of the h-GR/NR3C1 gene in patients with bronchial asthma.</a></strong><br>2012. Panek M, Pietras T, Antczak A, Fabijan A, Przemęcka M, Górski P, Kuna P, Szemraj J<br>[ID: 22469783]"
      ],
      "text/plain": [
       "<IPython.core.display.HTML object>"
      ]
     },
     "metadata": {},
     "output_type": "display_data"
    },
    {
     "data": {
      "text/html": [
       "<strong><a href=http://dx.doi.org/10.1007/s00108-017-0268-2>[Individualized treatment strategies for Clostridium difficile infections].</a></strong><br>2017. Solbach P, Dersch P, Bachmann O<br>[ID: 28589214]"
      ],
      "text/plain": [
       "<IPython.core.display.HTML object>"
      ]
     },
     "metadata": {},
     "output_type": "display_data"
    },
    {
     "data": {
      "text/html": [
       "<strong><a href=http://dx.doi.org/10.1016/j.clim.2014.07.002>In vitro evaluation of intestinal epithelial TLR activation in preventing food allergic responses.</a></strong><br>2014. de Kivit S, Tobin MC, DeMeo MT, Fox S, Garssen J, Forsyth CB, Keshavarzian A, Landay AL<br>[ID: 25058467]"
      ],
      "text/plain": [
       "<IPython.core.display.HTML object>"
      ]
     },
     "metadata": {},
     "output_type": "display_data"
    },
    {
     "data": {
      "text/html": [
       "<strong><a href=http://dx.doi.org/10.1177/175045891302301104>Effects of food colouring added to 2% chlorhexidine gluconate and 70% alcohol for surgical site antisepsis.</a></strong><br>2013. Chow J, Ng J, Pun A<br>[ID: 24312996]"
      ],
      "text/plain": [
       "<IPython.core.display.HTML object>"
      ]
     },
     "metadata": {},
     "output_type": "display_data"
    },
    {
     "data": {
      "text/html": [
       "<strong>Local humoral immunity in patients with pollen allergy.</strong><br>1990. Gurgenidze GV, Baraban EI, Gamkrelidze AG<br>[ID: 2088100]"
      ],
      "text/plain": [
       "<IPython.core.display.HTML object>"
      ]
     },
     "metadata": {},
     "output_type": "display_data"
    },
    {
     "data": {
      "text/html": [
       "<strong>Comparative estimation of general and local humoral immunity indicators in connection with local immunotherapeutic treatment.</strong><br>1990. Gurgenidze GV, Baraban EI, Gamkrelidze AG<br>[ID: 2088102]"
      ],
      "text/plain": [
       "<IPython.core.display.HTML object>"
      ]
     },
     "metadata": {},
     "output_type": "display_data"
    },
    {
     "data": {
      "text/html": [
       "<strong><a href=http://dx.doi.org/10.2500/aap.2007.28.2957>Chlamydophila pneumoniae infection status is dependent on the subtypes of asthma and allergy.</a></strong><br>2007. Nagy A, Keszei M, Kis Z, Budai I, Tölgyesi G, Ungvári I, Falus A, Szalai C<br>[ID: 17390759]"
      ],
      "text/plain": [
       "<IPython.core.display.HTML object>"
      ]
     },
     "metadata": {},
     "output_type": "display_data"
    },
    {
     "data": {
      "text/html": [
       "<strong>Effects of ozone on normal and potentially sensitive human subjects. Part II: Airway inflammation and responsiveness to ozone in nonsmokers and smokers.</strong><br>1997. Frampton MW, Morrow PE, Torres A, Voter KZ, Whitin JC, Cox C, Speers DM, Tsai Y, Utell MJ<br>[ID: 9387196]"
      ],
      "text/plain": [
       "<IPython.core.display.HTML object>"
      ]
     },
     "metadata": {},
     "output_type": "display_data"
    },
    {
     "data": {
      "text/html": [
       "<strong><a href=http://dx.doi.org/10.1182/blood.v97.11.3640>The effect of leukocyte-reduction method on the amount of human cytomegalovirus in blood products: a comparison of apheresis and filtration methods.</a></strong><br>2001. Dumont LJ, Luka J, VandenBroeke T, Whitley P, Ambruso DR, Elfath MD<br>[ID: 11369662]"
      ],
      "text/plain": [
       "<IPython.core.display.HTML object>"
      ]
     },
     "metadata": {},
     "output_type": "display_data"
    },
    {
     "data": {
      "text/html": [
       "<strong><a href=http://dx.doi.org/10.1002/(SICI)1096-8652(199611)53:3<158::AID-AJH2>3.0.CO;2-Y>Deficiency of plasma platelet-activating factor acetylhydrolase: roles of blood cells.</a></strong><br>1996. Yoshida H, Satoh K, Koyama M, Hiramoto M, Takamatsu S<br>[ID: 8895685]"
      ],
      "text/plain": [
       "<IPython.core.display.HTML object>"
      ]
     },
     "metadata": {},
     "output_type": "display_data"
    },
    {
     "data": {
      "text/html": [
       "<strong><a href=http://dx.doi.org/10.1002/cbic.201000322>Identification of IgE binding to Api g 1-derived peptides.</a></strong><br>2010. Ruppel E, Aÿ B, Boisguerin P, Dölle S, Worm M, Volkmer R<br>[ID: 20872390]"
      ],
      "text/plain": [
       "<IPython.core.display.HTML object>"
      ]
     },
     "metadata": {},
     "output_type": "display_data"
    },
    {
     "data": {
      "text/html": [
       "<strong><a href=http://dx.doi.org/10.1177/1942602X17715495>Latex Safe at School: A Student-Centered Approach.</a></strong><br>2017. Beierwaltes P, Schoessler S<br>[ID: 28777679]"
      ],
      "text/plain": [
       "<IPython.core.display.HTML object>"
      ]
     },
     "metadata": {},
     "output_type": "display_data"
    },
    {
     "data": {
      "text/html": [
       "<strong><a href=http://dx.doi.org/10.4049/jimmunol.178.2.1189>Functional analysis of birch pollen allergen Bet v 1-specific regulatory T cells.</a></strong><br>2007. Nagato T, Kobayashi H, Yanai M, Sato K, Aoki N, Oikawa K, Kimura S, Abe Y, Celis E, Harabuchi Y, Tateno M<br>[ID: 17202384]"
      ],
      "text/plain": [
       "<IPython.core.display.HTML object>"
      ]
     },
     "metadata": {},
     "output_type": "display_data"
    },
    {
     "data": {
      "text/html": [
       "<strong>Interleukin-13 gene polymorphisms at -1055 C/T and +2044 G/A positions in patients with squamous cell carcinoma of head and neck.</strong><br>2012. Khademi B, Hashemi SB, Ghaderi A, Shahrestani A, Mohammadianpanah M<br>[ID: 23108822]"
      ],
      "text/plain": [
       "<IPython.core.display.HTML object>"
      ]
     },
     "metadata": {},
     "output_type": "display_data"
    },
    {
     "data": {
      "text/html": [
       "<strong>Comparison of irritatant reactions between using lyophilized and commercial food allergen extracts in atopy patch tests in a normal population.</strong><br>2012. Boonyaviwat O, Pacharn P, Piboonpocanun O, Vichyanond P, Visitsunthorn N<br>[ID: 22830296]"
      ],
      "text/plain": [
       "<IPython.core.display.HTML object>"
      ]
     },
     "metadata": {},
     "output_type": "display_data"
    },
    {
     "data": {
      "text/html": [
       "<strong>[Stress and allergy].</strong><br>2004. Radosević-Vidacek B, Macan J, Kosćec A<br>[ID: 15285470]"
      ],
      "text/plain": [
       "<IPython.core.display.HTML object>"
      ]
     },
     "metadata": {},
     "output_type": "display_data"
    },
    {
     "data": {
      "text/html": [
       "<strong>[Food additives and genetically modified food--a risk for allergic patients?].</strong><br>1999. Wüthrich B<br>[ID: 10321121]"
      ],
      "text/plain": [
       "<IPython.core.display.HTML object>"
      ]
     },
     "metadata": {},
     "output_type": "display_data"
    },
    {
     "data": {
      "text/html": [
       "<strong><a href=http://dx.doi.org/10.1177/2333794X14552898>Particularities in a Child With Cashew Nut Allergy.</a></strong><br>2014. Soares J, Dias A, Peixoto S, Pereira A, Quaresma M<br>[ID: 27335909]"
      ],
      "text/plain": [
       "<IPython.core.display.HTML object>"
      ]
     },
     "metadata": {},
     "output_type": "display_data"
    },
    {
     "data": {
      "text/html": [
       "<strong>Evaluation of the nasal provocation test for its necessity in the diagnosis of nasal allergy to house dust mite.</strong><br>2006. Kirerleri E, Guler N, Tamay Z, Ones U<br>[ID: 17136876]"
      ],
      "text/plain": [
       "<IPython.core.display.HTML object>"
      ]
     },
     "metadata": {},
     "output_type": "display_data"
    },
    {
     "data": {
      "text/html": [
       "<strong>The specific binding of beta-adrenergic ligands and morphofunctional properties of erythrocytes in bronchial asthma.</strong><br>1993. Zhikharev S, Pertseva MN, Kuznetsova LA, Mineev VN, Yablonskaya VN, Bogdanova YuM<br>[ID: 8281328]"
      ],
      "text/plain": [
       "<IPython.core.display.HTML object>"
      ]
     },
     "metadata": {},
     "output_type": "display_data"
    },
    {
     "data": {
      "text/html": [
       "<strong>Family interaction and a supportive social network as salutogenic factors in childhood atopic illness.</strong><br>2002. Gustafsson PA, Kjellman NI, Björkstén B<br>[ID: 12000499]"
      ],
      "text/plain": [
       "<IPython.core.display.HTML object>"
      ]
     },
     "metadata": {},
     "output_type": "display_data"
    },
    {
     "data": {
      "text/html": [
       "<strong>Upper and lower airway pathology in young children with allergic- and non-allergic rhinitis.</strong><br>2011. Chawes BL<br>[ID: 21535990]"
      ],
      "text/plain": [
       "<IPython.core.display.HTML object>"
      ]
     },
     "metadata": {},
     "output_type": "display_data"
    },
    {
     "data": {
      "text/html": [
       "<strong><a href=http://dx.doi.org/10.1134/S0026898418040031>[Modification of Anti-Glycan IgG and IgM Profiles in Allergic Inflammation].</a></strong><br>2018. Butvilovskaya VI, Smoldovskaya OV, Feyzkhanova GU, Filippova MA, Pavlushkina LV, Voloshin SA, Rubina AY<br>[ID: 30113029]"
      ],
      "text/plain": [
       "<IPython.core.display.HTML object>"
      ]
     },
     "metadata": {},
     "output_type": "display_data"
    },
    {
     "data": {
      "text/html": [
       "<strong><a href=http://dx.doi.org/10.1034/j.1600-0536.2002.460202.x>Occupational protein contact dermatitis from spices in a butcher: a new presentation of the mugwort-spice syndrome.</a></strong><br>2002. Anliker MD, Borelli S, Wüthrich B<br>[ID: 11918598]"
      ],
      "text/plain": [
       "<IPython.core.display.HTML object>"
      ]
     },
     "metadata": {},
     "output_type": "display_data"
    },
    {
     "data": {
      "text/html": [
       "<strong>Comparison of nasal responsiveness to histamine, methacholine and phentolamine in allergic rhinitis patients and controls.</strong><br>1987. Gerth Van Wijk R, Dieges PH<br>[ID: 3325190]"
      ],
      "text/plain": [
       "<IPython.core.display.HTML object>"
      ]
     },
     "metadata": {},
     "output_type": "display_data"
    },
    {
     "data": {
      "text/html": [
       "<strong>IgG subclass antibodies to dietary antigens in atopic dermatitis.</strong><br>1989. Husby S, Schultz Larsen F, Svehag SE<br>[ID: 2800912]"
      ],
      "text/plain": [
       "<IPython.core.display.HTML object>"
      ]
     },
     "metadata": {},
     "output_type": "display_data"
    },
    {
     "data": {
      "text/html": [
       "<strong>[Polynuclear basophils, the key to allergic reactions. Modulations by chemokines].</strong><br>2000. Devouassoux G<br>[ID: 10951958]"
      ],
      "text/plain": [
       "<IPython.core.display.HTML object>"
      ]
     },
     "metadata": {},
     "output_type": "display_data"
    },
    {
     "data": {
      "text/html": [
       "<strong><a href=http://dx.doi.org/10.1016/j.appet.2019.104373>Food neophobia and pickiness among children and associations with socioenvironmental and cognitive factors.</a></strong><br>2019. Kutbi HA, Alhatmi AA, Alsulami MH, Alghamdi SS, Albagar SM, Mumena WA, Mosli RH<br>[ID: 31325473]"
      ],
      "text/plain": [
       "<IPython.core.display.HTML object>"
      ]
     },
     "metadata": {},
     "output_type": "display_data"
    },
    {
     "data": {
      "text/html": [
       "<strong><a href=http://dx.doi.org/10.3389/fimmu.2019.01543>Peripheral IgE Repertoires of Healthy Donors Carry Moderate Mutation Loads and Do Not Overlap With Other Isotypes.</a></strong><br>2019. Koning MT, Trollmann IJM, van Bergen CAM, Alvarez Saravia D, Navarrete MA, Kiełbasa SM, Veelken H<br>[ID: 31333671]"
      ],
      "text/plain": [
       "<IPython.core.display.HTML object>"
      ]
     },
     "metadata": {},
     "output_type": "display_data"
    },
    {
     "data": {
      "text/html": [
       "<strong><a href=http://dx.doi.org/10.1080/03007995.2016.1254602>Vitamin D levels in children affected by vernal keratoconjunctivitis.</a></strong><br>2017. Zicari AM, Cafarotti A, Occasi F, Lollobrigida V, Nebbioso M, Pecorella I, De Castro G, Spalice A, Loffredo L, Villa MP, Duse M<br>[ID: 27786545]"
      ],
      "text/plain": [
       "<IPython.core.display.HTML object>"
      ]
     },
     "metadata": {},
     "output_type": "display_data"
    },
    {
     "data": {
      "text/html": [
       "<strong>Sensitisation through breast milk?</strong><br>1997. Suomalainen H<br>[ID: 21781813]"
      ],
      "text/plain": [
       "<IPython.core.display.HTML object>"
      ]
     },
     "metadata": {},
     "output_type": "display_data"
    },
    {
     "data": {
      "text/html": [
       "<strong>[A method of determining allergic changes in leukocytes].</strong><br>1989. Morozov VL, Adambekov DA, Al'dzhambaeva ISh, Sokurenko LS<br>[ID: 2473269]"
      ],
      "text/plain": [
       "<IPython.core.display.HTML object>"
      ]
     },
     "metadata": {},
     "output_type": "display_data"
    },
    {
     "data": {
      "text/html": [
       "<strong><a href=http://dx.doi.org/10.4049/jimmunol.181.8.5386>XCL1 enhances regulatory activities of CD4+ CD25(high) CD127(low/-) T cells in human allergic asthma.</a></strong><br>2008. Nguyen KD, Fohner A, Booker JD, Dong C, Krensky AM, Nadeau KC<br>[ID: 18832695]"
      ],
      "text/plain": [
       "<IPython.core.display.HTML object>"
      ]
     },
     "metadata": {},
     "output_type": "display_data"
    },
    {
     "data": {
      "text/html": [
       "<strong><a href=http://dx.doi.org/10.1542/peds.2003-0651-F>Congenital aplastic anemia caused by mutations in the SBDS gene: a rare presentation of Shwachman-Diamond syndrome.</a></strong><br>2004. Kuijpers TW, Nannenberg E, Alders M, Bredius R, Hennekam RC<br>[ID: 15342903]"
      ],
      "text/plain": [
       "<IPython.core.display.HTML object>"
      ]
     },
     "metadata": {},
     "output_type": "display_data"
    },
    {
     "data": {
      "text/html": [
       "<strong><a href=http://dx.doi.org/10.1093/ajcp/64.3.297>Serum trypsin inhibitory capacity and pi phenotypes. II. Prevalence of alpha1-antitrypsin deficiency in an allergy population.</a></strong><br>1975. Ihrig J, Schwartz HJ, Rynbrandt DJ, Kleinerman J<br>[ID: 1080630]"
      ],
      "text/plain": [
       "<IPython.core.display.HTML object>"
      ]
     },
     "metadata": {},
     "output_type": "display_data"
    },
    {
     "data": {
      "text/html": [
       "<strong><a href=http://dx.doi.org/10.1016/s0091-6749(96)70288-9>Chemokines in seasonal allergic rhinitis.</a></strong><br>1996. Kuna P, Lazarovich M, Kaplan AP<br>[ID: 8568122]"
      ],
      "text/plain": [
       "<IPython.core.display.HTML object>"
      ]
     },
     "metadata": {},
     "output_type": "display_data"
    },
    {
     "data": {
      "text/html": [
       "<strong>[Regazell-Energen: bioactivator in tumor treatment? Documentation No. 26 D].</strong><br>1996. Hauser SP, Allewelt MC<br>[ID: 9026878]"
      ],
      "text/plain": [
       "<IPython.core.display.HTML object>"
      ]
     },
     "metadata": {},
     "output_type": "display_data"
    },
    {
     "data": {
      "text/html": [
       "<strong>[Comparison of the intradermal and prick tests for diagnosis of allergy in the dog].</strong><br>1991. Ballauf B<br>[ID: 1948991]"
      ],
      "text/plain": [
       "<IPython.core.display.HTML object>"
      ]
     },
     "metadata": {},
     "output_type": "display_data"
    },
    {
     "data": {
      "text/html": [
       "<strong><a href=http://dx.doi.org/10.1051/vetres:2006039>IgE and IgG antibodies in skin allergy of the horse.</a></strong><br>2006. Wagner B, Miller WH, Morgan EE, Hillegas JM, Erb HN, Leibold W, Antczak DF<br>[ID: 16973120]"
      ],
      "text/plain": [
       "<IPython.core.display.HTML object>"
      ]
     },
     "metadata": {},
     "output_type": "display_data"
    },
    {
     "data": {
      "text/html": [
       "<strong><a href=http://dx.doi.org/10.1016/s0022-3476(05)82872-0>Live attenuated varicella vaccine: evidence that the virus is attenuated and the importance of skin lesions in transmission of varicella-zoster virus. National Institute of Allergy and Infectious Diseases Varicella Vaccine Collaborative Study Group.</a></strong><br>1990. Tsolia M, Gershon AA, Steinberg SP, Gelb L<br>[ID: 2153790]"
      ],
      "text/plain": [
       "<IPython.core.display.HTML object>"
      ]
     },
     "metadata": {},
     "output_type": "display_data"
    },
    {
     "data": {
      "text/html": [
       "<strong><a href=http://dx.doi.org/10.1016/j.concog.2018.06.009>Multisensory integration, body representation and hyperactivity of the immune system.</a></strong><br>2018. Finotti G, Migliorati D, Costantini M<br>[ID: 29957448]"
      ],
      "text/plain": [
       "<IPython.core.display.HTML object>"
      ]
     },
     "metadata": {},
     "output_type": "display_data"
    },
    {
     "data": {
      "text/html": [
       "<strong><a href=http://dx.doi.org/10.1177/2333794X16636613>A Randomized Controlled Trial Assessing Growth of Infants Fed a 100% Whey Extensively Hydrolyzed Formula Compared With a Casein-Based Extensively Hydrolyzed Formula.</a></strong><br>2016. Fields D, Czerkies L, Sun S, Storm H, Saavedra J, Sorensen R<br>[ID: 27336009]"
      ],
      "text/plain": [
       "<IPython.core.display.HTML object>"
      ]
     },
     "metadata": {},
     "output_type": "display_data"
    },
    {
     "data": {
      "text/html": [
       "<strong><a href=http://dx.doi.org/10.18926/AMO/32219>Maximal expiratory flow-volume types in young subjects with past history of nasal allergy and bronchial asthma.</a></strong><br>1991. Meguro T, Ogata M<br>[ID: 2063693]"
      ],
      "text/plain": [
       "<IPython.core.display.HTML object>"
      ]
     },
     "metadata": {},
     "output_type": "display_data"
    },
    {
     "data": {
      "text/html": [
       "<strong><a href=http://dx.doi.org/10.3378/1534-6617(2008)80[65:LBWAAP]2.0.CO;2>Low birth weight and allergy: possible pleiotropic effect of ACP1.</a></strong><br>2008. Gloria-Bottini F, Bottini N, Magrini A, Renzetti G, Martinoli R, Bergamaschi A, Bottini E<br>[ID: 18505045]"
      ],
      "text/plain": [
       "<IPython.core.display.HTML object>"
      ]
     },
     "metadata": {},
     "output_type": "display_data"
    },
    {
     "data": {
      "text/html": [
       "<strong>[Basophil activation test in the diagnosis of allergy to medicines].</strong><br>2003. Sanz ML, García MC, Caballero MR, Diéguez I, Gamboa PM<br>[ID: 13679962]"
      ],
      "text/plain": [
       "<IPython.core.display.HTML object>"
      ]
     },
     "metadata": {},
     "output_type": "display_data"
    },
    {
     "data": {
      "text/html": [
       "<strong><a href=http://dx.doi.org/10.1038/bjc.1975.21>The enhancing influence of proteolysis on E rosette forming lymphocytes (T cells) in vivo and in vitro.</a></strong><br>1975. Holland PD, Browne O, Thornes RD<br>[ID: 1080669]"
      ],
      "text/plain": [
       "<IPython.core.display.HTML object>"
      ]
     },
     "metadata": {},
     "output_type": "display_data"
    },
    {
     "data": {
      "text/html": [
       "<strong><a href=http://dx.doi.org/10.1586/1744666X.2015.1058158>The role of sports and exercise in allergic disease: drawbacks and benefits.</a></strong><br>2015. Silva D, Moreira A<br>[ID: 26099040]"
      ],
      "text/plain": [
       "<IPython.core.display.HTML object>"
      ]
     },
     "metadata": {},
     "output_type": "display_data"
    },
    {
     "data": {
      "text/html": [
       "<strong><a href=http://dx.doi.org/10.1034/j.1600-0536.2003.00112.x>Comparative evaluation of Type 1 latex hypersensitivity in patients with chronic urticaria, rubber factory workers and healthy control subjects.</a></strong><br>2003. Piskin G, Akyol A, Uzar H, Tulek N, Boyvat A, Gurgey E<br>[ID: 12868968]"
      ],
      "text/plain": [
       "<IPython.core.display.HTML object>"
      ]
     },
     "metadata": {},
     "output_type": "display_data"
    },
    {
     "data": {
      "text/html": [
       "<strong><a href=http://dx.doi.org/10.1159/000356338>Supplementation with probiotics in the first 6 months of life did not protect against eczema and allergy in at-risk Asian infants: a 5-year follow-up.</a></strong><br>2014. Loo EX, Llanora GV, Lu Q, Aw MM, Lee BW, Shek LP<br>[ID: 24247661]"
      ],
      "text/plain": [
       "<IPython.core.display.HTML object>"
      ]
     },
     "metadata": {},
     "output_type": "display_data"
    },
    {
     "data": {
      "text/html": [
       "<strong>[Study of bacterial allergy in acute appendicitis by the method of leukocyte migration inhibition in vitro].</strong><br>1976. Shturich PI, Novikov DK, Adamenko GP<br>[ID: 785785]"
      ],
      "text/plain": [
       "<IPython.core.display.HTML object>"
      ]
     },
     "metadata": {},
     "output_type": "display_data"
    },
    {
     "data": {
      "text/html": [
       "<strong><a href=http://dx.doi.org/10.14503/THIJ-14-4487>Transient Cardiomyopathy and Quadriplegia Induced by Ephedrine Decongestant.</a></strong><br>2015. Snipelisky DF, Kurklinsky AK, Chirila R<br>[ID: 26664316]"
      ],
      "text/plain": [
       "<IPython.core.display.HTML object>"
      ]
     },
     "metadata": {},
     "output_type": "display_data"
    },
    {
     "data": {
      "text/html": [
       "<strong><a href=http://dx.doi.org/10.1111/all.12686>MACVIA-ARIA Sentinel NetworK for allergic rhinitis (MASK-rhinitis): the new generation guideline implementation.</a></strong><br>2015. Bousquet J, Schunemann HJ, Fonseca J, Samolinski B, Bachert C, Canonica GW, Casale T, Cruz AA, Demoly P, Hellings P, Valiulis A, Wickman M, Zuberbier T, Bosnic-Anticevitch S, Bedbrook A, Bergmann KC, Caimmi D, Dahl R, Fokkens WJ, Grisle I, ...<br>[ID: 26148220]"
      ],
      "text/plain": [
       "<IPython.core.display.HTML object>"
      ]
     },
     "metadata": {},
     "output_type": "display_data"
    },
    {
     "data": {
      "text/html": [
       "<strong><a href=http://dx.doi.org/10.1089/ped.2017.0826>Preventing Peanut Allergy.</a></strong><br>2018. Chen M, Welch M, Laubach S<br>[ID: 29588872]"
      ],
      "text/plain": [
       "<IPython.core.display.HTML object>"
      ]
     },
     "metadata": {},
     "output_type": "display_data"
    },
    {
     "data": {
      "text/html": [
       "<strong><a href=http://dx.doi.org/10.1111/bjd.15065>Skin absorption through atopic dermatitis skin: a systematic review.</a></strong><br>2017. Halling-Overgaard AS, Kezic S, Jakasa I, Engebretsen KA, Maibach H, Thyssen JP<br>[ID: 27639188]"
      ],
      "text/plain": [
       "<IPython.core.display.HTML object>"
      ]
     },
     "metadata": {},
     "output_type": "display_data"
    },
    {
     "data": {
      "text/html": [
       "<strong><a href=http://dx.doi.org/10.1111/all.12934>Viruses and bacteria in Th2-biased allergic airway disease.</a></strong><br>2016. Lan F, Zhang N, Gevaert E, Zhang L, Bachert C<br>[ID: 27188632]"
      ],
      "text/plain": [
       "<IPython.core.display.HTML object>"
      ]
     },
     "metadata": {},
     "output_type": "display_data"
    },
    {
     "data": {
      "text/html": [
       "<strong><a href=http://dx.doi.org/10.1038/ismej.2015.151>Lactobacillus rhamnosus GG-supplemented formula expands butyrate-producing bacterial strains in food allergic infants.</a></strong><br>2016. Berni Canani R, Sangwan N, Stefka AT, Nocerino R, Paparo L, Aitoro R, Calignano A, Khan AA, Gilbert JA, Nagler CR<br>[ID: 26394008]"
      ],
      "text/plain": [
       "<IPython.core.display.HTML object>"
      ]
     },
     "metadata": {},
     "output_type": "display_data"
    },
    {
     "data": {
      "text/html": [
       "<strong>May nasal hyperreactivity be a sequela of recurrent common cold?</strong><br>2011. Cassano M, Cassano P, Ciprandi G<br>[ID: 21880220]"
      ],
      "text/plain": [
       "<IPython.core.display.HTML object>"
      ]
     },
     "metadata": {},
     "output_type": "display_data"
    },
    {
     "data": {
      "text/html": [
       "<strong><a href=http://dx.doi.org/10.1016/j.radcr.2017.01.017>Carbon dioxide angiography and arterial embolization could successfully control postpartum uterine hemorrhage for the patient with hypersensitivity to iodine compound.</a></strong><br>2017. Kawashita S, Kaneuchi M, Nakayama D, Fuchi N, Murakami Y, Miura K, Masuzaki H<br>[ID: 28491165]"
      ],
      "text/plain": [
       "<IPython.core.display.HTML object>"
      ]
     },
     "metadata": {},
     "output_type": "display_data"
    },
    {
     "data": {
      "text/html": [
       "<strong>IgE antibodies against Neisseria flavescens.</strong><br>1992. Alonso A, Rodríguez SM, Marino GA, Scavini LM, Pionetti CH, Lewkowicz JF<br>[ID: 1342880]"
      ],
      "text/plain": [
       "<IPython.core.display.HTML object>"
      ]
     },
     "metadata": {},
     "output_type": "display_data"
    },
    {
     "data": {
      "text/html": [
       "<strong><a href=http://dx.doi.org/10.1159/000276454>Nasal mucociliary clearance in patients with upper and lower respiratory diseases.</a></strong><br>1993. Ogino S, Nose M, Irifune M, Kikumori H, Igarashi T<br>[ID: 8265121]"
      ],
      "text/plain": [
       "<IPython.core.display.HTML object>"
      ]
     },
     "metadata": {},
     "output_type": "display_data"
    },
    {
     "data": {
      "text/html": [
       "<strong><a href=http://dx.doi.org/10.1080/02770900601031789>Relationship between asthma and irritable bowel syndrome: role of food allergy.</a></strong><br>2006. Ozol D, Uz E, Bozalan R, Türkay C, Yildirim Z<br>[ID: 17169830]"
      ],
      "text/plain": [
       "<IPython.core.display.HTML object>"
      ]
     },
     "metadata": {},
     "output_type": "display_data"
    },
    {
     "data": {
      "text/html": [
       "<strong><a href=http://dx.doi.org/10.1186/s13223-015-0102-0>The human microbiome, asthma, and allergy.</a></strong><br>2015. Riiser A<br>[ID: 26664362]"
      ],
      "text/plain": [
       "<IPython.core.display.HTML object>"
      ]
     },
     "metadata": {},
     "output_type": "display_data"
    },
    {
     "data": {
      "text/html": [
       "<strong><a href=http://dx.doi.org/10.1016/j.appet.2011.06.007>Exploring quality of life in families of children living with and without a severe food allergy.</a></strong><br>2011. Valentine AZ, Knibb RC<br>[ID: 21708202]"
      ],
      "text/plain": [
       "<IPython.core.display.HTML object>"
      ]
     },
     "metadata": {},
     "output_type": "display_data"
    },
    {
     "data": {
      "text/html": [
       "<strong>House dust mite antigen exposure of patients with atopic dermatitis of psoriasis.</strong><br>1998. Hansen SK, Deleuran M, Jøhnke H, Thestrup-Pedersen K<br>[ID: 9534894]"
      ],
      "text/plain": [
       "<IPython.core.display.HTML object>"
      ]
     },
     "metadata": {},
     "output_type": "display_data"
    },
    {
     "data": {
      "text/html": [
       "<strong><a href=http://dx.doi.org/10.1038/srep43017>Elevated expression of placental growth factor is associated with airway-wall vascular remodelling and thickening in smokers with asthma.</a></strong><br>2017. Wu D, Lai T, Yuan Y, Chen M, Xia J, Li W, Pan G, Yuan B, Lv Q, Li Y, Li D, Wu B<br>[ID: 28220848]"
      ],
      "text/plain": [
       "<IPython.core.display.HTML object>"
      ]
     },
     "metadata": {},
     "output_type": "display_data"
    },
    {
     "data": {
      "text/html": [
       "<strong><a href=http://dx.doi.org/10.23822/EurAnnACI.1764-1489.46>Vitamin D receptor variants and uncontrolled asthma.</a></strong><br>2018. Hutchinson K, Kerley CP, Faul J, Greally P, Coghlan D, Louw M, Elnazir B, Rochev Y<br>[ID: 29384117]"
      ],
      "text/plain": [
       "<IPython.core.display.HTML object>"
      ]
     },
     "metadata": {},
     "output_type": "display_data"
    },
    {
     "data": {
      "text/html": [
       "<strong>Tetanus toxoid IgE may be useful in predicting allergy during childhood.</strong><br>2012. Ciprandi G, De Amici M, Quaglini S, Labò E, Castellazzi AM, Miraglia Del Giudice M, Marseglia A, Bianchi L, Moratti R, Marseglia GL, Workgroup \"Allergy project\".<br>[ID: 22691259]"
      ],
      "text/plain": [
       "<IPython.core.display.HTML object>"
      ]
     },
     "metadata": {},
     "output_type": "display_data"
    },
    {
     "data": {
      "text/html": [
       "<strong><a href=http://dx.doi.org/10.1111/all.12017>House dust mite allergic airway inflammation facilitates neosensitization to inhaled allergen in mice.</a></strong><br>2012. van Rijt LS, Logiantara A, Utsch L, Canbaz D, Boon L, van Ree R<br>[ID: 22994367]"
      ],
      "text/plain": [
       "<IPython.core.display.HTML object>"
      ]
     },
     "metadata": {},
     "output_type": "display_data"
    },
    {
     "data": {
      "text/html": [
       "<strong><a href=http://dx.doi.org/10.1111/j.1398-9995.1992.tb02380.x>IgE levels in faecal extracts of patients with food allergy.</a></strong><br>1992. Sasai K, Furukawa S, Sugawara T, Kaneko K, Baba M, Yabuta K<br>[ID: 1285567]"
      ],
      "text/plain": [
       "<IPython.core.display.HTML object>"
      ]
     },
     "metadata": {},
     "output_type": "display_data"
    },
    {
     "data": {
      "text/html": [
       "<strong><a href=http://dx.doi.org/10.1007/bf00454413>Ciliary activity in patients with nasal allergies.</a></strong><br>1985. Ohashi Y, Nakai Y, Kihara S, Ikeoka H, Takano H, Imoto T<br>[ID: 4062661]"
      ],
      "text/plain": [
       "<IPython.core.display.HTML object>"
      ]
     },
     "metadata": {},
     "output_type": "display_data"
    },
    {
     "data": {
      "text/html": [
       "<strong>[IgE, IgG1 and IgG4 antibodies against bodily and fecal extracts of Dermatophagoides farinae].</strong><br>1993. Yasumatsu Y<br>[ID: 8347091]"
      ],
      "text/plain": [
       "<IPython.core.display.HTML object>"
      ]
     },
     "metadata": {},
     "output_type": "display_data"
    },
    {
     "data": {
      "text/html": [
       "<strong><a href=http://dx.doi.org/10.1034/j.1399-3003.2000.15e07.x>Combined use of exhaled nitric oxide and airway hyperresponsiveness in characterizing asthma in a large population survey.</a></strong><br>2000. Henriksen AH, Lingaas-Holmen T, Sue-Chu M, Bjermer L<br>[ID: 10853848]"
      ],
      "text/plain": [
       "<IPython.core.display.HTML object>"
      ]
     },
     "metadata": {},
     "output_type": "display_data"
    },
    {
     "data": {
      "text/html": [
       "<strong><a href=http://dx.doi.org/10.3390/nu11010087>Role of Milk-Derived Opioid Peptides and Proline Dipeptidyl Peptidase-4 in Autism Spectrum Disorders.</a></strong><br>2019. Jarmołowska B, Bukało M, Fiedorowicz E, Cieślińska A, Kordulewska NK, Moszyńska M, Świątecki A, Kostyra E<br>[ID: 30621149]"
      ],
      "text/plain": [
       "<IPython.core.display.HTML object>"
      ]
     },
     "metadata": {},
     "output_type": "display_data"
    },
    {
     "data": {
      "text/html": [
       "<strong>Implication of gut microbiota in human health.</strong><br>2014. Khan I, Yasir M, Azhar EI, Kumosani T, Barbour EK, Bibi F, Kamal MA<br>[ID: 25345506]"
      ],
      "text/plain": [
       "<IPython.core.display.HTML object>"
      ]
     },
     "metadata": {},
     "output_type": "display_data"
    },
    {
     "data": {
      "text/html": [
       "<strong><a href=http://dx.doi.org/10.3909/riu0769>Surgical solution to an intracorporeal nickel allergy.</a></strong><br>2017. Stamm A, Kozlowski P, Brandenberger J<br>[ID: 29302245]"
      ],
      "text/plain": [
       "<IPython.core.display.HTML object>"
      ]
     },
     "metadata": {},
     "output_type": "display_data"
    },
    {
     "data": {
      "text/html": [
       "<strong><a href=http://dx.doi.org/10.1093/infdis/173.2.330>A dose-ranging study of a prototype synthetic HIV-1MN V3 branched peptide vaccine. The National Institute of Allergy and Infectious Diseases AIDS Vaccine Evaluation Group.</a></strong><br>1996. Gorse GJ, Keefer MC, Belshe RB, Matthews TJ, Forrest BD, Hsieh RH, Koff WC, Hanson CV, Dolin R, Weinhold KJ, Frey SE, Ketter N, Fast PE<br>[ID: 8568293]"
      ],
      "text/plain": [
       "<IPython.core.display.HTML object>"
      ]
     },
     "metadata": {},
     "output_type": "display_data"
    },
    {
     "data": {
      "text/html": [
       "<strong><a href=http://dx.doi.org/10.1159/000235185>Elevated concentrations of salivary secretory immunoglobulin A anti-cow's milk protein in newborns at risk of allergy.</a></strong><br>1990. Renz H, Vestner R, Petzoldt S, Brehler C, Prinz H, Rieger CH<br>[ID: 2276842]"
      ],
      "text/plain": [
       "<IPython.core.display.HTML object>"
      ]
     },
     "metadata": {},
     "output_type": "display_data"
    },
    {
     "data": {
      "text/html": [
       "<strong><a href=http://dx.doi.org/10.1016/0091-6749(91)90252-j>Sensitization to Blomia tropicalis and Lepidoglyphus destructor in Dermatophagoides spp-allergic individuals.</a></strong><br>1991. Puerta Llerena L, Fernández-Caldas E, Caraballo Gracia LR, Lockey RF<br>[ID: 1744365]"
      ],
      "text/plain": [
       "<IPython.core.display.HTML object>"
      ]
     },
     "metadata": {},
     "output_type": "display_data"
    },
    {
     "data": {
      "text/html": [
       "<strong>Measurement of intestinal permeability to mannitol and lactulose as a means of diagnosing food allergy and evaluating therapeutic effectiveness of disodium cromoglycate.</strong><br>1987. Andre C, Andre F, Colin L, Cavagna S<br>[ID: 3120628]"
      ],
      "text/plain": [
       "<IPython.core.display.HTML object>"
      ]
     },
     "metadata": {},
     "output_type": "display_data"
    },
    {
     "data": {
      "text/html": [
       "<strong>Metal-specific lymphocytes: biomarkers of sensitivity in man.</strong><br>1999. Stejskal VD, Danersund A, Lindvall A, Hudecek R, Nordman V, Yaqob A, Mayer W, Bieger W, Lindh U<br>[ID: 11460087]"
      ],
      "text/plain": [
       "<IPython.core.display.HTML object>"
      ]
     },
     "metadata": {},
     "output_type": "display_data"
    },
    {
     "data": {
      "text/html": [
       "<strong><a href=http://dx.doi.org/10.1016/s0091-6749(95)70235-0>Minimal persistent inflammation is present at mucosal level in patients with asymptomatic rhinitis and mite allergy.</a></strong><br>1995. Ciprandi G, Buscaglia S, Pesce G, Pronzato C, Ricca V, Parmiani S, Bagnasco M, Canonica GW<br>[ID: 8543756]"
      ],
      "text/plain": [
       "<IPython.core.display.HTML object>"
      ]
     },
     "metadata": {},
     "output_type": "display_data"
    },
    {
     "data": {
      "text/html": [
       "<strong><a href=http://dx.doi.org/10.1097/MBC.0b013e32830b287d>The urokinase system in patients with intermittent and persistent allergic rhinitis.</a></strong><br>2008. Kasperska-Zajac A, Brzoza Z, Rogala B<br>[ID: 18832910]"
      ],
      "text/plain": [
       "<IPython.core.display.HTML object>"
      ]
     },
     "metadata": {},
     "output_type": "display_data"
    },
    {
     "data": {
      "text/html": [
       "<strong>The relationship between air-borne fungal spores and Dermatophagoides pteronyssinus in the house dust.</strong><br>1981. Chirilă M, Capetti E, Bănescu O<br>[ID: 7233050]"
      ],
      "text/plain": [
       "<IPython.core.display.HTML object>"
      ]
     },
     "metadata": {},
     "output_type": "display_data"
    },
    {
     "data": {
      "text/html": [
       "<strong><a href=http://dx.doi.org/10.1155/2015/248302>Culture Negative Listeria monocytogenes Meningitis Resulting in Hydrocephalus and Severe Neurological Sequelae in a Previously Healthy Immunocompetent Man with Penicillin Allergy.</a></strong><br>2015. Gaini S, Karlsen GH, Nandy A, Madsen H, Christiansen DH, Á Borg S<br>[ID: 26697245]"
      ],
      "text/plain": [
       "<IPython.core.display.HTML object>"
      ]
     },
     "metadata": {},
     "output_type": "display_data"
    },
    {
     "data": {
      "text/html": [
       "<strong><a href=http://dx.doi.org/10.1002/jcp.25249>Inflammation Controls Sensitivity of Human and Mouse Intestinal Epithelial Cells to Galectin-1.</a></strong><br>2016. Muglia CI, Gobbi RP, Smaldini P, Delgado ML, Candia M, Zanuzzi C, Sambuelli A, Rocca A, Toscano MA, Rabinovich GA, Docena GH<br>[ID: 26566180]"
      ],
      "text/plain": [
       "<IPython.core.display.HTML object>"
      ]
     },
     "metadata": {},
     "output_type": "display_data"
    },
    {
     "data": {
      "text/html": [
       "<strong><a href=http://dx.doi.org/10.1111/j.1365-3083.1981.tb00130.x>The specificity of a nickel sulphate reaction in vitro: a family study and a study of chromium-allergic subjects.</a></strong><br>1981. Silvennoinen-Kassinen S<br>[ID: 7233093]"
      ],
      "text/plain": [
       "<IPython.core.display.HTML object>"
      ]
     },
     "metadata": {},
     "output_type": "display_data"
    },
    {
     "data": {
      "text/html": [
       "<strong><a href=http://dx.doi.org/10.1111/j.1399-3038.2009.00892.x>Urinary nitric oxide excretion in infants with eczema.</a></strong><br>2010. Devenney I, Norrman G, Forslund T, Fälth-Magnusson K, Sundqvist T<br>[ID: 19725898]"
      ],
      "text/plain": [
       "<IPython.core.display.HTML object>"
      ]
     },
     "metadata": {},
     "output_type": "display_data"
    },
    {
     "data": {
      "text/html": [
       "<strong>Monograph 13. The interrelationships between the asthmatic child's dependency behavior, his perception of his illness, and his mother's perception of his illness.</strong><br>1983. Khampalikit S<br>[ID: 6561364]"
      ],
      "text/plain": [
       "<IPython.core.display.HTML object>"
      ]
     },
     "metadata": {},
     "output_type": "display_data"
    },
    {
     "data": {
      "text/html": [
       "<strong><a href=http://dx.doi.org/10.1002/cbf.3207>Allergen-specific immune response suppresses interleukin 10 expression in B cells via increasing micro-RNA-17-92 cluster.</a></strong><br>2016. Geng XR, Qiu SQ, Yang LT, Liu ZQ, Yang G, Liu JQ, Zeng L, Li XX, Mo LH, Liu ZG, Yang PC<br>[ID: 27491928]"
      ],
      "text/plain": [
       "<IPython.core.display.HTML object>"
      ]
     },
     "metadata": {},
     "output_type": "display_data"
    },
    {
     "data": {
      "text/html": [
       "<strong>T-cell signal transduction in children with cow's milk allergy -- increased MAP kinase activation in patients with acute symptoms of cow's milk allergy.</strong><br>2003. Osterlund P, von Willebrand M, Andersson LC, Suomalainen H<br>[ID: 12787294]"
      ],
      "text/plain": [
       "<IPython.core.display.HTML object>"
      ]
     },
     "metadata": {},
     "output_type": "display_data"
    },
    {
     "data": {
      "text/html": [
       "<strong>Left-handedness in asthmatic children.</strong><br>2003. Krommydas G, Gourgoulianis KI, Andreou G, Molyvdas PA<br>[ID: 12787305]"
      ],
      "text/plain": [
       "<IPython.core.display.HTML object>"
      ]
     },
     "metadata": {},
     "output_type": "display_data"
    },
    {
     "data": {
      "text/html": [
       "<strong><a href=http://dx.doi.org/10.1007/s004310050758>Natural rubber latex allergy: prevalence and risk factors in patients with spina bifida compared with atopic children and controls.</a></strong><br>1998. Cremer R, Hoppe A, Korsch E, Kleine-Diepenbruck U, Bläker F<br>[ID: 9461356]"
      ],
      "text/plain": [
       "<IPython.core.display.HTML object>"
      ]
     },
     "metadata": {},
     "output_type": "display_data"
    },
    {
     "data": {
      "text/html": [
       "<strong><a href=http://dx.doi.org/10.1128/aac.37.10.2139>Vancomycin skin tests and prediction of \"red man syndrome\" in healthy volunteers.</a></strong><br>1993. Polk RE, Israel D, Wang J, Venitz J, Miller J, Stotka J<br>[ID: 8257136]"
      ],
      "text/plain": [
       "<IPython.core.display.HTML object>"
      ]
     },
     "metadata": {},
     "output_type": "display_data"
    },
    {
     "data": {
      "text/html": [
       "<strong>Serum IgE in infants and influence of type of feeding.</strong><br>1980. Juto P, Björkstén B<br>[ID: 7192187]"
      ],
      "text/plain": [
       "<IPython.core.display.HTML object>"
      ]
     },
     "metadata": {},
     "output_type": "display_data"
    },
    {
     "data": {
      "text/html": [
       "<strong>Population and family studies to demonstrate Ir genes: HLA haplotype in atopic allergy.</strong><br>1977. Dasgupta A, Misri N, Bala S<br>[ID: 327293]"
      ],
      "text/plain": [
       "<IPython.core.display.HTML object>"
      ]
     },
     "metadata": {},
     "output_type": "display_data"
    },
    {
     "data": {
      "text/html": [
       "<strong>[Red soft coral-induced allergic symptoms observed in spiny lobster fishermen].</strong><br>1990. Onizuka R, Inoue K, Kamiya H<br>[ID: 1973892]"
      ],
      "text/plain": [
       "<IPython.core.display.HTML object>"
      ]
     },
     "metadata": {},
     "output_type": "display_data"
    },
    {
     "data": {
      "text/html": [
       "<strong><a href=http://dx.doi.org/10.1093/intimm/dxn058>Recombinant surfactant protein-D selectively increases apoptosis in eosinophils of allergic asthmatics and enhances uptake of apoptotic eosinophils by macrophages.</a></strong><br>2008. Mahajan L, Madan T, Kamal N, Singh VK, Sim RB, Telang SD, Ramchand CN, Waters P, Kishore U, Sarma PU<br>[ID: 18628238]"
      ],
      "text/plain": [
       "<IPython.core.display.HTML object>"
      ]
     },
     "metadata": {},
     "output_type": "display_data"
    },
    {
     "data": {
      "text/html": [
       "<strong><a href=http://dx.doi.org/10.1038/sj.gene.6363872>Polymorphism in the STAT6 gene encodes risk for nut allergy.</a></strong><br>2002. Amoli MM, Hand S, Hajeer AH, Jones KP, Rolf S, Sting C, Davies BH, Ollier WE<br>[ID: 12058257]"
      ],
      "text/plain": [
       "<IPython.core.display.HTML object>"
      ]
     },
     "metadata": {},
     "output_type": "display_data"
    },
    {
     "data": {
      "text/html": [
       "<strong><a href=http://dx.doi.org/10.1186/2045-7022-3-6>Inability to detect significant absorption of immunoreactive soya protein in healthy adults may be relevant to its weak allergenicity.</a></strong><br>2013. Lund CM, Dirks CG, Pedersen MH, Jensen BM, Poulsen LK<br>[ID: 23379604]"
      ],
      "text/plain": [
       "<IPython.core.display.HTML object>"
      ]
     },
     "metadata": {},
     "output_type": "display_data"
    },
    {
     "data": {
      "text/html": [
       "<strong><a href=http://dx.doi.org/10.1159/000485120>Elderly-Onset Neuromyelitis Optica Spectrum Disorder with Pre-Existing Prednisone Allergy.</a></strong><br>2018. Hollen C, Suhaib O, Farrow A, Sidorov E<br>[ID: 29515420]"
      ],
      "text/plain": [
       "<IPython.core.display.HTML object>"
      ]
     },
     "metadata": {},
     "output_type": "display_data"
    },
    {
     "data": {
      "text/html": [
       "<strong><a href=http://dx.doi.org/10.1007/bf02222197>HIV antigen stimulates basophil leukocytes from AIDS patients to release histamine due to type I allergy.</a></strong><br>1989. Pedersen M, Nielsen CM, Permin H, Norn S<br>[ID: 2473633]"
      ],
      "text/plain": [
       "<IPython.core.display.HTML object>"
      ]
     },
     "metadata": {},
     "output_type": "display_data"
    },
    {
     "data": {
      "text/html": [
       "<strong><a href=http://dx.doi.org/10.1111/all.12331>Identification of human tear fluid biomarkers in vernal keratoconjunctivitis using iTRAQ quantitative proteomics.</a></strong><br>2014. Leonardi A, Palmigiano A, Mazzola EA, Messina A, Milazzo EM, Bortolotti M, Garozzo D<br>[ID: 24329893]"
      ],
      "text/plain": [
       "<IPython.core.display.HTML object>"
      ]
     },
     "metadata": {},
     "output_type": "display_data"
    },
    {
     "data": {
      "text/html": [
       "<strong>Chemokine RANTES in atopic dermatitis.</strong><br>1999. Glück J, Rogala B<br>[ID: 10608293]"
      ],
      "text/plain": [
       "<IPython.core.display.HTML object>"
      ]
     },
     "metadata": {},
     "output_type": "display_data"
    },
    {
     "data": {
      "text/html": [
       "<strong><a href=http://dx.doi.org/10.3109/08923973.2010.486035>Fecal calprotectin (FC) in newborns: is it a predictive marker of gastrointestinal and/or allergic disease?</a></strong><br>2011. Baldassarre ME, Fanelli M, Lasorella ML, Laneve A, Grosso R, Falcone MR, Laforgia N<br>[ID: 20602542]"
      ],
      "text/plain": [
       "<IPython.core.display.HTML object>"
      ]
     },
     "metadata": {},
     "output_type": "display_data"
    },
    {
     "data": {
      "text/html": [
       "<strong><a href=http://dx.doi.org/10.1002/fsn3.147>A proprietary blend of quail egg for the attenuation of nasal provocation with a standardized allergenic challenge: a randomized, double-blind, placebo-controlled study.</a></strong><br>2014. Benichou AC, Armanet M, Bussière A, Chevreau N, Cardot JM, Tétard J<br>[ID: 25493182]"
      ],
      "text/plain": [
       "<IPython.core.display.HTML object>"
      ]
     },
     "metadata": {},
     "output_type": "display_data"
    },
    {
     "data": {
      "text/html": [
       "<strong><a href=http://dx.doi.org/10.1186/s12967-017-1154-3>Stability of pro- and anti-inflammatory immune biomarkers for human cohort studies.</a></strong><br>2017. Graham C, Chooniedass R, Stefura WP, Lotoski L, Lopez P, Befus AD, Becker AB, HayGlass KT<br>[ID: 28253888]"
      ],
      "text/plain": [
       "<IPython.core.display.HTML object>"
      ]
     },
     "metadata": {},
     "output_type": "display_data"
    },
    {
     "data": {
      "text/html": [
       "<strong>Suppressive effects of histamine skin reactivity by a nonsedating antihistamine-mequitazine.</strong><br>1991. Vichyanond P, Jongpanichkultorn S, Aranyanark N, Tuchinda M<br>[ID: 1687238]"
      ],
      "text/plain": [
       "<IPython.core.display.HTML object>"
      ]
     },
     "metadata": {},
     "output_type": "display_data"
    },
    {
     "data": {
      "text/html": [
       "<strong>Genetic aspect of venom allergy: association with HLA class I and class II antigens.</strong><br>2010. Karakis GP, Sin B, Tutkak H, Kose K, Misirligil Z<br>[ID: 20684489]"
      ],
      "text/plain": [
       "<IPython.core.display.HTML object>"
      ]
     },
     "metadata": {},
     "output_type": "display_data"
    },
    {
     "data": {
      "text/html": [
       "<strong>Cow's milk allergy in multiple sclerosis patients.</strong><br>2013. Ashtari F, Jamshidi F, Shoormasti RS, Pourpak Z, Akbari M<br>[ID: 23961290]"
      ],
      "text/plain": [
       "<IPython.core.display.HTML object>"
      ]
     },
     "metadata": {},
     "output_type": "display_data"
    },
    {
     "data": {
      "text/html": [
       "<strong><a href=http://dx.doi.org/10.2174/1381612820666140314115505>Systems medicine approaches for the definition of complex phenotypes in chronic diseases and ageing. From concept to implementation and policies.</a></strong><br>2014. Bousquet J, Jorgensen C, Dauzat M, Cesario A, Camuzat T, Bourret R, Best N, Anto JM, Abecassis F, Aubas P, Avignon A, Badin M, Bedbrook A, Blain H, Bourdin A, Bringer J, Camu W, Cayla G, Costa DJ, Courtet P, ...<br>[ID: 24641234]"
      ],
      "text/plain": [
       "<IPython.core.display.HTML object>"
      ]
     },
     "metadata": {},
     "output_type": "display_data"
    },
    {
     "data": {
      "text/html": [
       "<strong><a href=http://dx.doi.org/10.1016/j.clim.2013.10.003>Human immunoglobulin constant heavy G chain (IGHG) (Fcγ) (GM) genes, defining innate variants of IgG molecules and B cells, have impact on disease and therapy.</a></strong><br>2013. Oxelius VA, Pandey JP<br>[ID: 24239836]"
      ],
      "text/plain": [
       "<IPython.core.display.HTML object>"
      ]
     },
     "metadata": {},
     "output_type": "display_data"
    },
    {
     "data": {
      "text/html": [
       "<strong><a href=http://dx.doi.org/10.1002/jat.3217>The toxic effects of indoor atmospheric fine particulate matter collected from allergic and non-allergic families in Wuhan on mouse peritoneal macrophages.</a></strong><br>2016. Yan B, Li J, Guo J, Ma P, Wu Z, Ling Z, Guo H, Hiroshi Y, Yanagi U, Yang X, Zhu S, Chen M<br>[ID: 26304222]"
      ],
      "text/plain": [
       "<IPython.core.display.HTML object>"
      ]
     },
     "metadata": {},
     "output_type": "display_data"
    },
    {
     "data": {
      "text/html": [
       "<strong><a href=http://dx.doi.org/10.1111/pai.12739>Timing of food introduction and development of food sensitization in a prospective birth cohort.</a></strong><br>2017. Tran MM, Lefebvre DL, Dai D, Dharma C, Subbarao P, Lou W, Azad MB, Becker AB, Mandhane PJ, Turvey SE, Sears MR, CHILD Study Investigators.<br>[ID: 28557044]"
      ],
      "text/plain": [
       "<IPython.core.display.HTML object>"
      ]
     },
     "metadata": {},
     "output_type": "display_data"
    },
    {
     "data": {
      "text/html": [
       "<strong><a href=http://dx.doi.org/10.1111/j.1398-9995.1995.tb02478.x>Proteinase content of mast cells of nasal mucosa; effects of natural allergen exposure and of local corticosteroid treatment.</a></strong><br>1995. Juliusson S, Aldenborg F, Enerbäck L<br>[ID: 7741184]"
      ],
      "text/plain": [
       "<IPython.core.display.HTML object>"
      ]
     },
     "metadata": {},
     "output_type": "display_data"
    },
    {
     "data": {
      "text/html": [
       "<strong>[Clinical performance of the basophil degranulation test. Correlation with other diagnostic technics in allergy (II)].</strong><br>1986. Román Pérez F, Guerra Pasadas F, Urquia M, Berlanga Cortés JA, Sánchez Guijo P<br>[ID: 2432768]"
      ],
      "text/plain": [
       "<IPython.core.display.HTML object>"
      ]
     },
     "metadata": {},
     "output_type": "display_data"
    },
    {
     "data": {
      "text/html": [
       "<strong>Prevention of food allergy in the real life.</strong><br>2014. Tham EH, Rajakulendran M, Shek LP<br>[ID: 24641286]"
      ],
      "text/plain": [
       "<IPython.core.display.HTML object>"
      ]
     },
     "metadata": {},
     "output_type": "display_data"
    },
    {
     "data": {
      "text/html": [
       "<strong><a href=http://dx.doi.org/10.1016/j.vetimm.2011.07.009>Immunostimulation of bronchoalveolar lavage cells from recurrent airway obstruction-affected horses by different CpG-classes bound to gelatin nanoparticles.</a></strong><br>2011. Klier J, May A, Fuchs S, Schillinger U, Plank C, Winter G, Gehlen H, Coester C<br>[ID: 21831455]"
      ],
      "text/plain": [
       "<IPython.core.display.HTML object>"
      ]
     },
     "metadata": {},
     "output_type": "display_data"
    },
    {
     "data": {
      "text/html": [
       "<strong><a href=http://dx.doi.org/10.4049/jimmunol.1401185>Cutting edge: Genetic variation in TLR1 is associated with Pam3CSK4-induced effector T cell resistance to regulatory T cell suppression.</a></strong><br>2014. Mikacenic C, Schneider A, Radella F, Buckner JH, Wurfel MM<br>[ID: 25378593]"
      ],
      "text/plain": [
       "<IPython.core.display.HTML object>"
      ]
     },
     "metadata": {},
     "output_type": "display_data"
    },
    {
     "data": {
      "text/html": [
       "<strong><a href=http://dx.doi.org/10.1016/j.bbi.2017.10.007>Maternal depressive symptoms linked to reduced fecal Immunoglobulin A concentrations in infants.</a></strong><br>2018. Kang LJ, Koleva PT, Field CJ, Giesbrecht GF, Wine E, Becker AB, Mandhane PJ, Turvey SE, Subbarao P, Sears MR, Scott JA, Kozyrskyj AL, CHILD Study Investigators.<br>[ID: 29032226]"
      ],
      "text/plain": [
       "<IPython.core.display.HTML object>"
      ]
     },
     "metadata": {},
     "output_type": "display_data"
    },
    {
     "data": {
      "text/html": [
       "<strong>[IgE-response after administration of pandemic vaccine strain A/California/7/2009 (H1N1)v].</strong><br>2012. Kostinov MP, Terkacheva OA, Zhirova SN, Cherdanchev AP, Erofeeva MK<br>[ID: 23240499]"
      ],
      "text/plain": [
       "<IPython.core.display.HTML object>"
      ]
     },
     "metadata": {},
     "output_type": "display_data"
    },
    {
     "data": {
      "text/html": [
       "<strong><a href=http://dx.doi.org/10.1159/000331326>Distinctive blood eosinophilic phenotypes and cytokine patterns in eosinophilic esophagitis, inflammatory bowel disease and airway allergy.</a></strong><br>2011. Johnsson M, Bove M, Bergquist H, Olsson M, Fornwall S, Hassel K, Wold AE, Wennerås C<br>[ID: 21921589]"
      ],
      "text/plain": [
       "<IPython.core.display.HTML object>"
      ]
     },
     "metadata": {},
     "output_type": "display_data"
    },
    {
     "data": {
      "text/html": [
       "<strong>[The role of viruses in the pathogenesis of obstructive lung diseases].</strong><br>2003. Kościuch J, Chazan R<br>[ID: 14679861]"
      ],
      "text/plain": [
       "<IPython.core.display.HTML object>"
      ]
     },
     "metadata": {},
     "output_type": "display_data"
    },
    {
     "data": {
      "text/html": [
       "<strong><a href=http://dx.doi.org/10.3390/medicina55050124>Impact of the Allergic Asthma on Foot Health-Related Quality of Life and Depression: A Novel Case-Control Research.</a></strong><br>2019. López-López D, Painceira-Villar R, García-Paz V, Becerro-de-Bengoa-Vallejo R, Losa-Iglesias ME, Rodríguez-Sanz D, Calvo-Lobo C<br>[ID: 31072062]"
      ],
      "text/plain": [
       "<IPython.core.display.HTML object>"
      ]
     },
     "metadata": {},
     "output_type": "display_data"
    },
    {
     "data": {
      "text/html": [
       "<strong><a href=http://dx.doi.org/10.3402/ecrj.v2.27984>Exercise and asthma: an overview.</a></strong><br>2015. Del Giacco SR, Firinu D, Bjermer L, Carlsen KH<br>[ID: 26672959]"
      ],
      "text/plain": [
       "<IPython.core.display.HTML object>"
      ]
     },
     "metadata": {},
     "output_type": "display_data"
    },
    {
     "data": {
      "text/html": [
       "<strong><a href=http://dx.doi.org/10.1016/j.jaci.2014.11.011>The microbiome in asthma.</a></strong><br>2015. Huang YJ, Boushey HA<br>[ID: 25567040]"
      ],
      "text/plain": [
       "<IPython.core.display.HTML object>"
      ]
     },
     "metadata": {},
     "output_type": "display_data"
    },
    {
     "data": {
      "text/html": [
       "<strong><a href=http://dx.doi.org/10.1016/j.molimm.2009.08.028>L-ficolin (ficolin-2) insufficiency is associated with combined allergic and infectious respiratory disease in children.</a></strong><br>2009. Cedzynski M, Atkinson AP, St Swierzko A, MacDonald SL, Szala A, Zeman K, Buczylko K, Bak-Romaniszyn L, Wiszniewska M, Matsushita M, Szemraj J, Banasik M, Turner ML, Kilpatrick DC<br>[ID: 19767106]"
      ],
      "text/plain": [
       "<IPython.core.display.HTML object>"
      ]
     },
     "metadata": {},
     "output_type": "display_data"
    },
    {
     "data": {
      "text/html": [
       "<strong><a href=http://dx.doi.org/10.1016/s0264-410x(02)00115-9>Safety, tolerability and immunogenicity of new formulations of the Plasmodium falciparum malaria peptide vaccine SPf66 combined with the immunological adjuvant QS-21.</a></strong><br>2002. Kashala O, Amador R, Valero MV, Moreno A, Barbosa A, Nickel B, Daubenberger CA, Guzman F, Pluschke G, Patarroyo ME<br>[ID: 12009282]"
      ],
      "text/plain": [
       "<IPython.core.display.HTML object>"
      ]
     },
     "metadata": {},
     "output_type": "display_data"
    },
    {
     "data": {
      "text/html": [
       "<strong><a href=http://dx.doi.org/10.1159/000161581>Serum leptin levels in patients with pollen-induced allergic rhinitis.</a></strong><br>2009. Ciprandi G, Filaci G, Negrini S, De Amici M, Fenoglio D, Marseglia G<br>[ID: 18849612]"
      ],
      "text/plain": [
       "<IPython.core.display.HTML object>"
      ]
     },
     "metadata": {},
     "output_type": "display_data"
    },
    {
     "data": {
      "text/html": [
       "<strong><a href=http://dx.doi.org/10.1007/s004310051264>Local reactions and IgE antibodies to pertussis toxin after acellular diphtheria-tetanus-pertussis immunization.</a></strong><br>1999. Edelman K, Malmström K, He Q, Savolainen J, Terho EO, Mertsola J<br>[ID: 10592076]"
      ],
      "text/plain": [
       "<IPython.core.display.HTML object>"
      ]
     },
     "metadata": {},
     "output_type": "display_data"
    },
    {
     "data": {
      "text/html": [
       "<strong>[Nasal fungal microbiota in allergic and healthy subjects].</strong><br>2007. Sellart-Altisent M, Torres-Rodríguez JM, Gómez de Ana S, Alvarado-Ramírez E<br>[ID: 17604431]"
      ],
      "text/plain": [
       "<IPython.core.display.HTML object>"
      ]
     },
     "metadata": {},
     "output_type": "display_data"
    },
    {
     "data": {
      "text/html": [
       "<strong><a href=http://dx.doi.org/10.1172/jci.insight.126219>Siglec-8 antibody reduces eosinophil and mast cell infiltration in a transgenic mouse model of eosinophilic gastroenteritis.</a></strong><br>2019. Youngblood BA, Brock EC, Leung J, Falahati R, Bochner BS, Rasmussen HS, Peterson K, Bebbington C, Tomasevic N<br>[ID: 31465299]"
      ],
      "text/plain": [
       "<IPython.core.display.HTML object>"
      ]
     },
     "metadata": {},
     "output_type": "display_data"
    },
    {
     "data": {
      "text/html": [
       "<strong><a href=http://dx.doi.org/10.1016/j.vetimm.2017.07.004>Mite allergoids coupled to nonoxidized mannan from Saccharomyces cerevisae efficiently target canine dendritic cells for novel allergy immunotherapy in veterinary medicine.</a></strong><br>2017. Soria I, Alvarez J, Manzano AI, López-Relaño J, Cases B, Mas-Fontao A, Cañada FJ, Fernández-Caldas E, Casanovas M, Jiménez-Barbero J, Palomares O, Viñals-Flórez LM, Subiza JL<br>[ID: 28778325]"
      ],
      "text/plain": [
       "<IPython.core.display.HTML object>"
      ]
     },
     "metadata": {},
     "output_type": "display_data"
    },
    {
     "data": {
      "text/html": [
       "<strong>Circulating antibodies to cow's milk proteins in ulcerative colitis.</strong><br>1972. Jewell DP, Truelove SC<br>[ID: 5087069]"
      ],
      "text/plain": [
       "<IPython.core.display.HTML object>"
      ]
     },
     "metadata": {},
     "output_type": "display_data"
    },
    {
     "data": {
      "text/html": [
       "<strong>[Genetic polymorphism in glutathione S-transferase M1 and T1 in children with bronchial asthma].</strong><br>2000. Vavilin VA, Chasovnikova OB, Liakhovich VV, Gavalov SM, Riabova OA<br>[ID: 11075422]"
      ],
      "text/plain": [
       "<IPython.core.display.HTML object>"
      ]
     },
     "metadata": {},
     "output_type": "display_data"
    },
    {
     "data": {
      "text/html": [
       "<strong>Atopic status as a factor in job decision making in grain workers.</strong><br>1991. Dosman JA, McDuffie HH, Pahwa P<br>[ID: 1744739]"
      ],
      "text/plain": [
       "<IPython.core.display.HTML object>"
      ]
     },
     "metadata": {},
     "output_type": "display_data"
    },
    {
     "data": {
      "text/html": [
       "<strong>[Some parameters of immune response in patients infected with Toxoplasma gondii].</strong><br>2005. Matowicka-Karna J, Kemona H, Dymicka-Piekarska V<br>[ID: 15859556]"
      ],
      "text/plain": [
       "<IPython.core.display.HTML object>"
      ]
     },
     "metadata": {},
     "output_type": "display_data"
    },
    {
     "data": {
      "text/html": [
       "<strong><a href=http://dx.doi.org/10.1139/apnm-2013-0490>Practical approaches to probiotics use.</a></strong><br>2014. Taibi A, Comelli EM<br>[ID: 24797031]"
      ],
      "text/plain": [
       "<IPython.core.display.HTML object>"
      ]
     },
     "metadata": {},
     "output_type": "display_data"
    },
    {
     "data": {
      "text/html": [
       "<strong><a href=http://dx.doi.org/02.01/ijaai.1724>A Correlation between Migraine, Histamine and Immunoglobulin E.</a></strong><br>2003. Gazerani P, Pourpak Z, Ahmadiani A, Hemmati A, Kazemnejad A<br>[ID: 17301352]"
      ],
      "text/plain": [
       "<IPython.core.display.HTML object>"
      ]
     },
     "metadata": {},
     "output_type": "display_data"
    },
    {
     "data": {
      "text/html": [
       "<strong><a href=http://dx.doi.org/10.1111/j.1439-0507.2012.02185.x>Guideline vulvovaginal candidosis (2010) of the German Society for Gynecology and Obstetrics, the Working Group for Infections and Infectimmunology in Gynecology and Obstetrics, the German Society of Dermatology, the Board of German Dermatologists and the German Speaking Mycological Society.</a></strong><br>2012. Mendling W, Brasch J, German Society for Gynecology and Obstetrics., Working Group for Infections and Infectimmunology in Gynecology and Obstetrics., German Society of Dermatology, the Board of German Dermatologists., German Speaking Mycological Society.<br>[ID: 22519657]"
      ],
      "text/plain": [
       "<IPython.core.display.HTML object>"
      ]
     },
     "metadata": {},
     "output_type": "display_data"
    },
    {
     "data": {
      "text/html": [
       "<strong><a href=http://dx.doi.org/10.11622/smedj.2014007>Reactivity of allergy skin test in healthy volunteers.</a></strong><br>2014. Supakthanasiri P, Klaewsongkram J, Chantaphakul H<br>[ID: 24452975]"
      ],
      "text/plain": [
       "<IPython.core.display.HTML object>"
      ]
     },
     "metadata": {},
     "output_type": "display_data"
    },
    {
     "data": {
      "text/html": [
       "<strong><a href=http://dx.doi.org/10.1016/j.rmr.2017.03.039>[Asthma and the microbiome].</a></strong><br>2018. Barnig C, Martin C<br>[ID: 29482867]"
      ],
      "text/plain": [
       "<IPython.core.display.HTML object>"
      ]
     },
     "metadata": {},
     "output_type": "display_data"
    },
    {
     "data": {
      "text/html": [
       "<strong><a href=http://dx.doi.org/10.1007/s12223-019-00693-4>Different immune response of dendritic cells of newborns of allergic and healthy mothers to bacterial stimuli.</a></strong><br>2019. Hrdý J, Novotná O, Petrásková P, Boráková K, Prokešová L<br>[ID: 30850938]"
      ],
      "text/plain": [
       "<IPython.core.display.HTML object>"
      ]
     },
     "metadata": {},
     "output_type": "display_data"
    },
    {
     "data": {
      "text/html": [
       "<strong>Goji berries (Lycium barbarum): risk of allergic reactions in individuals with food allergy.</strong><br>2012. Larramendi CH, García-Abujeta JL, Vicario S, García-Endrino A, López-Matas MA, García-Sedeño MD, Carnés J<br>[ID: 23101309]"
      ],
      "text/plain": [
       "<IPython.core.display.HTML object>"
      ]
     },
     "metadata": {},
     "output_type": "display_data"
    },
    {
     "data": {
      "text/html": [
       "<strong><a href=http://dx.doi.org/10.1021/pr050341h>Comparative proteomics of nasal fluid in seasonal allergic rhinitis.</a></strong><br>2006. Ghafouri B, Irander K, Lindbom J, Tagesson C, Lindahl M<br>[ID: 16457599]"
      ],
      "text/plain": [
       "<IPython.core.display.HTML object>"
      ]
     },
     "metadata": {},
     "output_type": "display_data"
    },
    {
     "data": {
      "text/html": [
       "<strong>High serum levels of allergen specific IgG-4 (asIgG-4) for common food allergens in healthy blood donors.</strong><br>1994. Kruszewski J, Raczka A, Kłos M, Wiktor-Jedrzejczak W<br>[ID: 7487363]"
      ],
      "text/plain": [
       "<IPython.core.display.HTML object>"
      ]
     },
     "metadata": {},
     "output_type": "display_data"
    },
    {
     "data": {
      "text/html": [
       "<strong><a href=http://dx.doi.org/10.1159/000442697>Proteins, Peptides and Amino Acids: Role in Infant Nutrition.</a></strong><br>2016. Nutten S<br>[ID: 27336588]"
      ],
      "text/plain": [
       "<IPython.core.display.HTML object>"
      ]
     },
     "metadata": {},
     "output_type": "display_data"
    },
    {
     "data": {
      "text/html": [
       "<strong><a href=http://dx.doi.org/10.1007/s00281-003-0142-2>Effects of intestinal microflora and the environment on the development of asthma and allergy.</a></strong><br>2004. Björkstén B<br>[ID: 15007630]"
      ],
      "text/plain": [
       "<IPython.core.display.HTML object>"
      ]
     },
     "metadata": {},
     "output_type": "display_data"
    },
    {
     "data": {
      "text/html": [
       "<strong><a href=http://dx.doi.org/10.1007/s00281-003-0144-0>The role of regulatory T cells in allergy.</a></strong><br>2004. Curotto de Lafaille MA, Lafaille JJ<br>[ID: 15007633]"
      ],
      "text/plain": [
       "<IPython.core.display.HTML object>"
      ]
     },
     "metadata": {},
     "output_type": "display_data"
    },
    {
     "data": {
      "text/html": [
       "<strong><a href=http://dx.doi.org/10.1378/chest.118.5.1371>Different response to doubling and fourfold dose increases in methacholine provocation tests in healthy subjects.</a></strong><br>2000. Sundblad BM, Malmberg P, Larsson K<br>[ID: 11083688]"
      ],
      "text/plain": [
       "<IPython.core.display.HTML object>"
      ]
     },
     "metadata": {},
     "output_type": "display_data"
    },
    {
     "data": {
      "text/html": [
       "<strong><a href=http://dx.doi.org/10.1007/s12223-008-0038-6>Comparison of intestinal microflora in healthy infants and infants with allergic colitis.</a></strong><br>2008. Smehilová M, Vlková E, Nevoral J, Flajsmanová K, Killer J, Rada V<br>[ID: 18661304]"
      ],
      "text/plain": [
       "<IPython.core.display.HTML object>"
      ]
     },
     "metadata": {},
     "output_type": "display_data"
    },
    {
     "data": {
      "text/html": [
       "<strong>[A pregnant woman with active ulcerative colitis maintained on total parenteral nutrition].</strong><br>1987. Nagamatsu Y, Tatsuta E, Yagita M, Miura Y, Taoka Y<br>[ID: 3112891]"
      ],
      "text/plain": [
       "<IPython.core.display.HTML object>"
      ]
     },
     "metadata": {},
     "output_type": "display_data"
    },
    {
     "data": {
      "text/html": [
       "<strong><a href=http://dx.doi.org/10.3109/00365521.2010.496491>Positive serum antigliadin antibodies without celiac disease in the elderly population: does it matter?</a></strong><br>2010. Ruuskanen A, Kaukinen K, Collin P, Huhtala H, Valve R, Mäki M, Luostarinen L<br>[ID: 20545470]"
      ],
      "text/plain": [
       "<IPython.core.display.HTML object>"
      ]
     },
     "metadata": {},
     "output_type": "display_data"
    },
    {
     "data": {
      "text/html": [
       "<strong>Serum levels of RIST, RAST, and cortisol of patients with allergic rhinitis.</strong><br>1996. Uesugi K, Urushibata T, Miho H, Takeyama I<br>[ID: 8740813]"
      ],
      "text/plain": [
       "<IPython.core.display.HTML object>"
      ]
     },
     "metadata": {},
     "output_type": "display_data"
    },
    {
     "data": {
      "text/html": [
       "<strong><a href=http://dx.doi.org/10.1016/j.iac.2006.11.003>Impact of native, recombinant, and cross-reactive allergens on humoral and T-cell-mediated immune responses.</a></strong><br>2007. Crameri R, Rhyner C<br>[ID: 17276879]"
      ],
      "text/plain": [
       "<IPython.core.display.HTML object>"
      ]
     },
     "metadata": {},
     "output_type": "display_data"
    },
    {
     "data": {
      "text/html": [
       "<strong><a href=http://dx.doi.org/10.1002/ajim.22472>Paprika rhinoconjunctivitis case reveals new occupational Capsicum allergens.</a></strong><br>2015. Airaksinen L, Riekki R, Vuokko A, Puustinen A<br>[ID: 25944018]"
      ],
      "text/plain": [
       "<IPython.core.display.HTML object>"
      ]
     },
     "metadata": {},
     "output_type": "display_data"
    },
    {
     "data": {
      "text/html": [
       "<strong><a href=http://dx.doi.org/10.5114/ceji.2016.65135>The effect of hydrolysates of proteins from rice milk on the physiological response of enterocytes and on the adhesion of bacteria from healthy and allergic people - an <i>in vitro</i> study.</a></strong><br>2016. Świątecka D, Markiewicz LH, Wróblewska B<br>[ID: 28450799]"
      ],
      "text/plain": [
       "<IPython.core.display.HTML object>"
      ]
     },
     "metadata": {},
     "output_type": "display_data"
    },
    {
     "data": {
      "text/html": [
       "<strong><a href=http://dx.doi.org/10.1016/j.jaci.2007.03.021>Clara cell 16-kd protein downregulates T(H)2 differentiation of human naive neonatal T cells.</a></strong><br>2007. Johansson S, Wennergren G, Aberg N, Rudin A<br>[ID: 17481711]"
      ],
      "text/plain": [
       "<IPython.core.display.HTML object>"
      ]
     },
     "metadata": {},
     "output_type": "display_data"
    },
    {
     "data": {
      "text/html": [
       "<strong><a href=http://dx.doi.org/10.1016/j.jaci.2005.02.010>New therapeutic strategy for combating the increasing burden of allergic disease: Probiotics-A Nutrition, Allergy, Mucosal Immunology and Intestinal Microbiota (NAMI) Research Group report.</a></strong><br>2005. Rautava S, Kalliomäki M, Isolauri E<br>[ID: 15990769]"
      ],
      "text/plain": [
       "<IPython.core.display.HTML object>"
      ]
     },
     "metadata": {},
     "output_type": "display_data"
    },
    {
     "data": {
      "text/html": [
       "<strong><a href=http://dx.doi.org/10.1172/jci.insight.120608>First-in-human topical microbiome transplantation with Roseomonas mucosa for atopic dermatitis.</a></strong><br>2018. Myles IA, Earland NJ, Anderson ED, Moore IN, Kieh MD, Williams KW, Saleem A, Fontecilla NM, Welch PA, Darnell DA, Barnhart LA, Sun AA, Uzel G, Datta SK<br>[ID: 29720571]"
      ],
      "text/plain": [
       "<IPython.core.display.HTML object>"
      ]
     },
     "metadata": {},
     "output_type": "display_data"
    },
    {
     "data": {
      "text/html": [
       "<strong><a href=http://dx.doi.org/10.23822/EurAnnACI.1764-1489.06>Assessment of allergen-specific IgE by immunoblotting method in atopic dermatitis.</a></strong><br>2017. Bonyadi MR, Hassanzadeh D, Seyfizadeh N, Borzoueisileh S<br>[ID: 28884988]"
      ],
      "text/plain": [
       "<IPython.core.display.HTML object>"
      ]
     },
     "metadata": {},
     "output_type": "display_data"
    }
   ],
   "source": [
    "string = 'rotterdam healthy'\n",
    "\n",
    "and_query(string)\n",
    "or_query(string)\n",
    "\n"
   ]
  },
  {
   "cell_type": "markdown",
   "metadata": {},
   "source": [
    "### Task 4\n",
    "\n",
    "Given the nature of our dataset, how many of the documents from task 3 do you think are actually about the [Shakespeare quote](https://en.wikipedia.org/wiki/To_be%2C_or_not_to_be)? What could you do to better handle such queries? (You don't have to implement this yet!)"
   ]
  },
  {
   "cell_type": "markdown",
   "metadata": {},
   "source": [
    "**Answer:** [Write your answer text here]"
   ]
  },
  {
   "cell_type": "markdown",
   "metadata": {},
   "source": [
    "### Task 5\n",
    "\n",
    "Why does `and_query('eosinophil signal inflammation')` not return our example paper 24037376, even though it mentions eosinophil, signal, and inflammation in the abstract? (You do not have to implement anything to fix this yet!)"
   ]
  },
  {
   "cell_type": "markdown",
   "metadata": {},
   "source": [
    "**Answer:** [Write your answer text here]"
   ]
  },
  {
   "cell_type": "markdown",
   "metadata": {},
   "source": [
    "# Submission"
   ]
  },
  {
   "cell_type": "markdown",
   "metadata": {},
   "source": [
    "Submit the answers to the assignment via Canvas as a modified version of this Notebook file (file with `.ipynb` extension) that includes your code and your answers.\n",
    "\n",
    "Before submitting, restart the kernel and re-run the complete code (**Kernel > Restart & Run All**), and then check whether your assignment code still works as expected.\n",
    "\n",
    "Don't forget to add your name, and remember that the assignments have to be done individually and group submissions are **not allowed**."
   ]
  }
 ],
 "metadata": {
  "kernelspec": {
   "display_name": "Python 3",
   "language": "python",
   "name": "python3"
  },
  "language_info": {
   "codemirror_mode": {
    "name": "ipython",
    "version": 3
   },
   "file_extension": ".py",
   "mimetype": "text/x-python",
   "name": "python",
   "nbconvert_exporter": "python",
   "pygments_lexer": "ipython3",
   "version": "3.7.4"
  }
 },
 "nbformat": 4,
 "nbformat_minor": 1
}
